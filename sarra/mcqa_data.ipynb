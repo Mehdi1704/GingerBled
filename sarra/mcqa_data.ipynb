{
 "cells": [
  {
   "cell_type": "code",
   "execution_count": 1,
   "id": "c4c00368",
   "metadata": {},
   "outputs": [],
   "source": [
    "from datasets import load_dataset, concatenate_datasets, Dataset, Features, Value, Sequence, ClassLabel\n",
    "import pandas as pd\n",
    "from collections import defaultdict\n",
    "import random\n",
    "import hashlib"
   ]
  },
  {
   "cell_type": "code",
   "execution_count": 2,
   "id": "ae346719",
   "metadata": {},
   "outputs": [],
   "source": [
    "# preprocessing functions\n",
    "def normalize_question(q): return q.strip().lower()\n",
    "\n",
    "def format_mcqa(example, idx, dataset_name, question, options, answer):\n",
    "    return {\n",
    "        \"id\": f\"{dataset_name}_{idx}\",\n",
    "        \"dataset\": dataset_name,\n",
    "        \"question\": question.strip(),\n",
    "        \"options\": options,\n",
    "        \"answer\": answer.strip()\n",
    "    }\n",
    "\n",
    "def hash_q(ex):\n",
    "    \"\"\"\n",
    "    Adds a unique identifier (hash) for each MCQA question — in order to detect and remove duplicate questions across datasets.\n",
    "    \"\"\"\n",
    "    ex[\"question_hash\"] = hashlib.md5(normalize_question(ex[\"question\"]).encode()).hexdigest()\n",
    "    return ex\n",
    "\n",
    "def format_openbookqa(dataset, score_threshold=1):\n",
    "    dataset_name = \"openbookqa\"\n",
    "    # Filter by human score for high-quality questions\n",
    "    dataset = dataset.filter(lambda x: x.get(\"humanScore\", 0) >= score_threshold)\n",
    "\n",
    "    formatted = []\n",
    "    for idx, ex in enumerate(dataset):\n",
    "        question = ex[\"question_stem\"]\n",
    "        options = ex[\"choices\"][\"text\"]\n",
    "        answer = ex[\"answerKey\"]\n",
    "        question_hash = hashlib.md5(normalize_question(question).encode()).hexdigest()\n",
    "\n",
    "        formatted.append({\n",
    "            **format_mcqa(ex, idx, dataset_name, question, options, answer),\n",
    "            \"question_hash\": question_hash\n",
    "        })\n",
    "    return formatted"
   ]
  },
  {
   "cell_type": "markdown",
   "id": "096dae39",
   "metadata": {},
   "source": [
    "### Load datasets"
   ]
  },
  {
   "cell_type": "code",
   "execution_count": 3,
   "id": "c3f46b5d",
   "metadata": {},
   "outputs": [],
   "source": [
    "# ARC-Challenge\n",
    "arc = load_dataset(\"ai2_arc\", \"ARC-Challenge\", split=\"train\")\n",
    "arc = arc.map(hash_q)\n",
    "arc_data = [format_mcqa(ex, i, \"arc_challenge\", ex[\"question\"], ex[\"choices\"][\"text\"], ex[\"answerKey\"]) for i, ex in enumerate(arc)]\n",
    "\n",
    "# ARC-Easy\n",
    "arc_easy = load_dataset(\"ai2_arc\", \"ARC-Easy\", split=\"train\")\n",
    "arc_easy = arc_easy.map(hash_q)\n",
    "arc_easy_data = [format_mcqa(ex, i, \"arc_easy\", ex[\"question\"], ex[\"choices\"][\"text\"], ex[\"answerKey\"]) for i, ex in enumerate(arc_easy)]\n",
    "\n",
    "# QASC\n",
    "qasc = load_dataset(\"qasc\", split=\"train\").map(hash_q)\n",
    "qasc_data = [format_mcqa(ex, i, \"qasc\", ex[\"question\"], ex[\"choices\"][\"text\"], ex[\"answerKey\"]) for i, ex in enumerate(qasc)]\n",
    "\n",
    "# OpenBookQA\n",
    "obqa = load_dataset(\"openbookqa\", \"additional\", split=\"train\")\n",
    "obqa_data = format_openbookqa(obqa)\n",
    "\n",
    "# PubmedQA\n",
    "pubmed = load_dataset(\"pubmed_qa\", \"pqa_labeled\", split=\"train\").filter(lambda x: x[\"final_decision\"] in [\"yes\", \"no\", \"maybe\"])\n",
    "pubmed_data = [\n",
    "    format_mcqa(ex, i, \"pubmedqa\", ex[\"question\"], [\"yes\", \"no\", \"maybe\"], ex[\"final_decision\"])\n",
    "    for i, ex in enumerate(pubmed)\n",
    "]"
   ]
  },
  {
   "cell_type": "code",
   "execution_count": 4,
   "id": "09b87304",
   "metadata": {},
   "outputs": [
    {
     "name": "stdout",
     "output_type": "stream",
     "text": [
      "Number of questions in each dataset:\n",
      "ARC-Challenge: 1119\n",
      "ARC-Easy: 2251\n",
      "QASC: 8134\n",
      "OpenBookQA: 3317\n",
      "PubmedQA: 1000\n"
     ]
    }
   ],
   "source": [
    "print(\"Number of questions in each dataset:\")\n",
    "print(f\"ARC-Challenge: {len(arc_data)}\")\n",
    "print(f\"ARC-Easy: {len(arc_easy_data)}\")\n",
    "print(f\"QASC: {len(qasc_data)}\")\n",
    "print(f\"OpenBookQA: {len(obqa_data)}\")\n",
    "print(f\"PubmedQA: {len(pubmed_data)}\")"
   ]
  },
  {
   "cell_type": "code",
   "execution_count": 6,
   "id": "2f19d5ca",
   "metadata": {},
   "outputs": [
    {
     "data": {
      "application/vnd.jupyter.widget-view+json": {
       "model_id": "7e13dc53847e44b3be30d489e9afb415",
       "version_major": 2,
       "version_minor": 0
      },
      "text/plain": [
       "Saving the dataset (0/1 shards):   0%|          | 0/10687 [00:00<?, ? examples/s]"
      ]
     },
     "metadata": {},
     "output_type": "display_data"
    }
   ],
   "source": [
    "# Combine with updated per-source caps based on actual availability\n",
    "random.seed(42)\n",
    "\n",
    "def dedup_sample(dataset, seen_hashes, max_size):\n",
    "    random.shuffle(dataset)\n",
    "    result = []\n",
    "    for ex in dataset:\n",
    "        h = hashlib.md5(normalize_question(ex[\"question\"]).encode()).hexdigest()\n",
    "        if h not in seen_hashes:\n",
    "            seen_hashes.add(h)\n",
    "            result.append(ex)\n",
    "        if len(result) == max_size:\n",
    "            break\n",
    "    return result\n",
    "\n",
    "seen = set()\n",
    "\n",
    "final_qasc = dedup_sample(qasc_data, seen, 3000)\n",
    "\n",
    "final_combined = arc_data + arc_easy_data + final_qasc + obqa_data + pubmed_data\n",
    "random.shuffle(final_combined)\n",
    "\n",
    "# Save as HuggingFace Dataset\n",
    "final_mcqa = Dataset.from_list(final_combined)\n",
    "final_mcqa.save_to_disk(\"mcqa_dataset_mnlp\")"
   ]
  },
  {
   "cell_type": "code",
   "execution_count": null,
   "id": "f5b2748b",
   "metadata": {},
   "outputs": [
    {
     "name": "stdout",
     "output_type": "stream",
     "text": [
      "Final dataset size: 10687\n",
      "{'id': 'openbookqa_2211', 'dataset': 'openbookqa', 'question': 'A fallen tree may provide what?', 'options': ['Hope', 'Happiness', 'Love', 'Thriving life'], 'answer': 'D'}\n"
     ]
    },
    {
     "data": {
      "application/vnd.jupyter.widget-view+json": {
       "model_id": "b31cb0ba4af64d4798df6eba0962e851",
       "version_major": 2,
       "version_minor": 0
      },
      "text/plain": [
       "Saving the dataset (0/1 shards):   0%|          | 0/10687 [00:00<?, ? examples/s]"
      ]
     },
     "metadata": {},
     "output_type": "display_data"
    }
   ],
   "source": [
    "# Remove the question_hash field from each example\n",
    "for ex in final_combined:\n",
    "    ex.pop(\"question_hash\", None)\n",
    "\n",
    "# Save as HuggingFace Dataset\n",
    "final_mcqa = Dataset.from_list(final_combined)\n",
    "print(f\"Final dataset size: {len(final_mcqa)}\")\n",
    "print(final_mcqa[0]) \n",
    "final_mcqa.save_to_disk(\"mcqa_dataset_mnlp\")"
   ]
  },
  {
   "cell_type": "code",
   "execution_count": 8,
   "id": "dec51d78",
   "metadata": {},
   "outputs": [
    {
     "data": {
      "application/vnd.jupyter.widget-view+json": {
       "model_id": "f8c0fd4d747c4326bd586a6bbb55c1dc",
       "version_major": 2,
       "version_minor": 0
      },
      "text/plain": [
       "Uploading the dataset shards:   0%|          | 0/1 [00:00<?, ?it/s]"
      ]
     },
     "metadata": {},
     "output_type": "display_data"
    },
    {
     "data": {
      "application/vnd.jupyter.widget-view+json": {
       "model_id": "06b880b8b7704479b85babb56339309f",
       "version_major": 2,
       "version_minor": 0
      },
      "text/plain": [
       "Creating parquet from Arrow format:   0%|          | 0/11 [00:00<?, ?ba/s]"
      ]
     },
     "metadata": {},
     "output_type": "display_data"
    },
    {
     "data": {
      "application/vnd.jupyter.widget-view+json": {
       "model_id": "7b241722f3bc47b7b739882250df9f1e",
       "version_major": 2,
       "version_minor": 0
      },
      "text/plain": [
       "README.md:   0%|          | 0.00/420 [00:00<?, ?B/s]"
      ]
     },
     "metadata": {},
     "output_type": "display_data"
    },
    {
     "data": {
      "text/plain": [
       "CommitInfo(commit_url='https://huggingface.co/datasets/GingerBled/MNLP_M2_mcqa_dataset/commit/6f8047f9c274bcd369f8912de2ca5aaa1bc91a0c', commit_message='Upload dataset', commit_description='', oid='6f8047f9c274bcd369f8912de2ca5aaa1bc91a0c', pr_url=None, repo_url=RepoUrl('https://huggingface.co/datasets/GingerBled/MNLP_M2_mcqa_dataset', endpoint='https://huggingface.co', repo_type='dataset', repo_id='GingerBled/MNLP_M2_mcqa_dataset'), pr_revision=None, pr_num=None)"
      ]
     },
     "execution_count": 8,
     "metadata": {},
     "output_type": "execute_result"
    }
   ],
   "source": [
    "final_mcqa.push_to_hub(\n",
    "    \"GingerBled/MNLP_M2_mcqa_dataset\"\n",
    ")"
   ]
  },
  {
   "cell_type": "code",
   "execution_count": 11,
   "id": "147cd0cb",
   "metadata": {},
   "outputs": [
    {
     "data": {
      "image/png": "[encoded data removed]",
      "text/plain": [
       "<Figure size 1000x600 with 1 Axes>"
      ]
     },
     "metadata": {},
     "output_type": "display_data"
    }
   ],
   "source": [
    "# plot sequence length distribution\n",
    "import matplotlib.pyplot as plt\n",
    "import numpy as np\n",
    "import seaborn as sns\n",
    "\n",
    "def plot_sequence_length_distribution(dataset):\n",
    "    # Calculate the length of each question\n",
    "    lengths = [len(ex[\"question\"].split()) for ex in dataset]\n",
    "\n",
    "    # Create a histogram\n",
    "    plt.figure(figsize=(10, 6))\n",
    "    sns.histplot(lengths, bins=30, kde=True)\n",
    "    plt.title(\"Distribution of Question Lengths\")\n",
    "    plt.xlabel(\"Length of Question (in words)\")\n",
    "    plt.ylabel(\"Frequency\")\n",
    "    plt.grid()\n",
    "    plt.show()\n",
    "\n",
    "plot_sequence_length_distribution(final_mcqa)"
   ]
  }
 ],
 "metadata": {
  "kernelspec": {
   "display_name": "mnlp",
   "language": "python",
   "name": "python3"
  },
  "language_info": {
   "codemirror_mode": {
    "name": "ipython",
    "version": 3
   },
   "file_extension": ".py",
   "mimetype": "text/x-python",
   "name": "python",
   "nbconvert_exporter": "python",
   "pygments_lexer": "ipython3",
   "version": "3.10.11"
  }
 },
 "nbformat": 4,
 "nbformat_minor": 5
}
