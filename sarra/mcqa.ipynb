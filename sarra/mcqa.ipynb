{
 "cells": [
  {
   "cell_type": "code",
   "execution_count": null,
   "id": "ff73bc74-e5de-49c0-8b7e-0ef35e009fde",
   "metadata": {},
   "outputs": [],
   "source": [
    "import os\n",
    "import torch \n",
    "import numpy as np\n",
    "from datasets import load_dataset\n",
    "from transformers import (\n",
    "    AutoTokenizer, AutoModelForCausalLM, TrainingArguments, Trainer\n",
    ")\n",
    "from transformers import DataCollatorForLanguageModeling\n",
    "from tqdm import tqdm"
   ]
  },
  {
   "cell_type": "code",
   "execution_count": 3,
   "id": "3b7befb5-37b4-41a5-8d9b-60c49ea0887a",
   "metadata": {},
   "outputs": [
    {
     "name": "stdout",
     "output_type": "stream",
     "text": [
      "Dataset loaded: DatasetDict({\n",
      "    train: Dataset({\n",
      "        features: ['id', 'dataset', 'question', 'options', 'answer'],\n",
      "        num_rows: 10687\n",
      "    })\n",
      "})\n"
     ]
    }
   ],
   "source": [
    "dataset = load_dataset(\"GingerBled/MNLP_M2_mcqa_dataset\")\n",
    "print(f\"Dataset loaded: {dataset}\")"
   ]
  },
  {
   "cell_type": "code",
   "execution_count": 4,
   "id": "70608a39-7b44-4ef9-8fa7-fc442ad23bb9",
   "metadata": {},
   "outputs": [],
   "source": [
    "# Load the model and tokenizer\n",
    "model_id = \"GingerBled/qwen3-0.6B-dpo-full\"\n",
    "tokenizer = AutoTokenizer.from_pretrained(model_id, trust_remote_code=True)\n",
    "model = AutoModelForCausalLM.from_pretrained(\n",
    "    model_id, \n",
    "    torch_dtype=torch.bfloat16,  # Changed from float16 to bfloat16 for better stability\n",
    "    device_map=\"auto\", \n",
    "    trust_remote_code=True,\n",
    "    use_cache=False  # Explicitly set use_cache=False to be compatible with gradient checkpointing\n",
    ")\n",
    "\n",
    "\n",
    "if tokenizer.pad_token is None:\n",
    "    tokenizer.pad_token = tokenizer.eos_token\n",
    "    model.config.pad_token_id = tokenizer.eos_token_id"
   ]
  },
  {
   "cell_type": "code",
   "execution_count": 5,
   "id": "29a3ed1b-1799-46fe-91c4-9e22798a1f25",
   "metadata": {},
   "outputs": [
    {
     "name": "stdout",
     "output_type": "stream",
     "text": [
      "Created training split with 9618 examples\n",
      "Created validation split with 1069 examples\n"
     ]
    }
   ],
   "source": [
    "train_val = dataset[\"train\"].train_test_split(test_size=0.1, seed=42)\n",
    "train_dataset = train_val[\"train\"]\n",
    "eval_dataset = train_val[\"test\"]\n",
    "\n",
    "print(f\"Created training split with {len(train_dataset)} examples\")\n",
    "print(f\"Created validation split with {len(eval_dataset)} examples\")"
   ]
  },
  {
   "cell_type": "code",
   "execution_count": 6,
   "id": "d041887c-cdf8-4c3f-93ff-5715abbc1d0e",
   "metadata": {},
   "outputs": [],
   "source": [
    "# ==== Define formatting & truncation parameters ====\n",
    "max_length = 512  # Total allowed sequence length\n",
    "truncation_mode = \"keep_end\""
   ]
  },
  {
   "cell_type": "code",
   "execution_count": 7,
   "id": "bff2d651-c29a-4f18-ab1c-d8b4795bb5de",
   "metadata": {},
   "outputs": [],
   "source": [
    "def format_mcqa_as_generation(batch):\n",
    "    input_ids_list = []\n",
    "    attention_mask_list = []\n",
    "    labels_list = []\n",
    "\n",
    "    for question, options, answer in zip(batch[\"question\"], batch[\"options\"], batch[\"answer\"]):\n",
    "        if not isinstance(options, list):\n",
    "            try:\n",
    "                options = eval(options) if isinstance(options, str) else [options]\n",
    "            except:\n",
    "                options = [\"\"]\n",
    "\n",
    "        if not options:\n",
    "            options = [\"\"]\n",
    "\n",
    "        prompt = f\"Question: {question}\\n\\nOptions:\\n\"\n",
    "        use_letter = len(options) > 3 or not all(opt.lower() in [\"yes\", \"no\", \"maybe\", \"true\", \"false\"] for opt in options)\n",
    "\n",
    "        for idx, opt in enumerate(options):\n",
    "            if use_letter:\n",
    "                prompt += f\"{chr(65+idx)}. {opt}\\n\"\n",
    "            else:\n",
    "                prompt += f\"{opt}\\n\"\n",
    "\n",
    "        # Construct the answer label text\n",
    "        if use_letter and isinstance(answer, str) and len(answer) == 1 and answer.upper() in \"ABCDEFGHIJKLMNOPQRSTUVWXYZ\":\n",
    "            label_text = f\"Answer: {answer.upper()}\"\n",
    "        elif isinstance(answer, str) and answer in options:\n",
    "            label_text = f\"Answer: {answer}\"\n",
    "        elif isinstance(answer, int) and 0 <= answer < len(options):\n",
    "            label_text = f\"Answer: {options[answer]}\"\n",
    "        else:\n",
    "            label_text = f\"Answer: {options[0]}\"  # fallback\n",
    "\n",
    "        full_text = prompt + label_text\n",
    "\n",
    "        tokenized = tokenizer(\n",
    "            full_text,\n",
    "            max_length=max_length,\n",
    "            padding=\"max_length\",\n",
    "            truncation=True,\n",
    "            return_tensors=\"pt\"\n",
    "        )\n",
    "\n",
    "        input_ids = tokenized[\"input_ids\"][0]\n",
    "        attention_mask = tokenized[\"attention_mask\"][0]\n",
    "\n",
    "        # Mask labels: don't train on prompt tokens\n",
    "        prompt_ids = tokenizer(prompt, add_special_tokens=False)[\"input_ids\"]\n",
    "        labels = input_ids.clone()\n",
    "        labels[:len(prompt_ids)] = -100  # ignore prompt\n",
    "        labels[attention_mask == 0] = -100  # ignore padding\n",
    "\n",
    "        input_ids_list.append(input_ids.tolist())\n",
    "        attention_mask_list.append(attention_mask.tolist())\n",
    "        labels_list.append(labels.tolist())\n",
    "\n",
    "    return {\n",
    "        \"input_ids\": input_ids_list,\n",
    "        \"attention_mask\": attention_mask_list,\n",
    "        \"labels\": labels_list\n",
    "    }"
   ]
  },
  {
   "cell_type": "code",
   "execution_count": 8,
   "id": "91e13c23-4b65-4671-ae8d-991bf04f19d6",
   "metadata": {},
   "outputs": [
    {
     "data": {
      "application/vnd.jupyter.widget-view+json": {
       "model_id": "ca726bfb30e74183859f68cb3d09d7de",
       "version_major": 2,
       "version_minor": 0
      },
      "text/plain": [
       "Map:   0%|          | 0/9618 [00:00<?, ? examples/s]"
      ]
     },
     "metadata": {},
     "output_type": "display_data"
    },
    {
     "data": {
      "application/vnd.jupyter.widget-view+json": {
       "model_id": "75f6d968fb7a4f96923fa6425fcc77d3",
       "version_major": 2,
       "version_minor": 0
      },
      "text/plain": [
       "Map:   0%|          | 0/1069 [00:00<?, ? examples/s]"
      ]
     },
     "metadata": {},
     "output_type": "display_data"
    }
   ],
   "source": [
    "# Tokenize datasets\n",
    "tokenized_train = train_dataset.map(\n",
    "    format_mcqa_as_generation,\n",
    "    batched=True,\n",
    "    remove_columns=train_dataset.column_names,\n",
    "    load_from_cache_file=False\n",
    ")\n",
    "\n",
    "tokenized_eval = eval_dataset.map(\n",
    "    format_mcqa_as_generation,\n",
    "    batched=True,\n",
    "    remove_columns=eval_dataset.column_names,\n",
    "    load_from_cache_file=False\n",
    ")"
   ]
  },
  {
   "cell_type": "code",
   "execution_count": 9,
   "id": "2cd039dc-250a-43d8-8a4b-84625c386ffb",
   "metadata": {},
   "outputs": [
    {
     "data": {
      "application/vnd.jupyter.widget-view+json": {
       "model_id": "9644b4f27d4b4495b2588fcb9569a64b",
       "version_major": 2,
       "version_minor": 0
      },
      "text/plain": [
       "Map:   0%|          | 0/10687 [00:00<?, ? examples/s]"
      ]
     },
     "metadata": {},
     "output_type": "display_data"
    },
    {
     "data": {
      "image/png": "[encoded data removed]",
      "text/plain": [
       "<Figure size 640x480 with 1 Axes>"
      ]
     },
     "metadata": {},
     "output_type": "display_data"
    }
   ],
   "source": [
    "def get_tokenized_len(example):\n",
    "    question = example[\"question\"]\n",
    "    options = example[\"options\"]\n",
    "    answer = example[\"answer\"]\n",
    "\n",
    "    # Format as done during training\n",
    "    if not isinstance(options, list):\n",
    "        try:\n",
    "            options = eval(options)\n",
    "        except:\n",
    "            options = [\"\"]\n",
    "    if not options:\n",
    "        options = [\"\"]\n",
    "\n",
    "    prompt = f\"Question: {question}\\n\\nOptions:\\n\"\n",
    "    for i, opt in enumerate(options):\n",
    "        prompt += f\"{chr(65+i)}. {opt}\\n\"\n",
    "    prompt += f\"Answer: {answer}\"\n",
    "\n",
    "    return {\"tokenized_len\": len(tokenizer(prompt)[\"input_ids\"])}\n",
    "\n",
    "# Apply to dataset\n",
    "token_lengths = dataset[\"train\"].map(get_tokenized_len)\n",
    "lengths = token_lengths[\"tokenized_len\"]\n",
    "\n",
    "# Plot\n",
    "import matplotlib.pyplot as plt\n",
    "\n",
    "plt.hist(lengths, bins=50, alpha=0.7, color=\"steelblue\", edgecolor=\"black\")\n",
    "plt.axvline(x=512, color='red', linestyle='--', label='Max Length = 512')\n",
    "plt.title(\"Distribution of Tokenized Sequence Lengths\")\n",
    "plt.xlabel(\"Length (in tokens)\")\n",
    "plt.ylabel(\"Frequency\")\n",
    "plt.legend()\n",
    "plt.grid()\n",
    "plt.show()"
   ]
  },
  {
   "cell_type": "code",
   "execution_count": 10,
   "id": "cb6d4bd4-0a17-4f72-9c47-82ff38bb1423",
   "metadata": {},
   "outputs": [],
   "source": [
    "# Training arguments\n",
    "training_args = TrainingArguments(\n",
    "    output_dir=\"./qwen-mcqa-model\",\n",
    "    per_device_train_batch_size=2,             # Reduced batch size\n",
    "    per_device_eval_batch_size=2,              # Reduced batch size\n",
    "    gradient_accumulation_steps=8, \n",
    "    learning_rate=2e-5,\n",
    "    num_train_epochs=2,\n",
    "    logging_steps=100,\n",
    "    save_steps=100,\n",
    "    save_total_limit=3,\n",
    "    load_best_model_at_end=False,\n",
    "    report_to=\"tensorboard\",\n",
    "    fp16=False,\n",
    "    bf16=True,\n",
    "    remove_unused_columns=False,\n",
    "    warmup_ratio=0.1,\n",
    "    gradient_checkpointing=True,\n",
    "    max_grad_norm=1.0 \n",
    ")\n",
    "\n",
    "# Causal LM data collator\n",
    "collator = DataCollatorForLanguageModeling(tokenizer=tokenizer, mlm=False)\n",
    "\n",
    "# Trainer\n",
    "trainer = Trainer(\n",
    "    model=model,\n",
    "    args=training_args,\n",
    "    train_dataset=tokenized_train,\n",
    "    eval_dataset=tokenized_eval,\n",
    "    data_collator=collator,\n",
    ")"
   ]
  },
  {
   "cell_type": "code",
   "execution_count": 11,
   "id": "45466ed9-050e-4cce-ba27-791dda08c95f",
   "metadata": {},
   "outputs": [
    {
     "data": {
      "text/html": [
       "\n",
       "    <div>\n",
       "      \n",
       "      <progress value='1202' max='1202' style='width:300px; height:20px; vertical-align: middle;'></progress>\n",
       "      [1202/1202 1:11:42, Epoch 1/2]\n",
       "    </div>\n",
       "    <table border=\"1\" class=\"dataframe\">\n",
       "  <thead>\n",
       " <tr style=\"text-align: left;\">\n",
       "      <th>Step</th>\n",
       "      <th>Training Loss</th>\n",
       "    </tr>\n",
       "  </thead>\n",
       "  <tbody>\n",
       "    <tr>\n",
       "      <td>100</td>\n",
       "      <td>2.099200</td>\n",
       "    </tr>\n",
       "    <tr>\n",
       "      <td>200</td>\n",
       "      <td>1.859000</td>\n",
       "    </tr>\n",
       "    <tr>\n",
       "      <td>300</td>\n",
       "      <td>1.852000</td>\n",
       "    </tr>\n",
       "    <tr>\n",
       "      <td>400</td>\n",
       "      <td>1.845300</td>\n",
       "    </tr>\n",
       "    <tr>\n",
       "      <td>500</td>\n",
       "      <td>1.810500</td>\n",
       "    </tr>\n",
       "    <tr>\n",
       "      <td>600</td>\n",
       "      <td>1.804300</td>\n",
       "    </tr>\n",
       "    <tr>\n",
       "      <td>700</td>\n",
       "      <td>1.704100</td>\n",
       "    </tr>\n",
       "    <tr>\n",
       "      <td>800</td>\n",
       "      <td>1.733700</td>\n",
       "    </tr>\n",
       "    <tr>\n",
       "      <td>900</td>\n",
       "      <td>1.724500</td>\n",
       "    </tr>\n",
       "    <tr>\n",
       "      <td>1000</td>\n",
       "      <td>1.736600</td>\n",
       "    </tr>\n",
       "    <tr>\n",
       "      <td>1100</td>\n",
       "      <td>1.723400</td>\n",
       "    </tr>\n",
       "    <tr>\n",
       "      <td>1200</td>\n",
       "      <td>1.718200</td>\n",
       "    </tr>\n",
       "  </tbody>\n",
       "</table><p>"
      ],
      "text/plain": [
       "<IPython.core.display.HTML object>"
      ]
     },
     "metadata": {},
     "output_type": "display_data"
    },
    {
     "data": {
      "text/plain": [
       "TrainOutput(global_step=1202, training_loss=1.8005672056544044, metrics={'train_runtime': 4306.7502, 'train_samples_per_second': 4.466, 'train_steps_per_second': 0.279, 'total_flos': 2.6004183765221376e+16, 'train_loss': 1.8005672056544044, 'epoch': 1.9981285090455396})"
      ]
     },
     "execution_count": 11,
     "metadata": {},
     "output_type": "execute_result"
    }
   ],
   "source": [
    "# Start the training\n",
    "trainer.train()"
   ]
  },
  {
   "cell_type": "code",
   "execution_count": 12,
   "id": "2753e3e3-25fa-47dd-9b2d-d880dfa0e553",
   "metadata": {},
   "outputs": [
    {
     "name": "stdout",
     "output_type": "stream",
     "text": [
      "Model saved to ./qwen-mcqa-model\n"
     ]
    }
   ],
   "source": [
    "# Save the model\n",
    "output_dir = \"./qwen-mcqa-model\"\n",
    "trainer.save_model(output_dir)\n",
    "tokenizer.save_pretrained(output_dir)\n",
    "print(f\"Model saved to {output_dir}\")"
   ]
  },
  {
   "cell_type": "code",
   "execution_count": 13,
   "id": "de895c8e-8d77-4093-bcca-84c8f4ef16f4",
   "metadata": {},
   "outputs": [
    {
     "data": {
      "application/vnd.jupyter.widget-view+json": {
       "model_id": "402f3e5678a04638999d764583f50ad3",
       "version_major": 2,
       "version_minor": 0
      },
      "text/plain": [
       "model.safetensors:   0%|          | 0.00/2.38G [00:00<?, ?B/s]"
      ]
     },
     "metadata": {},
     "output_type": "display_data"
    },
    {
     "data": {
      "application/vnd.jupyter.widget-view+json": {
       "model_id": "948e2c6c471f426fad1e3833cc317cf1",
       "version_major": 2,
       "version_minor": 0
      },
      "text/plain": [
       "README.md:   0%|          | 0.00/5.17k [00:00<?, ?B/s]"
      ]
     },
     "metadata": {},
     "output_type": "display_data"
    },
    {
     "data": {
      "application/vnd.jupyter.widget-view+json": {
       "model_id": "898120d7f336459ba31470885732b5eb",
       "version_major": 2,
       "version_minor": 0
      },
      "text/plain": [
       "tokenizer.json:   0%|          | 0.00/11.4M [00:00<?, ?B/s]"
      ]
     },
     "metadata": {},
     "output_type": "display_data"
    },
    {
     "data": {
      "text/plain": [
       "CommitInfo(commit_url='https://huggingface.co/GingerBled/qwen3-0.6B-mcqa/commit/8f87ad760b6e0cbff703c21f543de3282376b7b7', commit_message='Upload tokenizer', commit_description='', oid='8f87ad760b6e0cbff703c21f543de3282376b7b7', pr_url=None, repo_url=RepoUrl('https://huggingface.co/GingerBled/qwen3-0.6B-mcqa', endpoint='https://huggingface.co', repo_type='model', repo_id='GingerBled/qwen3-0.6B-mcqa'), pr_revision=None, pr_num=None)"
      ]
     },
     "execution_count": 13,
     "metadata": {},
     "output_type": "execute_result"
    }
   ],
   "source": [
    "# Load your fine-tuned model\n",
    "model = AutoModelForCausalLM.from_pretrained(\"./qwen-mcqa-model\")\n",
    "tokenizer = AutoTokenizer.from_pretrained(\"./qwen-mcqa-model\")\n",
    "\n",
    "# Push to your HF repo\n",
    "model.push_to_hub(\"GingerBled/qwen3-0.6B-mcqa\")\n",
    "tokenizer.push_to_hub(\"GingerBled/qwen3-0.6B-mcqa\")"
   ]
  },
  {
   "cell_type": "code",
   "execution_count": null,
   "id": "1da0c3bf-d2c4-4f2b-9d63-84b55c1f9f30",
   "metadata": {},
   "outputs": [],
   "source": []
  }
 ],
 "metadata": {
  "kernelspec": {
   "display_name": "Python (mnlp_m2)",
   "language": "python",
   "name": "mnlp_m2"
  },
  "language_info": {
   "codemirror_mode": {
    "name": "ipython",
    "version": 3
   },
   "file_extension": ".py",
   "mimetype": "text/x-python",
   "name": "python",
   "nbconvert_exporter": "python",
   "pygments_lexer": "ipython3",
   "version": "3.12.8"
  }
 },
 "nbformat": 4,
 "nbformat_minor": 5
}
