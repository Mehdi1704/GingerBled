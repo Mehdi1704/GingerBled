{
 "cells": [
  {
   "cell_type": "code",
   "execution_count": 1,
   "id": "962bf25c-e08a-4c0e-8c8d-f58491c480f8",
   "metadata": {},
   "outputs": [],
   "source": [
    "import arxiv\n",
    "\n",
    "# Construct the default API client.\n",
    "client = arxiv.Client()"
   ]
  },
  {
   "cell_type": "code",
   "execution_count": 15,
   "id": "40e2ce77-3aad-490d-84ca-bb7a528586e6",
   "metadata": {},
   "outputs": [],
   "source": [
    "search = arxiv.Search(\n",
    "  query = \"cat:math*+OR+cat:physics*+OR+cat:cs*+AND+submittedDate:[202301010000+TO+202412312359]\",\n",
    "  max_results=30000\n",
    " )"
   ]
  },
  {
   "cell_type": "code",
   "execution_count": 13,
   "id": "6e4c6174-e913-4a56-869c-461ba49cfba4",
   "metadata": {},
   "outputs": [],
   "source": [
    "results = client.results(search)"
   ]
  },
  {
   "cell_type": "code",
   "execution_count": 18,
   "id": "02e6f68c-70f7-4ac7-b092-8d36c606f17b",
   "metadata": {},
   "outputs": [],
   "source": [
    "for result in results:\n",
    "    print(result.title)\n",
    "    break"
   ]
  },
  {
   "cell_type": "code",
   "execution_count": 7,
   "id": "cd7acf6c-0ebc-4d70-b8e0-4f25519d4c54",
   "metadata": {},
   "outputs": [
    {
     "name": "stderr",
     "output_type": "stream",
     "text": [
      "/tmp/ipykernel_6822/3237532688.py:1: DeprecationWarning: The 'Search.results' method is deprecated, use 'Client.results' instead\n",
      "  for res in search.results():\n"
     ]
    }
   ],
   "source": [
    "for res in search.results():\n",
    "    print(res)\n",
    "    break"
   ]
  },
  {
   "cell_type": "code",
   "execution_count": 16,
   "id": "6a1750f4-dcf5-4f8c-8dc3-ffb64f50e3e1",
   "metadata": {},
   "outputs": [],
   "source": [
    "with open(\"rag_build/arxiv23_24.jsonl\", \"w\", encoding=\"utf-8\") as f:\n",
    "    for result in results:\n",
    "        record = {\n",
    "            \"id\": result.get_short_id(),        # e.g., '2301.12345'\n",
    "            \"title\": result.title.strip(),\n",
    "            \"abstract\": result.summary.strip()\n",
    "        }\n",
    "        json.dump(record, f)\n",
    "        f.write(\"\\n\")"
   ]
  },
  {
   "cell_type": "code",
   "execution_count": 24,
   "id": "8ab7c70c-ee91-430a-8b7c-9d9930272c66",
   "metadata": {},
   "outputs": [
    {
     "name": "stderr",
     "output_type": "stream",
     "text": [
      "Fetching categories: 100%|██████████| 18/18 [01:08<00:00,  3.81s/it]\n",
      "Writing to arxiv23_24.jsonl: 0it [00:00, ?it/s]\n"
     ]
    }
   ],
   "source": [
    "import arxiv\n",
    "import json\n",
    "from tqdm import tqdm\n",
    "from datetime import datetime, timezone\n",
    "\n",
    "CATEGORIES = [\n",
    "    \"cs.AI\", \"cs.LG\", \"cs.CL\", \"cs.CV\", \"cs.NE\",\n",
    "    \"math.PR\", \"math.OC\", \"math.ST\", \"math.MG\", \"math.AP\",\n",
    "    \"physics.optics\", \"physics.comp-ph\", \"physics.data-an\", \"physics.plasm-ph\"\n",
    "]\n",
    "\n",
    "CATEGORY_LIMITS = {\n",
    "    # 🔷 CS - Core AI/ML Focus\n",
    "    \"cs.LG\": 4000,   # Machine Learning\n",
    "    \"cs.AI\": 4000,   # Artificial Intelligence\n",
    "    \"cs.CL\": 2000,   # Computation & Language (NLP)\n",
    "    \"cs.CV\": 2000,   # Computer Vision\n",
    "    \"cs.NE\": 1000,   # Neural and Evolutionary Computing\n",
    "    \"cs.CR\": 1000,   # Cryptography and Security\n",
    "    \"cs.DS\": 1000,   # Data Structures and Algorithms\n",
    "    \"cs.RO\": 1000,   # Robotics\n",
    "\n",
    "    # 🔷 CS - Other relevant subfields\n",
    "    \"cs.SE\": 500,    # Software Engineering\n",
    "    \"cs.SI\": 500,    # Social and Information Networks\n",
    "    \"cs.PL\": 500,    # Programming Languages\n",
    "    \"cs.GT\": 500,    # Game Theory\n",
    "    \"cs.MA\": 500,    # Multiagent Systems\n",
    "\n",
    "    # 🔶 Math - Focused on optimization and probability\n",
    "    \"math.OC\": 1500,  # Optimization and Control\n",
    "    \"math.PR\": 1000,  # Probability\n",
    "    \"math.ST\": 500,   # Statistics\n",
    "\n",
    "    # 🔶 Physics - Optional light coverage\n",
    "    \"physics.data-an\": 500,  # Data Analysis\n",
    "    \"physics.comp-ph\": 500,  # Computational Physics\n",
    "}\n",
    "\n",
    "\n",
    "# Submission date range\n",
    "START_DATE = datetime(2023, 1, 1, tzinfo=timezone.utc)\n",
    "END_DATE = datetime(2024, 12, 31, 23, 59, tzinfo=timezone.utc)\n",
    "\n",
    "client = arxiv.Client()\n",
    "\n",
    "results_all = []\n",
    "\n",
    "# Loop over categories\n",
    "for cat in tqdm(CATEGORY_LIMITS.keys(), desc=\"Fetching categories\"):\n",
    "    search = arxiv.Search(\n",
    "        query=f\"cat:{cat}\",\n",
    "       # max_results=CATEGORY_LIMITS[cat],\n",
    "        max_results=10,\n",
    "        sort_by=arxiv.SortCriterion.SubmittedDate,\n",
    "    )\n",
    "    for result in client.results(search):\n",
    "        if START_DATE <= result.published <= END_DATE:\n",
    "            results_all.append(result)\n",
    "\n",
    "# Save filtered results\n",
    "with open(\"arxiv23_24.jsonl\", \"w\", encoding=\"utf-8\") as f:\n",
    "    for result in tqdm(results_all, desc=\"Writing to arxiv23_24.jsonl\"):\n",
    "        json.dump({\n",
    "            \"id\": result.get_short_id(),\n",
    "            \"title\": result.title.strip(),\n",
    "            \"abstract\": result.summary.strip()\n",
    "        }, f)\n",
    "        f.write(\"\\n\")"
   ]
  },
  {
   "cell_type": "code",
   "execution_count": 25,
   "id": "0246eb29-d149-49bf-a44e-fc4fe8318c3f",
   "metadata": {},
   "outputs": [
    {
     "data": {
      "application/vnd.jupyter.widget-view+json": {
       "model_id": "3ed561b7f3174a2f829d15b3cceab844",
       "version_major": 2,
       "version_minor": 0
      },
      "text/plain": [
       "README.md:   0%|          | 0.00/7.25k [00:00<?, ?B/s]"
      ]
     },
     "metadata": {},
     "output_type": "display_data"
    },
    {
     "data": {
      "application/vnd.jupyter.widget-view+json": {
       "model_id": "e97fa7fca5874c559f7f74ed94464f5e",
       "version_major": 2,
       "version_minor": 0
      },
      "text/plain": [
       "arxiv_dataset.py:   0%|          | 0.00/4.67k [00:00<?, ?B/s]"
      ]
     },
     "metadata": {},
     "output_type": "display_data"
    },
    {
     "name": "stdin",
     "output_type": "stream",
     "text": [
      "The repository for arxiv_dataset contains custom code which must be executed to correctly load the dataset. You can inspect the repository content at https://hf.co/datasets/arxiv_dataset.\n",
      "You can avoid this prompt in future by passing the argument `trust_remote_code=True`.\n",
      "\n",
      "Do you wish to run the custom code? [y/N]  y\n"
     ]
    },
    {
     "ename": "ManualDownloadError",
     "evalue": "                The dataset arxiv_dataset with config default requires manual data.\n                Please follow the manual download instructions:\n                     You need to go to https://www.kaggle.com/Cornell-University/arxiv,\nand manually download the dataset. Once it is completed,\na zip folder named archive.zip will be appeared in your Downloads folder\nor whichever folder your browser chooses to save files to. Extract that folder\nand you would get a arxiv-metadata-oai-snapshot.json file\nYou can then move that file under <path/to/folder>.\nThe <path/to/folder> can e.g. be \"~/manual_data\".\narxiv_dataset can then be loaded using the following command `datasets.load_dataset(\"arxiv_dataset\", data_dir=\"<path/to/folder>\")`.\n\n                Manual data can be loaded with:\n                 datasets.load_dataset(\"arxiv_dataset\", data_dir=\"<path/to/manual/data>\")",
     "output_type": "error",
     "traceback": [
      "\u001b[0;31m---------------------------------------------------------------------------\u001b[0m",
      "\u001b[0;31mManualDownloadError\u001b[0m                       Traceback (most recent call last)",
      "Cell \u001b[0;32mIn[25], line 26\u001b[0m\n\u001b[1;32m     23\u001b[0m     \u001b[38;5;28;01mreturn\u001b[39;00m row_date \u001b[38;5;241m>\u001b[39m\u001b[38;5;241m=\u001b[39m DATE_CUTOFF\n\u001b[1;32m     25\u001b[0m \u001b[38;5;66;03m# ───── main collection loop ───────────────────────────────────────\u001b[39;00m\n\u001b[0;32m---> 26\u001b[0m stream \u001b[38;5;241m=\u001b[39m \u001b[43mload_dataset\u001b[49m\u001b[43m(\u001b[49m\u001b[38;5;124;43m\"\u001b[39;49m\u001b[38;5;124;43marxiv_dataset\u001b[39;49m\u001b[38;5;124;43m\"\u001b[39;49m\u001b[43m,\u001b[49m\u001b[43m \u001b[49m\u001b[43msplit\u001b[49m\u001b[38;5;241;43m=\u001b[39;49m\u001b[38;5;124;43m\"\u001b[39;49m\u001b[38;5;124;43mtrain\u001b[39;49m\u001b[38;5;124;43m\"\u001b[39;49m\u001b[43m,\u001b[49m\u001b[43m \u001b[49m\u001b[43mstreaming\u001b[49m\u001b[38;5;241;43m=\u001b[39;49m\u001b[38;5;28;43;01mTrue\u001b[39;49;00m\u001b[43m)\u001b[49m\n\u001b[1;32m     27\u001b[0m bar    \u001b[38;5;241m=\u001b[39m tqdm(total\u001b[38;5;241m=\u001b[39mMAX_ROWS, desc\u001b[38;5;241m=\u001b[39m\u001b[38;5;124m\"\u001b[39m\u001b[38;5;124mCollecting arXiv abstracts\u001b[39m\u001b[38;5;124m\"\u001b[39m)\n\u001b[1;32m     29\u001b[0m \u001b[38;5;28;01mwith\u001b[39;00m OUTFILE\u001b[38;5;241m.\u001b[39mopen(\u001b[38;5;124m\"\u001b[39m\u001b[38;5;124mw\u001b[39m\u001b[38;5;124m\"\u001b[39m, encoding\u001b[38;5;241m=\u001b[39m\u001b[38;5;124m\"\u001b[39m\u001b[38;5;124mutf-8\u001b[39m\u001b[38;5;124m\"\u001b[39m) \u001b[38;5;28;01mas\u001b[39;00m fh:\n",
      "File \u001b[0;32m/opt/jlab-env-3.12.8/lib/python3.12/site-packages/datasets/load.py:2148\u001b[0m, in \u001b[0;36mload_dataset\u001b[0;34m(path, name, data_dir, data_files, split, cache_dir, features, download_config, download_mode, verification_mode, keep_in_memory, save_infos, revision, token, streaming, num_proc, storage_options, trust_remote_code, **config_kwargs)\u001b[0m\n\u001b[1;32m   2146\u001b[0m \u001b[38;5;66;03m# Return iterable dataset in case of streaming\u001b[39;00m\n\u001b[1;32m   2147\u001b[0m \u001b[38;5;28;01mif\u001b[39;00m streaming:\n\u001b[0;32m-> 2148\u001b[0m     \u001b[38;5;28;01mreturn\u001b[39;00m \u001b[43mbuilder_instance\u001b[49m\u001b[38;5;241;43m.\u001b[39;49m\u001b[43mas_streaming_dataset\u001b[49m\u001b[43m(\u001b[49m\u001b[43msplit\u001b[49m\u001b[38;5;241;43m=\u001b[39;49m\u001b[43msplit\u001b[49m\u001b[43m)\u001b[49m\n\u001b[1;32m   2150\u001b[0m \u001b[38;5;66;03m# Download and prepare data\u001b[39;00m\n\u001b[1;32m   2151\u001b[0m builder_instance\u001b[38;5;241m.\u001b[39mdownload_and_prepare(\n\u001b[1;32m   2152\u001b[0m     download_config\u001b[38;5;241m=\u001b[39mdownload_config,\n\u001b[1;32m   2153\u001b[0m     download_mode\u001b[38;5;241m=\u001b[39mdownload_mode,\n\u001b[0;32m   (...)\u001b[0m\n\u001b[1;32m   2156\u001b[0m     storage_options\u001b[38;5;241m=\u001b[39mstorage_options,\n\u001b[1;32m   2157\u001b[0m )\n",
      "File \u001b[0;32m/opt/jlab-env-3.12.8/lib/python3.12/site-packages/datasets/builder.py:1263\u001b[0m, in \u001b[0;36mDatasetBuilder.as_streaming_dataset\u001b[0;34m(self, split, base_path)\u001b[0m\n\u001b[1;32m   1253\u001b[0m     \u001b[38;5;28;01mraise\u001b[39;00m \u001b[38;5;167;01mNotImplementedError\u001b[39;00m(\n\u001b[1;32m   1254\u001b[0m         \u001b[38;5;124mf\u001b[39m\u001b[38;5;124m\"\u001b[39m\u001b[38;5;124mLoading a streaming dataset cached in a \u001b[39m\u001b[38;5;132;01m{\u001b[39;00m\u001b[38;5;28mtype\u001b[39m(\u001b[38;5;28mself\u001b[39m\u001b[38;5;241m.\u001b[39m_fs)\u001b[38;5;241m.\u001b[39m\u001b[38;5;18m__name__\u001b[39m\u001b[38;5;132;01m}\u001b[39;00m\u001b[38;5;124m is not supported yet.\u001b[39m\u001b[38;5;124m\"\u001b[39m\n\u001b[1;32m   1255\u001b[0m     )\n\u001b[1;32m   1257\u001b[0m dl_manager \u001b[38;5;241m=\u001b[39m StreamingDownloadManager(\n\u001b[1;32m   1258\u001b[0m     base_path\u001b[38;5;241m=\u001b[39mbase_path \u001b[38;5;129;01mor\u001b[39;00m \u001b[38;5;28mself\u001b[39m\u001b[38;5;241m.\u001b[39mbase_path,\n\u001b[1;32m   1259\u001b[0m     download_config\u001b[38;5;241m=\u001b[39mDownloadConfig(token\u001b[38;5;241m=\u001b[39m\u001b[38;5;28mself\u001b[39m\u001b[38;5;241m.\u001b[39mtoken, storage_options\u001b[38;5;241m=\u001b[39m\u001b[38;5;28mself\u001b[39m\u001b[38;5;241m.\u001b[39mstorage_options),\n\u001b[1;32m   1260\u001b[0m     dataset_name\u001b[38;5;241m=\u001b[39m\u001b[38;5;28mself\u001b[39m\u001b[38;5;241m.\u001b[39mdataset_name,\n\u001b[1;32m   1261\u001b[0m     data_dir\u001b[38;5;241m=\u001b[39m\u001b[38;5;28mself\u001b[39m\u001b[38;5;241m.\u001b[39mconfig\u001b[38;5;241m.\u001b[39mdata_dir,\n\u001b[1;32m   1262\u001b[0m )\n\u001b[0;32m-> 1263\u001b[0m \u001b[38;5;28;43mself\u001b[39;49m\u001b[38;5;241;43m.\u001b[39;49m\u001b[43m_check_manual_download\u001b[49m\u001b[43m(\u001b[49m\u001b[43mdl_manager\u001b[49m\u001b[43m)\u001b[49m\n\u001b[1;32m   1264\u001b[0m splits_generators \u001b[38;5;241m=\u001b[39m {sg\u001b[38;5;241m.\u001b[39mname: sg \u001b[38;5;28;01mfor\u001b[39;00m sg \u001b[38;5;129;01min\u001b[39;00m \u001b[38;5;28mself\u001b[39m\u001b[38;5;241m.\u001b[39m_split_generators(dl_manager)}\n\u001b[1;32m   1265\u001b[0m \u001b[38;5;66;03m# By default, return all splits\u001b[39;00m\n",
      "File \u001b[0;32m/opt/jlab-env-3.12.8/lib/python3.12/site-packages/datasets/builder.py:948\u001b[0m, in \u001b[0;36mDatasetBuilder._check_manual_download\u001b[0;34m(self, dl_manager)\u001b[0m\n\u001b[1;32m    946\u001b[0m \u001b[38;5;28;01mdef\u001b[39;00m\u001b[38;5;250m \u001b[39m\u001b[38;5;21m_check_manual_download\u001b[39m(\u001b[38;5;28mself\u001b[39m, dl_manager):\n\u001b[1;32m    947\u001b[0m     \u001b[38;5;28;01mif\u001b[39;00m \u001b[38;5;28mself\u001b[39m\u001b[38;5;241m.\u001b[39mmanual_download_instructions \u001b[38;5;129;01mis\u001b[39;00m \u001b[38;5;129;01mnot\u001b[39;00m \u001b[38;5;28;01mNone\u001b[39;00m \u001b[38;5;129;01mand\u001b[39;00m dl_manager\u001b[38;5;241m.\u001b[39mmanual_dir \u001b[38;5;129;01mis\u001b[39;00m \u001b[38;5;28;01mNone\u001b[39;00m:\n\u001b[0;32m--> 948\u001b[0m         \u001b[38;5;28;01mraise\u001b[39;00m ManualDownloadError(\n\u001b[1;32m    949\u001b[0m             textwrap\u001b[38;5;241m.\u001b[39mdedent(\n\u001b[1;32m    950\u001b[0m                 \u001b[38;5;124mf\u001b[39m\u001b[38;5;124m\"\"\"\u001b[39m\u001b[38;5;130;01m\\\u001b[39;00m\n\u001b[1;32m    951\u001b[0m \u001b[38;5;124m                The dataset \u001b[39m\u001b[38;5;132;01m{\u001b[39;00m\u001b[38;5;28mself\u001b[39m\u001b[38;5;241m.\u001b[39mdataset_name\u001b[38;5;132;01m}\u001b[39;00m\u001b[38;5;124m with config \u001b[39m\u001b[38;5;132;01m{\u001b[39;00m\u001b[38;5;28mself\u001b[39m\u001b[38;5;241m.\u001b[39mconfig\u001b[38;5;241m.\u001b[39mname\u001b[38;5;132;01m}\u001b[39;00m\u001b[38;5;124m requires manual data.\u001b[39m\n\u001b[1;32m    952\u001b[0m \u001b[38;5;124m                Please follow the manual download instructions:\u001b[39m\n\u001b[1;32m    953\u001b[0m \u001b[38;5;124m                 \u001b[39m\u001b[38;5;132;01m{\u001b[39;00m\u001b[38;5;28mself\u001b[39m\u001b[38;5;241m.\u001b[39mmanual_download_instructions\u001b[38;5;132;01m}\u001b[39;00m\n\u001b[1;32m    954\u001b[0m \u001b[38;5;124m                Manual data can be loaded with:\u001b[39m\n\u001b[1;32m    955\u001b[0m \u001b[38;5;124m                 datasets.load_dataset(\u001b[39m\u001b[38;5;124m\"\u001b[39m\u001b[38;5;132;01m{\u001b[39;00m\u001b[38;5;28mself\u001b[39m\u001b[38;5;241m.\u001b[39mrepo_id\u001b[38;5;250m \u001b[39m\u001b[38;5;129;01mor\u001b[39;00m\u001b[38;5;250m \u001b[39m\u001b[38;5;28mself\u001b[39m\u001b[38;5;241m.\u001b[39mdataset_name\u001b[38;5;132;01m}\u001b[39;00m\u001b[38;5;124m\"\u001b[39m\u001b[38;5;124m, data_dir=\u001b[39m\u001b[38;5;124m\"\u001b[39m\u001b[38;5;124m<path/to/manual/data>\u001b[39m\u001b[38;5;124m\"\u001b[39m\u001b[38;5;124m)\u001b[39m\u001b[38;5;124m\"\"\"\u001b[39m\n\u001b[1;32m    956\u001b[0m             )\n\u001b[1;32m    957\u001b[0m         )\n",
      "\u001b[0;31mManualDownloadError\u001b[0m:                 The dataset arxiv_dataset with config default requires manual data.\n                Please follow the manual download instructions:\n                     You need to go to https://www.kaggle.com/Cornell-University/arxiv,\nand manually download the dataset. Once it is completed,\na zip folder named archive.zip will be appeared in your Downloads folder\nor whichever folder your browser chooses to save files to. Extract that folder\nand you would get a arxiv-metadata-oai-snapshot.json file\nYou can then move that file under <path/to/folder>.\nThe <path/to/folder> can e.g. be \"~/manual_data\".\narxiv_dataset can then be loaded using the following command `datasets.load_dataset(\"arxiv_dataset\", data_dir=\"<path/to/folder>\")`.\n\n                Manual data can be loaded with:\n                 datasets.load_dataset(\"arxiv_dataset\", data_dir=\"<path/to/manual/data>\")"
     ]
    }
   ],
   "source": [
    "from datasets import load_dataset\n",
    "from tqdm.auto import tqdm\n",
    "from pathlib import Path\n",
    "import re, json, datetime\n",
    "\n",
    "# ───── user constants ─────────────────────────────────────────────\n",
    "MAX_ROWS   = 40_000\n",
    "OUTPUT_DIR = Path(\"rag_build/txt\")\n",
    "OUTPUT_DIR.mkdir(parents=True, exist_ok=True)\n",
    "OUTFILE    = OUTPUT_DIR / \"arxiv23_24.txt\"\n",
    "\n",
    "CATS_RE = re.compile(r\"^(math|physics|cs)\\.\", re.I)\n",
    "DATE_CUTOFF = datetime.date(2023, 1, 1)\n",
    "\n",
    "# ───── helper -----------------------------------------------------\n",
    "def keep_row(row) -> bool:\n",
    "    \"\"\"Return True if the row matches domain + date filters.\"\"\"\n",
    "    cats = row[\"categories\"].split()\n",
    "    if not any(CATS_RE.match(c) for c in cats):\n",
    "        return False\n",
    "    # 'update_date' format: '2024-05-13'\n",
    "    row_date = datetime.date.fromisoformat(row[\"update_date\"])\n",
    "    return row_date >= DATE_CUTOFF\n",
    "\n",
    "# ───── main collection loop ───────────────────────────────────────\n",
    "stream = load_dataset(\"arxiv_dataset\", split=\"train\", streaming=True)\n",
    "bar    = tqdm(total=MAX_ROWS, desc=\"Collecting arXiv abstracts\")\n",
    "\n",
    "with OUTFILE.open(\"w\", encoding=\"utf-8\") as fh:\n",
    "    count = 0\n",
    "    for row in stream:\n",
    "        if not keep_row(row):\n",
    "            continue\n",
    "\n",
    "        # write id, title, abstract\n",
    "        fh.write(f\"{row['id']}\\t{row['title'].strip()}\\n\\n{row['abstract'].strip()}\\n\\n\")\n",
    "        count += 1\n",
    "        bar.update(1)\n",
    "\n",
    "        if count >= MAX_ROWS:\n",
    "            break\n",
    "\n",
    "bar.close()\n",
    "print(f\"✅ Saved {count} abstracts to {OUTFILE}\")"
   ]
  },
  {
   "cell_type": "code",
   "execution_count": 26,
   "id": "5d41ff29-5c1c-4913-986c-65b0a59a7361",
   "metadata": {},
   "outputs": [
    {
     "data": {
      "application/vnd.jupyter.widget-view+json": {
       "model_id": "bfe803d3cae342228761ad8aac1861df",
       "version_major": 2,
       "version_minor": 0
      },
      "text/plain": [
       "README.md:   0%|          | 0.00/3.04k [00:00<?, ?B/s]"
      ]
     },
     "metadata": {},
     "output_type": "display_data"
    },
    {
     "data": {
      "application/vnd.jupyter.widget-view+json": {
       "model_id": "5bfdcb4307f641ed91ddd77c7b018929",
       "version_major": 2,
       "version_minor": 0
      },
      "text/plain": [
       "Resolving data files:   0%|          | 0/7169 [00:00<?, ?it/s]"
      ]
     },
     "metadata": {},
     "output_type": "display_data"
    },
    {
     "data": {
      "application/vnd.jupyter.widget-view+json": {
       "model_id": "78039e84dcb14d92838877c9baa954f7",
       "version_major": 2,
       "version_minor": 0
      },
      "text/plain": [
       "Downloading data:   0%|          | 0/7169 [00:00<?, ?files/s]"
      ]
     },
     "metadata": {},
     "output_type": "display_data"
    },
    {
     "data": {
      "application/vnd.jupyter.widget-view+json": {
       "model_id": "eddeb59af31d445eb8eecd1071b78845",
       "version_major": 2,
       "version_minor": 0
      },
      "text/plain": [
       "%20%20%28Ab_C8GX1S2UM0.txt:   0%|          | 0.00/1.76k [00:00<?, ?B/s]"
      ]
     },
     "metadata": {},
     "output_type": "display_data"
    },
    {
     "data": {
      "application/vnd.jupyter.widget-view+json": {
       "model_id": "c8290e7ecb704713b4b41431fadf621c",
       "version_major": 2,
       "version_minor": 0
      },
      "text/plain": [
       "%20%20%28Ab_OTQIB120U9.txt:   0%|          | 0.00/1.30k [00:00<?, ?B/s]"
      ]
     },
     "metadata": {},
     "output_type": "display_data"
    },
    {
     "data": {
      "application/vnd.jupyter.widget-view+json": {
       "model_id": "c0d5a4b4d0c74c3f8c25d3947d667cd6",
       "version_major": 2,
       "version_minor": 0
      },
      "text/plain": [
       "%20%20%22Ho_4CYCI0EQS0.txt:   0%|          | 0.00/1.52k [00:00<?, ?B/s]"
      ]
     },
     "metadata": {},
     "output_type": "display_data"
    },
    {
     "data": {
      "application/vnd.jupyter.widget-view+json": {
       "model_id": "354d225a1bf348cd82c4338a5f125a9a",
       "version_major": 2,
       "version_minor": 0
      },
      "text/plain": [
       "%20%20%28Ab_OQQA21L06I.txt:   0%|          | 0.00/1.70k [00:00<?, ?B/s]"
      ]
     },
     "metadata": {},
     "output_type": "display_data"
    },
    {
     "data": {
      "application/vnd.jupyter.widget-view+json": {
       "model_id": "9f3b949ad86543a6acffeba448831282",
       "version_major": 2,
       "version_minor": 0
      },
      "text/plain": [
       "%20%20%22Ex_35ETCR1FPD.txt:   0%|          | 0.00/952 [00:00<?, ?B/s]"
      ]
     },
     "metadata": {},
     "output_type": "display_data"
    },
    {
     "data": {
      "application/vnd.jupyter.widget-view+json": {
       "model_id": "86a82ca1f784452ca3fc2f22da314f5d",
       "version_major": 2,
       "version_minor": 0
      },
      "text/plain": [
       "%20%20%28ab_TFAIWAGA1W.txt:   0%|          | 0.00/1.79k [00:00<?, ?B/s]"
      ]
     },
     "metadata": {},
     "output_type": "display_data"
    },
    {
     "data": {
      "application/vnd.jupyter.widget-view+json": {
       "model_id": "2eee6d422d1f4cbebed5404b9673d48b",
       "version_major": 2,
       "version_minor": 0
      },
      "text/plain": [
       "%20%20%28Ab_U19VDFM2FS.txt:   0%|          | 0.00/1.85k [00:00<?, ?B/s]"
      ]
     },
     "metadata": {},
     "output_type": "display_data"
    },
    {
     "data": {
      "application/vnd.jupyter.widget-view+json": {
       "model_id": "3bcc7c62a7e14d5e9804cb5cbee8e69e",
       "version_major": 2,
       "version_minor": 0
      },
      "text/plain": [
       "%20%20%28Ab_008D51BSBG.txt:   0%|          | 0.00/1.75k [00:00<?, ?B/s]"
      ]
     },
     "metadata": {},
     "output_type": "display_data"
    },
    {
     "data": {
      "application/vnd.jupyter.widget-view+json": {
       "model_id": "e6d020ece35d4d08a47aa2757e8c4905",
       "version_major": 2,
       "version_minor": 0
      },
      "text/plain": [
       "%20%20%28Ab_MSN3MWC1XY.txt:   0%|          | 0.00/1.58k [00:00<?, ?B/s]"
      ]
     },
     "metadata": {},
     "output_type": "display_data"
    },
    {
     "data": {
      "application/vnd.jupyter.widget-view+json": {
       "model_id": "83cd3e5ef3344350b8a403850cb86afb",
       "version_major": 2,
       "version_minor": 0
      },
      "text/plain": [
       "%20%20%28ab_U76QR2HIED.txt:   0%|          | 0.00/1.69k [00:00<?, ?B/s]"
      ]
     },
     "metadata": {},
     "output_type": "display_data"
    },
    {
     "data": {
      "application/vnd.jupyter.widget-view+json": {
       "model_id": "50622c2474fc4ac182100e181f092e7c",
       "version_major": 2,
       "version_minor": 0
      },
      "text/plain": [
       "%20%20%28ab_45IH0WCRVG.txt:   0%|          | 0.00/1.35k [00:00<?, ?B/s]"
      ]
     },
     "metadata": {},
     "output_type": "display_data"
    },
    {
     "data": {
      "application/vnd.jupyter.widget-view+json": {
       "model_id": "44a94076ec524e8391bb9619e1a7707b",
       "version_major": 2,
       "version_minor": 0
      },
      "text/plain": [
       "%20%20%28Ab_585HAJ5BAP.txt:   0%|          | 0.00/1.68k [00:00<?, ?B/s]"
      ]
     },
     "metadata": {},
     "output_type": "display_data"
    },
    {
     "data": {
      "application/vnd.jupyter.widget-view+json": {
       "model_id": "1c2605bc13e9498c8c30d4da07505371",
       "version_major": 2,
       "version_minor": 0
      },
      "text/plain": [
       "%20%20%28Co_5GNV84F9TK.txt:   0%|          | 0.00/1.28k [00:00<?, ?B/s]"
      ]
     },
     "metadata": {},
     "output_type": "display_data"
    },
    {
     "data": {
      "application/vnd.jupyter.widget-view+json": {
       "model_id": "fcfaf22efa7c4495ab40d2c8c44f7439",
       "version_major": 2,
       "version_minor": 0
      },
      "text/plain": [
       "%20%201%20G_BST933NFEW.txt:   0%|          | 0.00/181 [00:00<?, ?B/s]"
      ]
     },
     "metadata": {},
     "output_type": "display_data"
    },
    {
     "data": {
      "application/vnd.jupyter.widget-view+json": {
       "model_id": "9b67dd8084d346a886793cd714d459de",
       "version_major": 2,
       "version_minor": 0
      },
      "text/plain": [
       "%20%20A%20%27_LNFXIHBKMR.txt:   0%|          | 0.00/43.0 [00:00<?, ?B/s]"
      ]
     },
     "metadata": {},
     "output_type": "display_data"
    },
    {
     "data": {
      "application/vnd.jupyter.widget-view+json": {
       "model_id": "08059ffc47164f37a7bf568ab2d21d0c",
       "version_major": 2,
       "version_minor": 0
      },
      "text/plain": [
       "%20%20A%20%24_FCCH9K1W6V.txt:   0%|          | 0.00/557 [00:00<?, ?B/s]"
      ]
     },
     "metadata": {},
     "output_type": "display_data"
    },
    {
     "data": {
      "application/vnd.jupyter.widget-view+json": {
       "model_id": "7509c295833d404fbf46fda75c27562c",
       "version_major": 2,
       "version_minor": 0
      },
      "text/plain": [
       "%20%20A%20B_QIRJUSTTCE.txt:   0%|          | 0.00/1.13k [00:00<?, ?B/s]"
      ]
     },
     "metadata": {},
     "output_type": "display_data"
    },
    {
     "data": {
      "application/vnd.jupyter.widget-view+json": {
       "model_id": "a7d613459fb6460aae1274972b0200e5",
       "version_major": 2,
       "version_minor": 0
      },
      "text/plain": [
       "%20%20A%20B_XYAAJ4AOLH.txt:   0%|          | 0.00/777 [00:00<?, ?B/s]"
      ]
     },
     "metadata": {},
     "output_type": "display_data"
    },
    {
     "data": {
      "application/vnd.jupyter.widget-view+json": {
       "model_id": "b07ca3a251d14824a32e46edd8c76591",
       "version_major": 2,
       "version_minor": 0
      },
      "text/plain": [
       "%20%20A%20D_Z2V06UBOMM.txt:   0%|          | 0.00/866 [00:00<?, ?B/s]"
      ]
     },
     "metadata": {},
     "output_type": "display_data"
    },
    {
     "data": {
      "application/vnd.jupyter.widget-view+json": {
       "model_id": "dbb26a3fb5ca41c2bca91f8b9a428a1d",
       "version_major": 2,
       "version_minor": 0
      },
      "text/plain": [
       "%20%20A%20B_SRDXASL33B.txt:   0%|          | 0.00/578 [00:00<?, ?B/s]"
      ]
     },
     "metadata": {},
     "output_type": "display_data"
    },
    {
     "data": {
      "application/vnd.jupyter.widget-view+json": {
       "model_id": "7e6a172bb58f4c3cb25646b080f2820c",
       "version_major": 2,
       "version_minor": 0
      },
      "text/plain": [
       "%20%20A%20B_C9X8VBP7XY.txt:   0%|          | 0.00/947 [00:00<?, ?B/s]"
      ]
     },
     "metadata": {},
     "output_type": "display_data"
    },
    {
     "data": {
      "application/vnd.jupyter.widget-view+json": {
       "model_id": "739d036fb4734af9a7edc75d75a73e11",
       "version_major": 2,
       "version_minor": 0
      },
      "text/plain": [
       "%20%20%28Ab_QEWMPJWEIL.txt:   0%|          | 0.00/1.81k [00:00<?, ?B/s]"
      ]
     },
     "metadata": {},
     "output_type": "display_data"
    },
    {
     "data": {
      "application/vnd.jupyter.widget-view+json": {
       "model_id": "69ecb04b4de242ea96eb50815c2de1a0",
       "version_major": 2,
       "version_minor": 0
      },
      "text/plain": [
       "%20%20A%20F_774YTO1E7N.txt:   0%|          | 0.00/532 [00:00<?, ?B/s]"
      ]
     },
     "metadata": {},
     "output_type": "display_data"
    },
    {
     "data": {
      "application/vnd.jupyter.widget-view+json": {
       "model_id": "10c3a482a0fb493eafab9e9db4811c27",
       "version_major": 2,
       "version_minor": 0
      },
      "text/plain": [
       "%20%20A%20B_0IVFI6QQ19.txt:   0%|          | 0.00/658 [00:00<?, ?B/s]"
      ]
     },
     "metadata": {},
     "output_type": "display_data"
    },
    {
     "data": {
      "application/vnd.jupyter.widget-view+json": {
       "model_id": "7b10098fa9564f2f9d8ed7e162c2eab2",
       "version_major": 2,
       "version_minor": 0
      },
      "text/plain": [
       "%20%20%28Ab_29MPMB0YAA.txt:   0%|          | 0.00/1.61k [00:00<?, ?B/s]"
      ]
     },
     "metadata": {},
     "output_type": "display_data"
    },
    {
     "data": {
      "application/vnd.jupyter.widget-view+json": {
       "model_id": "824281c7e1ea4b28a761eab54936cb41",
       "version_major": 2,
       "version_minor": 0
      },
      "text/plain": [
       "%20%20A%20H_9ZUK47P6YK.txt:   0%|          | 0.00/811 [00:00<?, ?B/s]"
      ]
     },
     "metadata": {},
     "output_type": "display_data"
    },
    {
     "data": {
      "application/vnd.jupyter.widget-view+json": {
       "model_id": "b613dfcafd924b7890d113e981bbbbfb",
       "version_major": 2,
       "version_minor": 0
      },
      "text/plain": [
       "%20%20A%20H_DYGZTBHWWP.txt:   0%|          | 0.00/860 [00:00<?, ?B/s]"
      ]
     },
     "metadata": {},
     "output_type": "display_data"
    },
    {
     "data": {
      "application/vnd.jupyter.widget-view+json": {
       "model_id": "b2b660ac68944515891ff6552047197f",
       "version_major": 2,
       "version_minor": 0
      },
      "text/plain": [
       "%20%20%28Ab_X866CBHDFZ.txt:   0%|          | 0.00/1.82k [00:00<?, ?B/s]"
      ]
     },
     "metadata": {},
     "output_type": "display_data"
    },
    {
     "data": {
      "application/vnd.jupyter.widget-view+json": {
       "model_id": "5b4fcf4bdfd74eed9e40ea468ee181be",
       "version_major": 2,
       "version_minor": 0
      },
      "text/plain": [
       "%20%20A%20R_0X2T6XN4Z2.txt:   0%|          | 0.00/577 [00:00<?, ?B/s]"
      ]
     },
     "metadata": {},
     "output_type": "display_data"
    },
    {
     "data": {
      "application/vnd.jupyter.widget-view+json": {
       "model_id": "11023e3278734e86b74d7d514556eef6",
       "version_major": 2,
       "version_minor": 0
      },
      "text/plain": [
       "%20%20A%20R_C1WYUW09YO.txt:   0%|          | 0.00/498 [00:00<?, ?B/s]"
      ]
     },
     "metadata": {},
     "output_type": "display_data"
    },
    {
     "data": {
      "application/vnd.jupyter.widget-view+json": {
       "model_id": "3eaaaab3077748a196f8fbd1a771a5bb",
       "version_major": 2,
       "version_minor": 0
      },
      "text/plain": [
       "%20%20A%20R_RLFS8MESZ6.txt:   0%|          | 0.00/1.17k [00:00<?, ?B/s]"
      ]
     },
     "metadata": {},
     "output_type": "display_data"
    },
    {
     "data": {
      "application/vnd.jupyter.widget-view+json": {
       "model_id": "a44f013e43524370a995ad37cdf2b6c8",
       "version_major": 2,
       "version_minor": 0
      },
      "text/plain": [
       "%20%20A%20b_9IKLJ1TMUW.txt:   0%|          | 0.00/155 [00:00<?, ?B/s]"
      ]
     },
     "metadata": {},
     "output_type": "display_data"
    },
    {
     "data": {
      "application/vnd.jupyter.widget-view+json": {
       "model_id": "59426f6ac6844d90913673cb3a9846e6",
       "version_major": 2,
       "version_minor": 0
      },
      "text/plain": [
       "%20%20A%20b_92GUSJ23BH.txt:   0%|          | 0.00/530 [00:00<?, ?B/s]"
      ]
     },
     "metadata": {},
     "output_type": "display_data"
    },
    {
     "data": {
      "application/vnd.jupyter.widget-view+json": {
       "model_id": "40e09979c68a4c15bf57120d49639ea7",
       "version_major": 2,
       "version_minor": 0
      },
      "text/plain": [
       "%20%20A%20S_KE2YH2BBJP.txt:   0%|          | 0.00/1.37k [00:00<?, ?B/s]"
      ]
     },
     "metadata": {},
     "output_type": "display_data"
    },
    {
     "data": {
      "application/vnd.jupyter.widget-view+json": {
       "model_id": "472e6b2a727742c287b909f26f2b1dfa",
       "version_major": 2,
       "version_minor": 0
      },
      "text/plain": [
       "%20%20A%20b_LSWPX2GVPD.txt:   0%|          | 0.00/627 [00:00<?, ?B/s]"
      ]
     },
     "metadata": {},
     "output_type": "display_data"
    },
    {
     "data": {
      "application/vnd.jupyter.widget-view+json": {
       "model_id": "704042d3b8bc44e790a36b49bb89bf8a",
       "version_major": 2,
       "version_minor": 0
      },
      "text/plain": [
       "%20%20A%20S_TJA5DFYETZ.txt:   0%|          | 0.00/1.61k [00:00<?, ?B/s]"
      ]
     },
     "metadata": {},
     "output_type": "display_data"
    },
    {
     "data": {
      "application/vnd.jupyter.widget-view+json": {
       "model_id": "4844262f3cbf444091bc6b3c37fd62ba",
       "version_major": 2,
       "version_minor": 0
      },
      "text/plain": [
       "%20%20597_BR1OJGT6I0.txt:   0%|          | 0.00/884 [00:00<?, ?B/s]"
      ]
     },
     "metadata": {},
     "output_type": "display_data"
    },
    {
     "data": {
      "application/vnd.jupyter.widget-view+json": {
       "model_id": "4a12a8ba535f4a02bea6e0c7cc4eeeb4",
       "version_major": 2,
       "version_minor": 0
      },
      "text/plain": [
       "%20%20A%20b_2PSXOKMYGV.txt:   0%|          | 0.00/1.26k [00:00<?, ?B/s]"
      ]
     },
     "metadata": {},
     "output_type": "display_data"
    },
    {
     "data": {
      "application/vnd.jupyter.widget-view+json": {
       "model_id": "bf0f888f9f18453da4b4ea15f5486850",
       "version_major": 2,
       "version_minor": 0
      },
      "text/plain": [
       "%20%20A%20T_9AP9CP2NJD.txt:   0%|          | 0.00/689 [00:00<?, ?B/s]"
      ]
     },
     "metadata": {},
     "output_type": "display_data"
    },
    {
     "data": {
      "application/vnd.jupyter.widget-view+json": {
       "model_id": "d143a72d93d640858f951f5391890300",
       "version_major": 2,
       "version_minor": 0
      },
      "text/plain": [
       "%20%20A%20b_P40ODH5K3R.txt:   0%|          | 0.00/703 [00:00<?, ?B/s]"
      ]
     },
     "metadata": {},
     "output_type": "display_data"
    },
    {
     "data": {
      "application/vnd.jupyter.widget-view+json": {
       "model_id": "f1539cc568c04fff809832ff232bbfb9",
       "version_major": 2,
       "version_minor": 0
      },
      "text/plain": [
       "%20%20A%20b_BVEPVSW3U2.txt:   0%|          | 0.00/370 [00:00<?, ?B/s]"
      ]
     },
     "metadata": {},
     "output_type": "display_data"
    },
    {
     "data": {
      "application/vnd.jupyter.widget-view+json": {
       "model_id": "ab9aa207c930429690d3023195725ff1",
       "version_major": 2,
       "version_minor": 0
      },
      "text/plain": [
       "%20%20A%20b_TTZ9VFUFIC.txt:   0%|          | 0.00/196 [00:00<?, ?B/s]"
      ]
     },
     "metadata": {},
     "output_type": "display_data"
    },
    {
     "data": {
      "application/vnd.jupyter.widget-view+json": {
       "model_id": "14fa0d8ebce941c4b1f993e61eb0aedf",
       "version_major": 2,
       "version_minor": 0
      },
      "text/plain": [
       "%20%20A%20S_1Z10U3NRJ7.txt:   0%|          | 0.00/689 [00:00<?, ?B/s]"
      ]
     },
     "metadata": {},
     "output_type": "display_data"
    },
    {
     "data": {
      "application/vnd.jupyter.widget-view+json": {
       "model_id": "b38f25d887284655b45e915519911403",
       "version_major": 2,
       "version_minor": 0
      },
      "text/plain": [
       "%20%20A%20b_Z3RQV472JP.txt:   0%|          | 0.00/156 [00:00<?, ?B/s]"
      ]
     },
     "metadata": {},
     "output_type": "display_data"
    },
    {
     "data": {
      "application/vnd.jupyter.widget-view+json": {
       "model_id": "b5b4f9161c01470aac7b2fa337731de1",
       "version_major": 2,
       "version_minor": 0
      },
      "text/plain": [
       "%20%20A%20c_1OF5BD6YXB.txt:   0%|          | 0.00/872 [00:00<?, ?B/s]"
      ]
     },
     "metadata": {},
     "output_type": "display_data"
    },
    {
     "data": {
      "application/vnd.jupyter.widget-view+json": {
       "model_id": "c83081f9f09b4617bd71e9315291e053",
       "version_major": 2,
       "version_minor": 0
      },
      "text/plain": [
       "%20%20A%20c_1AB13Y2A8Y.txt:   0%|          | 0.00/1.20k [00:00<?, ?B/s]"
      ]
     },
     "metadata": {},
     "output_type": "display_data"
    },
    {
     "data": {
      "application/vnd.jupyter.widget-view+json": {
       "model_id": "894d972d80f84ef9acccb20806b91334",
       "version_major": 2,
       "version_minor": 0
      },
      "text/plain": [
       "%20%20A%20b_WGDFF0F51B.txt:   0%|          | 0.00/1.50k [00:00<?, ?B/s]"
      ]
     },
     "metadata": {},
     "output_type": "display_data"
    },
    {
     "data": {
      "application/vnd.jupyter.widget-view+json": {
       "model_id": "833007df5329479a8bda908fd2bd49da",
       "version_major": 2,
       "version_minor": 0
      },
      "text/plain": [
       "%20%20A%20c_2VD1LE09F3.txt:   0%|          | 0.00/1.48k [00:00<?, ?B/s]"
      ]
     },
     "metadata": {},
     "output_type": "display_data"
    },
    {
     "data": {
      "application/vnd.jupyter.widget-view+json": {
       "model_id": "c494e13862894664a7a374871d8b72eb",
       "version_major": 2,
       "version_minor": 0
      },
      "text/plain": [
       "%20%20A%20c_4UI3SA5PXG.txt:   0%|          | 0.00/734 [00:00<?, ?B/s]"
      ]
     },
     "metadata": {},
     "output_type": "display_data"
    },
    {
     "data": {
      "application/vnd.jupyter.widget-view+json": {
       "model_id": "065161ebf0e8436895d14145ef74da50",
       "version_major": 2,
       "version_minor": 0
      },
      "text/plain": [
       "%20%20A%20c_6OTBG2XMZ0.txt:   0%|          | 0.00/352 [00:00<?, ?B/s]"
      ]
     },
     "metadata": {},
     "output_type": "display_data"
    },
    {
     "data": {
      "application/vnd.jupyter.widget-view+json": {
       "model_id": "667d922baed64787a82ccaf79cc3ece2",
       "version_major": 2,
       "version_minor": 0
      },
      "text/plain": [
       "%20%20A%20c_6BUKMM8BOM.txt:   0%|          | 0.00/482 [00:00<?, ?B/s]"
      ]
     },
     "metadata": {},
     "output_type": "display_data"
    },
    {
     "data": {
      "application/vnd.jupyter.widget-view+json": {
       "model_id": "4c324ed6a4d94544a40a244b6f598943",
       "version_major": 2,
       "version_minor": 0
      },
      "text/plain": [
       "%20%20A%20c_33X5212T51.txt:   0%|          | 0.00/657 [00:00<?, ?B/s]"
      ]
     },
     "metadata": {},
     "output_type": "display_data"
    },
    {
     "data": {
      "application/vnd.jupyter.widget-view+json": {
       "model_id": "d0fdcc6bcf6648dea1cc1bb699e56320",
       "version_major": 2,
       "version_minor": 0
      },
      "text/plain": [
       "%20%20A%20c_7ROVJEXNZ8.txt:   0%|          | 0.00/1.17k [00:00<?, ?B/s]"
      ]
     },
     "metadata": {},
     "output_type": "display_data"
    },
    {
     "data": {
      "application/vnd.jupyter.widget-view+json": {
       "model_id": "5967522ab4824cffa3d40a332b5cd980",
       "version_major": 2,
       "version_minor": 0
      },
      "text/plain": [
       "%20%20A%20c_7TPI5GCREJ.txt:   0%|          | 0.00/851 [00:00<?, ?B/s]"
      ]
     },
     "metadata": {},
     "output_type": "display_data"
    },
    {
     "data": {
      "application/vnd.jupyter.widget-view+json": {
       "model_id": "0e9d007fcffa494eb18093e3d4e0bd21",
       "version_major": 2,
       "version_minor": 0
      },
      "text/plain": [
       "%20%20A%20c_7S9WQ2MYOW.txt:   0%|          | 0.00/549 [00:00<?, ?B/s]"
      ]
     },
     "metadata": {},
     "output_type": "display_data"
    },
    {
     "data": {
      "application/vnd.jupyter.widget-view+json": {
       "model_id": "6f9b0c7e4a4d4887971d88b672effeee",
       "version_major": 2,
       "version_minor": 0
      },
      "text/plain": [
       "%20%20A%20c_9GNE4I6B4U.txt:   0%|          | 0.00/606 [00:00<?, ?B/s]"
      ]
     },
     "metadata": {},
     "output_type": "display_data"
    },
    {
     "data": {
      "application/vnd.jupyter.widget-view+json": {
       "model_id": "46c24b0dfacc4f0e98ca591622a8332c",
       "version_major": 2,
       "version_minor": 0
      },
      "text/plain": [
       "%20%20A%20c_8T1I1TQD8H.txt:   0%|          | 0.00/1.05k [00:00<?, ?B/s]"
      ]
     },
     "metadata": {},
     "output_type": "display_data"
    },
    {
     "data": {
      "application/vnd.jupyter.widget-view+json": {
       "model_id": "765b7928e81c4affa7523a608fef635e",
       "version_major": 2,
       "version_minor": 0
      },
      "text/plain": [
       "%20%20A%20c_9DWSSAOKZ8.txt:   0%|          | 0.00/371 [00:00<?, ?B/s]"
      ]
     },
     "metadata": {},
     "output_type": "display_data"
    },
    {
     "data": {
      "application/vnd.jupyter.widget-view+json": {
       "model_id": "81ee20cbe61544feb46909190bff6b11",
       "version_major": 2,
       "version_minor": 0
      },
      "text/plain": [
       "%20%20A%20c_BCDG97F4SS.txt:   0%|          | 0.00/870 [00:00<?, ?B/s]"
      ]
     },
     "metadata": {},
     "output_type": "display_data"
    },
    {
     "data": {
      "application/vnd.jupyter.widget-view+json": {
       "model_id": "9a8ce62b354d42f1ad7bc71764263fea",
       "version_major": 2,
       "version_minor": 0
      },
      "text/plain": [
       "%20%20A%20c_C1JAEB1WKR.txt:   0%|          | 0.00/673 [00:00<?, ?B/s]"
      ]
     },
     "metadata": {},
     "output_type": "display_data"
    },
    {
     "data": {
      "application/vnd.jupyter.widget-view+json": {
       "model_id": "7f72d3838ab34b7fa0700d99e422e2ac",
       "version_major": 2,
       "version_minor": 0
      },
      "text/plain": [
       "%20%20A%20c_BTQ9RXYNG9.txt:   0%|          | 0.00/861 [00:00<?, ?B/s]"
      ]
     },
     "metadata": {},
     "output_type": "display_data"
    },
    {
     "data": {
      "application/vnd.jupyter.widget-view+json": {
       "model_id": "cb8257ac74bc4474b7c910ca7d3b3afb",
       "version_major": 2,
       "version_minor": 0
      },
      "text/plain": [
       "%20%20A%20c_HAFH7E2YMN.txt:   0%|          | 0.00/1.23k [00:00<?, ?B/s]"
      ]
     },
     "metadata": {},
     "output_type": "display_data"
    },
    {
     "data": {
      "application/vnd.jupyter.widget-view+json": {
       "model_id": "a201757040ec4b1fbf869bf79411cdc4",
       "version_major": 2,
       "version_minor": 0
      },
      "text/plain": [
       "%20%20A%20c_DHEW1F0AUL.txt:   0%|          | 0.00/922 [00:00<?, ?B/s]"
      ]
     },
     "metadata": {},
     "output_type": "display_data"
    },
    {
     "data": {
      "application/vnd.jupyter.widget-view+json": {
       "model_id": "2c84a91b2d3b4f68b0c0df90c83ee8f6",
       "version_major": 2,
       "version_minor": 0
      },
      "text/plain": [
       "%20%20A%20c_CM0SY7Z4P1.txt:   0%|          | 0.00/637 [00:00<?, ?B/s]"
      ]
     },
     "metadata": {},
     "output_type": "display_data"
    },
    {
     "data": {
      "application/vnd.jupyter.widget-view+json": {
       "model_id": "d0f20c7f9deb48a2a091969be19098fb",
       "version_major": 2,
       "version_minor": 0
      },
      "text/plain": [
       "%20%20A%20c_HJCKBT4I25.txt:   0%|          | 0.00/907 [00:00<?, ?B/s]"
      ]
     },
     "metadata": {},
     "output_type": "display_data"
    },
    {
     "data": {
      "application/vnd.jupyter.widget-view+json": {
       "model_id": "2cd9956ed46c4fd0ba4ba0f575412a83",
       "version_major": 2,
       "version_minor": 0
      },
      "text/plain": [
       "%20%20A%20c_H4I4U0UVPX.txt:   0%|          | 0.00/947 [00:00<?, ?B/s]"
      ]
     },
     "metadata": {},
     "output_type": "display_data"
    },
    {
     "data": {
      "application/vnd.jupyter.widget-view+json": {
       "model_id": "c33af01dc2024ac0a0ff72ad23a8bf80",
       "version_major": 2,
       "version_minor": 0
      },
      "text/plain": [
       "%20%20A%20c_IXZWEGG18I.txt:   0%|          | 0.00/706 [00:00<?, ?B/s]"
      ]
     },
     "metadata": {},
     "output_type": "display_data"
    },
    {
     "data": {
      "application/vnd.jupyter.widget-view+json": {
       "model_id": "96337a42c8c24771bbbe268caef8cbca",
       "version_major": 2,
       "version_minor": 0
      },
      "text/plain": [
       "%20%20A%20c_JTZQUYF14P.txt:   0%|          | 0.00/825 [00:00<?, ?B/s]"
      ]
     },
     "metadata": {},
     "output_type": "display_data"
    },
    {
     "data": {
      "application/vnd.jupyter.widget-view+json": {
       "model_id": "839381235d6646b7bf02456d237b24ea",
       "version_major": 2,
       "version_minor": 0
      },
      "text/plain": [
       "%20%20A%20c_N4XAIJTHL1.txt:   0%|          | 0.00/1.19k [00:00<?, ?B/s]"
      ]
     },
     "metadata": {},
     "output_type": "display_data"
    },
    {
     "data": {
      "application/vnd.jupyter.widget-view+json": {
       "model_id": "82d00e75693f42fc81797e79d78e69df",
       "version_major": 2,
       "version_minor": 0
      },
      "text/plain": [
       "%20%20A%20c_PC6CWE06J0.txt:   0%|          | 0.00/1.33k [00:00<?, ?B/s]"
      ]
     },
     "metadata": {},
     "output_type": "display_data"
    },
    {
     "data": {
      "application/vnd.jupyter.widget-view+json": {
       "model_id": "a0286da1438049a080118ea51a7314d8",
       "version_major": 2,
       "version_minor": 0
      },
      "text/plain": [
       "%20%20A%20c_J2G12RU8EE.txt:   0%|          | 0.00/356 [00:00<?, ?B/s]"
      ]
     },
     "metadata": {},
     "output_type": "display_data"
    },
    {
     "data": {
      "application/vnd.jupyter.widget-view+json": {
       "model_id": "d371b7440940485786136a289858920d",
       "version_major": 2,
       "version_minor": 0
      },
      "text/plain": [
       "%20%20A%20c_QHQI2AKSF6.txt:   0%|          | 0.00/912 [00:00<?, ?B/s]"
      ]
     },
     "metadata": {},
     "output_type": "display_data"
    },
    {
     "data": {
      "application/vnd.jupyter.widget-view+json": {
       "model_id": "af3de9b04b5f4db0869ed2ba24c18a33",
       "version_major": 2,
       "version_minor": 0
      },
      "text/plain": [
       "%20%20A%20c_PORR9K8WFB.txt:   0%|          | 0.00/122 [00:00<?, ?B/s]"
      ]
     },
     "metadata": {},
     "output_type": "display_data"
    },
    {
     "data": {
      "application/vnd.jupyter.widget-view+json": {
       "model_id": "066e20ec9388419a8e089a3b137db240",
       "version_major": 2,
       "version_minor": 0
      },
      "text/plain": [
       "%20%20A%20c_4HC7B1JX9U.txt:   0%|          | 0.00/906 [00:00<?, ?B/s]"
      ]
     },
     "metadata": {},
     "output_type": "display_data"
    },
    {
     "data": {
      "application/vnd.jupyter.widget-view+json": {
       "model_id": "825585a437a345fba74d00590f2e1a24",
       "version_major": 2,
       "version_minor": 0
      },
      "text/plain": [
       "%20%20A%20c_RJFZ1U3069.txt:   0%|          | 0.00/436 [00:00<?, ?B/s]"
      ]
     },
     "metadata": {},
     "output_type": "display_data"
    },
    {
     "data": {
      "application/vnd.jupyter.widget-view+json": {
       "model_id": "3ff631e9a05c499c930ff428533384cb",
       "version_major": 2,
       "version_minor": 0
      },
      "text/plain": [
       "%20%20A%20c_RHEPD5BKIP.txt:   0%|          | 0.00/335 [00:00<?, ?B/s]"
      ]
     },
     "metadata": {},
     "output_type": "display_data"
    },
    {
     "data": {
      "application/vnd.jupyter.widget-view+json": {
       "model_id": "b461f9f0f7ac48da9aa9ded5e74fc4b5",
       "version_major": 2,
       "version_minor": 0
      },
      "text/plain": [
       "%20%20A%20c_SKF0IDZZ2V.txt:   0%|          | 0.00/1.65k [00:00<?, ?B/s]"
      ]
     },
     "metadata": {},
     "output_type": "display_data"
    },
    {
     "data": {
      "application/vnd.jupyter.widget-view+json": {
       "model_id": "aaa9a3683dc54cfea334693fb831a95e",
       "version_major": 2,
       "version_minor": 0
      },
      "text/plain": [
       "%20%20A%20c_TLPX8TS61J.txt:   0%|          | 0.00/888 [00:00<?, ?B/s]"
      ]
     },
     "metadata": {},
     "output_type": "display_data"
    },
    {
     "data": {
      "application/vnd.jupyter.widget-view+json": {
       "model_id": "d55b2a434fb24cfb8e35cccfe6d12ee5",
       "version_major": 2,
       "version_minor": 0
      },
      "text/plain": [
       "%20%20A%20c_TQ9INIFZLK.txt:   0%|          | 0.00/179 [00:00<?, ?B/s]"
      ]
     },
     "metadata": {},
     "output_type": "display_data"
    },
    {
     "data": {
      "application/vnd.jupyter.widget-view+json": {
       "model_id": "510b57640b244d229c025b95e926d93a",
       "version_major": 2,
       "version_minor": 0
      },
      "text/plain": [
       "%20%20A%20c_SXGT4FJK37.txt:   0%|          | 0.00/119 [00:00<?, ?B/s]"
      ]
     },
     "metadata": {},
     "output_type": "display_data"
    },
    {
     "data": {
      "application/vnd.jupyter.widget-view+json": {
       "model_id": "cfa58a96d21d46828b57bff90688a38b",
       "version_major": 2,
       "version_minor": 0
      },
      "text/plain": [
       "%20%20A%20c_W64CWXUH5W.txt:   0%|          | 0.00/331 [00:00<?, ?B/s]"
      ]
     },
     "metadata": {},
     "output_type": "display_data"
    },
    {
     "data": {
      "application/vnd.jupyter.widget-view+json": {
       "model_id": "1b43ac5db3724886a10de60786d9dd67",
       "version_major": 2,
       "version_minor": 0
      },
      "text/plain": [
       "%20%20A%20c_Y68KV6CAN5.txt:   0%|          | 0.00/1.32k [00:00<?, ?B/s]"
      ]
     },
     "metadata": {},
     "output_type": "display_data"
    },
    {
     "data": {
      "application/vnd.jupyter.widget-view+json": {
       "model_id": "d82a7364ad54416faac6e5d218aa7b83",
       "version_major": 2,
       "version_minor": 0
      },
      "text/plain": [
       "%20%20A%20c_HE49HDF0D4.txt:   0%|          | 0.00/388 [00:00<?, ?B/s]"
      ]
     },
     "metadata": {},
     "output_type": "display_data"
    },
    {
     "data": {
      "application/vnd.jupyter.widget-view+json": {
       "model_id": "196abcb0a35043e8a4a71ccb96ffdd34",
       "version_major": 2,
       "version_minor": 0
      },
      "text/plain": [
       "%20%20A%20c_TYOR6IDBKZ.txt:   0%|          | 0.00/1.71k [00:00<?, ?B/s]"
      ]
     },
     "metadata": {},
     "output_type": "display_data"
    },
    {
     "data": {
      "application/vnd.jupyter.widget-view+json": {
       "model_id": "5d0515e0223a48919e78dcfabddc312d",
       "version_major": 2,
       "version_minor": 0
      },
      "text/plain": [
       "%20%20A%20c_Z3L2JY9TYJ.txt:   0%|          | 0.00/1.31k [00:00<?, ?B/s]"
      ]
     },
     "metadata": {},
     "output_type": "display_data"
    },
    {
     "data": {
      "application/vnd.jupyter.widget-view+json": {
       "model_id": "77f3f8247573431b9b463e8aaed7bf0b",
       "version_major": 2,
       "version_minor": 0
      },
      "text/plain": [
       "%20%20A%20c_Z7Y2F4419E.txt:   0%|          | 0.00/653 [00:00<?, ?B/s]"
      ]
     },
     "metadata": {},
     "output_type": "display_data"
    },
    {
     "data": {
      "application/vnd.jupyter.widget-view+json": {
       "model_id": "10bcc140113b464b9325f560ae5cc447",
       "version_major": 2,
       "version_minor": 0
      },
      "text/plain": [
       "%20%20A%20d_3J0AVFL2RH.txt:   0%|          | 0.00/553 [00:00<?, ?B/s]"
      ]
     },
     "metadata": {},
     "output_type": "display_data"
    },
    {
     "data": {
      "application/vnd.jupyter.widget-view+json": {
       "model_id": "4446862fa8894731984d5453b4d6a671",
       "version_major": 2,
       "version_minor": 0
      },
      "text/plain": [
       "%20%20A%20c_ZC7LCVUQNW.txt:   0%|          | 0.00/796 [00:00<?, ?B/s]"
      ]
     },
     "metadata": {},
     "output_type": "display_data"
    },
    {
     "data": {
      "application/vnd.jupyter.widget-view+json": {
       "model_id": "3db27aef19cb4d32a353b0e4491c844a",
       "version_major": 2,
       "version_minor": 0
      },
      "text/plain": [
       "%20%20A%20d_4ZUEQG6MR5.txt:   0%|          | 0.00/1.70k [00:00<?, ?B/s]"
      ]
     },
     "metadata": {},
     "output_type": "display_data"
    },
    {
     "data": {
      "application/vnd.jupyter.widget-view+json": {
       "model_id": "5f33510938b54751bc30387bbd6eafec",
       "version_major": 2,
       "version_minor": 0
      },
      "text/plain": [
       "%20%20A%20d_0V0TQLV107.txt:   0%|          | 0.00/502 [00:00<?, ?B/s]"
      ]
     },
     "metadata": {},
     "output_type": "display_data"
    },
    {
     "data": {
      "application/vnd.jupyter.widget-view+json": {
       "model_id": "b103eac94c434502ba85ac60e5f2abd5",
       "version_major": 2,
       "version_minor": 0
      },
      "text/plain": [
       "%20%20A%20d_8LUMWHY0AT.txt:   0%|          | 0.00/759 [00:00<?, ?B/s]"
      ]
     },
     "metadata": {},
     "output_type": "display_data"
    },
    {
     "data": {
      "application/vnd.jupyter.widget-view+json": {
       "model_id": "6a925203855846ef996cde4bd635023e",
       "version_major": 2,
       "version_minor": 0
      },
      "text/plain": [
       "%20%20A%20d_ADTC92LOWD.txt:   0%|          | 0.00/875 [00:00<?, ?B/s]"
      ]
     },
     "metadata": {},
     "output_type": "display_data"
    },
    {
     "data": {
      "application/vnd.jupyter.widget-view+json": {
       "model_id": "aea74a687bda4df7802610f18968e801",
       "version_major": 2,
       "version_minor": 0
      },
      "text/plain": [
       "%20%20A%20d_QYWHGR0EWT.txt:   0%|          | 0.00/992 [00:00<?, ?B/s]"
      ]
     },
     "metadata": {},
     "output_type": "display_data"
    },
    {
     "data": {
      "application/vnd.jupyter.widget-view+json": {
       "model_id": "0146578448fd42a59fa45e24632fea67",
       "version_major": 2,
       "version_minor": 0
      },
      "text/plain": [
       "%20%20A%20d_RSUQU3EQ76.txt:   0%|          | 0.00/706 [00:00<?, ?B/s]"
      ]
     },
     "metadata": {},
     "output_type": "display_data"
    },
    {
     "data": {
      "application/vnd.jupyter.widget-view+json": {
       "model_id": "0f214017af1740e899b3f490eeaba20b",
       "version_major": 2,
       "version_minor": 0
      },
      "text/plain": [
       "%20%20A%20d_U013X66JC3.txt:   0%|          | 0.00/671 [00:00<?, ?B/s]"
      ]
     },
     "metadata": {},
     "output_type": "display_data"
    },
    {
     "data": {
      "application/vnd.jupyter.widget-view+json": {
       "model_id": "9a8f7bb5dbd74d209f4fda14e286320a",
       "version_major": 2,
       "version_minor": 0
      },
      "text/plain": [
       "%20%20A%20f_193HB4MYKN.txt:   0%|          | 0.00/507 [00:00<?, ?B/s]"
      ]
     },
     "metadata": {},
     "output_type": "display_data"
    },
    {
     "data": {
      "application/vnd.jupyter.widget-view+json": {
       "model_id": "da98d8767cfb46158b0c624fb2d882ba",
       "version_major": 2,
       "version_minor": 0
      },
      "text/plain": [
       "%20%20A%20f_1V1QRJVY5D.txt:   0%|          | 0.00/338 [00:00<?, ?B/s]"
      ]
     },
     "metadata": {},
     "output_type": "display_data"
    },
    {
     "data": {
      "application/vnd.jupyter.widget-view+json": {
       "model_id": "906c543166ad47c480de832b44b9c133",
       "version_major": 2,
       "version_minor": 0
      },
      "text/plain": [
       "%20%20A%20d_T7MD6KKWMH.txt:   0%|          | 0.00/570 [00:00<?, ?B/s]"
      ]
     },
     "metadata": {},
     "output_type": "display_data"
    },
    {
     "data": {
      "application/vnd.jupyter.widget-view+json": {
       "model_id": "36c73cc162674d30aad65dc4a739cc20",
       "version_major": 2,
       "version_minor": 0
      },
      "text/plain": [
       "%20%20A%20f_0JN99FR37L.txt:   0%|          | 0.00/239 [00:00<?, ?B/s]"
      ]
     },
     "metadata": {},
     "output_type": "display_data"
    },
    {
     "data": {
      "application/vnd.jupyter.widget-view+json": {
       "model_id": "7add660e766a407ca6b58a23d0a4da30",
       "version_major": 2,
       "version_minor": 0
      },
      "text/plain": [
       "%20%20A%20d_WAJP1HR2HS.txt:   0%|          | 0.00/833 [00:00<?, ?B/s]"
      ]
     },
     "metadata": {},
     "output_type": "display_data"
    },
    {
     "data": {
      "application/vnd.jupyter.widget-view+json": {
       "model_id": "3dfabeedf0e14eb4b1d362e5994bc470",
       "version_major": 2,
       "version_minor": 0
      },
      "text/plain": [
       "%20%20A%20f_3GEQXVSISU.txt:   0%|          | 0.00/616 [00:00<?, ?B/s]"
      ]
     },
     "metadata": {},
     "output_type": "display_data"
    },
    {
     "data": {
      "application/vnd.jupyter.widget-view+json": {
       "model_id": "9f63f2cd39764236803368d87bc4552b",
       "version_major": 2,
       "version_minor": 0
      },
      "text/plain": [
       "%20%20A%20f_92SCOF3H2S.txt:   0%|          | 0.00/116 [00:00<?, ?B/s]"
      ]
     },
     "metadata": {},
     "output_type": "display_data"
    },
    {
     "data": {
      "application/vnd.jupyter.widget-view+json": {
       "model_id": "69b56d0de62a4cba9bb3bdcd326be893",
       "version_major": 2,
       "version_minor": 0
      },
      "text/plain": [
       "%20%20A%20f_BXUA1FKRUO.txt:   0%|          | 0.00/1.23k [00:00<?, ?B/s]"
      ]
     },
     "metadata": {},
     "output_type": "display_data"
    },
    {
     "data": {
      "application/vnd.jupyter.widget-view+json": {
       "model_id": "9a99a55bb1914b8686ca695a4f4da99c",
       "version_major": 2,
       "version_minor": 0
      },
      "text/plain": [
       "%20%20A%20f_CUVO2C49KT.txt:   0%|          | 0.00/983 [00:00<?, ?B/s]"
      ]
     },
     "metadata": {},
     "output_type": "display_data"
    },
    {
     "data": {
      "application/vnd.jupyter.widget-view+json": {
       "model_id": "fa6876e0588f4d518f0f71c1dd27226d",
       "version_major": 2,
       "version_minor": 0
      },
      "text/plain": [
       "%20%20A%20f_1DYL29L761.txt:   0%|          | 0.00/1.14k [00:00<?, ?B/s]"
      ]
     },
     "metadata": {},
     "output_type": "display_data"
    },
    {
     "data": {
      "application/vnd.jupyter.widget-view+json": {
       "model_id": "1dce149689c74f29beecb60f9b051f5a",
       "version_major": 2,
       "version_minor": 0
      },
      "text/plain": [
       "%20%20A%20f_ESJOTN9QHL.txt:   0%|          | 0.00/397 [00:00<?, ?B/s]"
      ]
     },
     "metadata": {},
     "output_type": "display_data"
    },
    {
     "data": {
      "application/vnd.jupyter.widget-view+json": {
       "model_id": "4d26e454710343ee8fa25d36ec60e6e2",
       "version_major": 2,
       "version_minor": 0
      },
      "text/plain": [
       "%20%20A%20f_G2E3QP2Y1N.txt:   0%|          | 0.00/645 [00:00<?, ?B/s]"
      ]
     },
     "metadata": {},
     "output_type": "display_data"
    },
    {
     "data": {
      "application/vnd.jupyter.widget-view+json": {
       "model_id": "acf38d9de52d4a448640c786aa64fa4e",
       "version_major": 2,
       "version_minor": 0
      },
      "text/plain": [
       "%20%20A%20f_I9C019T2F1.txt:   0%|          | 0.00/356 [00:00<?, ?B/s]"
      ]
     },
     "metadata": {},
     "output_type": "display_data"
    },
    {
     "data": {
      "application/vnd.jupyter.widget-view+json": {
       "model_id": "918971b2f7a2475b8a3f551928c30322",
       "version_major": 2,
       "version_minor": 0
      },
      "text/plain": [
       "%20%20A%20f_K9INT5X2NT.txt:   0%|          | 0.00/638 [00:00<?, ?B/s]"
      ]
     },
     "metadata": {},
     "output_type": "display_data"
    },
    {
     "data": {
      "application/vnd.jupyter.widget-view+json": {
       "model_id": "e74d7223a6fc4dd3ae6dbeb6b59b2db9",
       "version_major": 2,
       "version_minor": 0
      },
      "text/plain": [
       "%20%20A%20f_KUWJ92GW7V.txt:   0%|          | 0.00/388 [00:00<?, ?B/s]"
      ]
     },
     "metadata": {},
     "output_type": "display_data"
    },
    {
     "data": {
      "application/vnd.jupyter.widget-view+json": {
       "model_id": "e4b0e80d815c446fa3a8b5e79a355a05",
       "version_major": 2,
       "version_minor": 0
      },
      "text/plain": [
       "%20%20A%20f_GSE946DP85.txt:   0%|          | 0.00/520 [00:00<?, ?B/s]"
      ]
     },
     "metadata": {},
     "output_type": "display_data"
    },
    {
     "data": {
      "application/vnd.jupyter.widget-view+json": {
       "model_id": "5be78e0c15804fc8ac1e03819435a105",
       "version_major": 2,
       "version_minor": 0
      },
      "text/plain": [
       "%20%20A%20f_FXZ6JQ99YR.txt:   0%|          | 0.00/628 [00:00<?, ?B/s]"
      ]
     },
     "metadata": {},
     "output_type": "display_data"
    },
    {
     "data": {
      "application/vnd.jupyter.widget-view+json": {
       "model_id": "556d95b2353644f8878e9aaf1caf482d",
       "version_major": 2,
       "version_minor": 0
      },
      "text/plain": [
       "%20%20A%20d_ZVVKWOJDZN.txt:   0%|          | 0.00/741 [00:00<?, ?B/s]"
      ]
     },
     "metadata": {},
     "output_type": "display_data"
    },
    {
     "data": {
      "application/vnd.jupyter.widget-view+json": {
       "model_id": "c42c40c76f604bf7aa67546b03f54df4",
       "version_major": 2,
       "version_minor": 0
      },
      "text/plain": [
       "%20%20A%20f_63CNV8H2D5.txt:   0%|          | 0.00/873 [00:00<?, ?B/s]"
      ]
     },
     "metadata": {},
     "output_type": "display_data"
    },
    {
     "data": {
      "application/vnd.jupyter.widget-view+json": {
       "model_id": "af418df04f704be19165d1710995d4f1",
       "version_major": 2,
       "version_minor": 0
      },
      "text/plain": [
       "%20%20A%20f_6KTVQO8HSA.txt:   0%|          | 0.00/664 [00:00<?, ?B/s]"
      ]
     },
     "metadata": {},
     "output_type": "display_data"
    },
    {
     "data": {
      "application/vnd.jupyter.widget-view+json": {
       "model_id": "a95df6ac8e0643ed8a1b480813a2b771",
       "version_major": 2,
       "version_minor": 0
      },
      "text/plain": [
       "%20%20A%20f_YTM41ISK01.txt:   0%|          | 0.00/1.39k [00:00<?, ?B/s]"
      ]
     },
     "metadata": {},
     "output_type": "display_data"
    },
    {
     "data": {
      "application/vnd.jupyter.widget-view+json": {
       "model_id": "5aa4cd5d9b9341e494fa26c1de060a9e",
       "version_major": 2,
       "version_minor": 0
      },
      "text/plain": [
       "%20%20A%20g_41LUEGD9TR.txt:   0%|          | 0.00/923 [00:00<?, ?B/s]"
      ]
     },
     "metadata": {},
     "output_type": "display_data"
    },
    {
     "data": {
      "application/vnd.jupyter.widget-view+json": {
       "model_id": "5ec9ded410834bdc9e6ee90f1d583d75",
       "version_major": 2,
       "version_minor": 0
      },
      "text/plain": [
       "%20%20A%20d_LPK2HECPYQ.txt:   0%|          | 0.00/1.56k [00:00<?, ?B/s]"
      ]
     },
     "metadata": {},
     "output_type": "display_data"
    },
    {
     "data": {
      "application/vnd.jupyter.widget-view+json": {
       "model_id": "5f4ba098a32845ac9bc0f2e96dd2928e",
       "version_major": 2,
       "version_minor": 0
      },
      "text/plain": [
       "%20%20A%20g_4FEBYKS9NG.txt:   0%|          | 0.00/1.12k [00:00<?, ?B/s]"
      ]
     },
     "metadata": {},
     "output_type": "display_data"
    },
    {
     "data": {
      "application/vnd.jupyter.widget-view+json": {
       "model_id": "b82b330057eb40d0b56c740a2f5a3507",
       "version_major": 2,
       "version_minor": 0
      },
      "text/plain": [
       "%20%20A%20g_781T1J9XJ1.txt:   0%|          | 0.00/1.15k [00:00<?, ?B/s]"
      ]
     },
     "metadata": {},
     "output_type": "display_data"
    },
    {
     "data": {
      "application/vnd.jupyter.widget-view+json": {
       "model_id": "51605ad41b814fecbadd3c9b712e1c39",
       "version_major": 2,
       "version_minor": 0
      },
      "text/plain": [
       "%20%20A%20g_EKSM3C4OS0.txt:   0%|          | 0.00/1.01k [00:00<?, ?B/s]"
      ]
     },
     "metadata": {},
     "output_type": "display_data"
    },
    {
     "data": {
      "application/vnd.jupyter.widget-view+json": {
       "model_id": "b0cda196a2c042e9bb57b0a87ca4e227",
       "version_major": 2,
       "version_minor": 0
      },
      "text/plain": [
       "%20%20A%20g_GK2WSRKZU0.txt:   0%|          | 0.00/1.03k [00:00<?, ?B/s]"
      ]
     },
     "metadata": {},
     "output_type": "display_data"
    },
    {
     "data": {
      "application/vnd.jupyter.widget-view+json": {
       "model_id": "83c12dae36864e9f9e8dd9afb5672258",
       "version_major": 2,
       "version_minor": 0
      },
      "text/plain": [
       "%20%20A%20g_J4MGNS1EK3.txt:   0%|          | 0.00/783 [00:00<?, ?B/s]"
      ]
     },
     "metadata": {},
     "output_type": "display_data"
    },
    {
     "data": {
      "application/vnd.jupyter.widget-view+json": {
       "model_id": "778003a85d8349fb803126a0b8553095",
       "version_major": 2,
       "version_minor": 0
      },
      "text/plain": [
       "%20%20A%20g_HMWPCBN3JF.txt:   0%|          | 0.00/1.14k [00:00<?, ?B/s]"
      ]
     },
     "metadata": {},
     "output_type": "display_data"
    },
    {
     "data": {
      "application/vnd.jupyter.widget-view+json": {
       "model_id": "4f92610460444ac3b29677f03d57f044",
       "version_major": 2,
       "version_minor": 0
      },
      "text/plain": [
       "%20%20A%20g_L7WW66UCZA.txt:   0%|          | 0.00/437 [00:00<?, ?B/s]"
      ]
     },
     "metadata": {},
     "output_type": "display_data"
    },
    {
     "data": {
      "application/vnd.jupyter.widget-view+json": {
       "model_id": "f2bf744e75884e1e9df50332c95e87bd",
       "version_major": 2,
       "version_minor": 0
      },
      "text/plain": [
       "%20%20A%20g_IX1WWVH8KE.txt:   0%|          | 0.00/1.28k [00:00<?, ?B/s]"
      ]
     },
     "metadata": {},
     "output_type": "display_data"
    },
    {
     "data": {
      "application/vnd.jupyter.widget-view+json": {
       "model_id": "3abe18ed08fa418d848d907d66e9b6e7",
       "version_major": 2,
       "version_minor": 0
      },
      "text/plain": [
       "%20%20A%20g_M3IGX13R5M.txt:   0%|          | 0.00/675 [00:00<?, ?B/s]"
      ]
     },
     "metadata": {},
     "output_type": "display_data"
    },
    {
     "data": {
      "application/vnd.jupyter.widget-view+json": {
       "model_id": "aa899b4ea13246dfa73bc3ae016a23b8",
       "version_major": 2,
       "version_minor": 0
      },
      "text/plain": [
       "%20%20A%20g_MSY18LUH1P.txt:   0%|          | 0.00/308 [00:00<?, ?B/s]"
      ]
     },
     "metadata": {},
     "output_type": "display_data"
    },
    {
     "data": {
      "application/vnd.jupyter.widget-view+json": {
       "model_id": "d0c2787cbaa2425ba78b6baea9446ec0",
       "version_major": 2,
       "version_minor": 0
      },
      "text/plain": [
       "%20%20A%20g_MMKM98VHC2.txt:   0%|          | 0.00/410 [00:00<?, ?B/s]"
      ]
     },
     "metadata": {},
     "output_type": "display_data"
    },
    {
     "data": {
      "application/vnd.jupyter.widget-view+json": {
       "model_id": "574b5d2c13f14d5e95d670c4c7923224",
       "version_major": 2,
       "version_minor": 0
      },
      "text/plain": [
       "%20%20A%20g_VHWC5ZQVBX.txt:   0%|          | 0.00/318 [00:00<?, ?B/s]"
      ]
     },
     "metadata": {},
     "output_type": "display_data"
    },
    {
     "data": {
      "application/vnd.jupyter.widget-view+json": {
       "model_id": "1a76b098e6b245c7accd615ab3f6f133",
       "version_major": 2,
       "version_minor": 0
      },
      "text/plain": [
       "%20%20A%20g_QXRA2KNGVS.txt:   0%|          | 0.00/1.06k [00:00<?, ?B/s]"
      ]
     },
     "metadata": {},
     "output_type": "display_data"
    },
    {
     "data": {
      "application/vnd.jupyter.widget-view+json": {
       "model_id": "8852dc0d6bdf48cdb7aca1554e011a8a",
       "version_major": 2,
       "version_minor": 0
      },
      "text/plain": [
       "%20%20A%20g_VWZ1UFS9EY.txt:   0%|          | 0.00/186 [00:00<?, ?B/s]"
      ]
     },
     "metadata": {},
     "output_type": "display_data"
    },
    {
     "data": {
      "application/vnd.jupyter.widget-view+json": {
       "model_id": "4ebbce20161f4f63af2f5e063736bebf",
       "version_major": 2,
       "version_minor": 0
      },
      "text/plain": [
       "%20%20A%20g_N02YZDP1S1.txt:   0%|          | 0.00/514 [00:00<?, ?B/s]"
      ]
     },
     "metadata": {},
     "output_type": "display_data"
    },
    {
     "data": {
      "application/vnd.jupyter.widget-view+json": {
       "model_id": "27303fbd692c4b5e93b8edbc42aa664c",
       "version_major": 2,
       "version_minor": 0
      },
      "text/plain": [
       "%20%20A%20g_VIDLP85QLM.txt:   0%|          | 0.00/949 [00:00<?, ?B/s]"
      ]
     },
     "metadata": {},
     "output_type": "display_data"
    },
    {
     "data": {
      "application/vnd.jupyter.widget-view+json": {
       "model_id": "a38af13c6325478eba07a58516361c86",
       "version_major": 2,
       "version_minor": 0
      },
      "text/plain": [
       "%20%20A%20g_VYW2W2U0PI.txt:   0%|          | 0.00/1.34k [00:00<?, ?B/s]"
      ]
     },
     "metadata": {},
     "output_type": "display_data"
    },
    {
     "data": {
      "application/vnd.jupyter.widget-view+json": {
       "model_id": "2424d71833674ef1970a5c3469531286",
       "version_major": 2,
       "version_minor": 0
      },
      "text/plain": [
       "%20%20A%20g_WIYGGH7A3F.txt:   0%|          | 0.00/903 [00:00<?, ?B/s]"
      ]
     },
     "metadata": {},
     "output_type": "display_data"
    },
    {
     "data": {
      "application/vnd.jupyter.widget-view+json": {
       "model_id": "3b7d147265894c52a422c39a195a1f04",
       "version_major": 2,
       "version_minor": 0
      },
      "text/plain": [
       "%20%20A%20g_XJPL0G1XUX.txt:   0%|          | 0.00/1.29k [00:00<?, ?B/s]"
      ]
     },
     "metadata": {},
     "output_type": "display_data"
    },
    {
     "data": {
      "application/vnd.jupyter.widget-view+json": {
       "model_id": "735adb143e4549e1bf4389e4a22c241e",
       "version_major": 2,
       "version_minor": 0
      },
      "text/plain": [
       "%20%20A%20g_ZWC6CSUSZL.txt:   0%|          | 0.00/1.06k [00:00<?, ?B/s]"
      ]
     },
     "metadata": {},
     "output_type": "display_data"
    },
    {
     "data": {
      "application/vnd.jupyter.widget-view+json": {
       "model_id": "fbe2176919514040ba7215e171447d68",
       "version_major": 2,
       "version_minor": 0
      },
      "text/plain": [
       "%20%20A%20g_XSL2PGNI5C.txt:   0%|          | 0.00/267 [00:00<?, ?B/s]"
      ]
     },
     "metadata": {},
     "output_type": "display_data"
    },
    {
     "data": {
      "application/vnd.jupyter.widget-view+json": {
       "model_id": "bf7dc436eafb45b0bdf706887574cf0f",
       "version_major": 2,
       "version_minor": 0
      },
      "text/plain": [
       "%20%20A%20g_XD6RM6B1HD.txt:   0%|          | 0.00/963 [00:00<?, ?B/s]"
      ]
     },
     "metadata": {},
     "output_type": "display_data"
    },
    {
     "data": {
      "application/vnd.jupyter.widget-view+json": {
       "model_id": "edbd9015d69342e3bf8542e3e2a161e7",
       "version_major": 2,
       "version_minor": 0
      },
      "text/plain": [
       "%20%20A%20h_1AH0OTNW9E.txt:   0%|          | 0.00/606 [00:00<?, ?B/s]"
      ]
     },
     "metadata": {},
     "output_type": "display_data"
    },
    {
     "data": {
      "application/vnd.jupyter.widget-view+json": {
       "model_id": "52e22173cdfb4837854ff4d521cdabbf",
       "version_major": 2,
       "version_minor": 0
      },
      "text/plain": [
       "%20%20A%20f_YB99RGSMZ5.txt:   0%|          | 0.00/1.10k [00:00<?, ?B/s]"
      ]
     },
     "metadata": {},
     "output_type": "display_data"
    },
    {
     "data": {
      "application/vnd.jupyter.widget-view+json": {
       "model_id": "df7a9fd773c24f27b950f9ad81cf4b5d",
       "version_major": 2,
       "version_minor": 0
      },
      "text/plain": [
       "%20%20A%20h_G58IJG2YEM.txt:   0%|          | 0.00/677 [00:00<?, ?B/s]"
      ]
     },
     "metadata": {},
     "output_type": "display_data"
    },
    {
     "data": {
      "application/vnd.jupyter.widget-view+json": {
       "model_id": "bb2b3462e8044dbfa4ec715902413b70",
       "version_major": 2,
       "version_minor": 0
      },
      "text/plain": [
       "%20%20A%20h_ZS8QLQXMI7.txt:   0%|          | 0.00/471 [00:00<?, ?B/s]"
      ]
     },
     "metadata": {},
     "output_type": "display_data"
    },
    {
     "data": {
      "application/vnd.jupyter.widget-view+json": {
       "model_id": "addd003c2e3c4e50b695deffd7ce591b",
       "version_major": 2,
       "version_minor": 0
      },
      "text/plain": [
       "%20%20A%20k_73TRXHVYEQ.txt:   0%|          | 0.00/909 [00:00<?, ?B/s]"
      ]
     },
     "metadata": {},
     "output_type": "display_data"
    },
    {
     "data": {
      "application/vnd.jupyter.widget-view+json": {
       "model_id": "8930118425d742eeb0f06a5acd0babf4",
       "version_major": 2,
       "version_minor": 0
      },
      "text/plain": [
       "%20%20A%20g_XI1KKUJ4BQ.txt:   0%|          | 0.00/567 [00:00<?, ?B/s]"
      ]
     },
     "metadata": {},
     "output_type": "display_data"
    },
    {
     "data": {
      "application/vnd.jupyter.widget-view+json": {
       "model_id": "c43251be909c4c42b585297aee445826",
       "version_major": 2,
       "version_minor": 0
      },
      "text/plain": [
       "%20%20A%20k_J5WOMP88CK.txt:   0%|          | 0.00/1.22k [00:00<?, ?B/s]"
      ]
     },
     "metadata": {},
     "output_type": "display_data"
    },
    {
     "data": {
      "application/vnd.jupyter.widget-view+json": {
       "model_id": "96c1125159364713b6bc7f5d57d6759c",
       "version_major": 2,
       "version_minor": 0
      },
      "text/plain": [
       "%20%20A%20l_4LHPJUFZOG.txt:   0%|          | 0.00/1.81k [00:00<?, ?B/s]"
      ]
     },
     "metadata": {},
     "output_type": "display_data"
    },
    {
     "data": {
      "application/vnd.jupyter.widget-view+json": {
       "model_id": "628fb930260e493488d3e8d795a3e464",
       "version_major": 2,
       "version_minor": 0
      },
      "text/plain": [
       "%20%20A%20l_7ACJY6XU4Q.txt:   0%|          | 0.00/1.29k [00:00<?, ?B/s]"
      ]
     },
     "metadata": {},
     "output_type": "display_data"
    },
    {
     "data": {
      "application/vnd.jupyter.widget-view+json": {
       "model_id": "e2d0e60c4416453c9acde7b07b66b168",
       "version_major": 2,
       "version_minor": 0
      },
      "text/plain": [
       "%20%20A%20l_FB8BPH8C3V.txt:   0%|          | 0.00/1.51k [00:00<?, ?B/s]"
      ]
     },
     "metadata": {},
     "output_type": "display_data"
    },
    {
     "data": {
      "application/vnd.jupyter.widget-view+json": {
       "model_id": "9c719da1faad4a3faa33e45ca8210f58",
       "version_major": 2,
       "version_minor": 0
      },
      "text/plain": [
       "%20%20A%20l_8HNBNEAZTE.txt:   0%|          | 0.00/153 [00:00<?, ?B/s]"
      ]
     },
     "metadata": {},
     "output_type": "display_data"
    },
    {
     "data": {
      "application/vnd.jupyter.widget-view+json": {
       "model_id": "b2adc9e986624ef2b75fd135abd63fdc",
       "version_major": 2,
       "version_minor": 0
      },
      "text/plain": [
       "%20%20A%20l_8X099XGX5Y.txt:   0%|          | 0.00/941 [00:00<?, ?B/s]"
      ]
     },
     "metadata": {},
     "output_type": "display_data"
    },
    {
     "data": {
      "application/vnd.jupyter.widget-view+json": {
       "model_id": "956e29c046334609b0290c2e25bce5c7",
       "version_major": 2,
       "version_minor": 0
      },
      "text/plain": [
       "%20%20A%20l_FK3P58NEYG.txt:   0%|          | 0.00/1.25k [00:00<?, ?B/s]"
      ]
     },
     "metadata": {},
     "output_type": "display_data"
    },
    {
     "data": {
      "application/vnd.jupyter.widget-view+json": {
       "model_id": "e2ad4da102f740c2a8db64d94a88b00c",
       "version_major": 2,
       "version_minor": 0
      },
      "text/plain": [
       "%20%20A%20l_IZJ6X4WRP1.txt:   0%|          | 0.00/1.55k [00:00<?, ?B/s]"
      ]
     },
     "metadata": {},
     "output_type": "display_data"
    },
    {
     "data": {
      "application/vnd.jupyter.widget-view+json": {
       "model_id": "9d66f337ffe742db8e80281778fc808f",
       "version_major": 2,
       "version_minor": 0
      },
      "text/plain": [
       "%20%20A%20h_9N6D9GF4WQ.txt:   0%|          | 0.00/357 [00:00<?, ?B/s]"
      ]
     },
     "metadata": {},
     "output_type": "display_data"
    },
    {
     "data": {
      "application/vnd.jupyter.widget-view+json": {
       "model_id": "96f03e8250ad4ee5a8d428b42d3f38c1",
       "version_major": 2,
       "version_minor": 0
      },
      "text/plain": [
       "%20%20A%20l_LVT4SPVGHN.txt:   0%|          | 0.00/613 [00:00<?, ?B/s]"
      ]
     },
     "metadata": {},
     "output_type": "display_data"
    },
    {
     "data": {
      "application/vnd.jupyter.widget-view+json": {
       "model_id": "583121891a25449fac334d956102e102",
       "version_major": 2,
       "version_minor": 0
      },
      "text/plain": [
       "%20%20A%20m_0R5PLTRQJ6.txt:   0%|          | 0.00/945 [00:00<?, ?B/s]"
      ]
     },
     "metadata": {},
     "output_type": "display_data"
    },
    {
     "data": {
      "application/vnd.jupyter.widget-view+json": {
       "model_id": "1c65475f86124062b41396f85c76c279",
       "version_major": 2,
       "version_minor": 0
      },
      "text/plain": [
       "%20%20A%20l_QWRBP5R2P0.txt:   0%|          | 0.00/436 [00:00<?, ?B/s]"
      ]
     },
     "metadata": {},
     "output_type": "display_data"
    },
    {
     "data": {
      "application/vnd.jupyter.widget-view+json": {
       "model_id": "506eaa54878a4b5aa639937f5733d702",
       "version_major": 2,
       "version_minor": 0
      },
      "text/plain": [
       "%20%20A%20l_U07QB5S57I.txt:   0%|          | 0.00/721 [00:00<?, ?B/s]"
      ]
     },
     "metadata": {},
     "output_type": "display_data"
    },
    {
     "data": {
      "application/vnd.jupyter.widget-view+json": {
       "model_id": "fb2c3a31a90d44c79df1608ee8181fed",
       "version_major": 2,
       "version_minor": 0
      },
      "text/plain": [
       "%20%20A%20m_19VQHA3011.txt:   0%|          | 0.00/239 [00:00<?, ?B/s]"
      ]
     },
     "metadata": {},
     "output_type": "display_data"
    },
    {
     "data": {
      "application/vnd.jupyter.widget-view+json": {
       "model_id": "d188607249d74b6c9d9a7421795f691c",
       "version_major": 2,
       "version_minor": 0
      },
      "text/plain": [
       "%20%20A%20l_QI2NJ4G6UD.txt:   0%|          | 0.00/868 [00:00<?, ?B/s]"
      ]
     },
     "metadata": {},
     "output_type": "display_data"
    },
    {
     "data": {
      "application/vnd.jupyter.widget-view+json": {
       "model_id": "c5cdb6d0366d4289bded25b627a2c928",
       "version_major": 2,
       "version_minor": 0
      },
      "text/plain": [
       "%20%20A%20m_2NFWHTBX90.txt:   0%|          | 0.00/783 [00:00<?, ?B/s]"
      ]
     },
     "metadata": {},
     "output_type": "display_data"
    },
    {
     "data": {
      "application/vnd.jupyter.widget-view+json": {
       "model_id": "5330fad4fe144193a8a5ee9dacfe3fa0",
       "version_major": 2,
       "version_minor": 0
      },
      "text/plain": [
       "%20%20A%20l_YFHEALM6HJ.txt:   0%|          | 0.00/610 [00:00<?, ?B/s]"
      ]
     },
     "metadata": {},
     "output_type": "display_data"
    },
    {
     "data": {
      "application/vnd.jupyter.widget-view+json": {
       "model_id": "e54d5b19a204426293bfddee33f5285c",
       "version_major": 2,
       "version_minor": 0
      },
      "text/plain": [
       "%20%20A%20m_4PRYP3MVPJ.txt:   0%|          | 0.00/520 [00:00<?, ?B/s]"
      ]
     },
     "metadata": {},
     "output_type": "display_data"
    },
    {
     "data": {
      "application/vnd.jupyter.widget-view+json": {
       "model_id": "68558a31674348978c377938c7c714ea",
       "version_major": 2,
       "version_minor": 0
      },
      "text/plain": [
       "%20%20A%20m_CQL6OWL31S.txt:   0%|          | 0.00/667 [00:00<?, ?B/s]"
      ]
     },
     "metadata": {},
     "output_type": "display_data"
    },
    {
     "data": {
      "application/vnd.jupyter.widget-view+json": {
       "model_id": "7c28ee67978b47f4bb247d96512dcde0",
       "version_major": 2,
       "version_minor": 0
      },
      "text/plain": [
       "%20%20A%20m_GI7C8374GS.txt:   0%|          | 0.00/498 [00:00<?, ?B/s]"
      ]
     },
     "metadata": {},
     "output_type": "display_data"
    },
    {
     "data": {
      "application/vnd.jupyter.widget-view+json": {
       "model_id": "53ddb2e7408641cba3cc7d27a3318036",
       "version_major": 2,
       "version_minor": 0
      },
      "text/plain": [
       "%20%20A%20m_IK345VEXA0.txt:   0%|          | 0.00/989 [00:00<?, ?B/s]"
      ]
     },
     "metadata": {},
     "output_type": "display_data"
    },
    {
     "data": {
      "application/vnd.jupyter.widget-view+json": {
       "model_id": "cdfcf4376b31499f847baa00a9607cdb",
       "version_major": 2,
       "version_minor": 0
      },
      "text/plain": [
       "%20%20A%20m_JE2AFT3EBM.txt:   0%|          | 0.00/616 [00:00<?, ?B/s]"
      ]
     },
     "metadata": {},
     "output_type": "display_data"
    },
    {
     "data": {
      "application/vnd.jupyter.widget-view+json": {
       "model_id": "d56c9a9ed0fc4cc8b439548f11c7aa3e",
       "version_major": 2,
       "version_minor": 0
      },
      "text/plain": [
       "%20%20A%20m_AGBJ60OE2R.txt:   0%|          | 0.00/1.48k [00:00<?, ?B/s]"
      ]
     },
     "metadata": {},
     "output_type": "display_data"
    },
    {
     "data": {
      "application/vnd.jupyter.widget-view+json": {
       "model_id": "ac20089d0daa4ed68b59044fbe10cdbc",
       "version_major": 2,
       "version_minor": 0
      },
      "text/plain": [
       "%20%20A%20m_D4EDE97XBJ.txt:   0%|          | 0.00/1.25k [00:00<?, ?B/s]"
      ]
     },
     "metadata": {},
     "output_type": "display_data"
    },
    {
     "data": {
      "application/vnd.jupyter.widget-view+json": {
       "model_id": "963b237a7c9b4754b6e1d7df0b2283db",
       "version_major": 2,
       "version_minor": 0
      },
      "text/plain": [
       "%20%20A%20m_Q9F9ABAMPA.txt:   0%|          | 0.00/537 [00:00<?, ?B/s]"
      ]
     },
     "metadata": {},
     "output_type": "display_data"
    },
    {
     "data": {
      "application/vnd.jupyter.widget-view+json": {
       "model_id": "3378409b64284691a914af4d1c65ebe6",
       "version_major": 2,
       "version_minor": 0
      },
      "text/plain": [
       "%20%20A%20m_M3DX40M32R.txt:   0%|          | 0.00/691 [00:00<?, ?B/s]"
      ]
     },
     "metadata": {},
     "output_type": "display_data"
    },
    {
     "data": {
      "application/vnd.jupyter.widget-view+json": {
       "model_id": "b53e67d378b049fcaa117fb1ca105cf9",
       "version_major": 2,
       "version_minor": 0
      },
      "text/plain": [
       "%20%20A%20m_RRVEPSI0OM.txt:   0%|          | 0.00/512 [00:00<?, ?B/s]"
      ]
     },
     "metadata": {},
     "output_type": "display_data"
    },
    {
     "data": {
      "application/vnd.jupyter.widget-view+json": {
       "model_id": "159a40e60578477c8f593ab2ee231cb9",
       "version_major": 2,
       "version_minor": 0
      },
      "text/plain": [
       "%20%20A%20m_R2LZPBZWA2.txt:   0%|          | 0.00/787 [00:00<?, ?B/s]"
      ]
     },
     "metadata": {},
     "output_type": "display_data"
    },
    {
     "data": {
      "application/vnd.jupyter.widget-view+json": {
       "model_id": "eee8ae48699d4a168990a1068aedce65",
       "version_major": 2,
       "version_minor": 0
      },
      "text/plain": [
       "%20%20A%20m_Q67EATQ0PP.txt:   0%|          | 0.00/785 [00:00<?, ?B/s]"
      ]
     },
     "metadata": {},
     "output_type": "display_data"
    },
    {
     "data": {
      "application/vnd.jupyter.widget-view+json": {
       "model_id": "62d7ed66254f4d1797b8bad197343b82",
       "version_major": 2,
       "version_minor": 0
      },
      "text/plain": [
       "%20%20A%20m_RTSRBLN4DU.txt:   0%|          | 0.00/501 [00:00<?, ?B/s]"
      ]
     },
     "metadata": {},
     "output_type": "display_data"
    },
    {
     "data": {
      "application/vnd.jupyter.widget-view+json": {
       "model_id": "cc7c77cfd8fa41dbbaf771fb188ee888",
       "version_major": 2,
       "version_minor": 0
      },
      "text/plain": [
       "%20%20A%20m_GTFZ98LUHP.txt:   0%|          | 0.00/503 [00:00<?, ?B/s]"
      ]
     },
     "metadata": {},
     "output_type": "display_data"
    },
    {
     "data": {
      "application/vnd.jupyter.widget-view+json": {
       "model_id": "47c8e9f4f85a4d8d8fb2eb6cf9854d09",
       "version_major": 2,
       "version_minor": 0
      },
      "text/plain": [
       "%20%20A%20m_X27ZBFY8NP.txt:   0%|          | 0.00/1.08k [00:00<?, ?B/s]"
      ]
     },
     "metadata": {},
     "output_type": "display_data"
    },
    {
     "data": {
      "application/vnd.jupyter.widget-view+json": {
       "model_id": "96515197fd964f718f2c0c8471610808",
       "version_major": 2,
       "version_minor": 0
      },
      "text/plain": [
       "%20%20A%20m_WV1ATMIV25.txt:   0%|          | 0.00/1.11k [00:00<?, ?B/s]"
      ]
     },
     "metadata": {},
     "output_type": "display_data"
    },
    {
     "data": {
      "application/vnd.jupyter.widget-view+json": {
       "model_id": "e7fd07be974a4b1eab3d8eef25c6e0db",
       "version_major": 2,
       "version_minor": 0
      },
      "text/plain": [
       "%20%20A%20m_UU616OF06J.txt:   0%|          | 0.00/1.43k [00:00<?, ?B/s]"
      ]
     },
     "metadata": {},
     "output_type": "display_data"
    },
    {
     "data": {
      "application/vnd.jupyter.widget-view+json": {
       "model_id": "7e8484814ff04184a5524ca992eabb71",
       "version_major": 2,
       "version_minor": 0
      },
      "text/plain": [
       "%20%20A%20m_Z20UM6A5EI.txt:   0%|          | 0.00/328 [00:00<?, ?B/s]"
      ]
     },
     "metadata": {},
     "output_type": "display_data"
    },
    {
     "data": {
      "application/vnd.jupyter.widget-view+json": {
       "model_id": "eec56b0ac91d497897dfa63d0e481bff",
       "version_major": 2,
       "version_minor": 0
      },
      "text/plain": [
       "%20%20A%20m_YPATG7TKJO.txt:   0%|          | 0.00/1.12k [00:00<?, ?B/s]"
      ]
     },
     "metadata": {},
     "output_type": "display_data"
    },
    {
     "data": {
      "application/vnd.jupyter.widget-view+json": {
       "model_id": "c445e1ada8c2410da830a38d12503915",
       "version_major": 2,
       "version_minor": 0
      },
      "text/plain": [
       "%20%20A%20m_MMJLP88NCA.txt:   0%|          | 0.00/1.78k [00:00<?, ?B/s]"
      ]
     },
     "metadata": {},
     "output_type": "display_data"
    },
    {
     "data": {
      "application/vnd.jupyter.widget-view+json": {
       "model_id": "af37d04c3ec04d40a0a8691b35557381",
       "version_major": 2,
       "version_minor": 0
      },
      "text/plain": [
       "%20%20A%20m_CK58SP7P5V.txt:   0%|          | 0.00/819 [00:00<?, ?B/s]"
      ]
     },
     "metadata": {},
     "output_type": "display_data"
    },
    {
     "data": {
      "application/vnd.jupyter.widget-view+json": {
       "model_id": "7ef6da3443524bdcb770793d5161f394",
       "version_major": 2,
       "version_minor": 0
      },
      "text/plain": [
       "%20%20A%20n_10892WRSR7.txt:   0%|          | 0.00/840 [00:00<?, ?B/s]"
      ]
     },
     "metadata": {},
     "output_type": "display_data"
    },
    {
     "data": {
      "application/vnd.jupyter.widget-view+json": {
       "model_id": "2cc7eaa250c04dfe907cf45b1bd0a1b0",
       "version_major": 2,
       "version_minor": 0
      },
      "text/plain": [
       "%20%20A%20n_1JV23IEAFI.txt:   0%|          | 0.00/1.41k [00:00<?, ?B/s]"
      ]
     },
     "metadata": {},
     "output_type": "display_data"
    },
    {
     "data": {
      "application/vnd.jupyter.widget-view+json": {
       "model_id": "fc09e478bbce4b9e85e98e77924906be",
       "version_major": 2,
       "version_minor": 0
      },
      "text/plain": [
       "%20%20A%20n_00A5ZZ193D.txt:   0%|          | 0.00/901 [00:00<?, ?B/s]"
      ]
     },
     "metadata": {},
     "output_type": "display_data"
    },
    {
     "data": {
      "application/vnd.jupyter.widget-view+json": {
       "model_id": "d7b1bf5be07148a6926a3d5444b9adcd",
       "version_major": 2,
       "version_minor": 0
      },
      "text/plain": [
       "%20%20A%20n_1OFTNA640X.txt:   0%|          | 0.00/686 [00:00<?, ?B/s]"
      ]
     },
     "metadata": {},
     "output_type": "display_data"
    },
    {
     "data": {
      "application/vnd.jupyter.widget-view+json": {
       "model_id": "a7fa5af0db8d4b84bcca46c315ce15c0",
       "version_major": 2,
       "version_minor": 0
      },
      "text/plain": [
       "%20%20A%20n_2HI496VDN7.txt:   0%|          | 0.00/443 [00:00<?, ?B/s]"
      ]
     },
     "metadata": {},
     "output_type": "display_data"
    },
    {
     "data": {
      "application/vnd.jupyter.widget-view+json": {
       "model_id": "0ce83852391d4b2a8319c577ebdef021",
       "version_major": 2,
       "version_minor": 0
      },
      "text/plain": [
       "%20%20A%20n_6ESN8VZE8U.txt:   0%|          | 0.00/745 [00:00<?, ?B/s]"
      ]
     },
     "metadata": {},
     "output_type": "display_data"
    },
    {
     "data": {
      "application/vnd.jupyter.widget-view+json": {
       "model_id": "795b38697cd042438761151a16cd55ef",
       "version_major": 2,
       "version_minor": 0
      },
      "text/plain": [
       "%20%20A%20n_3AG50U9W58.txt:   0%|          | 0.00/475 [00:00<?, ?B/s]"
      ]
     },
     "metadata": {},
     "output_type": "display_data"
    },
    {
     "data": {
      "application/vnd.jupyter.widget-view+json": {
       "model_id": "4a3e93020bf3430895726499bd7e2fbc",
       "version_major": 2,
       "version_minor": 0
      },
      "text/plain": [
       "%20%20A%20n_71DHVHFXGR.txt:   0%|          | 0.00/641 [00:00<?, ?B/s]"
      ]
     },
     "metadata": {},
     "output_type": "display_data"
    },
    {
     "data": {
      "application/vnd.jupyter.widget-view+json": {
       "model_id": "9adb8acf36ac4d37a7e4af1759ee8226",
       "version_major": 2,
       "version_minor": 0
      },
      "text/plain": [
       "%20%20A%20n_8ALTNOWXKX.txt:   0%|          | 0.00/833 [00:00<?, ?B/s]"
      ]
     },
     "metadata": {},
     "output_type": "display_data"
    },
    {
     "data": {
      "application/vnd.jupyter.widget-view+json": {
       "model_id": "6e249744234b445890de878c8ccae93a",
       "version_major": 2,
       "version_minor": 0
      },
      "text/plain": [
       "%20%20A%20n_89UHK0FNSO.txt:   0%|          | 0.00/418 [00:00<?, ?B/s]"
      ]
     },
     "metadata": {},
     "output_type": "display_data"
    },
    {
     "data": {
      "application/vnd.jupyter.widget-view+json": {
       "model_id": "6cd0c211e95d4975ad0be5cb9e3f6df2",
       "version_major": 2,
       "version_minor": 0
      },
      "text/plain": [
       "%20%20A%20n_9M0S9AG8CU.txt:   0%|          | 0.00/528 [00:00<?, ?B/s]"
      ]
     },
     "metadata": {},
     "output_type": "display_data"
    },
    {
     "data": {
      "application/vnd.jupyter.widget-view+json": {
       "model_id": "2407bb4bedf3421281a78707b8a86be6",
       "version_major": 2,
       "version_minor": 0
      },
      "text/plain": [
       "%20%20A%20n_BCJNQWWMHI.txt:   0%|          | 0.00/1.40k [00:00<?, ?B/s]"
      ]
     },
     "metadata": {},
     "output_type": "display_data"
    },
    {
     "data": {
      "application/vnd.jupyter.widget-view+json": {
       "model_id": "a12c0cb6bd2e4c2a86295b915b77db39",
       "version_major": 2,
       "version_minor": 0
      },
      "text/plain": [
       "%20%20A%20n_9F4NIJUVHU.txt:   0%|          | 0.00/977 [00:00<?, ?B/s]"
      ]
     },
     "metadata": {},
     "output_type": "display_data"
    },
    {
     "data": {
      "application/vnd.jupyter.widget-view+json": {
       "model_id": "a678d293dc8447d7bb0f0c9b672c8f87",
       "version_major": 2,
       "version_minor": 0
      },
      "text/plain": [
       "%20%20A%20n_9QA39Z6AFC.txt:   0%|          | 0.00/1.22k [00:00<?, ?B/s]"
      ]
     },
     "metadata": {},
     "output_type": "display_data"
    },
    {
     "data": {
      "application/vnd.jupyter.widget-view+json": {
       "model_id": "22da92a7b703467f8aa166ecc40003b6",
       "version_major": 2,
       "version_minor": 0
      },
      "text/plain": [
       "%20%20A%20n_D3U0JT4JQC.txt:   0%|          | 0.00/953 [00:00<?, ?B/s]"
      ]
     },
     "metadata": {},
     "output_type": "display_data"
    },
    {
     "data": {
      "application/vnd.jupyter.widget-view+json": {
       "model_id": "f2c913ed5dd943d6ae61633cd5c2521e",
       "version_major": 2,
       "version_minor": 0
      },
      "text/plain": [
       "%20%20A%20n_COF60NFN44.txt:   0%|          | 0.00/559 [00:00<?, ?B/s]"
      ]
     },
     "metadata": {},
     "output_type": "display_data"
    },
    {
     "data": {
      "application/vnd.jupyter.widget-view+json": {
       "model_id": "39c71f14dbda4619a17168427a4d7489",
       "version_major": 2,
       "version_minor": 0
      },
      "text/plain": [
       "%20%20A%20n_EDYFJGZHXJ.txt:   0%|          | 0.00/883 [00:00<?, ?B/s]"
      ]
     },
     "metadata": {},
     "output_type": "display_data"
    },
    {
     "data": {
      "application/vnd.jupyter.widget-view+json": {
       "model_id": "c64ea65d8d464e4d938c965726a3be64",
       "version_major": 2,
       "version_minor": 0
      },
      "text/plain": [
       "%20%20A%20n_EEOINVTSW3.txt:   0%|          | 0.00/821 [00:00<?, ?B/s]"
      ]
     },
     "metadata": {},
     "output_type": "display_data"
    },
    {
     "data": {
      "application/vnd.jupyter.widget-view+json": {
       "model_id": "fc673024dc3d491584374d59dddbdd8b",
       "version_major": 2,
       "version_minor": 0
      },
      "text/plain": [
       "%20%20A%20n_EQXWX0NO5G.txt:   0%|          | 0.00/835 [00:00<?, ?B/s]"
      ]
     },
     "metadata": {},
     "output_type": "display_data"
    },
    {
     "data": {
      "application/vnd.jupyter.widget-view+json": {
       "model_id": "018162f344b24544bdc831e6e74c0d0c",
       "version_major": 2,
       "version_minor": 0
      },
      "text/plain": [
       "%20%20A%20n_9XUO23AH1Q.txt:   0%|          | 0.00/360 [00:00<?, ?B/s]"
      ]
     },
     "metadata": {},
     "output_type": "display_data"
    },
    {
     "data": {
      "application/vnd.jupyter.widget-view+json": {
       "model_id": "b4700266238546fc93ffa910d540f6bf",
       "version_major": 2,
       "version_minor": 0
      },
      "text/plain": [
       "%20%20A%20n_CYA28NNFID.txt:   0%|          | 0.00/606 [00:00<?, ?B/s]"
      ]
     },
     "metadata": {},
     "output_type": "display_data"
    },
    {
     "data": {
      "application/vnd.jupyter.widget-view+json": {
       "model_id": "0567349d5b2c418daa78ab884f5e2d18",
       "version_major": 2,
       "version_minor": 0
      },
      "text/plain": [
       "%20%20A%20n_FRQRVHWFTU.txt:   0%|          | 0.00/699 [00:00<?, ?B/s]"
      ]
     },
     "metadata": {},
     "output_type": "display_data"
    },
    {
     "data": {
      "application/vnd.jupyter.widget-view+json": {
       "model_id": "05d311935ee54af68b75b65cc17e2cfd",
       "version_major": 2,
       "version_minor": 0
      },
      "text/plain": [
       "%20%20A%20n_FTXJ8C4EMG.txt:   0%|          | 0.00/1.10k [00:00<?, ?B/s]"
      ]
     },
     "metadata": {},
     "output_type": "display_data"
    },
    {
     "data": {
      "application/vnd.jupyter.widget-view+json": {
       "model_id": "386c438dbc584b25a25f985403d3b0c7",
       "version_major": 2,
       "version_minor": 0
      },
      "text/plain": [
       "%20%20A%20n_GK95CKT9Y8.txt:   0%|          | 0.00/429 [00:00<?, ?B/s]"
      ]
     },
     "metadata": {},
     "output_type": "display_data"
    },
    {
     "data": {
      "application/vnd.jupyter.widget-view+json": {
       "model_id": "6a4925e28c77455f97970e15f2f3bf4d",
       "version_major": 2,
       "version_minor": 0
      },
      "text/plain": [
       "%20%20A%20n_GO23TCFUUZ.txt:   0%|          | 0.00/313 [00:00<?, ?B/s]"
      ]
     },
     "metadata": {},
     "output_type": "display_data"
    },
    {
     "data": {
      "application/vnd.jupyter.widget-view+json": {
       "model_id": "ebeb932287c9430789bd06b14d0d9678",
       "version_major": 2,
       "version_minor": 0
      },
      "text/plain": [
       "%20%20A%20n_IJGS703572.txt:   0%|          | 0.00/1.82k [00:00<?, ?B/s]"
      ]
     },
     "metadata": {},
     "output_type": "display_data"
    },
    {
     "data": {
      "application/vnd.jupyter.widget-view+json": {
       "model_id": "ffc0f5cddcba479193bd07eebe07a85b",
       "version_major": 2,
       "version_minor": 0
      },
      "text/plain": [
       "%20%20A%20n_JB2NEJKLIJ.txt:   0%|          | 0.00/181 [00:00<?, ?B/s]"
      ]
     },
     "metadata": {},
     "output_type": "display_data"
    },
    {
     "data": {
      "application/vnd.jupyter.widget-view+json": {
       "model_id": "b0c1b048eb714f71a11ce50d3745c64b",
       "version_major": 2,
       "version_minor": 0
      },
      "text/plain": [
       "%20%20A%20n_J0EU3GHS40.txt:   0%|          | 0.00/871 [00:00<?, ?B/s]"
      ]
     },
     "metadata": {},
     "output_type": "display_data"
    },
    {
     "data": {
      "application/vnd.jupyter.widget-view+json": {
       "model_id": "ab2d9727cac041d9991be73d55606e12",
       "version_major": 2,
       "version_minor": 0
      },
      "text/plain": [
       "%20%20A%20n_JIHKRKNTVI.txt:   0%|          | 0.00/355 [00:00<?, ?B/s]"
      ]
     },
     "metadata": {},
     "output_type": "display_data"
    },
    {
     "data": {
      "application/vnd.jupyter.widget-view+json": {
       "model_id": "97e1a99f7b1746e5ba8f4468f6cbd8a4",
       "version_major": 2,
       "version_minor": 0
      },
      "text/plain": [
       "%20%20A%20n_M5L7QIN20Q.txt:   0%|          | 0.00/345 [00:00<?, ?B/s]"
      ]
     },
     "metadata": {},
     "output_type": "display_data"
    },
    {
     "data": {
      "application/vnd.jupyter.widget-view+json": {
       "model_id": "c1c98413d9fd44f28429277c64b766c0",
       "version_major": 2,
       "version_minor": 0
      },
      "text/plain": [
       "%20%20A%20n_K3X22ZMCGX.txt:   0%|          | 0.00/754 [00:00<?, ?B/s]"
      ]
     },
     "metadata": {},
     "output_type": "display_data"
    },
    {
     "data": {
      "application/vnd.jupyter.widget-view+json": {
       "model_id": "8585ec459534404da595d40016958511",
       "version_major": 2,
       "version_minor": 0
      },
      "text/plain": [
       "%20%20A%20n_MV8N5WJRQN.txt:   0%|          | 0.00/616 [00:00<?, ?B/s]"
      ]
     },
     "metadata": {},
     "output_type": "display_data"
    },
    {
     "data": {
      "application/vnd.jupyter.widget-view+json": {
       "model_id": "0e325c7115454a9cb303b9b15d414876",
       "version_major": 2,
       "version_minor": 0
      },
      "text/plain": [
       "%20%20A%20n_OXLF4U1VNJ.txt:   0%|          | 0.00/526 [00:00<?, ?B/s]"
      ]
     },
     "metadata": {},
     "output_type": "display_data"
    },
    {
     "data": {
      "application/vnd.jupyter.widget-view+json": {
       "model_id": "b44cc3571e644596b2a232bb3e3f4536",
       "version_major": 2,
       "version_minor": 0
      },
      "text/plain": [
       "%20%20A%20n_OK9HVIWHWN.txt:   0%|          | 0.00/1.55k [00:00<?, ?B/s]"
      ]
     },
     "metadata": {},
     "output_type": "display_data"
    },
    {
     "data": {
      "application/vnd.jupyter.widget-view+json": {
       "model_id": "f594c85f814e453881cf296a3641a59c",
       "version_major": 2,
       "version_minor": 0
      },
      "text/plain": [
       "%20%20A%20n_QBVHV2NF6T.txt:   0%|          | 0.00/664 [00:00<?, ?B/s]"
      ]
     },
     "metadata": {},
     "output_type": "display_data"
    },
    {
     "data": {
      "application/vnd.jupyter.widget-view+json": {
       "model_id": "8060de2188644a838808e69ce952b080",
       "version_major": 2,
       "version_minor": 0
      },
      "text/plain": [
       "%20%20A%20n_Q4YG2YE5CF.txt:   0%|          | 0.00/599 [00:00<?, ?B/s]"
      ]
     },
     "metadata": {},
     "output_type": "display_data"
    },
    {
     "data": {
      "application/vnd.jupyter.widget-view+json": {
       "model_id": "f77ea2ffcd574bc88c1ed53b549c2ed6",
       "version_major": 2,
       "version_minor": 0
      },
      "text/plain": [
       "%20%20A%20n_QWZ5C4UFH2.txt:   0%|          | 0.00/711 [00:00<?, ?B/s]"
      ]
     },
     "metadata": {},
     "output_type": "display_data"
    },
    {
     "data": {
      "application/vnd.jupyter.widget-view+json": {
       "model_id": "5f09a02bf2994716a57366198cca5c19",
       "version_major": 2,
       "version_minor": 0
      },
      "text/plain": [
       "%20%20A%20n_WRC1URNEY4.txt:   0%|          | 0.00/463 [00:00<?, ?B/s]"
      ]
     },
     "metadata": {},
     "output_type": "display_data"
    },
    {
     "data": {
      "application/vnd.jupyter.widget-view+json": {
       "model_id": "7f4583f81ce941e09881b619fc12ed33",
       "version_major": 2,
       "version_minor": 0
      },
      "text/plain": [
       "%20%20A%20n_VSQ8LG7JS7.txt:   0%|          | 0.00/627 [00:00<?, ?B/s]"
      ]
     },
     "metadata": {},
     "output_type": "display_data"
    },
    {
     "data": {
      "application/vnd.jupyter.widget-view+json": {
       "model_id": "360ba087d0b14f3da4d87f3210d3d63e",
       "version_major": 2,
       "version_minor": 0
      },
      "text/plain": [
       "%20%20A%20n_X4BWJ8DZSQ.txt:   0%|          | 0.00/510 [00:00<?, ?B/s]"
      ]
     },
     "metadata": {},
     "output_type": "display_data"
    },
    {
     "data": {
      "application/vnd.jupyter.widget-view+json": {
       "model_id": "14151c186a914c468e3ff3c4e46532d5",
       "version_major": 2,
       "version_minor": 0
      },
      "text/plain": [
       "%20%20A%20n_WRT1XXPIDX.txt:   0%|          | 0.00/345 [00:00<?, ?B/s]"
      ]
     },
     "metadata": {},
     "output_type": "display_data"
    },
    {
     "data": {
      "application/vnd.jupyter.widget-view+json": {
       "model_id": "1e8e99275a3b4257b6498babd0d39768",
       "version_major": 2,
       "version_minor": 0
      },
      "text/plain": [
       "%20%20A%20o_HQVCHOUDYV.txt:   0%|          | 0.00/1.21k [00:00<?, ?B/s]"
      ]
     },
     "metadata": {},
     "output_type": "display_data"
    },
    {
     "data": {
      "application/vnd.jupyter.widget-view+json": {
       "model_id": "9649cba993304c2680bc39478037fc61",
       "version_major": 2,
       "version_minor": 0
      },
      "text/plain": [
       "%20%20A%20n_LTJ9KAU4ON.txt:   0%|          | 0.00/1.16k [00:00<?, ?B/s]"
      ]
     },
     "metadata": {},
     "output_type": "display_data"
    },
    {
     "data": {
      "application/vnd.jupyter.widget-view+json": {
       "model_id": "1e69261b572a4583b4bf8755478df711",
       "version_major": 2,
       "version_minor": 0
      },
      "text/plain": [
       "%20%20A%20p_1ICQHG09A3.txt:   0%|          | 0.00/483 [00:00<?, ?B/s]"
      ]
     },
     "metadata": {},
     "output_type": "display_data"
    },
    {
     "data": {
      "application/vnd.jupyter.widget-view+json": {
       "model_id": "982d99e6deff4b1c9cd65ea72d18e876",
       "version_major": 2,
       "version_minor": 0
      },
      "text/plain": [
       "%20%20A%20p_4JU2NJ6L8W.txt:   0%|          | 0.00/784 [00:00<?, ?B/s]"
      ]
     },
     "metadata": {},
     "output_type": "display_data"
    },
    {
     "data": {
      "application/vnd.jupyter.widget-view+json": {
       "model_id": "28d9443aacf14785860c008a1f8fea63",
       "version_major": 2,
       "version_minor": 0
      },
      "text/plain": [
       "%20%20A%20p_5E8O74KG2K.txt:   0%|          | 0.00/367 [00:00<?, ?B/s]"
      ]
     },
     "metadata": {},
     "output_type": "display_data"
    },
    {
     "data": {
      "application/vnd.jupyter.widget-view+json": {
       "model_id": "45130f43828046f883b99b9d2971f344",
       "version_major": 2,
       "version_minor": 0
      },
      "text/plain": [
       "%20%20A%20p_8UT8O2OY1I.txt:   0%|          | 0.00/1.11k [00:00<?, ?B/s]"
      ]
     },
     "metadata": {},
     "output_type": "display_data"
    },
    {
     "data": {
      "application/vnd.jupyter.widget-view+json": {
       "model_id": "27d571281dec4619b628eea37fd56ef6",
       "version_major": 2,
       "version_minor": 0
      },
      "text/plain": [
       "%20%20A%20p_84URTAL1QZ.txt:   0%|          | 0.00/261 [00:00<?, ?B/s]"
      ]
     },
     "metadata": {},
     "output_type": "display_data"
    },
    {
     "data": {
      "application/vnd.jupyter.widget-view+json": {
       "model_id": "3f99aafbe99e4b12b1efb519b3cfcd36",
       "version_major": 2,
       "version_minor": 0
      },
      "text/plain": [
       "%20%20A%20p_8PA92F1TRD.txt:   0%|          | 0.00/699 [00:00<?, ?B/s]"
      ]
     },
     "metadata": {},
     "output_type": "display_data"
    },
    {
     "data": {
      "application/vnd.jupyter.widget-view+json": {
       "model_id": "264f765214d242aea40de6ff6bce6d42",
       "version_major": 2,
       "version_minor": 0
      },
      "text/plain": [
       "%20%20A%20n_FSI4QY0OBZ.txt:   0%|          | 0.00/1.49k [00:00<?, ?B/s]"
      ]
     },
     "metadata": {},
     "output_type": "display_data"
    },
    {
     "data": {
      "application/vnd.jupyter.widget-view+json": {
       "model_id": "6113bfc7e0cf4481b4426776070a4dc0",
       "version_major": 2,
       "version_minor": 0
      },
      "text/plain": [
       "%20%20A%20p_CEA4KAAFWR.txt:   0%|          | 0.00/1.15k [00:00<?, ?B/s]"
      ]
     },
     "metadata": {},
     "output_type": "display_data"
    },
    {
     "data": {
      "application/vnd.jupyter.widget-view+json": {
       "model_id": "3213740f67324035927008853ab9d7b5",
       "version_major": 2,
       "version_minor": 0
      },
      "text/plain": [
       "%20%20A%20p_DOB7AU2NZZ.txt:   0%|          | 0.00/665 [00:00<?, ?B/s]"
      ]
     },
     "metadata": {},
     "output_type": "display_data"
    },
    {
     "data": {
      "application/vnd.jupyter.widget-view+json": {
       "model_id": "4009228f3e3c4cd5a05066ae15452f5b",
       "version_major": 2,
       "version_minor": 0
      },
      "text/plain": [
       "%20%20A%20p_FLM7Y8FEXP.txt:   0%|          | 0.00/706 [00:00<?, ?B/s]"
      ]
     },
     "metadata": {},
     "output_type": "display_data"
    },
    {
     "data": {
      "application/vnd.jupyter.widget-view+json": {
       "model_id": "ab97ecf1edce4f85a36243c29916506a",
       "version_major": 2,
       "version_minor": 0
      },
      "text/plain": [
       "%20%20A%20p_GPSDIEX5GD.txt:   0%|          | 0.00/971 [00:00<?, ?B/s]"
      ]
     },
     "metadata": {},
     "output_type": "display_data"
    },
    {
     "data": {
      "application/vnd.jupyter.widget-view+json": {
       "model_id": "107ee2f2866e4bd8b055d5e874ffa546",
       "version_major": 2,
       "version_minor": 0
      },
      "text/plain": [
       "%20%20A%20p_GXLXO06QF8.txt:   0%|          | 0.00/764 [00:00<?, ?B/s]"
      ]
     },
     "metadata": {},
     "output_type": "display_data"
    },
    {
     "data": {
      "application/vnd.jupyter.widget-view+json": {
       "model_id": "5b31bd71cd8940ca9f16b467c1a69814",
       "version_major": 2,
       "version_minor": 0
      },
      "text/plain": [
       "%20%20A%20p_HCOLTI7KQ9.txt:   0%|          | 0.00/439 [00:00<?, ?B/s]"
      ]
     },
     "metadata": {},
     "output_type": "display_data"
    },
    {
     "data": {
      "application/vnd.jupyter.widget-view+json": {
       "model_id": "4be37e3aa4504b8b83bacbbb010e3950",
       "version_major": 2,
       "version_minor": 0
      },
      "text/plain": [
       "%20%20A%20p_Q0Q8SH3VYZ.txt:   0%|          | 0.00/648 [00:00<?, ?B/s]"
      ]
     },
     "metadata": {},
     "output_type": "display_data"
    },
    {
     "data": {
      "application/vnd.jupyter.widget-view+json": {
       "model_id": "fc4b8f5b5893409299a374b32c0121d9",
       "version_major": 2,
       "version_minor": 0
      },
      "text/plain": [
       "%20%20A%20p_P761VWWFBY.txt:   0%|          | 0.00/375 [00:00<?, ?B/s]"
      ]
     },
     "metadata": {},
     "output_type": "display_data"
    },
    {
     "data": {
      "application/vnd.jupyter.widget-view+json": {
       "model_id": "56b91ad1a9e74f83ba12dbe19279e16a",
       "version_major": 2,
       "version_minor": 0
      },
      "text/plain": [
       "%20%20A%20p_R4NTN5F60F.txt:   0%|          | 0.00/434 [00:00<?, ?B/s]"
      ]
     },
     "metadata": {},
     "output_type": "display_data"
    },
    {
     "data": {
      "application/vnd.jupyter.widget-view+json": {
       "model_id": "aac2ffeb499848d8babd3ca74f5d77d6",
       "version_major": 2,
       "version_minor": 0
      },
      "text/plain": [
       "%20%20A%20p_N29PX6LUYU.txt:   0%|          | 0.00/1.35k [00:00<?, ?B/s]"
      ]
     },
     "metadata": {},
     "output_type": "display_data"
    },
    {
     "data": {
      "application/vnd.jupyter.widget-view+json": {
       "model_id": "5bf8507c565a4dc98cdafa065132442c",
       "version_major": 2,
       "version_minor": 0
      },
      "text/plain": [
       "%20%20A%20p_MM7FNF81IO.txt:   0%|          | 0.00/920 [00:00<?, ?B/s]"
      ]
     },
     "metadata": {},
     "output_type": "display_data"
    },
    {
     "data": {
      "application/vnd.jupyter.widget-view+json": {
       "model_id": "cdc7cf995e3c48339bd03d78ac81bc91",
       "version_major": 2,
       "version_minor": 0
      },
      "text/plain": [
       "%20%20A%20p_SRDP2K3NKR.txt:   0%|          | 0.00/1.00k [00:00<?, ?B/s]"
      ]
     },
     "metadata": {},
     "output_type": "display_data"
    },
    {
     "data": {
      "application/vnd.jupyter.widget-view+json": {
       "model_id": "6a29f0bd58564ecc80981d5646153a3f",
       "version_major": 2,
       "version_minor": 0
      },
      "text/plain": [
       "%20%20A%20p_T84A708J5I.txt:   0%|          | 0.00/121 [00:00<?, ?B/s]"
      ]
     },
     "metadata": {},
     "output_type": "display_data"
    },
    {
     "data": {
      "application/vnd.jupyter.widget-view+json": {
       "model_id": "e590e5ee70814bd28d1699e766cff489",
       "version_major": 2,
       "version_minor": 0
      },
      "text/plain": [
       "%20%20A%20p_U7QYZSHEA3.txt:   0%|          | 0.00/732 [00:00<?, ?B/s]"
      ]
     },
     "metadata": {},
     "output_type": "display_data"
    },
    {
     "data": {
      "application/vnd.jupyter.widget-view+json": {
       "model_id": "1e711c01bdfc47119e250fb82c76d9c2",
       "version_major": 2,
       "version_minor": 0
      },
      "text/plain": [
       "%20%20A%20q_0Y81KHRS6A.txt:   0%|          | 0.00/85.0 [00:00<?, ?B/s]"
      ]
     },
     "metadata": {},
     "output_type": "display_data"
    },
    {
     "data": {
      "application/vnd.jupyter.widget-view+json": {
       "model_id": "8584f965c2e94f8cba0e98a58996db33",
       "version_major": 2,
       "version_minor": 0
      },
      "text/plain": [
       "%20%20A%20q_846QP793LC.txt:   0%|          | 0.00/475 [00:00<?, ?B/s]"
      ]
     },
     "metadata": {},
     "output_type": "display_data"
    },
    {
     "data": {
      "application/vnd.jupyter.widget-view+json": {
       "model_id": "a8ec7b1ec0524d0dacd0b4ad2190cce8",
       "version_major": 2,
       "version_minor": 0
      },
      "text/plain": [
       "%20%20A%20q_A6YOZDXYPL.txt:   0%|          | 0.00/833 [00:00<?, ?B/s]"
      ]
     },
     "metadata": {},
     "output_type": "display_data"
    },
    {
     "data": {
      "application/vnd.jupyter.widget-view+json": {
       "model_id": "5ab0e5480b1e44798899227529dfe26b",
       "version_major": 2,
       "version_minor": 0
      },
      "text/plain": [
       "%20%20A%20q_HVI07AHVI8.txt:   0%|          | 0.00/629 [00:00<?, ?B/s]"
      ]
     },
     "metadata": {},
     "output_type": "display_data"
    },
    {
     "data": {
      "application/vnd.jupyter.widget-view+json": {
       "model_id": "82eafe752c4b45c69be1ba8ba8f923cf",
       "version_major": 2,
       "version_minor": 0
      },
      "text/plain": [
       "%20%20A%20q_RU2YD6O0ZM.txt:   0%|          | 0.00/1.83k [00:00<?, ?B/s]"
      ]
     },
     "metadata": {},
     "output_type": "display_data"
    },
    {
     "data": {
      "application/vnd.jupyter.widget-view+json": {
       "model_id": "4cd6e25f674d49c786e85219e505a59a",
       "version_major": 2,
       "version_minor": 0
      },
      "text/plain": [
       "%20%20A%20r_53Q3ADP6VP.txt:   0%|          | 0.00/1.34k [00:00<?, ?B/s]"
      ]
     },
     "metadata": {},
     "output_type": "display_data"
    },
    {
     "data": {
      "application/vnd.jupyter.widget-view+json": {
       "model_id": "fe476ac4d6fe46a2bfdf107b921d787e",
       "version_major": 2,
       "version_minor": 0
      },
      "text/plain": [
       "%20%20A%20q_0NRGEQRHQ8.txt:   0%|          | 0.00/650 [00:00<?, ?B/s]"
      ]
     },
     "metadata": {},
     "output_type": "display_data"
    },
    {
     "data": {
      "application/vnd.jupyter.widget-view+json": {
       "model_id": "5af5702afb554b3db4fa30ff29cd7e56",
       "version_major": 2,
       "version_minor": 0
      },
      "text/plain": [
       "%20%20A%20q_U1YSUUOKDK.txt:   0%|          | 0.00/418 [00:00<?, ?B/s]"
      ]
     },
     "metadata": {},
     "output_type": "display_data"
    },
    {
     "data": {
      "application/vnd.jupyter.widget-view+json": {
       "model_id": "f8b46073b2e841ada1114d4caaffa744",
       "version_major": 2,
       "version_minor": 0
      },
      "text/plain": [
       "%20%20A%20r_5A2YQ7A5GD.txt:   0%|          | 0.00/156 [00:00<?, ?B/s]"
      ]
     },
     "metadata": {},
     "output_type": "display_data"
    },
    {
     "data": {
      "application/vnd.jupyter.widget-view+json": {
       "model_id": "0137a15421bf4828b8871b4ce9072d2e",
       "version_major": 2,
       "version_minor": 0
      },
      "text/plain": [
       "%20%20A%20r_62WN5J7FQS.txt:   0%|          | 0.00/706 [00:00<?, ?B/s]"
      ]
     },
     "metadata": {},
     "output_type": "display_data"
    },
    {
     "data": {
      "application/vnd.jupyter.widget-view+json": {
       "model_id": "58265d34eb9c423f98423b64b854c7b3",
       "version_major": 2,
       "version_minor": 0
      },
      "text/plain": [
       "%20%20A%20r_8X0JV2G03W.txt:   0%|          | 0.00/602 [00:00<?, ?B/s]"
      ]
     },
     "metadata": {},
     "output_type": "display_data"
    },
    {
     "data": {
      "application/vnd.jupyter.widget-view+json": {
       "model_id": "540660c22d3a4f7e84930ca42aca12a6",
       "version_major": 2,
       "version_minor": 0
      },
      "text/plain": [
       "%20%20A%20r_E0S1WASNK4.txt:   0%|          | 0.00/1.52k [00:00<?, ?B/s]"
      ]
     },
     "metadata": {},
     "output_type": "display_data"
    },
    {
     "data": {
      "application/vnd.jupyter.widget-view+json": {
       "model_id": "a43d14aa43264fc09afe2bb9e4cc31ad",
       "version_major": 2,
       "version_minor": 0
      },
      "text/plain": [
       "%20%20A%20r_DXGK2LXXAL.txt:   0%|          | 0.00/56.0 [00:00<?, ?B/s]"
      ]
     },
     "metadata": {},
     "output_type": "display_data"
    },
    {
     "data": {
      "application/vnd.jupyter.widget-view+json": {
       "model_id": "d5506e5c78f242e0addc891ce84c5053",
       "version_major": 2,
       "version_minor": 0
      },
      "text/plain": [
       "%20%20A%20r_7AQHKVXBAR.txt:   0%|          | 0.00/640 [00:00<?, ?B/s]"
      ]
     },
     "metadata": {},
     "output_type": "display_data"
    },
    {
     "data": {
      "application/vnd.jupyter.widget-view+json": {
       "model_id": "04bd139845f04c42b41b532b22e7ebc6",
       "version_major": 2,
       "version_minor": 0
      },
      "text/plain": [
       "%20%20A%20r_75VML4NF8E.txt:   0%|          | 0.00/1.12k [00:00<?, ?B/s]"
      ]
     },
     "metadata": {},
     "output_type": "display_data"
    },
    {
     "data": {
      "application/vnd.jupyter.widget-view+json": {
       "model_id": "c90f75e3c5d64d4095078fa551e6de0e",
       "version_major": 2,
       "version_minor": 0
      },
      "text/plain": [
       "%20%20A%20r_AYX2JMCK7K.txt:   0%|          | 0.00/1.49k [00:00<?, ?B/s]"
      ]
     },
     "metadata": {},
     "output_type": "display_data"
    },
    {
     "data": {
      "application/vnd.jupyter.widget-view+json": {
       "model_id": "84f4a4773b2d4626b8e52152b9568a2a",
       "version_major": 2,
       "version_minor": 0
      },
      "text/plain": [
       "%20%20A%20r_II4BBYWIEP.txt:   0%|          | 0.00/1.30k [00:00<?, ?B/s]"
      ]
     },
     "metadata": {},
     "output_type": "display_data"
    },
    {
     "data": {
      "application/vnd.jupyter.widget-view+json": {
       "model_id": "18aa239f8ab44d499f91f02cd8e0482a",
       "version_major": 2,
       "version_minor": 0
      },
      "text/plain": [
       "%20%20A%20r_MG7XWAKK32.txt:   0%|          | 0.00/330 [00:00<?, ?B/s]"
      ]
     },
     "metadata": {},
     "output_type": "display_data"
    },
    {
     "data": {
      "application/vnd.jupyter.widget-view+json": {
       "model_id": "6969f960c6fd4bdfa223ed5bf4ff860d",
       "version_major": 2,
       "version_minor": 0
      },
      "text/plain": [
       "%20%20A%20r_NOX2UF72X8.txt:   0%|          | 0.00/813 [00:00<?, ?B/s]"
      ]
     },
     "metadata": {},
     "output_type": "display_data"
    },
    {
     "data": {
      "application/vnd.jupyter.widget-view+json": {
       "model_id": "61431d20019148478b39a7d5c662b0b1",
       "version_major": 2,
       "version_minor": 0
      },
      "text/plain": [
       "%20%20A%20r_XFQBOZHF0I.txt:   0%|          | 0.00/1.06k [00:00<?, ?B/s]"
      ]
     },
     "metadata": {},
     "output_type": "display_data"
    },
    {
     "data": {
      "application/vnd.jupyter.widget-view+json": {
       "model_id": "debc5f8911ff4d68ae21c38e84b5f290",
       "version_major": 2,
       "version_minor": 0
      },
      "text/plain": [
       "%20%20A%20r_Q5UH10087L.txt:   0%|          | 0.00/436 [00:00<?, ?B/s]"
      ]
     },
     "metadata": {},
     "output_type": "display_data"
    },
    {
     "data": {
      "application/vnd.jupyter.widget-view+json": {
       "model_id": "de96f98af2c246dc9ead3991c57a58d5",
       "version_major": 2,
       "version_minor": 0
      },
      "text/plain": [
       "%20%20A%20r_SHAVHZSRMG.txt:   0%|          | 0.00/686 [00:00<?, ?B/s]"
      ]
     },
     "metadata": {},
     "output_type": "display_data"
    },
    {
     "data": {
      "application/vnd.jupyter.widget-view+json": {
       "model_id": "f924992bcb9d4a63a2ccd0efc76ecb90",
       "version_major": 2,
       "version_minor": 0
      },
      "text/plain": [
       "%20%20A%20r_W0FLS3GI4D.txt:   0%|          | 0.00/736 [00:00<?, ?B/s]"
      ]
     },
     "metadata": {},
     "output_type": "display_data"
    },
    {
     "data": {
      "application/vnd.jupyter.widget-view+json": {
       "model_id": "be6bcea2f77a445d817db87edcea14fe",
       "version_major": 2,
       "version_minor": 0
      },
      "text/plain": [
       "%20%20A%20r_MPRJ4WN91L.txt:   0%|          | 0.00/563 [00:00<?, ?B/s]"
      ]
     },
     "metadata": {},
     "output_type": "display_data"
    },
    {
     "data": {
      "application/vnd.jupyter.widget-view+json": {
       "model_id": "e7387c47b1ff4b59bbf77d173a6b489a",
       "version_major": 2,
       "version_minor": 0
      },
      "text/plain": [
       "%20%20A%20r_L3E8KBILBU.txt:   0%|          | 0.00/1.04k [00:00<?, ?B/s]"
      ]
     },
     "metadata": {},
     "output_type": "display_data"
    },
    {
     "data": {
      "application/vnd.jupyter.widget-view+json": {
       "model_id": "1eed6589610a42bd98290f019f6974e3",
       "version_major": 2,
       "version_minor": 0
      },
      "text/plain": [
       "%20%20A%20r_XGDC4JGLAB.txt:   0%|          | 0.00/820 [00:00<?, ?B/s]"
      ]
     },
     "metadata": {},
     "output_type": "display_data"
    },
    {
     "data": {
      "application/vnd.jupyter.widget-view+json": {
       "model_id": "06a6160f595d4dfca962a47560d8c09a",
       "version_major": 2,
       "version_minor": 0
      },
      "text/plain": [
       "%20%20A%20s_1E9LOIUDO7.txt:   0%|          | 0.00/589 [00:00<?, ?B/s]"
      ]
     },
     "metadata": {},
     "output_type": "display_data"
    },
    {
     "data": {
      "application/vnd.jupyter.widget-view+json": {
       "model_id": "3812d4c253a444d4983d8125a831fc92",
       "version_major": 2,
       "version_minor": 0
      },
      "text/plain": [
       "%20%20A%20r_OK7IAF9E5O.txt:   0%|          | 0.00/614 [00:00<?, ?B/s]"
      ]
     },
     "metadata": {},
     "output_type": "display_data"
    },
    {
     "data": {
      "application/vnd.jupyter.widget-view+json": {
       "model_id": "24c8755fa46d49e4836e28242df12454",
       "version_major": 2,
       "version_minor": 0
      },
      "text/plain": [
       "%20%20A%20r_YJW5INUH56.txt:   0%|          | 0.00/825 [00:00<?, ?B/s]"
      ]
     },
     "metadata": {},
     "output_type": "display_data"
    },
    {
     "data": {
      "application/vnd.jupyter.widget-view+json": {
       "model_id": "ee88351bb2434537afde7c1472235797",
       "version_major": 2,
       "version_minor": 0
      },
      "text/plain": [
       "%20%20A%20s_0ACOND46BD.txt:   0%|          | 0.00/1.24k [00:00<?, ?B/s]"
      ]
     },
     "metadata": {},
     "output_type": "display_data"
    },
    {
     "data": {
      "application/vnd.jupyter.widget-view+json": {
       "model_id": "ddd7b24999b44837957fa5a8fd566b87",
       "version_major": 2,
       "version_minor": 0
      },
      "text/plain": [
       "%20%20A%20s_2F8EZKQSDM.txt:   0%|          | 0.00/1.27k [00:00<?, ?B/s]"
      ]
     },
     "metadata": {},
     "output_type": "display_data"
    },
    {
     "data": {
      "application/vnd.jupyter.widget-view+json": {
       "model_id": "1fede2553c5c42279ff693b5a94787af",
       "version_major": 2,
       "version_minor": 0
      },
      "text/plain": [
       "%20%20A%20r_Y3NLRO72KP.txt:   0%|          | 0.00/356 [00:00<?, ?B/s]"
      ]
     },
     "metadata": {},
     "output_type": "display_data"
    },
    {
     "data": {
      "application/vnd.jupyter.widget-view+json": {
       "model_id": "92b4271718984f638ed1178df6c9a558",
       "version_major": 2,
       "version_minor": 0
      },
      "text/plain": [
       "%20%20A%20s_14RZEYPHT6.txt:   0%|          | 0.00/537 [00:00<?, ?B/s]"
      ]
     },
     "metadata": {},
     "output_type": "display_data"
    },
    {
     "data": {
      "application/vnd.jupyter.widget-view+json": {
       "model_id": "bb37038eee0b4c92bbcdd0c13d0a8034",
       "version_major": 2,
       "version_minor": 0
      },
      "text/plain": [
       "%20%20A%20s_3AKSZBHQXS.txt:   0%|          | 0.00/1.70k [00:00<?, ?B/s]"
      ]
     },
     "metadata": {},
     "output_type": "display_data"
    },
    {
     "data": {
      "application/vnd.jupyter.widget-view+json": {
       "model_id": "7c6f566981304864ad85dbe40367e42f",
       "version_major": 2,
       "version_minor": 0
      },
      "text/plain": [
       "%20%20A%20s_2FK02SDH1O.txt:   0%|          | 0.00/962 [00:00<?, ?B/s]"
      ]
     },
     "metadata": {},
     "output_type": "display_data"
    },
    {
     "data": {
      "application/vnd.jupyter.widget-view+json": {
       "model_id": "00c25134e67a4f62a22d223ae4b6a0b3",
       "version_major": 2,
       "version_minor": 0
      },
      "text/plain": [
       "%20%20A%20s_50HXPCXW0O.txt:   0%|          | 0.00/1.51k [00:00<?, ?B/s]"
      ]
     },
     "metadata": {},
     "output_type": "display_data"
    },
    {
     "data": {
      "application/vnd.jupyter.widget-view+json": {
       "model_id": "11a8a6c8af5b48df9d37a46ccbdd8408",
       "version_major": 2,
       "version_minor": 0
      },
      "text/plain": [
       "%20%20A%20s_3E89WQRW26.txt:   0%|          | 0.00/808 [00:00<?, ?B/s]"
      ]
     },
     "metadata": {},
     "output_type": "display_data"
    },
    {
     "data": {
      "application/vnd.jupyter.widget-view+json": {
       "model_id": "60a7c3a1be3d4774b28c2a99112da21c",
       "version_major": 2,
       "version_minor": 0
      },
      "text/plain": [
       "%20%20A%20s_6M3VWNHHWO.txt:   0%|          | 0.00/535 [00:00<?, ?B/s]"
      ]
     },
     "metadata": {},
     "output_type": "display_data"
    },
    {
     "data": {
      "application/vnd.jupyter.widget-view+json": {
       "model_id": "ebb11652435f41df813e185a1107bcfb",
       "version_major": 2,
       "version_minor": 0
      },
      "text/plain": [
       "%20%20A%20s_52L33LW9KG.txt:   0%|          | 0.00/293 [00:00<?, ?B/s]"
      ]
     },
     "metadata": {},
     "output_type": "display_data"
    },
    {
     "data": {
      "application/vnd.jupyter.widget-view+json": {
       "model_id": "ac9bb5041d2e4830872598baf1c73e4f",
       "version_major": 2,
       "version_minor": 0
      },
      "text/plain": [
       "%20%20A%20s_6WDV2WAJ90.txt:   0%|          | 0.00/543 [00:00<?, ?B/s]"
      ]
     },
     "metadata": {},
     "output_type": "display_data"
    },
    {
     "data": {
      "application/vnd.jupyter.widget-view+json": {
       "model_id": "5780b09df7df4efdbf3976cd2d96f190",
       "version_major": 2,
       "version_minor": 0
      },
      "text/plain": [
       "%20%20A%20s_61PD8PMU6R.txt:   0%|          | 0.00/533 [00:00<?, ?B/s]"
      ]
     },
     "metadata": {},
     "output_type": "display_data"
    },
    {
     "data": {
      "application/vnd.jupyter.widget-view+json": {
       "model_id": "303e539b501a4eb590e7f4ae0275c5a2",
       "version_major": 2,
       "version_minor": 0
      },
      "text/plain": [
       "%20%20A%20s_6XR81D8S3F.txt:   0%|          | 0.00/972 [00:00<?, ?B/s]"
      ]
     },
     "metadata": {},
     "output_type": "display_data"
    },
    {
     "data": {
      "application/vnd.jupyter.widget-view+json": {
       "model_id": "51e02e7627274cdf85b6657c6d7abee1",
       "version_major": 2,
       "version_minor": 0
      },
      "text/plain": [
       "%20%20A%20s_7AP1XWUS96.txt:   0%|          | 0.00/1.29k [00:00<?, ?B/s]"
      ]
     },
     "metadata": {},
     "output_type": "display_data"
    },
    {
     "data": {
      "application/vnd.jupyter.widget-view+json": {
       "model_id": "3e0763f1e7824b81b3a96f839be90162",
       "version_major": 2,
       "version_minor": 0
      },
      "text/plain": [
       "%20%20A%20s_6TNASB3XHW.txt:   0%|          | 0.00/947 [00:00<?, ?B/s]"
      ]
     },
     "metadata": {},
     "output_type": "display_data"
    },
    {
     "data": {
      "application/vnd.jupyter.widget-view+json": {
       "model_id": "e95068cefbdf4fe2bc088b326414bea2",
       "version_major": 2,
       "version_minor": 0
      },
      "text/plain": [
       "%20%20A%20s_9ZT6K61YT7.txt:   0%|          | 0.00/905 [00:00<?, ?B/s]"
      ]
     },
     "metadata": {},
     "output_type": "display_data"
    },
    {
     "data": {
      "application/vnd.jupyter.widget-view+json": {
       "model_id": "166ba93be5fd45e5b4d5967b9182b6b6",
       "version_major": 2,
       "version_minor": 0
      },
      "text/plain": [
       "%20%20A%20s_9HJ479N51J.txt:   0%|          | 0.00/743 [00:00<?, ?B/s]"
      ]
     },
     "metadata": {},
     "output_type": "display_data"
    },
    {
     "data": {
      "application/vnd.jupyter.widget-view+json": {
       "model_id": "68558ad27aa74c99b850a530d0c28d64",
       "version_major": 2,
       "version_minor": 0
      },
      "text/plain": [
       "%20%20A%20s_9NK296DEQN.txt:   0%|          | 0.00/675 [00:00<?, ?B/s]"
      ]
     },
     "metadata": {},
     "output_type": "display_data"
    },
    {
     "data": {
      "application/vnd.jupyter.widget-view+json": {
       "model_id": "6d63551fc40c4030b5367d9d9d5da443",
       "version_major": 2,
       "version_minor": 0
      },
      "text/plain": [
       "%20%20A%20s_CSTELDNFX7.txt:   0%|          | 0.00/1.22k [00:00<?, ?B/s]"
      ]
     },
     "metadata": {},
     "output_type": "display_data"
    },
    {
     "data": {
      "application/vnd.jupyter.widget-view+json": {
       "model_id": "9bf3a3bde114472f80ae49bb4d0bfea5",
       "version_major": 2,
       "version_minor": 0
      },
      "text/plain": [
       "%20%20A%20s_DI6WWA7805.txt:   0%|          | 0.00/937 [00:00<?, ?B/s]"
      ]
     },
     "metadata": {},
     "output_type": "display_data"
    },
    {
     "data": {
      "application/vnd.jupyter.widget-view+json": {
       "model_id": "618aacd5f9814408b9983f69a88a569a",
       "version_major": 2,
       "version_minor": 0
      },
      "text/plain": [
       "%20%20A%20s_DW0DTIYU3C.txt:   0%|          | 0.00/1.56k [00:00<?, ?B/s]"
      ]
     },
     "metadata": {},
     "output_type": "display_data"
    },
    {
     "data": {
      "application/vnd.jupyter.widget-view+json": {
       "model_id": "a85e3dfe48b548469c457faff5260fea",
       "version_major": 2,
       "version_minor": 0
      },
      "text/plain": [
       "%20%20A%20s_F984FBZO90.txt:   0%|          | 0.00/1.61k [00:00<?, ?B/s]"
      ]
     },
     "metadata": {},
     "output_type": "display_data"
    },
    {
     "data": {
      "application/vnd.jupyter.widget-view+json": {
       "model_id": "bd85f169bc9f4978ad51f6c39b5308c4",
       "version_major": 2,
       "version_minor": 0
      },
      "text/plain": [
       "%20%20A%20s_ESAFE6KVRX.txt:   0%|          | 0.00/615 [00:00<?, ?B/s]"
      ]
     },
     "metadata": {},
     "output_type": "display_data"
    },
    {
     "data": {
      "application/vnd.jupyter.widget-view+json": {
       "model_id": "f690a47bdea240d3b7d60d32bdde28a3",
       "version_major": 2,
       "version_minor": 0
      },
      "text/plain": [
       "%20%20A%20s_FBDV63SGT6.txt:   0%|          | 0.00/741 [00:00<?, ?B/s]"
      ]
     },
     "metadata": {},
     "output_type": "display_data"
    },
    {
     "data": {
      "application/vnd.jupyter.widget-view+json": {
       "model_id": "d24ee4919b7642be8a47d436e10f2600",
       "version_major": 2,
       "version_minor": 0
      },
      "text/plain": [
       "%20%20A%20s_6BWC9MUNXG.txt:   0%|          | 0.00/712 [00:00<?, ?B/s]"
      ]
     },
     "metadata": {},
     "output_type": "display_data"
    },
    {
     "data": {
      "application/vnd.jupyter.widget-view+json": {
       "model_id": "4b81f4f2d0da433894dda410faf3d7a8",
       "version_major": 2,
       "version_minor": 0
      },
      "text/plain": [
       "%20%20A%20s_GUB50ZMMZR.txt:   0%|          | 0.00/709 [00:00<?, ?B/s]"
      ]
     },
     "metadata": {},
     "output_type": "display_data"
    },
    {
     "data": {
      "application/vnd.jupyter.widget-view+json": {
       "model_id": "555272f5eee24fd6a6dcd718a0d6d2aa",
       "version_major": 2,
       "version_minor": 0
      },
      "text/plain": [
       "%20%20A%20s_GRVBCL5ZCD.txt:   0%|          | 0.00/1.65k [00:00<?, ?B/s]"
      ]
     },
     "metadata": {},
     "output_type": "display_data"
    },
    {
     "data": {
      "application/vnd.jupyter.widget-view+json": {
       "model_id": "2b9febd3aec642cd9a05308d6ad1a9bb",
       "version_major": 2,
       "version_minor": 0
      },
      "text/plain": [
       "%20%20A%20s_FDDBYKS5XF.txt:   0%|          | 0.00/849 [00:00<?, ?B/s]"
      ]
     },
     "metadata": {},
     "output_type": "display_data"
    },
    {
     "data": {
      "application/vnd.jupyter.widget-view+json": {
       "model_id": "0036ccdfbef341af8b2f124de5630cbb",
       "version_major": 2,
       "version_minor": 0
      },
      "text/plain": [
       "%20%20A%20s_F9C2MZIIFL.txt:   0%|          | 0.00/624 [00:00<?, ?B/s]"
      ]
     },
     "metadata": {},
     "output_type": "display_data"
    },
    {
     "data": {
      "application/vnd.jupyter.widget-view+json": {
       "model_id": "0f0378b0a5c14ccd9af655e0bbe36f2b",
       "version_major": 2,
       "version_minor": 0
      },
      "text/plain": [
       "%20%20A%20s_GYGTPHUX1G.txt:   0%|          | 0.00/1.05k [00:00<?, ?B/s]"
      ]
     },
     "metadata": {},
     "output_type": "display_data"
    },
    {
     "data": {
      "application/vnd.jupyter.widget-view+json": {
       "model_id": "46898f14218a47dcac809cf038ad4dd8",
       "version_major": 2,
       "version_minor": 0
      },
      "text/plain": [
       "%20%20A%20s_HCB4TJO9ZJ.txt:   0%|          | 0.00/842 [00:00<?, ?B/s]"
      ]
     },
     "metadata": {},
     "output_type": "display_data"
    },
    {
     "data": {
      "application/vnd.jupyter.widget-view+json": {
       "model_id": "b7c4b02d7fc14188bf0b2ce827a1cd97",
       "version_major": 2,
       "version_minor": 0
      },
      "text/plain": [
       "%20%20A%20s_HPQZ32XMIM.txt:   0%|          | 0.00/676 [00:00<?, ?B/s]"
      ]
     },
     "metadata": {},
     "output_type": "display_data"
    },
    {
     "data": {
      "application/vnd.jupyter.widget-view+json": {
       "model_id": "27a2feabef424bd492f932e7084d7315",
       "version_major": 2,
       "version_minor": 0
      },
      "text/plain": [
       "%20%20A%20s_HPJSI6S614.txt:   0%|          | 0.00/449 [00:00<?, ?B/s]"
      ]
     },
     "metadata": {},
     "output_type": "display_data"
    },
    {
     "data": {
      "application/vnd.jupyter.widget-view+json": {
       "model_id": "8cbfbba017c24037bc41495e8e3459c8",
       "version_major": 2,
       "version_minor": 0
      },
      "text/plain": [
       "%20%20A%20s_IAV5RF0TT8.txt:   0%|          | 0.00/624 [00:00<?, ?B/s]"
      ]
     },
     "metadata": {},
     "output_type": "display_data"
    },
    {
     "data": {
      "application/vnd.jupyter.widget-view+json": {
       "model_id": "c890cc1c20fe4318976de8f18011946f",
       "version_major": 2,
       "version_minor": 0
      },
      "text/plain": [
       "%20%20A%20s_IS2DG4DZIF.txt:   0%|          | 0.00/750 [00:00<?, ?B/s]"
      ]
     },
     "metadata": {},
     "output_type": "display_data"
    },
    {
     "data": {
      "application/vnd.jupyter.widget-view+json": {
       "model_id": "cd51ca45c44d42748aeb044be6a02991",
       "version_major": 2,
       "version_minor": 0
      },
      "text/plain": [
       "%20%20A%20s_M92TNCN8ZM.txt:   0%|          | 0.00/607 [00:00<?, ?B/s]"
      ]
     },
     "metadata": {},
     "output_type": "display_data"
    },
    {
     "data": {
      "application/vnd.jupyter.widget-view+json": {
       "model_id": "add54966a1614ee8aa184d590f847952",
       "version_major": 2,
       "version_minor": 0
      },
      "text/plain": [
       "%20%20A%20s_OCO0IF6ENN.txt:   0%|          | 0.00/150 [00:00<?, ?B/s]"
      ]
     },
     "metadata": {},
     "output_type": "display_data"
    },
    {
     "data": {
      "application/vnd.jupyter.widget-view+json": {
       "model_id": "40e4e271622147a8b3150c1728eda359",
       "version_major": 2,
       "version_minor": 0
      },
      "text/plain": [
       "%20%20A%20s_PIFLG3ZMJR.txt:   0%|          | 0.00/615 [00:00<?, ?B/s]"
      ]
     },
     "metadata": {},
     "output_type": "display_data"
    },
    {
     "data": {
      "application/vnd.jupyter.widget-view+json": {
       "model_id": "8b28f857b1e34038bf245ff98906b474",
       "version_major": 2,
       "version_minor": 0
      },
      "text/plain": [
       "%20%20A%20s_NNRL2ITQQ0.txt:   0%|          | 0.00/905 [00:00<?, ?B/s]"
      ]
     },
     "metadata": {},
     "output_type": "display_data"
    },
    {
     "data": {
      "application/vnd.jupyter.widget-view+json": {
       "model_id": "6a51f801cb9143399ceed954e9f05359",
       "version_major": 2,
       "version_minor": 0
      },
      "text/plain": [
       "%20%20A%20s_P1AKB9SQ7Y.txt:   0%|          | 0.00/770 [00:00<?, ?B/s]"
      ]
     },
     "metadata": {},
     "output_type": "display_data"
    },
    {
     "data": {
      "application/vnd.jupyter.widget-view+json": {
       "model_id": "19882518ca7c4d7e84d8f34b8faf796d",
       "version_major": 2,
       "version_minor": 0
      },
      "text/plain": [
       "%20%20A%20s_PKHMPIP42F.txt:   0%|          | 0.00/667 [00:00<?, ?B/s]"
      ]
     },
     "metadata": {},
     "output_type": "display_data"
    },
    {
     "data": {
      "application/vnd.jupyter.widget-view+json": {
       "model_id": "29d16f35c36c4fc4b4a2c2f5bb0a8280",
       "version_major": 2,
       "version_minor": 0
      },
      "text/plain": [
       "%20%20A%20s_R5CR6DESAU.txt:   0%|          | 0.00/600 [00:00<?, ?B/s]"
      ]
     },
     "metadata": {},
     "output_type": "display_data"
    },
    {
     "data": {
      "application/vnd.jupyter.widget-view+json": {
       "model_id": "1550613cefd64afeba717cf173b5cf40",
       "version_major": 2,
       "version_minor": 0
      },
      "text/plain": [
       "%20%20A%20s_RPT0MZWFFU.txt:   0%|          | 0.00/1.65k [00:00<?, ?B/s]"
      ]
     },
     "metadata": {},
     "output_type": "display_data"
    },
    {
     "data": {
      "application/vnd.jupyter.widget-view+json": {
       "model_id": "3099caf7cac34f679551b7ab7925dc14",
       "version_major": 2,
       "version_minor": 0
      },
      "text/plain": [
       "%20%20A%20s_LXU48FMNHM.txt:   0%|          | 0.00/720 [00:00<?, ?B/s]"
      ]
     },
     "metadata": {},
     "output_type": "display_data"
    },
    {
     "data": {
      "application/vnd.jupyter.widget-view+json": {
       "model_id": "3e0ec812530248569ad2c34dca137d6c",
       "version_major": 2,
       "version_minor": 0
      },
      "text/plain": [
       "%20%20A%20s_S9QVDF7P13.txt:   0%|          | 0.00/571 [00:00<?, ?B/s]"
      ]
     },
     "metadata": {},
     "output_type": "display_data"
    },
    {
     "data": {
      "application/vnd.jupyter.widget-view+json": {
       "model_id": "5fae2e162d1e40738b6c802c25693eda",
       "version_major": 2,
       "version_minor": 0
      },
      "text/plain": [
       "%20%20A%20s_T47JAZK4A3.txt:   0%|          | 0.00/309 [00:00<?, ?B/s]"
      ]
     },
     "metadata": {},
     "output_type": "display_data"
    },
    {
     "data": {
      "application/vnd.jupyter.widget-view+json": {
       "model_id": "c158486f8f664ab98b608c3fa1bc7805",
       "version_major": 2,
       "version_minor": 0
      },
      "text/plain": [
       "%20%20A%20s_SV8WAR8Z9W.txt:   0%|          | 0.00/1.28k [00:00<?, ?B/s]"
      ]
     },
     "metadata": {},
     "output_type": "display_data"
    },
    {
     "data": {
      "application/vnd.jupyter.widget-view+json": {
       "model_id": "29855a30927841b6b5bdcb29b058d573",
       "version_major": 2,
       "version_minor": 0
      },
      "text/plain": [
       "%20%20A%20s_UGT73KIKA0.txt:   0%|          | 0.00/893 [00:00<?, ?B/s]"
      ]
     },
     "metadata": {},
     "output_type": "display_data"
    },
    {
     "data": {
      "application/vnd.jupyter.widget-view+json": {
       "model_id": "ba2c0b4b74104de1b0da02082ad4b509",
       "version_major": 2,
       "version_minor": 0
      },
      "text/plain": [
       "%20%20A%20s_V79670GHXY.txt:   0%|          | 0.00/535 [00:00<?, ?B/s]"
      ]
     },
     "metadata": {},
     "output_type": "display_data"
    },
    {
     "data": {
      "application/vnd.jupyter.widget-view+json": {
       "model_id": "7dc74e9f6f0448cb95805cd46a57de62",
       "version_major": 2,
       "version_minor": 0
      },
      "text/plain": [
       "%20%20A%20s_VLQPQFFRVO.txt:   0%|          | 0.00/364 [00:00<?, ?B/s]"
      ]
     },
     "metadata": {},
     "output_type": "display_data"
    },
    {
     "data": {
      "application/vnd.jupyter.widget-view+json": {
       "model_id": "94db2762c437486daf3c2926db8c36c6",
       "version_major": 2,
       "version_minor": 0
      },
      "text/plain": [
       "%20%20A%20s_VPTEAP29PH.txt:   0%|          | 0.00/788 [00:00<?, ?B/s]"
      ]
     },
     "metadata": {},
     "output_type": "display_data"
    },
    {
     "data": {
      "application/vnd.jupyter.widget-view+json": {
       "model_id": "1737ef77c4ea4303a4a887f946988f8c",
       "version_major": 2,
       "version_minor": 0
      },
      "text/plain": [
       "%20%20A%20s_PMQW9RJ3CV.txt:   0%|          | 0.00/790 [00:00<?, ?B/s]"
      ]
     },
     "metadata": {},
     "output_type": "display_data"
    },
    {
     "data": {
      "application/vnd.jupyter.widget-view+json": {
       "model_id": "ac9210496904402aa0446936488290be",
       "version_major": 2,
       "version_minor": 0
      },
      "text/plain": [
       "%20%20A%20t_7IHW65CWRC.txt:   0%|          | 0.00/699 [00:00<?, ?B/s]"
      ]
     },
     "metadata": {},
     "output_type": "display_data"
    },
    {
     "data": {
      "application/vnd.jupyter.widget-view+json": {
       "model_id": "7a3c88dbd7e54d5ab2fac55f3478fa4c",
       "version_major": 2,
       "version_minor": 0
      },
      "text/plain": [
       "%20%20A%20s_YOEJR1KBGR.txt:   0%|          | 0.00/1.17k [00:00<?, ?B/s]"
      ]
     },
     "metadata": {},
     "output_type": "display_data"
    },
    {
     "data": {
      "application/vnd.jupyter.widget-view+json": {
       "model_id": "95adfe0089da498183cc684baec2c123",
       "version_major": 2,
       "version_minor": 0
      },
      "text/plain": [
       "%20%20A%20t_0627RKG5BU.txt:   0%|          | 0.00/719 [00:00<?, ?B/s]"
      ]
     },
     "metadata": {},
     "output_type": "display_data"
    },
    {
     "data": {
      "application/vnd.jupyter.widget-view+json": {
       "model_id": "7df60ef4c67b4bdd982f20b3be68ff01",
       "version_major": 2,
       "version_minor": 0
      },
      "text/plain": [
       "%20%20A%20s_WOMQRLIO5C.txt:   0%|          | 0.00/845 [00:00<?, ?B/s]"
      ]
     },
     "metadata": {},
     "output_type": "display_data"
    },
    {
     "data": {
      "application/vnd.jupyter.widget-view+json": {
       "model_id": "37d72fc5811544e781e120a44f108184",
       "version_major": 2,
       "version_minor": 0
      },
      "text/plain": [
       "%20%20A%20t_AEJK5R4OZR.txt:   0%|          | 0.00/837 [00:00<?, ?B/s]"
      ]
     },
     "metadata": {},
     "output_type": "display_data"
    },
    {
     "data": {
      "application/vnd.jupyter.widget-view+json": {
       "model_id": "f4bd8e354c56477687fb076e06c6dc40",
       "version_major": 2,
       "version_minor": 0
      },
      "text/plain": [
       "%20%20A%20t_4Z1PIWGKQW.txt:   0%|          | 0.00/1.27k [00:00<?, ?B/s]"
      ]
     },
     "metadata": {},
     "output_type": "display_data"
    },
    {
     "data": {
      "application/vnd.jupyter.widget-view+json": {
       "model_id": "1138df5e7423400d8b0b425e7189470e",
       "version_major": 2,
       "version_minor": 0
      },
      "text/plain": [
       "%20%20A%20s_X5PSDDYXTY.txt:   0%|          | 0.00/87.0 [00:00<?, ?B/s]"
      ]
     },
     "metadata": {},
     "output_type": "display_data"
    },
    {
     "data": {
      "application/vnd.jupyter.widget-view+json": {
       "model_id": "313e6b6d46e24f7597a0080c130d2bd2",
       "version_major": 2,
       "version_minor": 0
      },
      "text/plain": [
       "%20%20A%20s_WBBQU4O6R9.txt:   0%|          | 0.00/674 [00:00<?, ?B/s]"
      ]
     },
     "metadata": {},
     "output_type": "display_data"
    },
    {
     "data": {
      "application/vnd.jupyter.widget-view+json": {
       "model_id": "5a35e8228dc94255ae31e7036a5f5cd4",
       "version_major": 2,
       "version_minor": 0
      },
      "text/plain": [
       "%20%20A%20s_VSN47IK8P0.txt:   0%|          | 0.00/46.0 [00:00<?, ?B/s]"
      ]
     },
     "metadata": {},
     "output_type": "display_data"
    },
    {
     "data": {
      "application/vnd.jupyter.widget-view+json": {
       "model_id": "1a5eddf4f344440c84cb2e6332477dd0",
       "version_major": 2,
       "version_minor": 0
      },
      "text/plain": [
       "%20%20A%20s_XPTBP354RO.txt:   0%|          | 0.00/610 [00:00<?, ?B/s]"
      ]
     },
     "metadata": {},
     "output_type": "display_data"
    },
    {
     "data": {
      "application/vnd.jupyter.widget-view+json": {
       "model_id": "1ec3379311934009a12d9916132990c6",
       "version_major": 2,
       "version_minor": 0
      },
      "text/plain": [
       "%20%20A%20t_IBQCG691EJ.txt:   0%|          | 0.00/1.64k [00:00<?, ?B/s]"
      ]
     },
     "metadata": {},
     "output_type": "display_data"
    },
    {
     "data": {
      "application/vnd.jupyter.widget-view+json": {
       "model_id": "f8837841ac6c4befb00eecfc1c62fa07",
       "version_major": 2,
       "version_minor": 0
      },
      "text/plain": [
       "%20%20A%20t_HGY725C89L.txt:   0%|          | 0.00/1.43k [00:00<?, ?B/s]"
      ]
     },
     "metadata": {},
     "output_type": "display_data"
    },
    {
     "data": {
      "application/vnd.jupyter.widget-view+json": {
       "model_id": "b6fb4471258d48ca86fe10d83f545afe",
       "version_major": 2,
       "version_minor": 0
      },
      "text/plain": [
       "%20%20A%20t_B8CP68W0KO.txt:   0%|          | 0.00/823 [00:00<?, ?B/s]"
      ]
     },
     "metadata": {},
     "output_type": "display_data"
    },
    {
     "data": {
      "application/vnd.jupyter.widget-view+json": {
       "model_id": "ed9a8cc3b49344c5a90cf7e06b8e0c0b",
       "version_major": 2,
       "version_minor": 0
      },
      "text/plain": [
       "%20%20A%20t_QSWGN05RY0.txt:   0%|          | 0.00/470 [00:00<?, ?B/s]"
      ]
     },
     "metadata": {},
     "output_type": "display_data"
    },
    {
     "data": {
      "application/vnd.jupyter.widget-view+json": {
       "model_id": "8d4a7bd421474723a2de0fb23669eeb1",
       "version_major": 2,
       "version_minor": 0
      },
      "text/plain": [
       "%20%20A%20t_R7REH0IJIB.txt:   0%|          | 0.00/1.50k [00:00<?, ?B/s]"
      ]
     },
     "metadata": {},
     "output_type": "display_data"
    },
    {
     "data": {
      "application/vnd.jupyter.widget-view+json": {
       "model_id": "9e3c87aa406a4ad5be1e7dcc65d9ab6e",
       "version_major": 2,
       "version_minor": 0
      },
      "text/plain": [
       "%20%20A%20t_T5QVLV7HAI.txt:   0%|          | 0.00/616 [00:00<?, ?B/s]"
      ]
     },
     "metadata": {},
     "output_type": "display_data"
    },
    {
     "data": {
      "application/vnd.jupyter.widget-view+json": {
       "model_id": "9946a1d6bc884bd6991ec6443fc7df69",
       "version_major": 2,
       "version_minor": 0
      },
      "text/plain": [
       "%20%20A%20t_VY0TUO0SFX.txt:   0%|          | 0.00/598 [00:00<?, ?B/s]"
      ]
     },
     "metadata": {},
     "output_type": "display_data"
    },
    {
     "data": {
      "application/vnd.jupyter.widget-view+json": {
       "model_id": "33e83ee9cf12446bb2b1d63f12d88afe",
       "version_major": 2,
       "version_minor": 0
      },
      "text/plain": [
       "%20%20A%20t_UJ2S8K2EJ3.txt:   0%|          | 0.00/745 [00:00<?, ?B/s]"
      ]
     },
     "metadata": {},
     "output_type": "display_data"
    },
    {
     "data": {
      "application/vnd.jupyter.widget-view+json": {
       "model_id": "e2a8e416273643069bee2cd9c10ebd09",
       "version_major": 2,
       "version_minor": 0
      },
      "text/plain": [
       "%20%20A%20t_ZVQ5BVVK8F.txt:   0%|          | 0.00/1.25k [00:00<?, ?B/s]"
      ]
     },
     "metadata": {},
     "output_type": "display_data"
    },
    {
     "data": {
      "application/vnd.jupyter.widget-view+json": {
       "model_id": "01d3c7acadd4437398741fcf77423b49",
       "version_major": 2,
       "version_minor": 0
      },
      "text/plain": [
       "%20%20A%20u_S5AKZU8MBW.txt:   0%|          | 0.00/1.32k [00:00<?, ?B/s]"
      ]
     },
     "metadata": {},
     "output_type": "display_data"
    },
    {
     "data": {
      "application/vnd.jupyter.widget-view+json": {
       "model_id": "dcfc596b2a66488aacfb381ed9647fa0",
       "version_major": 2,
       "version_minor": 0
      },
      "text/plain": [
       "%20%20A%20u_4MRG2YZISD.txt:   0%|          | 0.00/1.34k [00:00<?, ?B/s]"
      ]
     },
     "metadata": {},
     "output_type": "display_data"
    },
    {
     "data": {
      "application/vnd.jupyter.widget-view+json": {
       "model_id": "b141ed171d9642f3a9dc4e68c77c7c05",
       "version_major": 2,
       "version_minor": 0
      },
      "text/plain": [
       "%20%20A%20t_IKKEBIBW9W.txt:   0%|          | 0.00/449 [00:00<?, ?B/s]"
      ]
     },
     "metadata": {},
     "output_type": "display_data"
    },
    {
     "data": {
      "application/vnd.jupyter.widget-view+json": {
       "model_id": "237fa645ecc848c6b81d546b15cee728",
       "version_major": 2,
       "version_minor": 0
      },
      "text/plain": [
       "%20%20A%20v_BVNTU8D57Q.txt:   0%|          | 0.00/270 [00:00<?, ?B/s]"
      ]
     },
     "metadata": {},
     "output_type": "display_data"
    },
    {
     "data": {
      "application/vnd.jupyter.widget-view+json": {
       "model_id": "f864bfe37e9a4bffbf67a511909a72a9",
       "version_major": 2,
       "version_minor": 0
      },
      "text/plain": [
       "%20%20A%20v_ESMCQG0K67.txt:   0%|          | 0.00/536 [00:00<?, ?B/s]"
      ]
     },
     "metadata": {},
     "output_type": "display_data"
    },
    {
     "data": {
      "application/vnd.jupyter.widget-view+json": {
       "model_id": "700879d7787c40eca29c8d356c8864ff",
       "version_major": 2,
       "version_minor": 0
      },
      "text/plain": [
       "%20%20A%20t_KXC4SXQ2CM.txt:   0%|          | 0.00/335 [00:00<?, ?B/s]"
      ]
     },
     "metadata": {},
     "output_type": "display_data"
    },
    {
     "data": {
      "application/vnd.jupyter.widget-view+json": {
       "model_id": "0750d320abc140b5b26d4250b7885adc",
       "version_major": 2,
       "version_minor": 0
      },
      "text/plain": [
       "%20%20A%20v_5J9B0PPSI7.txt:   0%|          | 0.00/609 [00:00<?, ?B/s]"
      ]
     },
     "metadata": {},
     "output_type": "display_data"
    },
    {
     "data": {
      "application/vnd.jupyter.widget-view+json": {
       "model_id": "8345fb7d7add4862a23b8b2faa451cb0",
       "version_major": 2,
       "version_minor": 0
      },
      "text/plain": [
       "%20%20A%20t_YD03SO5020.txt:   0%|          | 0.00/744 [00:00<?, ?B/s]"
      ]
     },
     "metadata": {},
     "output_type": "display_data"
    },
    {
     "data": {
      "application/vnd.jupyter.widget-view+json": {
       "model_id": "cef4c937bdfb4f3abe6ba530dff5d3c2",
       "version_major": 2,
       "version_minor": 0
      },
      "text/plain": [
       "%20%20A%20u_3L2QJGDK3R.txt:   0%|          | 0.00/331 [00:00<?, ?B/s]"
      ]
     },
     "metadata": {},
     "output_type": "display_data"
    },
    {
     "data": {
      "application/vnd.jupyter.widget-view+json": {
       "model_id": "abb4a2c1de574df69abd151a454436e1",
       "version_major": 2,
       "version_minor": 0
      },
      "text/plain": [
       "%20%20A%20v_HUFHNK198B.txt:   0%|          | 0.00/1.21k [00:00<?, ?B/s]"
      ]
     },
     "metadata": {},
     "output_type": "display_data"
    },
    {
     "data": {
      "application/vnd.jupyter.widget-view+json": {
       "model_id": "72bbfa02998b4f0cb1207762af4a78ed",
       "version_major": 2,
       "version_minor": 0
      },
      "text/plain": [
       "%20%20A%20w_N63ZKGXOBX.txt:   0%|          | 0.00/1.25k [00:00<?, ?B/s]"
      ]
     },
     "metadata": {},
     "output_type": "display_data"
    },
    {
     "data": {
      "application/vnd.jupyter.widget-view+json": {
       "model_id": "997729c1460d4d89811985ae46e4a396",
       "version_major": 2,
       "version_minor": 0
      },
      "text/plain": [
       "%20%20A%20%7B_NSRAAPG7QX.txt:   0%|          | 0.00/398 [00:00<?, ?B/s]"
      ]
     },
     "metadata": {},
     "output_type": "display_data"
    },
    {
     "data": {
      "application/vnd.jupyter.widget-view+json": {
       "model_id": "02297e5206b745b987b4d7fdb4f27538",
       "version_major": 2,
       "version_minor": 0
      },
      "text/plain": [
       "%20%20AIM_7TUXQCYRG5.txt:   0%|          | 0.00/1.43k [00:00<?, ?B/s]"
      ]
     },
     "metadata": {},
     "output_type": "display_data"
    },
    {
     "data": {
      "application/vnd.jupyter.widget-view+json": {
       "model_id": "f3fe907222154051a6811a67aa056f87",
       "version_major": 2,
       "version_minor": 0
      },
      "text/plain": [
       "%20%20AIM_VEYZJ12O8A.txt:   0%|          | 0.00/1.79k [00:00<?, ?B/s]"
      ]
     },
     "metadata": {},
     "output_type": "display_data"
    },
    {
     "data": {
      "application/vnd.jupyter.widget-view+json": {
       "model_id": "76efcf1b7c81425aa410a6d4ca7d863b",
       "version_major": 2,
       "version_minor": 0
      },
      "text/plain": [
       "%20%20AIM_5XVPN8NOEE.txt:   0%|          | 0.00/1.71k [00:00<?, ?B/s]"
      ]
     },
     "metadata": {},
     "output_type": "display_data"
    },
    {
     "data": {
      "application/vnd.jupyter.widget-view+json": {
       "model_id": "5568bac5e75d4db09e34e97fa5c7e3f7",
       "version_major": 2,
       "version_minor": 0
      },
      "text/plain": [
       "%20%20AC%20_VE276WJY2V.txt:   0%|          | 0.00/569 [00:00<?, ?B/s]"
      ]
     },
     "metadata": {},
     "output_type": "display_data"
    },
    {
     "data": {
      "application/vnd.jupyter.widget-view+json": {
       "model_id": "c23dcecb8e3b4774b751f8adab5eb5fb",
       "version_major": 2,
       "version_minor": 0
      },
      "text/plain": [
       "%20%20ALI_4VMWZC5GNA.txt:   0%|          | 0.00/233 [00:00<?, ?B/s]"
      ]
     },
     "metadata": {},
     "output_type": "display_data"
    },
    {
     "data": {
      "application/vnd.jupyter.widget-view+json": {
       "model_id": "2cd14765ab50420985e4e3e401df3fea",
       "version_major": 2,
       "version_minor": 0
      },
      "text/plain": [
       "%20%20ALH_L7P3SZK5IO.txt:   0%|          | 0.00/554 [00:00<?, ?B/s]"
      ]
     },
     "metadata": {},
     "output_type": "display_data"
    },
    {
     "data": {
      "application/vnd.jupyter.widget-view+json": {
       "model_id": "34d437c4cdcd44a2842ba270b8d43ec8",
       "version_major": 2,
       "version_minor": 0
      },
      "text/plain": [
       "%20%20ALP_BSUV8JK00A.txt:   0%|          | 0.00/359 [00:00<?, ?B/s]"
      ]
     },
     "metadata": {},
     "output_type": "display_data"
    },
    {
     "data": {
      "application/vnd.jupyter.widget-view+json": {
       "model_id": "a70445697726428ab07b70994d0d1922",
       "version_major": 2,
       "version_minor": 0
      },
      "text/plain": [
       "%20%20A%20u_H7S38ZVA59.txt:   0%|          | 0.00/380 [00:00<?, ?B/s]"
      ]
     },
     "metadata": {},
     "output_type": "display_data"
    },
    {
     "data": {
      "application/vnd.jupyter.widget-view+json": {
       "model_id": "7f10a0ed183b46f29f812ff7301a4c50",
       "version_major": 2,
       "version_minor": 0
      },
      "text/plain": [
       "%20%20AST_C82SF08VBV.txt:   0%|          | 0.00/978 [00:00<?, ?B/s]"
      ]
     },
     "metadata": {},
     "output_type": "display_data"
    },
    {
     "data": {
      "application/vnd.jupyter.widget-view+json": {
       "model_id": "9e27c518991243ba9eaeebd24ac1e525",
       "version_major": 2,
       "version_minor": 0
      },
      "text/plain": [
       "%20%20AST_RAUM7IGXEI.txt:   0%|          | 0.00/1.13k [00:00<?, ?B/s]"
      ]
     },
     "metadata": {},
     "output_type": "display_data"
    },
    {
     "data": {
      "application/vnd.jupyter.widget-view+json": {
       "model_id": "99d58793858d42ed8187ba0c72e4cdf1",
       "version_major": 2,
       "version_minor": 0
      },
      "text/plain": [
       "%20%20AU%20_MB7K1VM260.txt:   0%|          | 0.00/873 [00:00<?, ?B/s]"
      ]
     },
     "metadata": {},
     "output_type": "display_data"
    },
    {
     "data": {
      "application/vnd.jupyter.widget-view+json": {
       "model_id": "d06eeb3369cb41038706c87faa85009c",
       "version_major": 2,
       "version_minor": 0
      },
      "text/plain": [
       "%20%20Abe_ZA49NCN1T8.txt:   0%|          | 0.00/1.24k [00:00<?, ?B/s]"
      ]
     },
     "metadata": {},
     "output_type": "display_data"
    },
    {
     "data": {
      "application/vnd.jupyter.widget-view+json": {
       "model_id": "27afc5b704ed4e3eabf64ea44e788771",
       "version_major": 2,
       "version_minor": 0
      },
      "text/plain": [
       "%20%20Abo_M5PL0GJPYG.txt:   0%|          | 0.00/1.13k [00:00<?, ?B/s]"
      ]
     },
     "metadata": {},
     "output_type": "display_data"
    },
    {
     "data": {
      "application/vnd.jupyter.widget-view+json": {
       "model_id": "7bdceac72e594140aa1d57a89149ef2d",
       "version_major": 2,
       "version_minor": 0
      },
      "text/plain": [
       "%20%20Abo_BNZUY39CWP.txt:   0%|          | 0.00/860 [00:00<?, ?B/s]"
      ]
     },
     "metadata": {},
     "output_type": "display_data"
    },
    {
     "data": {
      "application/vnd.jupyter.widget-view+json": {
       "model_id": "94947630920b4771b03f1223275ca110",
       "version_major": 2,
       "version_minor": 0
      },
      "text/plain": [
       "%20%20Ab%20_YHRZ1UJ5L0.txt:   0%|          | 0.00/1.26k [00:00<?, ?B/s]"
      ]
     },
     "metadata": {},
     "output_type": "display_data"
    },
    {
     "data": {
      "application/vnd.jupyter.widget-view+json": {
       "model_id": "5e32903adeb0450294a75370234fa327",
       "version_major": 2,
       "version_minor": 0
      },
      "text/plain": [
       "%20%20Abr_8NY2R8MF5V.txt:   0%|          | 0.00/1.34k [00:00<?, ?B/s]"
      ]
     },
     "metadata": {},
     "output_type": "display_data"
    },
    {
     "data": {
      "application/vnd.jupyter.widget-view+json": {
       "model_id": "5e813a18de804f00afe2dcb0485e1335",
       "version_major": 2,
       "version_minor": 0
      },
      "text/plain": [
       "%20%20Abr_PSBO1NCDB4.txt:   0%|          | 0.00/1.67k [00:00<?, ?B/s]"
      ]
     },
     "metadata": {},
     "output_type": "display_data"
    },
    {
     "data": {
      "application/vnd.jupyter.widget-view+json": {
       "model_id": "1e34477f0178489cb35b7ea27d4caccf",
       "version_major": 2,
       "version_minor": 0
      },
      "text/plain": [
       "%20%20Acc_8LWGBLRC2O.txt:   0%|          | 0.00/828 [00:00<?, ?B/s]"
      ]
     },
     "metadata": {},
     "output_type": "display_data"
    },
    {
     "data": {
      "application/vnd.jupyter.widget-view+json": {
       "model_id": "983e000b303a4430afe4c9c9eca6ede7",
       "version_major": 2,
       "version_minor": 0
      },
      "text/plain": [
       "%20%20Acc_9WSTGTMVHR.txt:   0%|          | 0.00/951 [00:00<?, ?B/s]"
      ]
     },
     "metadata": {},
     "output_type": "display_data"
    },
    {
     "data": {
      "application/vnd.jupyter.widget-view+json": {
       "model_id": "5cb04a6740074d56a0e82be1dae760e4",
       "version_major": 2,
       "version_minor": 0
      },
      "text/plain": [
       "%20%20Acc_ANCDTGQU2I.txt:   0%|          | 0.00/866 [00:00<?, ?B/s]"
      ]
     },
     "metadata": {},
     "output_type": "display_data"
    },
    {
     "data": {
      "application/vnd.jupyter.widget-view+json": {
       "model_id": "a9715eaca61d4970b10180024df60486",
       "version_major": 2,
       "version_minor": 0
      },
      "text/plain": [
       "%20%20Acc_LVQAFRVSNM.txt:   0%|          | 0.00/960 [00:00<?, ?B/s]"
      ]
     },
     "metadata": {},
     "output_type": "display_data"
    },
    {
     "data": {
      "application/vnd.jupyter.widget-view+json": {
       "model_id": "f82c4fdbc61142ce916a2eba3e45f966",
       "version_major": 2,
       "version_minor": 0
      },
      "text/plain": [
       "%20%20Acc_IZW011BH4J.txt:   0%|          | 0.00/1.16k [00:00<?, ?B/s]"
      ]
     },
     "metadata": {},
     "output_type": "display_data"
    },
    {
     "data": {
      "application/vnd.jupyter.widget-view+json": {
       "model_id": "225e39c7d0c3405290c4625ffa17ad02",
       "version_major": 2,
       "version_minor": 0
      },
      "text/plain": [
       "%20%20Acc_V16Y3PDCTE.txt:   0%|          | 0.00/1.81k [00:00<?, ?B/s]"
      ]
     },
     "metadata": {},
     "output_type": "display_data"
    },
    {
     "data": {
      "application/vnd.jupyter.widget-view+json": {
       "model_id": "35de3a51924940abb09d4c08bf3ba0d3",
       "version_major": 2,
       "version_minor": 0
      },
      "text/plain": [
       "%20%20Act_GWZS6VD3RR.txt:   0%|          | 0.00/578 [00:00<?, ?B/s]"
      ]
     },
     "metadata": {},
     "output_type": "display_data"
    },
    {
     "data": {
      "application/vnd.jupyter.widget-view+json": {
       "model_id": "5a695006b812457ca2d2496e050c28eb",
       "version_major": 2,
       "version_minor": 0
      },
      "text/plain": [
       "%20%20Act_AANZZRFDUD.txt:   0%|          | 0.00/1.51k [00:00<?, ?B/s]"
      ]
     },
     "metadata": {},
     "output_type": "display_data"
    },
    {
     "data": {
      "application/vnd.jupyter.widget-view+json": {
       "model_id": "e3a93117269145a5a956ed93fb0dbdda",
       "version_major": 2,
       "version_minor": 0
      },
      "text/plain": [
       "%20%20Act_M5AEERTEWD.txt:   0%|          | 0.00/718 [00:00<?, ?B/s]"
      ]
     },
     "metadata": {},
     "output_type": "display_data"
    },
    {
     "data": {
      "application/vnd.jupyter.widget-view+json": {
       "model_id": "3c7f6c236d3a4058a60241c3ac28bb58",
       "version_major": 2,
       "version_minor": 0
      },
      "text/plain": [
       "%20%20Ada_GGGN51E4YU.txt:   0%|          | 0.00/656 [00:00<?, ?B/s]"
      ]
     },
     "metadata": {},
     "output_type": "display_data"
    },
    {
     "data": {
      "application/vnd.jupyter.widget-view+json": {
       "model_id": "a10888c5ea0e4a2493df80f5f674ef8b",
       "version_major": 2,
       "version_minor": 0
      },
      "text/plain": [
       "%20%20Add_W0H64MDLX3.txt:   0%|          | 0.00/1.65k [00:00<?, ?B/s]"
      ]
     },
     "metadata": {},
     "output_type": "display_data"
    },
    {
     "data": {
      "application/vnd.jupyter.widget-view+json": {
       "model_id": "fb00f05d8f214ddfb51f48dd51a0d163",
       "version_major": 2,
       "version_minor": 0
      },
      "text/plain": [
       "%20%20Add_9M3Q1E6MWH.txt:   0%|          | 0.00/365 [00:00<?, ?B/s]"
      ]
     },
     "metadata": {},
     "output_type": "display_data"
    },
    {
     "data": {
      "application/vnd.jupyter.widget-view+json": {
       "model_id": "3d24572ed0e94c728bcdaa4b36106606",
       "version_major": 2,
       "version_minor": 0
      },
      "text/plain": [
       "%20%20Abr_HPKBNQXCFZ.txt:   0%|          | 0.00/1.40k [00:00<?, ?B/s]"
      ]
     },
     "metadata": {},
     "output_type": "display_data"
    },
    {
     "data": {
      "application/vnd.jupyter.widget-view+json": {
       "model_id": "121f4eaf955149c5a3d08e372715d1a4",
       "version_major": 2,
       "version_minor": 0
      },
      "text/plain": [
       "%20%20Adm_4G2VJYSEFD.txt:   0%|          | 0.00/1.21k [00:00<?, ?B/s]"
      ]
     },
     "metadata": {},
     "output_type": "display_data"
    },
    {
     "data": {
      "application/vnd.jupyter.widget-view+json": {
       "model_id": "e738dcb694e94b26aec078515feec18f",
       "version_major": 2,
       "version_minor": 0
      },
      "text/plain": [
       "%20%20Adv_D4ZYXEPCYY.txt:   0%|          | 0.00/826 [00:00<?, ?B/s]"
      ]
     },
     "metadata": {},
     "output_type": "display_data"
    },
    {
     "data": {
      "application/vnd.jupyter.widget-view+json": {
       "model_id": "b3e449a2ae4f47efb30719a20da1b880",
       "version_major": 2,
       "version_minor": 0
      },
      "text/plain": [
       "%20%20Aft_CUWFEXT5RE.txt:   0%|          | 0.00/404 [00:00<?, ?B/s]"
      ]
     },
     "metadata": {},
     "output_type": "display_data"
    },
    {
     "data": {
      "application/vnd.jupyter.widget-view+json": {
       "model_id": "e005d08c44f74e95a28dcb958b84139a",
       "version_major": 2,
       "version_minor": 0
      },
      "text/plain": [
       "%20%20Act_TVHJMHDKZU.txt:   0%|          | 0.00/639 [00:00<?, ?B/s]"
      ]
     },
     "metadata": {},
     "output_type": "display_data"
    },
    {
     "data": {
      "application/vnd.jupyter.widget-view+json": {
       "model_id": "7c35b03ee8d24552a5bdf3495918baf4",
       "version_major": 2,
       "version_minor": 0
      },
      "text/plain": [
       "%20%20Aft_D1DXO1C8DG.txt:   0%|          | 0.00/507 [00:00<?, ?B/s]"
      ]
     },
     "metadata": {},
     "output_type": "display_data"
    },
    {
     "data": {
      "application/vnd.jupyter.widget-view+json": {
       "model_id": "eab55f68862245c6939df54f2d99d80f",
       "version_major": 2,
       "version_minor": 0
      },
      "text/plain": [
       "%20%20Adv_258P9FV0V7.txt:   0%|          | 0.00/1.14k [00:00<?, ?B/s]"
      ]
     },
     "metadata": {},
     "output_type": "display_data"
    },
    {
     "data": {
      "application/vnd.jupyter.widget-view+json": {
       "model_id": "ae155846968e4fdb85be87c44b7aedeb",
       "version_major": 2,
       "version_minor": 0
      },
      "text/plain": [
       "%20%20Adm_XBXVPT6I9U.txt:   0%|          | 0.00/1.13k [00:00<?, ?B/s]"
      ]
     },
     "metadata": {},
     "output_type": "display_data"
    },
    {
     "data": {
      "application/vnd.jupyter.widget-view+json": {
       "model_id": "b68333ff4a3348619008da9a56a9295a",
       "version_major": 2,
       "version_minor": 0
      },
      "text/plain": [
       "%20%20Aft_9CA0713RF6.txt:   0%|          | 0.00/230 [00:00<?, ?B/s]"
      ]
     },
     "metadata": {},
     "output_type": "display_data"
    },
    {
     "data": {
      "application/vnd.jupyter.widget-view+json": {
       "model_id": "a608ea0d80ea442d8b769eb4c343b7cc",
       "version_major": 2,
       "version_minor": 0
      },
      "text/plain": [
       "%20%20Aft_EUIV1NZSR1.txt:   0%|          | 0.00/329 [00:00<?, ?B/s]"
      ]
     },
     "metadata": {},
     "output_type": "display_data"
    },
    {
     "data": {
      "application/vnd.jupyter.widget-view+json": {
       "model_id": "c16450b7a2824fdbb7d3f40641bd39e6",
       "version_major": 2,
       "version_minor": 0
      },
      "text/plain": [
       "%20%20Aft_IUFG8GTID9.txt:   0%|          | 0.00/1.37k [00:00<?, ?B/s]"
      ]
     },
     "metadata": {},
     "output_type": "display_data"
    },
    {
     "data": {
      "application/vnd.jupyter.widget-view+json": {
       "model_id": "8eed8f097b114347851d217d4fa36b95",
       "version_major": 2,
       "version_minor": 0
      },
      "text/plain": [
       "%20%20Aft_JKA3MNWSK7.txt:   0%|          | 0.00/159 [00:00<?, ?B/s]"
      ]
     },
     "metadata": {},
     "output_type": "display_data"
    },
    {
     "data": {
      "application/vnd.jupyter.widget-view+json": {
       "model_id": "e85b757387e5485a9e5120a7bae16f7f",
       "version_major": 2,
       "version_minor": 0
      },
      "text/plain": [
       "%20%20Aft_QA657TCAK6.txt:   0%|          | 0.00/625 [00:00<?, ?B/s]"
      ]
     },
     "metadata": {},
     "output_type": "display_data"
    },
    {
     "data": {
      "application/vnd.jupyter.widget-view+json": {
       "model_id": "8db6291fb98144c18e92ed5485d83b02",
       "version_major": 2,
       "version_minor": 0
      },
      "text/plain": [
       "%20%20Aft_R0B58JFAY1.txt:   0%|          | 0.00/424 [00:00<?, ?B/s]"
      ]
     },
     "metadata": {},
     "output_type": "display_data"
    },
    {
     "data": {
      "application/vnd.jupyter.widget-view+json": {
       "model_id": "f737bfd80f3b4ee982a9087d2aa0c5e0",
       "version_major": 2,
       "version_minor": 0
      },
      "text/plain": [
       "%20%20Aft_NS2N1JO9WT.txt:   0%|          | 0.00/1.75k [00:00<?, ?B/s]"
      ]
     },
     "metadata": {},
     "output_type": "display_data"
    },
    {
     "data": {
      "application/vnd.jupyter.widget-view+json": {
       "model_id": "280d9c98523a443988070ff5051b9819",
       "version_major": 2,
       "version_minor": 0
      },
      "text/plain": [
       "%20%20Aft_SCWP0EZXPA.txt:   0%|          | 0.00/439 [00:00<?, ?B/s]"
      ]
     },
     "metadata": {},
     "output_type": "display_data"
    },
    {
     "data": {
      "application/vnd.jupyter.widget-view+json": {
       "model_id": "04a674f69bb8449daf0e93fd23c762c0",
       "version_major": 2,
       "version_minor": 0
      },
      "text/plain": [
       "%20%20Aff_OT2O62ZE9R.txt:   0%|          | 0.00/1.19k [00:00<?, ?B/s]"
      ]
     },
     "metadata": {},
     "output_type": "display_data"
    },
    {
     "data": {
      "application/vnd.jupyter.widget-view+json": {
       "model_id": "6f21b8a25c5c4197a73b75164fe7b5b0",
       "version_major": 2,
       "version_minor": 0
      },
      "text/plain": [
       "%20%20Aim_2N9K6KK04C.txt:   0%|          | 0.00/718 [00:00<?, ?B/s]"
      ]
     },
     "metadata": {},
     "output_type": "display_data"
    },
    {
     "data": {
      "application/vnd.jupyter.widget-view+json": {
       "model_id": "cf287ab84b684545a2fd5b5ab318b91d",
       "version_major": 2,
       "version_minor": 0
      },
      "text/plain": [
       "%20%20Aim_2F442ZDXI3.txt:   0%|          | 0.00/1.49k [00:00<?, ?B/s]"
      ]
     },
     "metadata": {},
     "output_type": "display_data"
    },
    {
     "data": {
      "application/vnd.jupyter.widget-view+json": {
       "model_id": "13b05e9a46ca4541b0e1c78bc2ca495b",
       "version_major": 2,
       "version_minor": 0
      },
      "text/plain": [
       "%20%20Aim_OJ4ZRK0MZR.txt:   0%|          | 0.00/1.78k [00:00<?, ?B/s]"
      ]
     },
     "metadata": {},
     "output_type": "display_data"
    },
    {
     "data": {
      "application/vnd.jupyter.widget-view+json": {
       "model_id": "71087f920a4c4a5392faa7f0d40572d2",
       "version_major": 2,
       "version_minor": 0
      },
      "text/plain": [
       "%20%20Aim_I8Z8BZ5EBD.txt:   0%|          | 0.00/1.11k [00:00<?, ?B/s]"
      ]
     },
     "metadata": {},
     "output_type": "display_data"
    },
    {
     "data": {
      "application/vnd.jupyter.widget-view+json": {
       "model_id": "185688cb396e4c679e62246e479369d9",
       "version_major": 2,
       "version_minor": 0
      },
      "text/plain": [
       "%20%20Aim_ONQ5OL3IX4.txt:   0%|          | 0.00/1.76k [00:00<?, ?B/s]"
      ]
     },
     "metadata": {},
     "output_type": "display_data"
    },
    {
     "data": {
      "application/vnd.jupyter.widget-view+json": {
       "model_id": "3f7482e5911d4e878488ac45e26cefab",
       "version_major": 2,
       "version_minor": 0
      },
      "text/plain": [
       "%20%20Aim_R6625GCZX8.txt:   0%|          | 0.00/1.64k [00:00<?, ?B/s]"
      ]
     },
     "metadata": {},
     "output_type": "display_data"
    },
    {
     "data": {
      "application/vnd.jupyter.widget-view+json": {
       "model_id": "7f8a7427debd47bd8557d99de02c7ce0",
       "version_major": 2,
       "version_minor": 0
      },
      "text/plain": [
       "%20%20Aim_AJOID1OZ6S.txt:   0%|          | 0.00/1.11k [00:00<?, ?B/s]"
      ]
     },
     "metadata": {},
     "output_type": "display_data"
    },
    {
     "data": {
      "application/vnd.jupyter.widget-view+json": {
       "model_id": "79157bf511cb4de0a85abf7227b6aa1f",
       "version_major": 2,
       "version_minor": 0
      },
      "text/plain": [
       "%20%20Aim_86T3K28PB9.txt:   0%|          | 0.00/1.13k [00:00<?, ?B/s]"
      ]
     },
     "metadata": {},
     "output_type": "display_data"
    },
    {
     "data": {
      "application/vnd.jupyter.widget-view+json": {
       "model_id": "2ce0662832b64cbaac89737a1f5ea8ab",
       "version_major": 2,
       "version_minor": 0
      },
      "text/plain": [
       "%20%20Aim_TV7NTJ4MWS.txt:   0%|          | 0.00/1.43k [00:00<?, ?B/s]"
      ]
     },
     "metadata": {},
     "output_type": "display_data"
    },
    {
     "data": {
      "application/vnd.jupyter.widget-view+json": {
       "model_id": "154d2f9ca29246ba974c0e9b46aa890a",
       "version_major": 2,
       "version_minor": 0
      },
      "text/plain": [
       "%20%20Aft_W70OYAH45I.txt:   0%|          | 0.00/964 [00:00<?, ?B/s]"
      ]
     },
     "metadata": {},
     "output_type": "display_data"
    },
    {
     "data": {
      "application/vnd.jupyter.widget-view+json": {
       "model_id": "f5ee849e54fa4808adfea7ed53091cc4",
       "version_major": 2,
       "version_minor": 0
      },
      "text/plain": [
       "%20%20Aim_VE0QD5W0GX.txt:   0%|          | 0.00/1.60k [00:00<?, ?B/s]"
      ]
     },
     "metadata": {},
     "output_type": "display_data"
    },
    {
     "data": {
      "application/vnd.jupyter.widget-view+json": {
       "model_id": "5fd99ebec2634507ae076e52f8e025ba",
       "version_major": 2,
       "version_minor": 0
      },
      "text/plain": [
       "%20%20Air_AFP6TH2A1S.txt:   0%|          | 0.00/1.13k [00:00<?, ?B/s]"
      ]
     },
     "metadata": {},
     "output_type": "display_data"
    },
    {
     "data": {
      "application/vnd.jupyter.widget-view+json": {
       "model_id": "d587dc088c51485e9e437c8837847101",
       "version_major": 2,
       "version_minor": 0
      },
      "text/plain": [
       "%20%20Aim_ZE7Y65A9O1.txt:   0%|          | 0.00/1.26k [00:00<?, ?B/s]"
      ]
     },
     "metadata": {},
     "output_type": "display_data"
    },
    {
     "data": {
      "application/vnd.jupyter.widget-view+json": {
       "model_id": "dc2e1c1e51954186a6c8e0032eabe820",
       "version_major": 2,
       "version_minor": 0
      },
      "text/plain": [
       "%20%20Alg_2ROP1OGZQQ.txt:   0%|          | 0.00/651 [00:00<?, ?B/s]"
      ]
     },
     "metadata": {},
     "output_type": "display_data"
    },
    {
     "data": {
      "application/vnd.jupyter.widget-view+json": {
       "model_id": "ff7ae95bd628407d937e956c021a361c",
       "version_major": 2,
       "version_minor": 0
      },
      "text/plain": [
       "%20%20All_DZJ0TR09DN.txt:   0%|          | 0.00/918 [00:00<?, ?B/s]"
      ]
     },
     "metadata": {},
     "output_type": "display_data"
    },
    {
     "data": {
      "application/vnd.jupyter.widget-view+json": {
       "model_id": "58f6c229622a491dadc069979fc07c95",
       "version_major": 2,
       "version_minor": 0
      },
      "text/plain": [
       "%20%20Aim_T9YSSMKS0U.txt:   0%|          | 0.00/1.46k [00:00<?, ?B/s]"
      ]
     },
     "metadata": {},
     "output_type": "display_data"
    },
    {
     "data": {
      "application/vnd.jupyter.widget-view+json": {
       "model_id": "0c5edbdf53964834a4d86ad6336bf739",
       "version_major": 2,
       "version_minor": 0
      },
      "text/plain": [
       "%20%20All_OY5RK4BQ3R.txt:   0%|          | 0.00/874 [00:00<?, ?B/s]"
      ]
     },
     "metadata": {},
     "output_type": "display_data"
    },
    {
     "data": {
      "application/vnd.jupyter.widget-view+json": {
       "model_id": "311ec9bdc88946e49535f32337de1bec",
       "version_major": 2,
       "version_minor": 0
      },
      "text/plain": [
       "%20%20Ale_Q69I6JLW9O.txt:   0%|          | 0.00/1.30k [00:00<?, ?B/s]"
      ]
     },
     "metadata": {},
     "output_type": "display_data"
    },
    {
     "data": {
      "application/vnd.jupyter.widget-view+json": {
       "model_id": "b2d83a0561264a4a853191d048352eb4",
       "version_major": 2,
       "version_minor": 0
      },
      "text/plain": [
       "%20%20Alt_31H66B1IAA.txt:   0%|          | 0.00/763 [00:00<?, ?B/s]"
      ]
     },
     "metadata": {},
     "output_type": "display_data"
    },
    {
     "data": {
      "application/vnd.jupyter.widget-view+json": {
       "model_id": "5954840a069f4de583305669f509b241",
       "version_major": 2,
       "version_minor": 0
      },
      "text/plain": [
       "%20%20All_EKEVURFN3Q.txt:   0%|          | 0.00/850 [00:00<?, ?B/s]"
      ]
     },
     "metadata": {},
     "output_type": "display_data"
    },
    {
     "data": {
      "application/vnd.jupyter.widget-view+json": {
       "model_id": "6e4fb08441bc465892bc7d399eaa0bc1",
       "version_major": 2,
       "version_minor": 0
      },
      "text/plain": [
       "%20%20All_WO0HFML9AZ.txt:   0%|          | 0.00/656 [00:00<?, ?B/s]"
      ]
     },
     "metadata": {},
     "output_type": "display_data"
    },
    {
     "data": {
      "application/vnd.jupyter.widget-view+json": {
       "model_id": "d65c8d237b6a4d67a577e64c19f49204",
       "version_major": 2,
       "version_minor": 0
      },
      "text/plain": [
       "%20%20Alt_4EPK9LGYIF.txt:   0%|          | 0.00/562 [00:00<?, ?B/s]"
      ]
     },
     "metadata": {},
     "output_type": "display_data"
    },
    {
     "data": {
      "application/vnd.jupyter.widget-view+json": {
       "model_id": "dfe3c0e2403a476697c587682a2c4a5e",
       "version_major": 2,
       "version_minor": 0
      },
      "text/plain": [
       "%20%20Alo_KKFYIRWCG2.txt:   0%|          | 0.00/248 [00:00<?, ?B/s]"
      ]
     },
     "metadata": {},
     "output_type": "display_data"
    },
    {
     "data": {
      "application/vnd.jupyter.widget-view+json": {
       "model_id": "19015487f24b4b2887d770720afd8e46",
       "version_major": 2,
       "version_minor": 0
      },
      "text/plain": [
       "%20%20All_Q7PFU5QWDX.txt:   0%|          | 0.00/301 [00:00<?, ?B/s]"
      ]
     },
     "metadata": {},
     "output_type": "display_data"
    },
    {
     "data": {
      "application/vnd.jupyter.widget-view+json": {
       "model_id": "851f6a52dec245e58c9ec934570f65d1",
       "version_major": 2,
       "version_minor": 0
      },
      "text/plain": [
       "%20%20Alt_9TYURFFZSX.txt:   0%|          | 0.00/1.36k [00:00<?, ?B/s]"
      ]
     },
     "metadata": {},
     "output_type": "display_data"
    },
    {
     "data": {
      "application/vnd.jupyter.widget-view+json": {
       "model_id": "81001d3437ab463c8d6884b3d2105a42",
       "version_major": 2,
       "version_minor": 0
      },
      "text/plain": [
       "%20%20Alt_CRSQZ4ZACY.txt:   0%|          | 0.00/850 [00:00<?, ?B/s]"
      ]
     },
     "metadata": {},
     "output_type": "display_data"
    },
    {
     "data": {
      "application/vnd.jupyter.widget-view+json": {
       "model_id": "a6d446e2eb4c4041a0cc6aefac30f4d2",
       "version_major": 2,
       "version_minor": 0
      },
      "text/plain": [
       "%20%20Alt_O01HKZW46D.txt:   0%|          | 0.00/959 [00:00<?, ?B/s]"
      ]
     },
     "metadata": {},
     "output_type": "display_data"
    },
    {
     "data": {
      "application/vnd.jupyter.widget-view+json": {
       "model_id": "fcfb617b6a8e4a1aab540a32580e5efd",
       "version_major": 2,
       "version_minor": 0
      },
      "text/plain": [
       "%20%20Alt_FKM1O9MI84.txt:   0%|          | 0.00/858 [00:00<?, ?B/s]"
      ]
     },
     "metadata": {},
     "output_type": "display_data"
    },
    {
     "data": {
      "application/vnd.jupyter.widget-view+json": {
       "model_id": "72981d60ac704173b697641f7c47bd2e",
       "version_major": 2,
       "version_minor": 0
      },
      "text/plain": [
       "%20%20Alt_SSLJEI1LQ7.txt:   0%|          | 0.00/711 [00:00<?, ?B/s]"
      ]
     },
     "metadata": {},
     "output_type": "display_data"
    },
    {
     "data": {
      "application/vnd.jupyter.widget-view+json": {
       "model_id": "64e2654804524067ade775ff909270ae",
       "version_major": 2,
       "version_minor": 0
      },
      "text/plain": [
       "%20%20Alt_VBWKFUENFX.txt:   0%|          | 0.00/1.04k [00:00<?, ?B/s]"
      ]
     },
     "metadata": {},
     "output_type": "display_data"
    },
    {
     "data": {
      "application/vnd.jupyter.widget-view+json": {
       "model_id": "e2a8c97cabb34de6b538f1bee5546adf",
       "version_major": 2,
       "version_minor": 0
      },
      "text/plain": [
       "%20%20Alt_Y3EU1S5A8K.txt:   0%|          | 0.00/1.19k [00:00<?, ?B/s]"
      ]
     },
     "metadata": {},
     "output_type": "display_data"
    },
    {
     "data": {
      "application/vnd.jupyter.widget-view+json": {
       "model_id": "25d97380e4c440679315e0ae1b6f40b2",
       "version_major": 2,
       "version_minor": 0
      },
      "text/plain": [
       "%20%20Aim_XBD0R6BSZT.txt:   0%|          | 0.00/1.22k [00:00<?, ?B/s]"
      ]
     },
     "metadata": {},
     "output_type": "display_data"
    },
    {
     "data": {
      "application/vnd.jupyter.widget-view+json": {
       "model_id": "7d02d8fbe71542a0b250aa92700678f7",
       "version_major": 2,
       "version_minor": 0
      },
      "text/plain": [
       "%20%20An%20_0MUB3HW857.txt:   0%|          | 0.00/1.61k [00:00<?, ?B/s]"
      ]
     },
     "metadata": {},
     "output_type": "display_data"
    },
    {
     "data": {
      "application/vnd.jupyter.widget-view+json": {
       "model_id": "f0c9b426b0274551b12dd0bd0eaf2509",
       "version_major": 2,
       "version_minor": 0
      },
      "text/plain": [
       "%20%20An%20_24XR6NKBAO.txt:   0%|          | 0.00/498 [00:00<?, ?B/s]"
      ]
     },
     "metadata": {},
     "output_type": "display_data"
    },
    {
     "data": {
      "application/vnd.jupyter.widget-view+json": {
       "model_id": "4bec838d5b8d4594820446ae95c6d282",
       "version_major": 2,
       "version_minor": 0
      },
      "text/plain": [
       "%20%20An%20_4743PSY0LP.txt:   0%|          | 0.00/564 [00:00<?, ?B/s]"
      ]
     },
     "metadata": {},
     "output_type": "display_data"
    },
    {
     "data": {
      "application/vnd.jupyter.widget-view+json": {
       "model_id": "42b716fcc1344ac0934e27a9964243e4",
       "version_major": 2,
       "version_minor": 0
      },
      "text/plain": [
       "%20%20An%20_3H3R5A22KN.txt:   0%|          | 0.00/554 [00:00<?, ?B/s]"
      ]
     },
     "metadata": {},
     "output_type": "display_data"
    },
    {
     "data": {
      "application/vnd.jupyter.widget-view+json": {
       "model_id": "9575462b107e4ceb8d0a00107bf6c76e",
       "version_major": 2,
       "version_minor": 0
      },
      "text/plain": [
       "%20%20Alt_Z6UY84MLP4.txt:   0%|          | 0.00/1.09k [00:00<?, ?B/s]"
      ]
     },
     "metadata": {},
     "output_type": "display_data"
    },
    {
     "data": {
      "application/vnd.jupyter.widget-view+json": {
       "model_id": "5d27df9ac4734f7394f68b60597fd749",
       "version_major": 2,
       "version_minor": 0
      },
      "text/plain": [
       "%20%20Amo_57O3V5X8ZE.txt:   0%|          | 0.00/661 [00:00<?, ?B/s]"
      ]
     },
     "metadata": {},
     "output_type": "display_data"
    },
    {
     "data": {
      "application/vnd.jupyter.widget-view+json": {
       "model_id": "5099efd07189421d92128258e27e1db3",
       "version_major": 2,
       "version_minor": 0
      },
      "text/plain": [
       "%20%20An%20_16K3A7PG2H.txt:   0%|          | 0.00/1.05k [00:00<?, ?B/s]"
      ]
     },
     "metadata": {},
     "output_type": "display_data"
    },
    {
     "data": {
      "application/vnd.jupyter.widget-view+json": {
       "model_id": "ca89c15a56cf44928590038db197fe49",
       "version_major": 2,
       "version_minor": 0
      },
      "text/plain": [
       "%20%20An%20_3C6IV9O1P8.txt:   0%|          | 0.00/738 [00:00<?, ?B/s]"
      ]
     },
     "metadata": {},
     "output_type": "display_data"
    },
    {
     "data": {
      "application/vnd.jupyter.widget-view+json": {
       "model_id": "2d4b6a26ed24497eb1134cc9b7334e34",
       "version_major": 2,
       "version_minor": 0
      },
      "text/plain": [
       "%20%20An%20_3B1XCCH5S3.txt:   0%|          | 0.00/888 [00:00<?, ?B/s]"
      ]
     },
     "metadata": {},
     "output_type": "display_data"
    },
    {
     "data": {
      "application/vnd.jupyter.widget-view+json": {
       "model_id": "5018ee555d0d4e6aa1abc753f650bf36",
       "version_major": 2,
       "version_minor": 0
      },
      "text/plain": [
       "%20%20An%20_5KTJO2GC49.txt:   0%|          | 0.00/801 [00:00<?, ?B/s]"
      ]
     },
     "metadata": {},
     "output_type": "display_data"
    },
    {
     "data": {
      "application/vnd.jupyter.widget-view+json": {
       "model_id": "8bb6091ceeb54cdb81f8ba27388cc0c4",
       "version_major": 2,
       "version_minor": 0
      },
      "text/plain": [
       "%20%20An%20_3OQJV2NSMS.txt:   0%|          | 0.00/930 [00:00<?, ?B/s]"
      ]
     },
     "metadata": {},
     "output_type": "display_data"
    },
    {
     "data": {
      "application/vnd.jupyter.widget-view+json": {
       "model_id": "9262abaced414aa6aa77d70d1276684e",
       "version_major": 2,
       "version_minor": 0
      },
      "text/plain": [
       "%20%20An%20_4N7XT8IWH3.txt:   0%|          | 0.00/980 [00:00<?, ?B/s]"
      ]
     },
     "metadata": {},
     "output_type": "display_data"
    },
    {
     "data": {
      "application/vnd.jupyter.widget-view+json": {
       "model_id": "8ecafdfde3614bc6ac2ea283891319f8",
       "version_major": 2,
       "version_minor": 0
      },
      "text/plain": [
       "%20%20An%20_4UCHN2QN0I.txt:   0%|          | 0.00/119 [00:00<?, ?B/s]"
      ]
     },
     "metadata": {},
     "output_type": "display_data"
    },
    {
     "data": {
      "application/vnd.jupyter.widget-view+json": {
       "model_id": "445697433f784c718e084e77229737e7",
       "version_major": 2,
       "version_minor": 0
      },
      "text/plain": [
       "%20%20An%20_6CJN7SZUWC.txt:   0%|          | 0.00/632 [00:00<?, ?B/s]"
      ]
     },
     "metadata": {},
     "output_type": "display_data"
    },
    {
     "data": {
      "application/vnd.jupyter.widget-view+json": {
       "model_id": "0da78ed8619246fbb2063c90c0b19acb",
       "version_major": 2,
       "version_minor": 0
      },
      "text/plain": [
       "%20%20An%20_5QN3KMYAS8.txt:   0%|          | 0.00/934 [00:00<?, ?B/s]"
      ]
     },
     "metadata": {},
     "output_type": "display_data"
    },
    {
     "data": {
      "application/vnd.jupyter.widget-view+json": {
       "model_id": "56b5c7fc83a6477f9384e5bd87f9f9a3",
       "version_major": 2,
       "version_minor": 0
      },
      "text/plain": [
       "%20%20An%20_6KBOPR655V.txt:   0%|          | 0.00/399 [00:00<?, ?B/s]"
      ]
     },
     "metadata": {},
     "output_type": "display_data"
    },
    {
     "data": {
      "application/vnd.jupyter.widget-view+json": {
       "model_id": "f2a5cd478e914ec0b02d840199e99985",
       "version_major": 2,
       "version_minor": 0
      },
      "text/plain": [
       "%20%20An%20_8YY93Z9VEA.txt:   0%|          | 0.00/860 [00:00<?, ?B/s]"
      ]
     },
     "metadata": {},
     "output_type": "display_data"
    },
    {
     "data": {
      "application/vnd.jupyter.widget-view+json": {
       "model_id": "dc58fe36d70544f8acd0fbab4b54fc2f",
       "version_major": 2,
       "version_minor": 0
      },
      "text/plain": [
       "%20%20An%20_9H3F1GC0VB.txt:   0%|          | 0.00/947 [00:00<?, ?B/s]"
      ]
     },
     "metadata": {},
     "output_type": "display_data"
    },
    {
     "data": {
      "application/vnd.jupyter.widget-view+json": {
       "model_id": "b9cc57ec525c4cc69b928737278b5790",
       "version_major": 2,
       "version_minor": 0
      },
      "text/plain": [
       "%20%20Alt_YOO7IY7KQM.txt:   0%|          | 0.00/1.31k [00:00<?, ?B/s]"
      ]
     },
     "metadata": {},
     "output_type": "display_data"
    },
    {
     "data": {
      "application/vnd.jupyter.widget-view+json": {
       "model_id": "2f34cd9ab7d44828beefe3383a7bb116",
       "version_major": 2,
       "version_minor": 0
      },
      "text/plain": [
       "%20%20An%20_C5SPWDJ9SG.txt:   0%|          | 0.00/450 [00:00<?, ?B/s]"
      ]
     },
     "metadata": {},
     "output_type": "display_data"
    },
    {
     "data": {
      "application/vnd.jupyter.widget-view+json": {
       "model_id": "d07e79630804497da0ed52ef46d66b51",
       "version_major": 2,
       "version_minor": 0
      },
      "text/plain": [
       "%20%20An%20_D62SIJWZEO.txt:   0%|          | 0.00/1.56k [00:00<?, ?B/s]"
      ]
     },
     "metadata": {},
     "output_type": "display_data"
    },
    {
     "data": {
      "application/vnd.jupyter.widget-view+json": {
       "model_id": "16ae40d50401427db0df6d3d58b43090",
       "version_major": 2,
       "version_minor": 0
      },
      "text/plain": [
       "%20%20An%20_D2AUBSMEPA.txt:   0%|          | 0.00/1.08k [00:00<?, ?B/s]"
      ]
     },
     "metadata": {},
     "output_type": "display_data"
    },
    {
     "data": {
      "application/vnd.jupyter.widget-view+json": {
       "model_id": "8808601345824e809669886e5db48834",
       "version_major": 2,
       "version_minor": 0
      },
      "text/plain": [
       "%20%20An%20_AMI31ZY6ZE.txt:   0%|          | 0.00/564 [00:00<?, ?B/s]"
      ]
     },
     "metadata": {},
     "output_type": "display_data"
    },
    {
     "data": {
      "application/vnd.jupyter.widget-view+json": {
       "model_id": "a99307bea3a34c1a9adce8ee517f3ad6",
       "version_major": 2,
       "version_minor": 0
      },
      "text/plain": [
       "%20%20An%20_DJULAHN4BP.txt:   0%|          | 0.00/733 [00:00<?, ?B/s]"
      ]
     },
     "metadata": {},
     "output_type": "display_data"
    },
    {
     "data": {
      "application/vnd.jupyter.widget-view+json": {
       "model_id": "0310b94edcfa42dbb1aa411d84b3a5c3",
       "version_major": 2,
       "version_minor": 0
      },
      "text/plain": [
       "%20%20An%20_B5MY4WS33M.txt:   0%|          | 0.00/814 [00:00<?, ?B/s]"
      ]
     },
     "metadata": {},
     "output_type": "display_data"
    },
    {
     "data": {
      "application/vnd.jupyter.widget-view+json": {
       "model_id": "f8eb554560da4201b5c811daba137a91",
       "version_major": 2,
       "version_minor": 0
      },
      "text/plain": [
       "%20%20An%20_A5OFYD49B0.txt:   0%|          | 0.00/888 [00:00<?, ?B/s]"
      ]
     },
     "metadata": {},
     "output_type": "display_data"
    },
    {
     "data": {
      "application/vnd.jupyter.widget-view+json": {
       "model_id": "e0eeb516ac264a9595de53ada4deb038",
       "version_major": 2,
       "version_minor": 0
      },
      "text/plain": [
       "%20%20An%20_E6TQIWRMUC.txt:   0%|          | 0.00/769 [00:00<?, ?B/s]"
      ]
     },
     "metadata": {},
     "output_type": "display_data"
    },
    {
     "data": {
      "application/vnd.jupyter.widget-view+json": {
       "model_id": "03e54030b5724d52868c6cef1df49405",
       "version_major": 2,
       "version_minor": 0
      },
      "text/plain": [
       "%20%20An%20_EGVVHHCXAM.txt:   0%|          | 0.00/691 [00:00<?, ?B/s]"
      ]
     },
     "metadata": {},
     "output_type": "display_data"
    },
    {
     "data": {
      "application/vnd.jupyter.widget-view+json": {
       "model_id": "944c2e0b3d4c49628df8c8994aa52b33",
       "version_major": 2,
       "version_minor": 0
      },
      "text/plain": [
       "%20%20An%20_GOEUP2ASP3.txt:   0%|          | 0.00/321 [00:00<?, ?B/s]"
      ]
     },
     "metadata": {},
     "output_type": "display_data"
    },
    {
     "data": {
      "application/vnd.jupyter.widget-view+json": {
       "model_id": "e30ce9228b9945dba157c0ef2b9b47f8",
       "version_major": 2,
       "version_minor": 0
      },
      "text/plain": [
       "%20%20An%20_J254L2JY07.txt:   0%|          | 0.00/517 [00:00<?, ?B/s]"
      ]
     },
     "metadata": {},
     "output_type": "display_data"
    },
    {
     "data": {
      "application/vnd.jupyter.widget-view+json": {
       "model_id": "bd4327096437496ca28545357323eb4d",
       "version_major": 2,
       "version_minor": 0
      },
      "text/plain": [
       "%20%20An%20_IOVSJLON5G.txt:   0%|          | 0.00/286 [00:00<?, ?B/s]"
      ]
     },
     "metadata": {},
     "output_type": "display_data"
    },
    {
     "data": {
      "application/vnd.jupyter.widget-view+json": {
       "model_id": "e44a2898a85442f6b745fe56379b80dd",
       "version_major": 2,
       "version_minor": 0
      },
      "text/plain": [
       "%20%20An%20_FCI1J4AVJH.txt:   0%|          | 0.00/568 [00:00<?, ?B/s]"
      ]
     },
     "metadata": {},
     "output_type": "display_data"
    },
    {
     "data": {
      "application/vnd.jupyter.widget-view+json": {
       "model_id": "f19c51c98db5445fa91698d257a82d17",
       "version_major": 2,
       "version_minor": 0
      },
      "text/plain": [
       "%20%20An%20_G3YEF4O9RR.txt:   0%|          | 0.00/1.38k [00:00<?, ?B/s]"
      ]
     },
     "metadata": {},
     "output_type": "display_data"
    },
    {
     "data": {
      "application/vnd.jupyter.widget-view+json": {
       "model_id": "1f549771160446dab400efe0bbfa666c",
       "version_major": 2,
       "version_minor": 0
      },
      "text/plain": [
       "%20%20An%20_JJN19CFNJU.txt:   0%|          | 0.00/437 [00:00<?, ?B/s]"
      ]
     },
     "metadata": {},
     "output_type": "display_data"
    },
    {
     "data": {
      "application/vnd.jupyter.widget-view+json": {
       "model_id": "94ed400138f54291b510a7e9e723029f",
       "version_major": 2,
       "version_minor": 0
      },
      "text/plain": [
       "%20%20An%20_KJNGQBMW1W.txt:   0%|          | 0.00/765 [00:00<?, ?B/s]"
      ]
     },
     "metadata": {},
     "output_type": "display_data"
    },
    {
     "data": {
      "application/vnd.jupyter.widget-view+json": {
       "model_id": "6cdcb19c679b451881e6f39d9c30bd9c",
       "version_major": 2,
       "version_minor": 0
      },
      "text/plain": [
       "%20%20An%20_L5XBR1YT1L.txt:   0%|          | 0.00/519 [00:00<?, ?B/s]"
      ]
     },
     "metadata": {},
     "output_type": "display_data"
    },
    {
     "data": {
      "application/vnd.jupyter.widget-view+json": {
       "model_id": "8623ee06d3714615a8cbc72e2a2a097c",
       "version_major": 2,
       "version_minor": 0
      },
      "text/plain": [
       "%20%20An%20_LCJOUY4ICN.txt:   0%|          | 0.00/989 [00:00<?, ?B/s]"
      ]
     },
     "metadata": {},
     "output_type": "display_data"
    },
    {
     "data": {
      "application/vnd.jupyter.widget-view+json": {
       "model_id": "197df4dd5a704210802e5a447bdecc92",
       "version_major": 2,
       "version_minor": 0
      },
      "text/plain": [
       "%20%20An%20_ML5ESWEZ02.txt:   0%|          | 0.00/554 [00:00<?, ?B/s]"
      ]
     },
     "metadata": {},
     "output_type": "display_data"
    },
    {
     "data": {
      "application/vnd.jupyter.widget-view+json": {
       "model_id": "57a4d4da68f34172ab2a328be779f6eb",
       "version_major": 2,
       "version_minor": 0
      },
      "text/plain": [
       "%20%20An%20_MWQNX1UP38.txt:   0%|          | 0.00/1.12k [00:00<?, ?B/s]"
      ]
     },
     "metadata": {},
     "output_type": "display_data"
    },
    {
     "data": {
      "application/vnd.jupyter.widget-view+json": {
       "model_id": "31f3804b44e243fa88117b854763263b",
       "version_major": 2,
       "version_minor": 0
      },
      "text/plain": [
       "%20%20An%20_N9XXWRNZPY.txt:   0%|          | 0.00/76.0 [00:00<?, ?B/s]"
      ]
     },
     "metadata": {},
     "output_type": "display_data"
    },
    {
     "data": {
      "application/vnd.jupyter.widget-view+json": {
       "model_id": "e19050b5c588419dae14cd463c963084",
       "version_major": 2,
       "version_minor": 0
      },
      "text/plain": [
       "%20%20An%20_N5IC3VVURT.txt:   0%|          | 0.00/1.19k [00:00<?, ?B/s]"
      ]
     },
     "metadata": {},
     "output_type": "display_data"
    },
    {
     "data": {
      "application/vnd.jupyter.widget-view+json": {
       "model_id": "e93dffed936b487ea046e17ade8eb5e6",
       "version_major": 2,
       "version_minor": 0
      },
      "text/plain": [
       "%20%20An%20_O1W3GEJSGW.txt:   0%|          | 0.00/893 [00:00<?, ?B/s]"
      ]
     },
     "metadata": {},
     "output_type": "display_data"
    },
    {
     "data": {
      "application/vnd.jupyter.widget-view+json": {
       "model_id": "425c066537f845288b0ce8b790547043",
       "version_major": 2,
       "version_minor": 0
      },
      "text/plain": [
       "%20%20An%20_OH9HHGJMIG.txt:   0%|          | 0.00/666 [00:00<?, ?B/s]"
      ]
     },
     "metadata": {},
     "output_type": "display_data"
    },
    {
     "data": {
      "application/vnd.jupyter.widget-view+json": {
       "model_id": "546c8f661d9248baabf3e5cb5cb6542e",
       "version_major": 2,
       "version_minor": 0
      },
      "text/plain": [
       "%20%20An%20_OQ3X5AEN6H.txt:   0%|          | 0.00/552 [00:00<?, ?B/s]"
      ]
     },
     "metadata": {},
     "output_type": "display_data"
    },
    {
     "data": {
      "application/vnd.jupyter.widget-view+json": {
       "model_id": "9bf938fa88e4421187637f446c0e0689",
       "version_major": 2,
       "version_minor": 0
      },
      "text/plain": [
       "%20%20An%20_PCQWN8H3AV.txt:   0%|          | 0.00/504 [00:00<?, ?B/s]"
      ]
     },
     "metadata": {},
     "output_type": "display_data"
    },
    {
     "data": {
      "application/vnd.jupyter.widget-view+json": {
       "model_id": "a906403320bd401389d8ee39d9b57525",
       "version_major": 2,
       "version_minor": 0
      },
      "text/plain": [
       "%20%20An%20_OSQCKBNPXQ.txt:   0%|          | 0.00/1.83k [00:00<?, ?B/s]"
      ]
     },
     "metadata": {},
     "output_type": "display_data"
    },
    {
     "data": {
      "application/vnd.jupyter.widget-view+json": {
       "model_id": "f1993dc6a67d45a7aea2b2d27f876dcc",
       "version_major": 2,
       "version_minor": 0
      },
      "text/plain": [
       "%20%20An%20_R3L0CS84YH.txt:   0%|          | 0.00/396 [00:00<?, ?B/s]"
      ]
     },
     "metadata": {},
     "output_type": "display_data"
    },
    {
     "data": {
      "application/vnd.jupyter.widget-view+json": {
       "model_id": "0925429e900546ef81010d950d2ccd3a",
       "version_major": 2,
       "version_minor": 0
      },
      "text/plain": [
       "%20%20An%20_QOMSHPHYPD.txt:   0%|          | 0.00/620 [00:00<?, ?B/s]"
      ]
     },
     "metadata": {},
     "output_type": "display_data"
    },
    {
     "data": {
      "application/vnd.jupyter.widget-view+json": {
       "model_id": "b1065e8c2ef04e50b04c7de00d07907e",
       "version_major": 2,
       "version_minor": 0
      },
      "text/plain": [
       "%20%20An%20_Q8ND0OQOIP.txt:   0%|          | 0.00/1.10k [00:00<?, ?B/s]"
      ]
     },
     "metadata": {},
     "output_type": "display_data"
    },
    {
     "data": {
      "application/vnd.jupyter.widget-view+json": {
       "model_id": "1db47aafb6c54a3989850f1d97ef3fad",
       "version_major": 2,
       "version_minor": 0
      },
      "text/plain": [
       "%20%20An%20_R3L0G9L6TC.txt:   0%|          | 0.00/701 [00:00<?, ?B/s]"
      ]
     },
     "metadata": {},
     "output_type": "display_data"
    },
    {
     "data": {
      "application/vnd.jupyter.widget-view+json": {
       "model_id": "190c15a63b1d4c888c9abb0e9c4d03cb",
       "version_major": 2,
       "version_minor": 0
      },
      "text/plain": [
       "%20%20An%20_R7DJ3M0CDN.txt:   0%|          | 0.00/708 [00:00<?, ?B/s]"
      ]
     },
     "metadata": {},
     "output_type": "display_data"
    },
    {
     "data": {
      "application/vnd.jupyter.widget-view+json": {
       "model_id": "bee7dd200c4a46858eea88e53ecbe3d7",
       "version_major": 2,
       "version_minor": 0
      },
      "text/plain": [
       "%20%20An%20_PRI91IQHXG.txt:   0%|          | 0.00/467 [00:00<?, ?B/s]"
      ]
     },
     "metadata": {},
     "output_type": "display_data"
    },
    {
     "data": {
      "application/vnd.jupyter.widget-view+json": {
       "model_id": "56243c59373f434b8a9839e0565ebe2b",
       "version_major": 2,
       "version_minor": 0
      },
      "text/plain": [
       "%20%20An%20_RZH27BHSHJ.txt:   0%|          | 0.00/910 [00:00<?, ?B/s]"
      ]
     },
     "metadata": {},
     "output_type": "display_data"
    },
    {
     "data": {
      "application/vnd.jupyter.widget-view+json": {
       "model_id": "f8579bdc2cdf477a9a23f6dc64a601e8",
       "version_major": 2,
       "version_minor": 0
      },
      "text/plain": [
       "%20%20An%20_RO9K644LQA.txt:   0%|          | 0.00/631 [00:00<?, ?B/s]"
      ]
     },
     "metadata": {},
     "output_type": "display_data"
    },
    {
     "data": {
      "application/vnd.jupyter.widget-view+json": {
       "model_id": "b7f8612e55974bbc8f76b96952ba533a",
       "version_major": 2,
       "version_minor": 0
      },
      "text/plain": [
       "%20%20An%20_SN2IF97PMM.txt:   0%|          | 0.00/1.39k [00:00<?, ?B/s]"
      ]
     },
     "metadata": {},
     "output_type": "display_data"
    },
    {
     "data": {
      "application/vnd.jupyter.widget-view+json": {
       "model_id": "4b518358091e4d69863e4ddf6d3ecaf9",
       "version_major": 2,
       "version_minor": 0
      },
      "text/plain": [
       "%20%20An%20_V2RKKTADXF.txt:   0%|          | 0.00/106 [00:00<?, ?B/s]"
      ]
     },
     "metadata": {},
     "output_type": "display_data"
    },
    {
     "data": {
      "application/vnd.jupyter.widget-view+json": {
       "model_id": "274e18274f1a4ded91fea7492b24b8cd",
       "version_major": 2,
       "version_minor": 0
      },
      "text/plain": [
       "%20%20An%20_V15ATCOFWR.txt:   0%|          | 0.00/1.03k [00:00<?, ?B/s]"
      ]
     },
     "metadata": {},
     "output_type": "display_data"
    },
    {
     "data": {
      "application/vnd.jupyter.widget-view+json": {
       "model_id": "77c31844b7f941119610e7c7b5193a6b",
       "version_major": 2,
       "version_minor": 0
      },
      "text/plain": [
       "%20%20An%20_SN9TKSQXVR.txt:   0%|          | 0.00/572 [00:00<?, ?B/s]"
      ]
     },
     "metadata": {},
     "output_type": "display_data"
    },
    {
     "data": {
      "application/vnd.jupyter.widget-view+json": {
       "model_id": "c564cf9719224409af2979d3d0671b11",
       "version_major": 2,
       "version_minor": 0
      },
      "text/plain": [
       "%20%20An%20_VQU68M4ER0.txt:   0%|          | 0.00/530 [00:00<?, ?B/s]"
      ]
     },
     "metadata": {},
     "output_type": "display_data"
    },
    {
     "data": {
      "application/vnd.jupyter.widget-view+json": {
       "model_id": "aa1b898a33a24910b957c31515a8c05c",
       "version_major": 2,
       "version_minor": 0
      },
      "text/plain": [
       "%20%20An%20_VS7OP9X6P3.txt:   0%|          | 0.00/218 [00:00<?, ?B/s]"
      ]
     },
     "metadata": {},
     "output_type": "display_data"
    },
    {
     "data": {
      "application/vnd.jupyter.widget-view+json": {
       "model_id": "0f02416d9492474da31e28cb6e78f57e",
       "version_major": 2,
       "version_minor": 0
      },
      "text/plain": [
       "%20%20An%20_W7UI0LUHMQ.txt:   0%|          | 0.00/520 [00:00<?, ?B/s]"
      ]
     },
     "metadata": {},
     "output_type": "display_data"
    },
    {
     "data": {
      "application/vnd.jupyter.widget-view+json": {
       "model_id": "c9ff935b4af9428685d3fff39b5435dd",
       "version_major": 2,
       "version_minor": 0
      },
      "text/plain": [
       "%20%20An%20_O8YTLOIIHS.txt:   0%|          | 0.00/94.0 [00:00<?, ?B/s]"
      ]
     },
     "metadata": {},
     "output_type": "display_data"
    },
    {
     "data": {
      "application/vnd.jupyter.widget-view+json": {
       "model_id": "ef0eb4878d764adb9a0fd7bed1467d09",
       "version_major": 2,
       "version_minor": 0
      },
      "text/plain": [
       "%20%20An%20_XRT2KRNLQE.txt:   0%|          | 0.00/508 [00:00<?, ?B/s]"
      ]
     },
     "metadata": {},
     "output_type": "display_data"
    },
    {
     "data": {
      "application/vnd.jupyter.widget-view+json": {
       "model_id": "52570c3b89724b978f4fa65343fb73d2",
       "version_major": 2,
       "version_minor": 0
      },
      "text/plain": [
       "%20%20An%20_W3IUWPZ4WO.txt:   0%|          | 0.00/191 [00:00<?, ?B/s]"
      ]
     },
     "metadata": {},
     "output_type": "display_data"
    },
    {
     "data": {
      "application/vnd.jupyter.widget-view+json": {
       "model_id": "bbab2a68e60849c7855e072cc15f1f1a",
       "version_major": 2,
       "version_minor": 0
      },
      "text/plain": [
       "%20%20An%20_WVN6F5O2EA.txt:   0%|          | 0.00/560 [00:00<?, ?B/s]"
      ]
     },
     "metadata": {},
     "output_type": "display_data"
    },
    {
     "data": {
      "application/vnd.jupyter.widget-view+json": {
       "model_id": "7b0edad0755347b484fd0e1b8210075c",
       "version_major": 2,
       "version_minor": 0
      },
      "text/plain": [
       "%20%20Ana_E5V6SDOBG7.txt:   0%|          | 0.00/1.15k [00:00<?, ?B/s]"
      ]
     },
     "metadata": {},
     "output_type": "display_data"
    },
    {
     "data": {
      "application/vnd.jupyter.widget-view+json": {
       "model_id": "7b120bcac6454983baa10f7a1c328dbf",
       "version_major": 2,
       "version_minor": 0
      },
      "text/plain": [
       "%20%20Ana_6C73D00S3K.txt:   0%|          | 0.00/614 [00:00<?, ?B/s]"
      ]
     },
     "metadata": {},
     "output_type": "display_data"
    },
    {
     "data": {
      "application/vnd.jupyter.widget-view+json": {
       "model_id": "1ece0633711b420b9560c17cf28ed910",
       "version_major": 2,
       "version_minor": 0
      },
      "text/plain": [
       "%20%20Ana_8IN36V4FM9.txt:   0%|          | 0.00/909 [00:00<?, ?B/s]"
      ]
     },
     "metadata": {},
     "output_type": "display_data"
    },
    {
     "data": {
      "application/vnd.jupyter.widget-view+json": {
       "model_id": "3d621567f2de4f8d874bf50025b49ab9",
       "version_major": 2,
       "version_minor": 0
      },
      "text/plain": [
       "%20%20Ana_1RU6UAM30B.txt:   0%|          | 0.00/702 [00:00<?, ?B/s]"
      ]
     },
     "metadata": {},
     "output_type": "display_data"
    },
    {
     "data": {
      "application/vnd.jupyter.widget-view+json": {
       "model_id": "2f84c8ad216b4439ad3b160afbb154d7",
       "version_major": 2,
       "version_minor": 0
      },
      "text/plain": [
       "%20%20An%20_ZR8115Q9LX.txt:   0%|          | 0.00/472 [00:00<?, ?B/s]"
      ]
     },
     "metadata": {},
     "output_type": "display_data"
    },
    {
     "data": {
      "application/vnd.jupyter.widget-view+json": {
       "model_id": "ce6bf13b1be4414f8f78527381226c14",
       "version_major": 2,
       "version_minor": 0
      },
      "text/plain": [
       "%20%20Ana_IL7PZGEGGA.txt:   0%|          | 0.00/453 [00:00<?, ?B/s]"
      ]
     },
     "metadata": {},
     "output_type": "display_data"
    },
    {
     "data": {
      "application/vnd.jupyter.widget-view+json": {
       "model_id": "b0b3b50233d64dc7a212ab696422f0a7",
       "version_major": 2,
       "version_minor": 0
      },
      "text/plain": [
       "%20%20Ana_PVYTR1MC4F.txt:   0%|          | 0.00/1.35k [00:00<?, ?B/s]"
      ]
     },
     "metadata": {},
     "output_type": "display_data"
    },
    {
     "data": {
      "application/vnd.jupyter.widget-view+json": {
       "model_id": "170a69f8caa2485db4748a8e68e1ad88",
       "version_major": 2,
       "version_minor": 0
      },
      "text/plain": [
       "%20%20Ana_MHRA7QNRTS.txt:   0%|          | 0.00/623 [00:00<?, ?B/s]"
      ]
     },
     "metadata": {},
     "output_type": "display_data"
    },
    {
     "data": {
      "application/vnd.jupyter.widget-view+json": {
       "model_id": "47ee3b1f11354bf1a2c5f29c01993ab9",
       "version_major": 2,
       "version_minor": 0
      },
      "text/plain": [
       "%20%20Ana_GPUAYCYN3H.txt:   0%|          | 0.00/816 [00:00<?, ?B/s]"
      ]
     },
     "metadata": {},
     "output_type": "display_data"
    },
    {
     "data": {
      "application/vnd.jupyter.widget-view+json": {
       "model_id": "00b90d4e24ba48a0a912068eacacf2cb",
       "version_major": 2,
       "version_minor": 0
      },
      "text/plain": [
       "%20%20Ana_WRD11L4RES.txt:   0%|          | 0.00/1.04k [00:00<?, ?B/s]"
      ]
     },
     "metadata": {},
     "output_type": "display_data"
    },
    {
     "data": {
      "application/vnd.jupyter.widget-view+json": {
       "model_id": "14ceb98c8b1248e698e1a86d26745aa4",
       "version_major": 2,
       "version_minor": 0
      },
      "text/plain": [
       "%20%20And_HK9GOB2EXZ.txt:   0%|          | 0.00/599 [00:00<?, ?B/s]"
      ]
     },
     "metadata": {},
     "output_type": "display_data"
    },
    {
     "data": {
      "application/vnd.jupyter.widget-view+json": {
       "model_id": "18c70498a9d8412c8a8865b2eb114b05",
       "version_major": 2,
       "version_minor": 0
      },
      "text/plain": [
       "%20%20And_R8LQSFWK49.txt:   0%|          | 0.00/895 [00:00<?, ?B/s]"
      ]
     },
     "metadata": {},
     "output_type": "display_data"
    },
    {
     "data": {
      "application/vnd.jupyter.widget-view+json": {
       "model_id": "c58ffed1e5474a4f8dd9c01fb9c6a1d2",
       "version_major": 2,
       "version_minor": 0
      },
      "text/plain": [
       "%20%20Ang_OQ8L6FHBA2.txt:   0%|          | 0.00/555 [00:00<?, ?B/s]"
      ]
     },
     "metadata": {},
     "output_type": "display_data"
    },
    {
     "data": {
      "application/vnd.jupyter.widget-view+json": {
       "model_id": "96a916ee3e2e4d278d8a3d9ce0a75761",
       "version_major": 2,
       "version_minor": 0
      },
      "text/plain": [
       "%20%20Ani_964SOLIPBI.txt:   0%|          | 0.00/552 [00:00<?, ?B/s]"
      ]
     },
     "metadata": {},
     "output_type": "display_data"
    },
    {
     "data": {
      "application/vnd.jupyter.widget-view+json": {
       "model_id": "7c59a431bfb24d55886e94fd62f7d15e",
       "version_major": 2,
       "version_minor": 0
      },
      "text/plain": [
       "%20%20Ano_9RTX0VBC1U.txt:   0%|          | 0.00/90.0 [00:00<?, ?B/s]"
      ]
     },
     "metadata": {},
     "output_type": "display_data"
    },
    {
     "data": {
      "application/vnd.jupyter.widget-view+json": {
       "model_id": "dc6f9d3aee5c40058b01d6a79f89f2d8",
       "version_major": 2,
       "version_minor": 0
      },
      "text/plain": [
       "%20%20An%20_N28DQKFAHF.txt:   0%|          | 0.00/1.59k [00:00<?, ?B/s]"
      ]
     },
     "metadata": {},
     "output_type": "display_data"
    },
    {
     "data": {
      "application/vnd.jupyter.widget-view+json": {
       "model_id": "ded434fbb04e481e81e7101859837d7e",
       "version_major": 2,
       "version_minor": 0
      },
      "text/plain": [
       "%20%20Any_0T20B0P1IF.txt:   0%|          | 0.00/1.49k [00:00<?, ?B/s]"
      ]
     },
     "metadata": {},
     "output_type": "display_data"
    },
    {
     "data": {
      "application/vnd.jupyter.widget-view+json": {
       "model_id": "8f50c9778b9f459b8a4d7ccb42a70937",
       "version_major": 2,
       "version_minor": 0
      },
      "text/plain": [
       "%20%20Any_DDVDAN66F0.txt:   0%|          | 0.00/474 [00:00<?, ?B/s]"
      ]
     },
     "metadata": {},
     "output_type": "display_data"
    },
    {
     "data": {
      "application/vnd.jupyter.widget-view+json": {
       "model_id": "cb958f6d67954873bc699d236143f29c",
       "version_major": 2,
       "version_minor": 0
      },
      "text/plain": [
       "%20%20Any_L7VIDIU6QL.txt:   0%|          | 0.00/622 [00:00<?, ?B/s]"
      ]
     },
     "metadata": {},
     "output_type": "display_data"
    },
    {
     "data": {
      "application/vnd.jupyter.widget-view+json": {
       "model_id": "fee364b4adac49229fed78ff363cc68f",
       "version_major": 2,
       "version_minor": 0
      },
      "text/plain": [
       "%20%20Any_N0HGC8A8RB.txt:   0%|          | 0.00/1.55k [00:00<?, ?B/s]"
      ]
     },
     "metadata": {},
     "output_type": "display_data"
    },
    {
     "data": {
      "application/vnd.jupyter.widget-view+json": {
       "model_id": "faf513eca9694870ae167a36ad5e49fa",
       "version_major": 2,
       "version_minor": 0
      },
      "text/plain": [
       "%20%20Apa_JJP247PPP7.txt:   0%|          | 0.00/969 [00:00<?, ?B/s]"
      ]
     },
     "metadata": {},
     "output_type": "display_data"
    },
    {
     "data": {
      "application/vnd.jupyter.widget-view+json": {
       "model_id": "c4772cd958404268ade89d337b03def7",
       "version_major": 2,
       "version_minor": 0
      },
      "text/plain": [
       "%20%20App_A5THBQZ9I1.txt:   0%|          | 0.00/1.66k [00:00<?, ?B/s]"
      ]
     },
     "metadata": {},
     "output_type": "display_data"
    },
    {
     "data": {
      "application/vnd.jupyter.widget-view+json": {
       "model_id": "829c67bcbcd84edc894c12591c912b74",
       "version_major": 2,
       "version_minor": 0
      },
      "text/plain": [
       "%20%20Any_VSIOI8LXR1.txt:   0%|          | 0.00/1.13k [00:00<?, ?B/s]"
      ]
     },
     "metadata": {},
     "output_type": "display_data"
    },
    {
     "data": {
      "application/vnd.jupyter.widget-view+json": {
       "model_id": "7a22bf9ad7cd4f36b43fedd40659b94e",
       "version_major": 2,
       "version_minor": 0
      },
      "text/plain": [
       "%20%20App_CUC49DBWUB.txt:   0%|          | 0.00/473 [00:00<?, ?B/s]"
      ]
     },
     "metadata": {},
     "output_type": "display_data"
    },
    {
     "data": {
      "application/vnd.jupyter.widget-view+json": {
       "model_id": "9512977c04644fbebbf7801feede6f6d",
       "version_major": 2,
       "version_minor": 0
      },
      "text/plain": [
       "%20%20App_UJ4UCTYFPU.txt:   0%|          | 0.00/629 [00:00<?, ?B/s]"
      ]
     },
     "metadata": {},
     "output_type": "display_data"
    },
    {
     "data": {
      "application/vnd.jupyter.widget-view+json": {
       "model_id": "07405609c59f496b87d38e1f228b4b99",
       "version_major": 2,
       "version_minor": 0
      },
      "text/plain": [
       "%20%20Arc_D0V7L83HA9.txt:   0%|          | 0.00/874 [00:00<?, ?B/s]"
      ]
     },
     "metadata": {},
     "output_type": "display_data"
    },
    {
     "data": {
      "application/vnd.jupyter.widget-view+json": {
       "model_id": "698d18e417c64556820a2a782acb1dde",
       "version_major": 2,
       "version_minor": 0
      },
      "text/plain": [
       "%20%20An%20_9T6XFE0KAD.txt:   0%|          | 0.00/1.33k [00:00<?, ?B/s]"
      ]
     },
     "metadata": {},
     "output_type": "display_data"
    },
    {
     "data": {
      "application/vnd.jupyter.widget-view+json": {
       "model_id": "9d95d524aadb465b9f32c6c0745a2f24",
       "version_major": 2,
       "version_minor": 0
      },
      "text/plain": [
       "%20%20Arg_HBOD5LE49I.txt:   0%|          | 0.00/1.53k [00:00<?, ?B/s]"
      ]
     },
     "metadata": {},
     "output_type": "display_data"
    },
    {
     "data": {
      "application/vnd.jupyter.widget-view+json": {
       "model_id": "6f6210a076c244748ee339aa5ec870f8",
       "version_major": 2,
       "version_minor": 0
      },
      "text/plain": [
       "%20%20Arr_J6HDU7YSVJ.txt:   0%|          | 0.00/449 [00:00<?, ?B/s]"
      ]
     },
     "metadata": {},
     "output_type": "display_data"
    },
    {
     "data": {
      "application/vnd.jupyter.widget-view+json": {
       "model_id": "5eb2d36d03044c62a240eeff6fd337b4",
       "version_major": 2,
       "version_minor": 0
      },
      "text/plain": [
       "%20%20As%20_3DID8URBE6.txt:   0%|          | 0.00/408 [00:00<?, ?B/s]"
      ]
     },
     "metadata": {},
     "output_type": "display_data"
    },
    {
     "data": {
      "application/vnd.jupyter.widget-view+json": {
       "model_id": "753352ba4ce74193a88ce1bb28b46014",
       "version_major": 2,
       "version_minor": 0
      },
      "text/plain": [
       "%20%20As%20_4J25IRRUNO.txt:   0%|          | 0.00/512 [00:00<?, ?B/s]"
      ]
     },
     "metadata": {},
     "output_type": "display_data"
    },
    {
     "data": {
      "application/vnd.jupyter.widget-view+json": {
       "model_id": "6322f9ef6fbc4cea858e6d7ae096a134",
       "version_major": 2,
       "version_minor": 0
      },
      "text/plain": [
       "%20%20As%20_BLAV5HAIA9.txt:   0%|          | 0.00/397 [00:00<?, ?B/s]"
      ]
     },
     "metadata": {},
     "output_type": "display_data"
    },
    {
     "data": {
      "application/vnd.jupyter.widget-view+json": {
       "model_id": "287190b2daf64c9eb93dadff99f10f69",
       "version_major": 2,
       "version_minor": 0
      },
      "text/plain": [
       "%20%20An%20_CBN04YF0ES.txt:   0%|          | 0.00/353 [00:00<?, ?B/s]"
      ]
     },
     "metadata": {},
     "output_type": "display_data"
    },
    {
     "data": {
      "application/vnd.jupyter.widget-view+json": {
       "model_id": "631e32af9ab74eda906906d4f056a8a7",
       "version_major": 2,
       "version_minor": 0
      },
      "text/plain": [
       "%20%20As%20_GRXXYKM890.txt:   0%|          | 0.00/591 [00:00<?, ?B/s]"
      ]
     },
     "metadata": {},
     "output_type": "display_data"
    },
    {
     "data": {
      "application/vnd.jupyter.widget-view+json": {
       "model_id": "48591b9f9b9f4438aae67322628f53a5",
       "version_major": 2,
       "version_minor": 0
      },
      "text/plain": [
       "%20%20As%20_PC5SX166IN.txt:   0%|          | 0.00/744 [00:00<?, ?B/s]"
      ]
     },
     "metadata": {},
     "output_type": "display_data"
    },
    {
     "data": {
      "application/vnd.jupyter.widget-view+json": {
       "model_id": "e344bbfd041b468987c347ca68e44ce9",
       "version_major": 2,
       "version_minor": 0
      },
      "text/plain": [
       "%20%20As%20_JXHI8ASHXZ.txt:   0%|          | 0.00/1.43k [00:00<?, ?B/s]"
      ]
     },
     "metadata": {},
     "output_type": "display_data"
    },
    {
     "data": {
      "application/vnd.jupyter.widget-view+json": {
       "model_id": "c87dfad1f54c4292aee160c438830495",
       "version_major": 2,
       "version_minor": 0
      },
      "text/plain": [
       "%20%20As%20_M2JU502H5Y.txt:   0%|          | 0.00/1.08k [00:00<?, ?B/s]"
      ]
     },
     "metadata": {},
     "output_type": "display_data"
    },
    {
     "data": {
      "application/vnd.jupyter.widget-view+json": {
       "model_id": "a45b4827e5134551bb34d56e68751b9e",
       "version_major": 2,
       "version_minor": 0
      },
      "text/plain": [
       "%20%20Ann_CZBSOQXTYQ.txt:   0%|          | 0.00/917 [00:00<?, ?B/s]"
      ]
     },
     "metadata": {},
     "output_type": "display_data"
    },
    {
     "data": {
      "application/vnd.jupyter.widget-view+json": {
       "model_id": "79f75f341fb94bd88eeadf17327628a7",
       "version_major": 2,
       "version_minor": 0
      },
      "text/plain": [
       "%20%20As%20_NG33TKAWEQ.txt:   0%|          | 0.00/1.47k [00:00<?, ?B/s]"
      ]
     },
     "metadata": {},
     "output_type": "display_data"
    },
    {
     "data": {
      "application/vnd.jupyter.widget-view+json": {
       "model_id": "290c64e1922b4de0a97ed02f17801f88",
       "version_major": 2,
       "version_minor": 0
      },
      "text/plain": [
       "%20%20As%20_QRP73R0Q59.txt:   0%|          | 0.00/1.19k [00:00<?, ?B/s]"
      ]
     },
     "metadata": {},
     "output_type": "display_data"
    },
    {
     "data": {
      "application/vnd.jupyter.widget-view+json": {
       "model_id": "bc663d341bec4311aa8a89b9203aa0dd",
       "version_major": 2,
       "version_minor": 0
      },
      "text/plain": [
       "%20%20As%20_T1PE9JRG7P.txt:   0%|          | 0.00/438 [00:00<?, ?B/s]"
      ]
     },
     "metadata": {},
     "output_type": "display_data"
    },
    {
     "data": {
      "application/vnd.jupyter.widget-view+json": {
       "model_id": "ebea0c75bee8406d8a4af5089397716a",
       "version_major": 2,
       "version_minor": 0
      },
      "text/plain": [
       "%20%20Ano_LDVZ68EGOW.txt:   0%|          | 0.00/747 [00:00<?, ?B/s]"
      ]
     },
     "metadata": {},
     "output_type": "display_data"
    },
    {
     "data": {
      "application/vnd.jupyter.widget-view+json": {
       "model_id": "8fedb3206bec4e5cba30aa1879c1b9e2",
       "version_major": 2,
       "version_minor": 0
      },
      "text/plain": [
       "%20%20As%20_RWBZPR3EDN.txt:   0%|          | 0.00/431 [00:00<?, ?B/s]"
      ]
     },
     "metadata": {},
     "output_type": "display_data"
    },
    {
     "data": {
      "application/vnd.jupyter.widget-view+json": {
       "model_id": "eb238d86911342fd99737037ef009f38",
       "version_major": 2,
       "version_minor": 0
      },
      "text/plain": [
       "%20%20As%20_1UOAS8AJBG.txt:   0%|          | 0.00/737 [00:00<?, ?B/s]"
      ]
     },
     "metadata": {},
     "output_type": "display_data"
    },
    {
     "data": {
      "application/vnd.jupyter.widget-view+json": {
       "model_id": "953e6a3704b847f9a3edee620266bfc2",
       "version_major": 2,
       "version_minor": 0
      },
      "text/plain": [
       "%20%20As%20_TOU7GYQ2KL.txt:   0%|          | 0.00/602 [00:00<?, ?B/s]"
      ]
     },
     "metadata": {},
     "output_type": "display_data"
    },
    {
     "data": {
      "application/vnd.jupyter.widget-view+json": {
       "model_id": "9b074d80cf0c4aa58e19ce47e623eee8",
       "version_major": 2,
       "version_minor": 0
      },
      "text/plain": [
       "%20%20As%20_UHZD0VZNUV.txt:   0%|          | 0.00/964 [00:00<?, ?B/s]"
      ]
     },
     "metadata": {},
     "output_type": "display_data"
    },
    {
     "data": {
      "application/vnd.jupyter.widget-view+json": {
       "model_id": "d0dd4db6ab9840388163b612dee75f87",
       "version_major": 2,
       "version_minor": 0
      },
      "text/plain": [
       "%20%20As%20_WTPB9VM9XM.txt:   0%|          | 0.00/1.15k [00:00<?, ?B/s]"
      ]
     },
     "metadata": {},
     "output_type": "display_data"
    },
    {
     "data": {
      "application/vnd.jupyter.widget-view+json": {
       "model_id": "2f13485be7e749e38c99657e95a83cca",
       "version_major": 2,
       "version_minor": 0
      },
      "text/plain": [
       "%20%20As%20_ZN6MB43ZBJ.txt:   0%|          | 0.00/750 [00:00<?, ?B/s]"
      ]
     },
     "metadata": {},
     "output_type": "display_data"
    },
    {
     "data": {
      "application/vnd.jupyter.widget-view+json": {
       "model_id": "e0f243e7b1404b8e92a7aca1d798a3ac",
       "version_major": 2,
       "version_minor": 0
      },
      "text/plain": [
       "%20%20As%20_ZDG6ZURQN7.txt:   0%|          | 0.00/563 [00:00<?, ?B/s]"
      ]
     },
     "metadata": {},
     "output_type": "display_data"
    },
    {
     "data": {
      "application/vnd.jupyter.widget-view+json": {
       "model_id": "d5d8b071cd1d4d01acd002a62c3e54d5",
       "version_major": 2,
       "version_minor": 0
      },
      "text/plain": [
       "%20%20Ass_1RFEB3G2EB.txt:   0%|          | 0.00/837 [00:00<?, ?B/s]"
      ]
     },
     "metadata": {},
     "output_type": "display_data"
    },
    {
     "data": {
      "application/vnd.jupyter.widget-view+json": {
       "model_id": "16fa00f9879243f98330251001db51cb",
       "version_major": 2,
       "version_minor": 0
      },
      "text/plain": [
       "%20%20Ass_KTL7ZSS900.txt:   0%|          | 0.00/356 [00:00<?, ?B/s]"
      ]
     },
     "metadata": {},
     "output_type": "display_data"
    },
    {
     "data": {
      "application/vnd.jupyter.widget-view+json": {
       "model_id": "1f863b1c276745edb50743b260308eee",
       "version_major": 2,
       "version_minor": 0
      },
      "text/plain": [
       "%20%20Ass_6P3QPQ33EW.txt:   0%|          | 0.00/282 [00:00<?, ?B/s]"
      ]
     },
     "metadata": {},
     "output_type": "display_data"
    },
    {
     "data": {
      "application/vnd.jupyter.widget-view+json": {
       "model_id": "7f21f45e825945fd92ff6485982e8c34",
       "version_major": 2,
       "version_minor": 0
      },
      "text/plain": [
       "%20%20Ast_5WFY7602SW.txt:   0%|          | 0.00/1.08k [00:00<?, ?B/s]"
      ]
     },
     "metadata": {},
     "output_type": "display_data"
    },
    {
     "data": {
      "application/vnd.jupyter.widget-view+json": {
       "model_id": "cfbddaa94ad049ea9a2c79086062fc41",
       "version_major": 2,
       "version_minor": 0
      },
      "text/plain": [
       "%20%20Ass_LL7AMVBNYT.txt:   0%|          | 0.00/548 [00:00<?, ?B/s]"
      ]
     },
     "metadata": {},
     "output_type": "display_data"
    },
    {
     "data": {
      "application/vnd.jupyter.widget-view+json": {
       "model_id": "cbf4a9c9d728413d85392d4e6e9b86ea",
       "version_major": 2,
       "version_minor": 0
      },
      "text/plain": [
       "%20%20At%20_N7ECLPZ5Z8.txt:   0%|          | 0.00/1.15k [00:00<?, ?B/s]"
      ]
     },
     "metadata": {},
     "output_type": "display_data"
    },
    {
     "data": {
      "application/vnd.jupyter.widget-view+json": {
       "model_id": "3b354b4252e846d69ada4c3de4d965ac",
       "version_major": 2,
       "version_minor": 0
      },
      "text/plain": [
       "%20%20Ass_A34URW30FQ.txt:   0%|          | 0.00/443 [00:00<?, ?B/s]"
      ]
     },
     "metadata": {},
     "output_type": "display_data"
    },
    {
     "data": {
      "application/vnd.jupyter.widget-view+json": {
       "model_id": "758b4d2d649e42ce8ae31a0ca4ff9016",
       "version_major": 2,
       "version_minor": 0
      },
      "text/plain": [
       "%20%20At%20_OZA37BFOX0.txt:   0%|          | 0.00/971 [00:00<?, ?B/s]"
      ]
     },
     "metadata": {},
     "output_type": "display_data"
    },
    {
     "data": {
      "application/vnd.jupyter.widget-view+json": {
       "model_id": "eaba8088a42743d395cebffe7b1df35a",
       "version_major": 2,
       "version_minor": 0
      },
      "text/plain": [
       "%20%20Ast_B5D06DHQGA.txt:   0%|          | 0.00/1.71k [00:00<?, ?B/s]"
      ]
     },
     "metadata": {},
     "output_type": "display_data"
    },
    {
     "data": {
      "application/vnd.jupyter.widget-view+json": {
       "model_id": "ab2b61e82a8a4d48926ca51c9985ac57",
       "version_major": 2,
       "version_minor": 0
      },
      "text/plain": [
       "%20%20At%20_U23PVLK3PV.txt:   0%|          | 0.00/414 [00:00<?, ?B/s]"
      ]
     },
     "metadata": {},
     "output_type": "display_data"
    },
    {
     "data": {
      "application/vnd.jupyter.widget-view+json": {
       "model_id": "cf4039f2e05d435383a325351acac020",
       "version_major": 2,
       "version_minor": 0
      },
      "text/plain": [
       "%20%20At%20_UAHKQT3OBR.txt:   0%|          | 0.00/742 [00:00<?, ?B/s]"
      ]
     },
     "metadata": {},
     "output_type": "display_data"
    },
    {
     "data": {
      "application/vnd.jupyter.widget-view+json": {
       "model_id": "010a9f2b5a9746cba22e3fea337a01f3",
       "version_major": 2,
       "version_minor": 0
      },
      "text/plain": [
       "%20%20At%20_YRE599HN7O.txt:   0%|          | 0.00/666 [00:00<?, ?B/s]"
      ]
     },
     "metadata": {},
     "output_type": "display_data"
    },
    {
     "data": {
      "application/vnd.jupyter.widget-view+json": {
       "model_id": "4f538977cca8456199c709a7e963b657",
       "version_major": 2,
       "version_minor": 0
      },
      "text/plain": [
       "%20%20Atm_YJ3DG1BR8B.txt:   0%|          | 0.00/1.03k [00:00<?, ?B/s]"
      ]
     },
     "metadata": {},
     "output_type": "display_data"
    },
    {
     "data": {
      "application/vnd.jupyter.widget-view+json": {
       "model_id": "a7fd305f1f5142e6a311292f89188775",
       "version_major": 2,
       "version_minor": 0
      },
      "text/plain": [
       "%20%20Aut_BW0ZY1SO17.txt:   0%|          | 0.00/1.14k [00:00<?, ?B/s]"
      ]
     },
     "metadata": {},
     "output_type": "display_data"
    },
    {
     "data": {
      "application/vnd.jupyter.widget-view+json": {
       "model_id": "4cecbdb1e1a345168be8fa78f56c4805",
       "version_major": 2,
       "version_minor": 0
      },
      "text/plain": [
       "%20%20Aus_HMGHC7TY98.txt:   0%|          | 0.00/570 [00:00<?, ?B/s]"
      ]
     },
     "metadata": {},
     "output_type": "display_data"
    },
    {
     "data": {
      "application/vnd.jupyter.widget-view+json": {
       "model_id": "9b397326ccb94eb79b945edd25ffb601",
       "version_major": 2,
       "version_minor": 0
      },
      "text/plain": [
       "%20%20At%20_YC1PKVIEGO.txt:   0%|          | 0.00/997 [00:00<?, ?B/s]"
      ]
     },
     "metadata": {},
     "output_type": "display_data"
    },
    {
     "data": {
      "application/vnd.jupyter.widget-view+json": {
       "model_id": "5c091242286a4ac0b9e18c31abeb3438",
       "version_major": 2,
       "version_minor": 0
      },
      "text/plain": [
       "%20%20Att_I5DCXWIHJ3.txt:   0%|          | 0.00/574 [00:00<?, ?B/s]"
      ]
     },
     "metadata": {},
     "output_type": "display_data"
    },
    {
     "data": {
      "application/vnd.jupyter.widget-view+json": {
       "model_id": "a6fd61667ea24084946315ee66eace6e",
       "version_major": 2,
       "version_minor": 0
      },
      "text/plain": [
       "%20%20Ava_139B7QMD01.txt:   0%|          | 0.00/1.01k [00:00<?, ?B/s]"
      ]
     },
     "metadata": {},
     "output_type": "display_data"
    },
    {
     "data": {
      "application/vnd.jupyter.widget-view+json": {
       "model_id": "eba6e79ce7fa4091b29a4c0207462f2b",
       "version_major": 2,
       "version_minor": 0
      },
      "text/plain": [
       "%20%20Aut_R9GYSGTAX6.txt:   0%|          | 0.00/1.36k [00:00<?, ?B/s]"
      ]
     },
     "metadata": {},
     "output_type": "display_data"
    },
    {
     "data": {
      "application/vnd.jupyter.widget-view+json": {
       "model_id": "fec4bd6ba4e3403b93ce1bdcccf8cb41",
       "version_major": 2,
       "version_minor": 0
      },
      "text/plain": [
       "%20%20Ave_X6OSFGFVOM.txt:   0%|          | 0.00/737 [00:00<?, ?B/s]"
      ]
     },
     "metadata": {},
     "output_type": "display_data"
    },
    {
     "data": {
      "application/vnd.jupyter.widget-view+json": {
       "model_id": "29f161d5f01b4be598ca0727ad2d25b7",
       "version_major": 2,
       "version_minor": 0
      },
      "text/plain": [
       "%20%20Aut_CTK2N53GB8.txt:   0%|          | 0.00/1.73k [00:00<?, ?B/s]"
      ]
     },
     "metadata": {},
     "output_type": "display_data"
    },
    {
     "data": {
      "application/vnd.jupyter.widget-view+json": {
       "model_id": "dea178281c2540c0b760490b52490cc9",
       "version_major": 2,
       "version_minor": 0
      },
      "text/plain": [
       "%20%20Axi_Y9T1C3DZNI.txt:   0%|          | 0.00/773 [00:00<?, ?B/s]"
      ]
     },
     "metadata": {},
     "output_type": "display_data"
    },
    {
     "data": {
      "application/vnd.jupyter.widget-view+json": {
       "model_id": "4b200ddd29444552865052eb536b489f",
       "version_major": 2,
       "version_minor": 0
      },
      "text/plain": [
       "%20%20B-b_4CK7RX6AER.txt:   0%|          | 0.00/1.55k [00:00<?, ?B/s]"
      ]
     },
     "metadata": {},
     "output_type": "display_data"
    },
    {
     "data": {
      "application/vnd.jupyter.widget-view+json": {
       "model_id": "0bca22ca95ee483f9190bbe167140cb2",
       "version_major": 2,
       "version_minor": 0
      },
      "text/plain": [
       "%20%20Bac_6Y86431WL6.txt:   0%|          | 0.00/1.42k [00:00<?, ?B/s]"
      ]
     },
     "metadata": {},
     "output_type": "display_data"
    },
    {
     "data": {
      "application/vnd.jupyter.widget-view+json": {
       "model_id": "5f30b0dee2aa4fe7bc98eba4096899b8",
       "version_major": 2,
       "version_minor": 0
      },
      "text/plain": [
       "%20%20BES_M5MBS2QDTF.txt:   0%|          | 0.00/524 [00:00<?, ?B/s]"
      ]
     },
     "metadata": {},
     "output_type": "display_data"
    },
    {
     "data": {
      "application/vnd.jupyter.widget-view+json": {
       "model_id": "5beb80f6832a4094a9f5d5daea7ccced",
       "version_major": 2,
       "version_minor": 0
      },
      "text/plain": [
       "%20%20BAC_J3S4AIXLJG.txt:   0%|          | 0.00/1.59k [00:00<?, ?B/s]"
      ]
     },
     "metadata": {},
     "output_type": "display_data"
    },
    {
     "data": {
      "application/vnd.jupyter.widget-view+json": {
       "model_id": "8ca79186ed8a4416a6d42e2c551c0550",
       "version_major": 2,
       "version_minor": 0
      },
      "text/plain": [
       "%20%20Bac_OMR1S08SBY.txt:   0%|          | 0.00/1.54k [00:00<?, ?B/s]"
      ]
     },
     "metadata": {},
     "output_type": "display_data"
    },
    {
     "data": {
      "application/vnd.jupyter.widget-view+json": {
       "model_id": "c2d2e7de36d9412cbd61c711870b74ee",
       "version_major": 2,
       "version_minor": 0
      },
      "text/plain": [
       "%20%20BAC_G06ODTD0Y8.txt:   0%|          | 0.00/1.57k [00:00<?, ?B/s]"
      ]
     },
     "metadata": {},
     "output_type": "display_data"
    },
    {
     "data": {
      "application/vnd.jupyter.widget-view+json": {
       "model_id": "eb1ab451c3174193b566847ca5ee8948",
       "version_major": 2,
       "version_minor": 0
      },
      "text/plain": [
       "%20%20Ban_3QOKLUW5VV.txt:   0%|          | 0.00/639 [00:00<?, ?B/s]"
      ]
     },
     "metadata": {},
     "output_type": "display_data"
    },
    {
     "data": {
      "application/vnd.jupyter.widget-view+json": {
       "model_id": "d345af510aae4095a0cc93a89b2bf338",
       "version_major": 2,
       "version_minor": 0
      },
      "text/plain": [
       "%20%20Ban_4WWECZFSUM.txt:   0%|          | 0.00/672 [00:00<?, ?B/s]"
      ]
     },
     "metadata": {},
     "output_type": "display_data"
    },
    {
     "data": {
      "application/vnd.jupyter.widget-view+json": {
       "model_id": "d973d7b926204cf9933ed205fff3794f",
       "version_major": 2,
       "version_minor": 0
      },
      "text/plain": [
       "%20%20Bar_HRUPFJC4PE.txt:   0%|          | 0.00/871 [00:00<?, ?B/s]"
      ]
     },
     "metadata": {},
     "output_type": "display_data"
    },
    {
     "data": {
      "application/vnd.jupyter.widget-view+json": {
       "model_id": "d8dff65a2ca74e75b4e55bba2ac7d3ed",
       "version_major": 2,
       "version_minor": 0
      },
      "text/plain": [
       "%20%20Bas_0PMXNAVP0H.txt:   0%|          | 0.00/1.13k [00:00<?, ?B/s]"
      ]
     },
     "metadata": {},
     "output_type": "display_data"
    },
    {
     "data": {
      "application/vnd.jupyter.widget-view+json": {
       "model_id": "5665db689887401f8b7cd209a79fca95",
       "version_major": 2,
       "version_minor": 0
      },
      "text/plain": [
       "%20%20Bas_IK8WQLFYNV.txt:   0%|          | 0.00/465 [00:00<?, ?B/s]"
      ]
     },
     "metadata": {},
     "output_type": "display_data"
    },
    {
     "data": {
      "application/vnd.jupyter.widget-view+json": {
       "model_id": "b9df370b49344a2cacde92461a22cab6",
       "version_major": 2,
       "version_minor": 0
      },
      "text/plain": [
       "%20%20Bar_TSN5LYZL2Q.txt:   0%|          | 0.00/1.33k [00:00<?, ?B/s]"
      ]
     },
     "metadata": {},
     "output_type": "display_data"
    },
    {
     "data": {
      "application/vnd.jupyter.widget-view+json": {
       "model_id": "f25f102ce8524d89a48110d04ba110a2",
       "version_major": 2,
       "version_minor": 0
      },
      "text/plain": [
       "%20%20Bas_I58BFVAOBT.txt:   0%|          | 0.00/973 [00:00<?, ?B/s]"
      ]
     },
     "metadata": {},
     "output_type": "display_data"
    },
    {
     "data": {
      "application/vnd.jupyter.widget-view+json": {
       "model_id": "63b62242b1be4c919ca4f900d90e1282",
       "version_major": 2,
       "version_minor": 0
      },
      "text/plain": [
       "%20%20Bas_KUWLJJ4Y1Z.txt:   0%|          | 0.00/472 [00:00<?, ?B/s]"
      ]
     },
     "metadata": {},
     "output_type": "display_data"
    },
    {
     "data": {
      "application/vnd.jupyter.widget-view+json": {
       "model_id": "aabc97ea4ad4453492a85211d3cd2bac",
       "version_major": 2,
       "version_minor": 0
      },
      "text/plain": [
       "%20%20Bas_M5D9X8CFHH.txt:   0%|          | 0.00/914 [00:00<?, ?B/s]"
      ]
     },
     "metadata": {},
     "output_type": "display_data"
    },
    {
     "data": {
      "application/vnd.jupyter.widget-view+json": {
       "model_id": "10b8cceec40a4f00bf0cf47a8482b368",
       "version_major": 2,
       "version_minor": 0
      },
      "text/plain": [
       "%20%20Bas_23I0OKFD7H.txt:   0%|          | 0.00/769 [00:00<?, ?B/s]"
      ]
     },
     "metadata": {},
     "output_type": "display_data"
    },
    {
     "data": {
      "application/vnd.jupyter.widget-view+json": {
       "model_id": "3819b07610be4ff88605451a27781c80",
       "version_major": 2,
       "version_minor": 0
      },
      "text/plain": [
       "%20%20Bas_P1RFEOX4T4.txt:   0%|          | 0.00/1.40k [00:00<?, ?B/s]"
      ]
     },
     "metadata": {},
     "output_type": "display_data"
    },
    {
     "data": {
      "application/vnd.jupyter.widget-view+json": {
       "model_id": "69d95be21ace431f80b4d50c595cb67e",
       "version_major": 2,
       "version_minor": 0
      },
      "text/plain": [
       "%20%20Bas_PDO4EWL089.txt:   0%|          | 0.00/540 [00:00<?, ?B/s]"
      ]
     },
     "metadata": {},
     "output_type": "display_data"
    },
    {
     "data": {
      "application/vnd.jupyter.widget-view+json": {
       "model_id": "63aff9accf87404c9c34fbcbec263d9e",
       "version_major": 2,
       "version_minor": 0
      },
      "text/plain": [
       "%20%20Bas_RFMTSXR88J.txt:   0%|          | 0.00/678 [00:00<?, ?B/s]"
      ]
     },
     "metadata": {},
     "output_type": "display_data"
    },
    {
     "data": {
      "application/vnd.jupyter.widget-view+json": {
       "model_id": "98cd7ae0afde4da393595ecff741fe44",
       "version_major": 2,
       "version_minor": 0
      },
      "text/plain": [
       "%20%20Bas_QZBTME4Q88.txt:   0%|          | 0.00/1.61k [00:00<?, ?B/s]"
      ]
     },
     "metadata": {},
     "output_type": "display_data"
    },
    {
     "data": {
      "application/vnd.jupyter.widget-view+json": {
       "model_id": "2304191145b341de869787ca6c24f2be",
       "version_major": 2,
       "version_minor": 0
      },
      "text/plain": [
       "%20%20Bas_P85NY3K7MH.txt:   0%|          | 0.00/409 [00:00<?, ?B/s]"
      ]
     },
     "metadata": {},
     "output_type": "display_data"
    },
    {
     "data": {
      "application/vnd.jupyter.widget-view+json": {
       "model_id": "b69d746b8f8c4dcf89a3c6663af12f79",
       "version_major": 2,
       "version_minor": 0
      },
      "text/plain": [
       "%20%20Bas_OOQX4XBJQG.txt:   0%|          | 0.00/520 [00:00<?, ?B/s]"
      ]
     },
     "metadata": {},
     "output_type": "display_data"
    },
    {
     "data": {
      "application/vnd.jupyter.widget-view+json": {
       "model_id": "0926de024d0f451498778763ae9e0c2b",
       "version_major": 2,
       "version_minor": 0
      },
      "text/plain": [
       "%20%20Bas_TY9JG44YW6.txt:   0%|          | 0.00/563 [00:00<?, ?B/s]"
      ]
     },
     "metadata": {},
     "output_type": "display_data"
    },
    {
     "data": {
      "application/vnd.jupyter.widget-view+json": {
       "model_id": "84cff14228884afcb24bdf90419ac96b",
       "version_major": 2,
       "version_minor": 0
      },
      "text/plain": [
       "%20%20Bas_US7U7G3DVQ.txt:   0%|          | 0.00/746 [00:00<?, ?B/s]"
      ]
     },
     "metadata": {},
     "output_type": "display_data"
    },
    {
     "data": {
      "application/vnd.jupyter.widget-view+json": {
       "model_id": "d5e8690c35804837890a94e28fb227a7",
       "version_major": 2,
       "version_minor": 0
      },
      "text/plain": [
       "%20%20Bas_YLVNP49WIY.txt:   0%|          | 0.00/468 [00:00<?, ?B/s]"
      ]
     },
     "metadata": {},
     "output_type": "display_data"
    },
    {
     "data": {
      "application/vnd.jupyter.widget-view+json": {
       "model_id": "b07aad1551934d6bbe2960743ed6cd74",
       "version_major": 2,
       "version_minor": 0
      },
      "text/plain": [
       "%20%20Bas_WWBK3EKAXJ.txt:   0%|          | 0.00/658 [00:00<?, ?B/s]"
      ]
     },
     "metadata": {},
     "output_type": "display_data"
    },
    {
     "data": {
      "application/vnd.jupyter.widget-view+json": {
       "model_id": "03e5706903de4682b121b7d712787781",
       "version_major": 2,
       "version_minor": 0
      },
      "text/plain": [
       "%20%20Bas_VAX3ZDX2T2.txt:   0%|          | 0.00/459 [00:00<?, ?B/s]"
      ]
     },
     "metadata": {},
     "output_type": "display_data"
    },
    {
     "data": {
      "application/vnd.jupyter.widget-view+json": {
       "model_id": "0cc4ea9b4a1243308af340e2b9d8d0b2",
       "version_major": 2,
       "version_minor": 0
      },
      "text/plain": [
       "%20%20Bay_3PVND31ZTA.txt:   0%|          | 0.00/551 [00:00<?, ?B/s]"
      ]
     },
     "metadata": {},
     "output_type": "display_data"
    },
    {
     "data": {
      "application/vnd.jupyter.widget-view+json": {
       "model_id": "4699e51a26644a2fa10df4882c2ec601",
       "version_major": 2,
       "version_minor": 0
      },
      "text/plain": [
       "%20%20Bas_UWDPBD3TJV.txt:   0%|          | 0.00/705 [00:00<?, ?B/s]"
      ]
     },
     "metadata": {},
     "output_type": "display_data"
    },
    {
     "data": {
      "application/vnd.jupyter.widget-view+json": {
       "model_id": "99f99eb3bf604a068570f200afb34496",
       "version_major": 2,
       "version_minor": 0
      },
      "text/plain": [
       "%20%20Bay_G0JU2NROQG.txt:   0%|          | 0.00/602 [00:00<?, ?B/s]"
      ]
     },
     "metadata": {},
     "output_type": "display_data"
    },
    {
     "data": {
      "application/vnd.jupyter.widget-view+json": {
       "model_id": "97f2fdff9f43496986fe3e91069ddd6d",
       "version_major": 2,
       "version_minor": 0
      },
      "text/plain": [
       "%20%20Bec_73M9MLUUCS.txt:   0%|          | 0.00/1.01k [00:00<?, ?B/s]"
      ]
     },
     "metadata": {},
     "output_type": "display_data"
    },
    {
     "data": {
      "application/vnd.jupyter.widget-view+json": {
       "model_id": "bf9c35ece528480ba6fbb66d4b811173",
       "version_major": 2,
       "version_minor": 0
      },
      "text/plain": [
       "%20%20Bec_GKD4BCDV3W.txt:   0%|          | 0.00/926 [00:00<?, ?B/s]"
      ]
     },
     "metadata": {},
     "output_type": "display_data"
    },
    {
     "data": {
      "application/vnd.jupyter.widget-view+json": {
       "model_id": "3086ed433a784998ae63d07c0230e784",
       "version_major": 2,
       "version_minor": 0
      },
      "text/plain": [
       "%20%20Bec_E2OI10SFM2.txt:   0%|          | 0.00/571 [00:00<?, ?B/s]"
      ]
     },
     "metadata": {},
     "output_type": "display_data"
    },
    {
     "data": {
      "application/vnd.jupyter.widget-view+json": {
       "model_id": "16406269f5a04356b0e3bfb50ddfe4ce",
       "version_major": 2,
       "version_minor": 0
      },
      "text/plain": [
       "%20%20Bel_4DHE4Y8R0V.txt:   0%|          | 0.00/243 [00:00<?, ?B/s]"
      ]
     },
     "metadata": {},
     "output_type": "display_data"
    },
    {
     "data": {
      "application/vnd.jupyter.widget-view+json": {
       "model_id": "9b5d9962c4b943db9d7373e50fed20f9",
       "version_major": 2,
       "version_minor": 0
      },
      "text/plain": [
       "%20%20Bec_LV62PR65IU.txt:   0%|          | 0.00/1.45k [00:00<?, ?B/s]"
      ]
     },
     "metadata": {},
     "output_type": "display_data"
    },
    {
     "data": {
      "application/vnd.jupyter.widget-view+json": {
       "model_id": "9fd72afc5bf54e2c80b59ce412f6f379",
       "version_major": 2,
       "version_minor": 0
      },
      "text/plain": [
       "%20%20Bi-_3DT3TW04E4.txt:   0%|          | 0.00/339 [00:00<?, ?B/s]"
      ]
     },
     "metadata": {},
     "output_type": "display_data"
    },
    {
     "data": {
      "application/vnd.jupyter.widget-view+json": {
       "model_id": "28186a500cad46c88966a8a43f8ca13d",
       "version_major": 2,
       "version_minor": 0
      },
      "text/plain": [
       "%20%20Bi-_UTDG9WOL6X.txt:   0%|          | 0.00/916 [00:00<?, ?B/s]"
      ]
     },
     "metadata": {},
     "output_type": "display_data"
    },
    {
     "data": {
      "application/vnd.jupyter.widget-view+json": {
       "model_id": "7907fc6b84fc4b81aeda5be1c992645f",
       "version_major": 2,
       "version_minor": 0
      },
      "text/plain": [
       "%20%20Ber_T1CUD4A4CA.txt:   0%|          | 0.00/844 [00:00<?, ?B/s]"
      ]
     },
     "metadata": {},
     "output_type": "display_data"
    },
    {
     "data": {
      "application/vnd.jupyter.widget-view+json": {
       "model_id": "a5f377ea45d54482b6957e53bf9e2438",
       "version_major": 2,
       "version_minor": 0
      },
      "text/plain": [
       "%20%20Bin_I50XHO5E4Y.txt:   0%|          | 0.00/1.12k [00:00<?, ?B/s]"
      ]
     },
     "metadata": {},
     "output_type": "display_data"
    },
    {
     "data": {
      "application/vnd.jupyter.widget-view+json": {
       "model_id": "2bfe49e4e1ab4bb9a94c1f776476fa29",
       "version_major": 2,
       "version_minor": 0
      },
      "text/plain": [
       "%20%20Biv_02GA3KDDR9.txt:   0%|          | 0.00/583 [00:00<?, ?B/s]"
      ]
     },
     "metadata": {},
     "output_type": "display_data"
    },
    {
     "data": {
      "application/vnd.jupyter.widget-view+json": {
       "model_id": "bba91ffde3f14468a0776f3b24419dec",
       "version_major": 2,
       "version_minor": 0
      },
      "text/plain": [
       "%20%20Bia_T07GML9LOF.txt:   0%|          | 0.00/551 [00:00<?, ?B/s]"
      ]
     },
     "metadata": {},
     "output_type": "display_data"
    },
    {
     "data": {
      "application/vnd.jupyter.widget-view+json": {
       "model_id": "2b451fb3caad4268899147e2f65696e6",
       "version_major": 2,
       "version_minor": 0
      },
      "text/plain": [
       "%20%20Bio_ZLOYV8HO3R.txt:   0%|          | 0.00/1.24k [00:00<?, ?B/s]"
      ]
     },
     "metadata": {},
     "output_type": "display_data"
    },
    {
     "data": {
      "application/vnd.jupyter.widget-view+json": {
       "model_id": "b62f68ec0ada49cbbe847cf50ab7e1b7",
       "version_major": 2,
       "version_minor": 0
      },
      "text/plain": [
       "%20%20Bla_XPU8F8ANTM.txt:   0%|          | 0.00/760 [00:00<?, ?B/s]"
      ]
     },
     "metadata": {},
     "output_type": "display_data"
    },
    {
     "data": {
      "application/vnd.jupyter.widget-view+json": {
       "model_id": "5282ac39735847178b3e5a9477bd4e89",
       "version_major": 2,
       "version_minor": 0
      },
      "text/plain": [
       "%20%20Bos_4R8QA5LZRB.txt:   0%|          | 0.00/840 [00:00<?, ?B/s]"
      ]
     },
     "metadata": {},
     "output_type": "display_data"
    },
    {
     "data": {
      "application/vnd.jupyter.widget-view+json": {
       "model_id": "aa4d2cc6f0f84d888f08498fdd434cdc",
       "version_major": 2,
       "version_minor": 0
      },
      "text/plain": [
       "%20%20Bon_E6A7M9R2BA.txt:   0%|          | 0.00/1.20k [00:00<?, ?B/s]"
      ]
     },
     "metadata": {},
     "output_type": "display_data"
    },
    {
     "data": {
      "application/vnd.jupyter.widget-view+json": {
       "model_id": "d96af67cdbe042b1b002077dea7a7793",
       "version_major": 2,
       "version_minor": 0
      },
      "text/plain": [
       "%20%20Bot_7Y47E67GG3.txt:   0%|          | 0.00/432 [00:00<?, ?B/s]"
      ]
     },
     "metadata": {},
     "output_type": "display_data"
    },
    {
     "data": {
      "application/vnd.jupyter.widget-view+json": {
       "model_id": "8519574feb4241949c4b70827d938ae8",
       "version_major": 2,
       "version_minor": 0
      },
      "text/plain": [
       "%20%20Big_99YO24TDB1.txt:   0%|          | 0.00/1.30k [00:00<?, ?B/s]"
      ]
     },
     "metadata": {},
     "output_type": "display_data"
    },
    {
     "data": {
      "application/vnd.jupyter.widget-view+json": {
       "model_id": "c475b05a62e548b5aa85c988904af475",
       "version_major": 2,
       "version_minor": 0
      },
      "text/plain": [
       "%20%20Bot_CO74PJ4J44.txt:   0%|          | 0.00/193 [00:00<?, ?B/s]"
      ]
     },
     "metadata": {},
     "output_type": "display_data"
    },
    {
     "data": {
      "application/vnd.jupyter.widget-view+json": {
       "model_id": "803f25710c544e1997faaf8c051620e3",
       "version_major": 2,
       "version_minor": 0
      },
      "text/plain": [
       "%20%20Boo_0GOJ3BRFK9.txt:   0%|          | 0.00/1.13k [00:00<?, ?B/s]"
      ]
     },
     "metadata": {},
     "output_type": "display_data"
    },
    {
     "data": {
      "application/vnd.jupyter.widget-view+json": {
       "model_id": "14706797aa0a4d7da9d6f61bba0bd8c0",
       "version_major": 2,
       "version_minor": 0
      },
      "text/plain": [
       "%20%20Bos_MO4RECHVM9.txt:   0%|          | 0.00/542 [00:00<?, ?B/s]"
      ]
     },
     "metadata": {},
     "output_type": "display_data"
    },
    {
     "data": {
      "application/vnd.jupyter.widget-view+json": {
       "model_id": "8e963dc96cad45be8381e7dace9adcbb",
       "version_major": 2,
       "version_minor": 0
      },
      "text/plain": [
       "%20%20Bot_QEPA5Z5DM9.txt:   0%|          | 0.00/573 [00:00<?, ?B/s]"
      ]
     },
     "metadata": {},
     "output_type": "display_data"
    },
    {
     "data": {
      "application/vnd.jupyter.widget-view+json": {
       "model_id": "4b3e9fb7892642eda993e6f813813ce5",
       "version_major": 2,
       "version_minor": 0
      },
      "text/plain": [
       "%20%20Bot_ZM5GE86LQA.txt:   0%|          | 0.00/782 [00:00<?, ?B/s]"
      ]
     },
     "metadata": {},
     "output_type": "display_data"
    },
    {
     "data": {
      "application/vnd.jupyter.widget-view+json": {
       "model_id": "48f05ded21004b4a96da5c30c3dd0f92",
       "version_major": 2,
       "version_minor": 0
      },
      "text/plain": [
       "%20%20Bra_RAT7G6VYLU.txt:   0%|          | 0.00/881 [00:00<?, ?B/s]"
      ]
     },
     "metadata": {},
     "output_type": "display_data"
    },
    {
     "data": {
      "application/vnd.jupyter.widget-view+json": {
       "model_id": "ad052b5f073d45bda0b9f673c59e745d",
       "version_major": 2,
       "version_minor": 0
      },
      "text/plain": [
       "%20%20Bla_YWIJLLTXNK.txt:   0%|          | 0.00/766 [00:00<?, ?B/s]"
      ]
     },
     "metadata": {},
     "output_type": "display_data"
    },
    {
     "data": {
      "application/vnd.jupyter.widget-view+json": {
       "model_id": "562cb24760a246269fbf93251eb2ca12",
       "version_major": 2,
       "version_minor": 0
      },
      "text/plain": [
       "%20%20Bui_0GDH086XG4.txt:   0%|          | 0.00/565 [00:00<?, ?B/s]"
      ]
     },
     "metadata": {},
     "output_type": "display_data"
    },
    {
     "data": {
      "application/vnd.jupyter.widget-view+json": {
       "model_id": "0cdb07d5fcec40dca03f214135b9095d",
       "version_major": 2,
       "version_minor": 0
      },
      "text/plain": [
       "%20%20Biq_Y8KOAETGPY.txt:   0%|          | 0.00/979 [00:00<?, ?B/s]"
      ]
     },
     "metadata": {},
     "output_type": "display_data"
    },
    {
     "data": {
      "application/vnd.jupyter.widget-view+json": {
       "model_id": "2bad449bf03a4dd4ac4510c9e8690bf1",
       "version_major": 2,
       "version_minor": 0
      },
      "text/plain": [
       "%20%20Bui_ZKXQDJCRGO.txt:   0%|          | 0.00/958 [00:00<?, ?B/s]"
      ]
     },
     "metadata": {},
     "output_type": "display_data"
    },
    {
     "data": {
      "application/vnd.jupyter.widget-view+json": {
       "model_id": "948f162598c8498286301e0679015f16",
       "version_major": 2,
       "version_minor": 0
      },
      "text/plain": [
       "%20%20Bui_EG1YBWL84I.txt:   0%|          | 0.00/737 [00:00<?, ?B/s]"
      ]
     },
     "metadata": {},
     "output_type": "display_data"
    },
    {
     "data": {
      "application/vnd.jupyter.widget-view+json": {
       "model_id": "5f05747999d141d9b45de0c5701c30b3",
       "version_major": 2,
       "version_minor": 0
      },
      "text/plain": [
       "%20%20By%20_58P44V5GT7.txt:   0%|          | 0.00/485 [00:00<?, ?B/s]"
      ]
     },
     "metadata": {},
     "output_type": "display_data"
    },
    {
     "data": {
      "application/vnd.jupyter.widget-view+json": {
       "model_id": "ecc4b6238f0e4ff7b61f41f56153dac6",
       "version_major": 2,
       "version_minor": 0
      },
      "text/plain": [
       "%20%20Bra_4QB2TP4FKI.txt:   0%|          | 0.00/683 [00:00<?, ?B/s]"
      ]
     },
     "metadata": {},
     "output_type": "display_data"
    },
    {
     "data": {
      "application/vnd.jupyter.widget-view+json": {
       "model_id": "23fd0f7654494d468df605fd6b292282",
       "version_major": 2,
       "version_minor": 0
      },
      "text/plain": [
       "%20%20By%20_7G7HRFJMWG.txt:   0%|          | 0.00/938 [00:00<?, ?B/s]"
      ]
     },
     "metadata": {},
     "output_type": "display_data"
    },
    {
     "data": {
      "application/vnd.jupyter.widget-view+json": {
       "model_id": "2b3407eb7bcd459ea15c15f06c632405",
       "version_major": 2,
       "version_minor": 0
      },
      "text/plain": [
       "%20%20By%20_5X8ARPQDRI.txt:   0%|          | 0.00/542 [00:00<?, ?B/s]"
      ]
     },
     "metadata": {},
     "output_type": "display_data"
    },
    {
     "data": {
      "application/vnd.jupyter.widget-view+json": {
       "model_id": "0a9a3cc0de9542cbb434518bf555396d",
       "version_major": 2,
       "version_minor": 0
      },
      "text/plain": [
       "%20%20By%20_8HDZ5WMDMC.txt:   0%|          | 0.00/593 [00:00<?, ?B/s]"
      ]
     },
     "metadata": {},
     "output_type": "display_data"
    },
    {
     "data": {
      "application/vnd.jupyter.widget-view+json": {
       "model_id": "2fb7e82f1ca84c138e3f2841455de030",
       "version_major": 2,
       "version_minor": 0
      },
      "text/plain": [
       "%20%20Bas_IPQW4MDOAK.txt:   0%|          | 0.00/402 [00:00<?, ?B/s]"
      ]
     },
     "metadata": {},
     "output_type": "display_data"
    },
    {
     "data": {
      "application/vnd.jupyter.widget-view+json": {
       "model_id": "d9098f16156a4a6ebd8f0046b3f04718",
       "version_major": 2,
       "version_minor": 0
      },
      "text/plain": [
       "%20%20By%20_BRGNDOSAT2.txt:   0%|          | 0.00/1.51k [00:00<?, ?B/s]"
      ]
     },
     "metadata": {},
     "output_type": "display_data"
    },
    {
     "data": {
      "application/vnd.jupyter.widget-view+json": {
       "model_id": "4bb499f947c24935aa3b853f4c49338f",
       "version_major": 2,
       "version_minor": 0
      },
      "text/plain": [
       "%20%20By%20_5IU3UE8IDX.txt:   0%|          | 0.00/1.82k [00:00<?, ?B/s]"
      ]
     },
     "metadata": {},
     "output_type": "display_data"
    },
    {
     "data": {
      "application/vnd.jupyter.widget-view+json": {
       "model_id": "42c0470ed469495aa44598b37ebb753d",
       "version_major": 2,
       "version_minor": 0
      },
      "text/plain": [
       "%20%20By%20_AQOHI5XJYC.txt:   0%|          | 0.00/444 [00:00<?, ?B/s]"
      ]
     },
     "metadata": {},
     "output_type": "display_data"
    },
    {
     "data": {
      "application/vnd.jupyter.widget-view+json": {
       "model_id": "cbb5cbf3767d49cda20127c1444db980",
       "version_major": 2,
       "version_minor": 0
      },
      "text/plain": [
       "%20%20By%20_C3ZT2DG6LY.txt:   0%|          | 0.00/490 [00:00<?, ?B/s]"
      ]
     },
     "metadata": {},
     "output_type": "display_data"
    },
    {
     "data": {
      "application/vnd.jupyter.widget-view+json": {
       "model_id": "01d8f84ab1b146238fa8ffd48fdf599d",
       "version_major": 2,
       "version_minor": 0
      },
      "text/plain": [
       "%20%20By%20_8AW6GSNYPD.txt:   0%|          | 0.00/189 [00:00<?, ?B/s]"
      ]
     },
     "metadata": {},
     "output_type": "display_data"
    },
    {
     "data": {
      "application/vnd.jupyter.widget-view+json": {
       "model_id": "df8583625c534c849c56a1690399d66a",
       "version_major": 2,
       "version_minor": 0
      },
      "text/plain": [
       "%20%20By%20_AVYE0KHEGM.txt:   0%|          | 0.00/894 [00:00<?, ?B/s]"
      ]
     },
     "metadata": {},
     "output_type": "display_data"
    },
    {
     "data": {
      "application/vnd.jupyter.widget-view+json": {
       "model_id": "594d489812794b8586e92ac04f9e7020",
       "version_major": 2,
       "version_minor": 0
      },
      "text/plain": [
       "%20%20By%20_DP29F3RC8J.txt:   0%|          | 0.00/487 [00:00<?, ?B/s]"
      ]
     },
     "metadata": {},
     "output_type": "display_data"
    },
    {
     "data": {
      "application/vnd.jupyter.widget-view+json": {
       "model_id": "66cf2aeb40a54ca2b395e396f9a71a42",
       "version_major": 2,
       "version_minor": 0
      },
      "text/plain": [
       "%20%20Bui_388UA1Y7XT.txt:   0%|          | 0.00/304 [00:00<?, ?B/s]"
      ]
     },
     "metadata": {},
     "output_type": "display_data"
    },
    {
     "data": {
      "application/vnd.jupyter.widget-view+json": {
       "model_id": "17648d45e8234b30b38fb43679ea72f9",
       "version_major": 2,
       "version_minor": 0
      },
      "text/plain": [
       "%20%20Bas_V3C5YJ0O0Z.txt:   0%|          | 0.00/385 [00:00<?, ?B/s]"
      ]
     },
     "metadata": {},
     "output_type": "display_data"
    },
    {
     "data": {
      "application/vnd.jupyter.widget-view+json": {
       "model_id": "5ae42d0d9949472aa7d115853b087b59",
       "version_major": 2,
       "version_minor": 0
      },
      "text/plain": [
       "%20%20By%20_3IMFVFBCCN.txt:   0%|          | 0.00/1.25k [00:00<?, ?B/s]"
      ]
     },
     "metadata": {},
     "output_type": "display_data"
    },
    {
     "data": {
      "application/vnd.jupyter.widget-view+json": {
       "model_id": "c78da5cf73274ccc9f0a0fdc5578a71d",
       "version_major": 2,
       "version_minor": 0
      },
      "text/plain": [
       "%20%20Bra_E5DXTNM526.txt:   0%|          | 0.00/515 [00:00<?, ?B/s]"
      ]
     },
     "metadata": {},
     "output_type": "display_data"
    },
    {
     "data": {
      "application/vnd.jupyter.widget-view+json": {
       "model_id": "f49872bfe5354505b9cd632824281670",
       "version_major": 2,
       "version_minor": 0
      },
      "text/plain": [
       "%20%20By%20_DUPM9EQGTO.txt:   0%|          | 0.00/319 [00:00<?, ?B/s]"
      ]
     },
     "metadata": {},
     "output_type": "display_data"
    },
    {
     "data": {
      "application/vnd.jupyter.widget-view+json": {
       "model_id": "4f467c007a924433b4f94ac50008e753",
       "version_major": 2,
       "version_minor": 0
      },
      "text/plain": [
       "%20%20By%20_LDEQFPLMJT.txt:   0%|          | 0.00/876 [00:00<?, ?B/s]"
      ]
     },
     "metadata": {},
     "output_type": "display_data"
    },
    {
     "data": {
      "application/vnd.jupyter.widget-view+json": {
       "model_id": "0f9718a9ae10419e947056e1bf17404a",
       "version_major": 2,
       "version_minor": 0
      },
      "text/plain": [
       "%20%20By%20_EZZZYJEVR3.txt:   0%|          | 0.00/603 [00:00<?, ?B/s]"
      ]
     },
     "metadata": {},
     "output_type": "display_data"
    },
    {
     "data": {
      "application/vnd.jupyter.widget-view+json": {
       "model_id": "d3a9c2c403134af4be8ef8a1cd2c82f0",
       "version_major": 2,
       "version_minor": 0
      },
      "text/plain": [
       "%20%20By%20_KJG26COSAS.txt:   0%|          | 0.00/539 [00:00<?, ?B/s]"
      ]
     },
     "metadata": {},
     "output_type": "display_data"
    },
    {
     "data": {
      "application/vnd.jupyter.widget-view+json": {
       "model_id": "1195a5901ef243d88f37f1209f667b25",
       "version_major": 2,
       "version_minor": 0
      },
      "text/plain": [
       "%20%20By%20_FSR2XDXXFT.txt:   0%|          | 0.00/452 [00:00<?, ?B/s]"
      ]
     },
     "metadata": {},
     "output_type": "display_data"
    },
    {
     "data": {
      "application/vnd.jupyter.widget-view+json": {
       "model_id": "be398450f76b469f8a9114008f2edf15",
       "version_major": 2,
       "version_minor": 0
      },
      "text/plain": [
       "%20%20By%20_G26H7WY29J.txt:   0%|          | 0.00/556 [00:00<?, ?B/s]"
      ]
     },
     "metadata": {},
     "output_type": "display_data"
    },
    {
     "data": {
      "application/vnd.jupyter.widget-view+json": {
       "model_id": "df5bfe0b8f624ab9be65a04fe3bffcc6",
       "version_major": 2,
       "version_minor": 0
      },
      "text/plain": [
       "%20%20By%20_SAW6V62HO5.txt:   0%|          | 0.00/332 [00:00<?, ?B/s]"
      ]
     },
     "metadata": {},
     "output_type": "display_data"
    },
    {
     "data": {
      "application/vnd.jupyter.widget-view+json": {
       "model_id": "92dcd658d50d4a8692480829eb057d61",
       "version_major": 2,
       "version_minor": 0
      },
      "text/plain": [
       "%20%20By%20_UEJGLZ1Y8S.txt:   0%|          | 0.00/594 [00:00<?, ?B/s]"
      ]
     },
     "metadata": {},
     "output_type": "display_data"
    },
    {
     "data": {
      "application/vnd.jupyter.widget-view+json": {
       "model_id": "40f48c33d36a4bc6a6f4c33cc49cce8d",
       "version_major": 2,
       "version_minor": 0
      },
      "text/plain": [
       "%20%20By%20_UUF1ZM4C4Z.txt:   0%|          | 0.00/612 [00:00<?, ?B/s]"
      ]
     },
     "metadata": {},
     "output_type": "display_data"
    },
    {
     "data": {
      "application/vnd.jupyter.widget-view+json": {
       "model_id": "c9bdd2c5f9a940a4ab6b465dc8620e88",
       "version_major": 2,
       "version_minor": 0
      },
      "text/plain": [
       "%20%20By%20_Q2YYS8ZV0Z.txt:   0%|          | 0.00/593 [00:00<?, ?B/s]"
      ]
     },
     "metadata": {},
     "output_type": "display_data"
    },
    {
     "data": {
      "application/vnd.jupyter.widget-view+json": {
       "model_id": "32cbef5bee3e48aca34b7d000ade974d",
       "version_major": 2,
       "version_minor": 0
      },
      "text/plain": [
       "%20%20By%20_LE8ZORF97V.txt:   0%|          | 0.00/516 [00:00<?, ?B/s]"
      ]
     },
     "metadata": {},
     "output_type": "display_data"
    },
    {
     "data": {
      "application/vnd.jupyter.widget-view+json": {
       "model_id": "d6143867be1f4c549c8d4d72d47f127e",
       "version_major": 2,
       "version_minor": 0
      },
      "text/plain": [
       "%20%20By%20_WAIKGQFM30.txt:   0%|          | 0.00/851 [00:00<?, ?B/s]"
      ]
     },
     "metadata": {},
     "output_type": "display_data"
    },
    {
     "data": {
      "application/vnd.jupyter.widget-view+json": {
       "model_id": "4044030fb2d942f5836244f94cfb9df2",
       "version_major": 2,
       "version_minor": 0
      },
      "text/plain": [
       "%20%20By%20_NT7XTSSUND.txt:   0%|          | 0.00/502 [00:00<?, ?B/s]"
      ]
     },
     "metadata": {},
     "output_type": "display_data"
    },
    {
     "data": {
      "application/vnd.jupyter.widget-view+json": {
       "model_id": "a4d44c8f96124e4aa098ae663535f6bd",
       "version_major": 2,
       "version_minor": 0
      },
      "text/plain": [
       "%20%20By%20_LERQEWPTU7.txt:   0%|          | 0.00/872 [00:00<?, ?B/s]"
      ]
     },
     "metadata": {},
     "output_type": "display_data"
    },
    {
     "data": {
      "application/vnd.jupyter.widget-view+json": {
       "model_id": "decc3945284e459da39c1b4ce655f97a",
       "version_major": 2,
       "version_minor": 0
      },
      "text/plain": [
       "%20%20By%20_WGLH657EZJ.txt:   0%|          | 0.00/1.84k [00:00<?, ?B/s]"
      ]
     },
     "metadata": {},
     "output_type": "display_data"
    },
    {
     "data": {
      "application/vnd.jupyter.widget-view+json": {
       "model_id": "757f34c7260c4ddeba876070d1a7eedb",
       "version_major": 2,
       "version_minor": 0
      },
      "text/plain": [
       "%20%20By%20_XFZAG2KQVG.txt:   0%|          | 0.00/1.25k [00:00<?, ?B/s]"
      ]
     },
     "metadata": {},
     "output_type": "display_data"
    },
    {
     "data": {
      "application/vnd.jupyter.widget-view+json": {
       "model_id": "ead1c15e8d8348939d74f63bc3702cb1",
       "version_major": 2,
       "version_minor": 0
      },
      "text/plain": [
       "%20%20By%20_XZQYZQY5M1.txt:   0%|          | 0.00/554 [00:00<?, ?B/s]"
      ]
     },
     "metadata": {},
     "output_type": "display_data"
    },
    {
     "data": {
      "application/vnd.jupyter.widget-view+json": {
       "model_id": "3cd2cda049b9438786309ec33cc5792a",
       "version_major": 2,
       "version_minor": 0
      },
      "text/plain": [
       "%20%20By%20_XLQS7M8ZNB.txt:   0%|          | 0.00/960 [00:00<?, ?B/s]"
      ]
     },
     "metadata": {},
     "output_type": "display_data"
    },
    {
     "data": {
      "application/vnd.jupyter.widget-view+json": {
       "model_id": "d14b7d166e5742aaa80a55d14ab8a34e",
       "version_major": 2,
       "version_minor": 0
      },
      "text/plain": [
       "%20%20CLI_NLGXA933NO.txt:   0%|          | 0.00/1.07k [00:00<?, ?B/s]"
      ]
     },
     "metadata": {},
     "output_type": "display_data"
    },
    {
     "data": {
      "application/vnd.jupyter.widget-view+json": {
       "model_id": "ee2467ee36884ba5afdd428ddd05c109",
       "version_major": 2,
       "version_minor": 0
      },
      "text/plain": [
       "%20%20COM_LLERXLKSJY.txt:   0%|          | 0.00/254 [00:00<?, ?B/s]"
      ]
     },
     "metadata": {},
     "output_type": "display_data"
    },
    {
     "data": {
      "application/vnd.jupyter.widget-view+json": {
       "model_id": "5b18e49007674608a821d851987fbd6d",
       "version_major": 2,
       "version_minor": 0
      },
      "text/plain": [
       "%20%20CO%20_2MTEISBI9J.txt:   0%|          | 0.00/1.78k [00:00<?, ?B/s]"
      ]
     },
     "metadata": {},
     "output_type": "display_data"
    },
    {
     "data": {
      "application/vnd.jupyter.widget-view+json": {
       "model_id": "17830ce6cc81419384ee2a1a6411dfc4",
       "version_major": 2,
       "version_minor": 0
      },
      "text/plain": [
       "%20%20Can_6WAZ1TWFQ1.txt:   0%|          | 0.00/316 [00:00<?, ?B/s]"
      ]
     },
     "metadata": {},
     "output_type": "display_data"
    },
    {
     "data": {
      "application/vnd.jupyter.widget-view+json": {
       "model_id": "d6b0c7c46a474bd680af4f7985eea2d0",
       "version_major": 2,
       "version_minor": 0
      },
      "text/plain": [
       "%20%20C%2A-_36GOMYDJE7.txt:   0%|          | 0.00/762 [00:00<?, ?B/s]"
      ]
     },
     "metadata": {},
     "output_type": "display_data"
    },
    {
     "data": {
      "application/vnd.jupyter.widget-view+json": {
       "model_id": "143013ce59d94c6ab620802738213f06",
       "version_major": 2,
       "version_minor": 0
      },
      "text/plain": [
       "%20%20Cap_4NIZ55QX8T.txt:   0%|          | 0.00/1.18k [00:00<?, ?B/s]"
      ]
     },
     "metadata": {},
     "output_type": "display_data"
    },
    {
     "data": {
      "application/vnd.jupyter.widget-view+json": {
       "model_id": "d98d0f228e32402cba6283c046d375a8",
       "version_major": 2,
       "version_minor": 0
      },
      "text/plain": [
       "%20%20By%20_P3825PIL6P.txt:   0%|          | 0.00/287 [00:00<?, ?B/s]"
      ]
     },
     "metadata": {},
     "output_type": "display_data"
    },
    {
     "data": {
      "application/vnd.jupyter.widget-view+json": {
       "model_id": "e42062e625194070bf63b3e51cf405bb",
       "version_major": 2,
       "version_minor": 0
      },
      "text/plain": [
       "%20%20Cas_YOQNKW2SE7.txt:   0%|          | 0.00/583 [00:00<?, ?B/s]"
      ]
     },
     "metadata": {},
     "output_type": "display_data"
    },
    {
     "data": {
      "application/vnd.jupyter.widget-view+json": {
       "model_id": "b6054359408d462d86c00b6dbe4afb3f",
       "version_major": 2,
       "version_minor": 0
      },
      "text/plain": [
       "%20%20Cap_CIQ0W56FGA.txt:   0%|          | 0.00/887 [00:00<?, ?B/s]"
      ]
     },
     "metadata": {},
     "output_type": "display_data"
    },
    {
     "data": {
      "application/vnd.jupyter.widget-view+json": {
       "model_id": "d4f7b35d79ef42bfb0ca69cca063eed2",
       "version_major": 2,
       "version_minor": 0
      },
      "text/plain": [
       "%20%20Car_BK30J20F2Q.txt:   0%|          | 0.00/920 [00:00<?, ?B/s]"
      ]
     },
     "metadata": {},
     "output_type": "display_data"
    },
    {
     "data": {
      "application/vnd.jupyter.widget-view+json": {
       "model_id": "b921d57302944047adcb265d3fc2a403",
       "version_major": 2,
       "version_minor": 0
      },
      "text/plain": [
       "%20%20Cap_VPNIWKLI9M.txt:   0%|          | 0.00/592 [00:00<?, ?B/s]"
      ]
     },
     "metadata": {},
     "output_type": "display_data"
    },
    {
     "data": {
      "application/vnd.jupyter.widget-view+json": {
       "model_id": "b74f1f228ed44377a85e8b234fae7415",
       "version_major": 2,
       "version_minor": 0
      },
      "text/plain": [
       "%20%20Cau_BZX6LTSQXS.txt:   0%|          | 0.00/638 [00:00<?, ?B/s]"
      ]
     },
     "metadata": {},
     "output_type": "display_data"
    },
    {
     "data": {
      "application/vnd.jupyter.widget-view+json": {
       "model_id": "11b093a7ce6a48ffa596d8e25ce1d633",
       "version_major": 2,
       "version_minor": 0
      },
      "text/plain": [
       "%20%20Car_TH8W84MY64.txt:   0%|          | 0.00/663 [00:00<?, ?B/s]"
      ]
     },
     "metadata": {},
     "output_type": "display_data"
    },
    {
     "data": {
      "application/vnd.jupyter.widget-view+json": {
       "model_id": "e6235e03ce6f4d3c93003606e99c4791",
       "version_major": 2,
       "version_minor": 0
      },
      "text/plain": [
       "%20%20Cau_RB4AXUBSYP.txt:   0%|          | 0.00/727 [00:00<?, ?B/s]"
      ]
     },
     "metadata": {},
     "output_type": "display_data"
    },
    {
     "data": {
      "application/vnd.jupyter.widget-view+json": {
       "model_id": "0b6136a6dda74cce86b98e7c333e43cb",
       "version_major": 2,
       "version_minor": 0
      },
      "text/plain": [
       "%20%20Cat_AHZVYQCE43.txt:   0%|          | 0.00/838 [00:00<?, ?B/s]"
      ]
     },
     "metadata": {},
     "output_type": "display_data"
    },
    {
     "data": {
      "application/vnd.jupyter.widget-view+json": {
       "model_id": "bff51ed23ee34f1b8425d483632d3e45",
       "version_major": 2,
       "version_minor": 0
      },
      "text/plain": [
       "%20%20Cel_HO4SCZ1KNQ.txt:   0%|          | 0.00/1.73k [00:00<?, ?B/s]"
      ]
     },
     "metadata": {},
     "output_type": "display_data"
    },
    {
     "data": {
      "application/vnd.jupyter.widget-view+json": {
       "model_id": "e3b70a844527475790a08980523949d4",
       "version_major": 2,
       "version_minor": 0
      },
      "text/plain": [
       "%20%20Ces_ISUYMQAMHH.txt:   0%|          | 0.00/506 [00:00<?, ?B/s]"
      ]
     },
     "metadata": {},
     "output_type": "display_data"
    },
    {
     "data": {
      "application/vnd.jupyter.widget-view+json": {
       "model_id": "2b9d3796ab944e9190ff1f44227afc84",
       "version_major": 2,
       "version_minor": 0
      },
      "text/plain": [
       "%20%20Cha_179XLDNME3.txt:   0%|          | 0.00/1.65k [00:00<?, ?B/s]"
      ]
     },
     "metadata": {},
     "output_type": "display_data"
    },
    {
     "data": {
      "application/vnd.jupyter.widget-view+json": {
       "model_id": "acc1387ecf164419a44a6ae70a664461",
       "version_major": 2,
       "version_minor": 0
      },
      "text/plain": [
       "%20%20Cha_8F0A24N6H0.txt:   0%|          | 0.00/695 [00:00<?, ?B/s]"
      ]
     },
     "metadata": {},
     "output_type": "display_data"
    },
    {
     "data": {
      "application/vnd.jupyter.widget-view+json": {
       "model_id": "d55b0b30223f4ed88e027753e9a34835",
       "version_major": 2,
       "version_minor": 0
      },
      "text/plain": [
       "%20%20Cha_02OX893YYJ.txt:   0%|          | 0.00/350 [00:00<?, ?B/s]"
      ]
     },
     "metadata": {},
     "output_type": "display_data"
    },
    {
     "data": {
      "application/vnd.jupyter.widget-view+json": {
       "model_id": "1b57cb3d8be24b0db17ad11e3e9d522d",
       "version_major": 2,
       "version_minor": 0
      },
      "text/plain": [
       "%20%20Cha_F6MCVDDQ5E.txt:   0%|          | 0.00/1.29k [00:00<?, ?B/s]"
      ]
     },
     "metadata": {},
     "output_type": "display_data"
    },
    {
     "data": {
      "application/vnd.jupyter.widget-view+json": {
       "model_id": "9b762250ff754d1284a2c16ceb7ba245",
       "version_major": 2,
       "version_minor": 0
      },
      "text/plain": [
       "%20%20Cha_BQ9N652RD7.txt:   0%|          | 0.00/851 [00:00<?, ?B/s]"
      ]
     },
     "metadata": {},
     "output_type": "display_data"
    },
    {
     "data": {
      "application/vnd.jupyter.widget-view+json": {
       "model_id": "4e380a55b60544d28d4894a21dd5f8e6",
       "version_major": 2,
       "version_minor": 0
      },
      "text/plain": [
       "%20%20Cha_11EZDYS3LV.txt:   0%|          | 0.00/524 [00:00<?, ?B/s]"
      ]
     },
     "metadata": {},
     "output_type": "display_data"
    },
    {
     "data": {
      "application/vnd.jupyter.widget-view+json": {
       "model_id": "078c9986c86d40fab55638af34dec6ce",
       "version_major": 2,
       "version_minor": 0
      },
      "text/plain": [
       "%20%20Cha_SQED71HR9S.txt:   0%|          | 0.00/1.05k [00:00<?, ?B/s]"
      ]
     },
     "metadata": {},
     "output_type": "display_data"
    },
    {
     "data": {
      "application/vnd.jupyter.widget-view+json": {
       "model_id": "25da608c1a5349ac927b710c2ce90abc",
       "version_major": 2,
       "version_minor": 0
      },
      "text/plain": [
       "%20%20Cha_VYCTX5D4I7.txt:   0%|          | 0.00/961 [00:00<?, ?B/s]"
      ]
     },
     "metadata": {},
     "output_type": "display_data"
    },
    {
     "data": {
      "application/vnd.jupyter.widget-view+json": {
       "model_id": "cc8d9a16e547455e953220cec0165e49",
       "version_major": 2,
       "version_minor": 0
      },
      "text/plain": [
       "%20%20Chi_ZO5N3P8J7K.txt:   0%|          | 0.00/629 [00:00<?, ?B/s]"
      ]
     },
     "metadata": {},
     "output_type": "display_data"
    },
    {
     "data": {
      "application/vnd.jupyter.widget-view+json": {
       "model_id": "188a1a2a80244da6bec6df92dea33603",
       "version_major": 2,
       "version_minor": 0
      },
      "text/plain": [
       "%20%20Cha_PGCCL2JI92.txt:   0%|          | 0.00/249 [00:00<?, ?B/s]"
      ]
     },
     "metadata": {},
     "output_type": "display_data"
    },
    {
     "data": {
      "application/vnd.jupyter.widget-view+json": {
       "model_id": "299815f5cc97414b9f586a43ce60ff66",
       "version_major": 2,
       "version_minor": 0
      },
      "text/plain": [
       "%20%20Cla_16J2M5J9IC.txt:   0%|          | 0.00/515 [00:00<?, ?B/s]"
      ]
     },
     "metadata": {},
     "output_type": "display_data"
    },
    {
     "data": {
      "application/vnd.jupyter.widget-view+json": {
       "model_id": "c35797c1fbd9441d8555d1a898b00136",
       "version_major": 2,
       "version_minor": 0
      },
      "text/plain": [
       "%20%20Cla_AO7GNH4724.txt:   0%|          | 0.00/1.47k [00:00<?, ?B/s]"
      ]
     },
     "metadata": {},
     "output_type": "display_data"
    },
    {
     "data": {
      "application/vnd.jupyter.widget-view+json": {
       "model_id": "1390d3ffaebb457abbc65ce9d06247f2",
       "version_major": 2,
       "version_minor": 0
      },
      "text/plain": [
       "%20%20Cla_M1769CNVNS.txt:   0%|          | 0.00/167 [00:00<?, ?B/s]"
      ]
     },
     "metadata": {},
     "output_type": "display_data"
    },
    {
     "data": {
      "application/vnd.jupyter.widget-view+json": {
       "model_id": "55b5fb270b7c4a9ea5e722ea1a0ec9a3",
       "version_major": 2,
       "version_minor": 0
      },
      "text/plain": [
       "%20%20Che_R14HUIAZAG.txt:   0%|          | 0.00/384 [00:00<?, ?B/s]"
      ]
     },
     "metadata": {},
     "output_type": "display_data"
    },
    {
     "data": {
      "application/vnd.jupyter.widget-view+json": {
       "model_id": "ce247cf197b74297a0075d04215bc786",
       "version_major": 2,
       "version_minor": 0
      },
      "text/plain": [
       "%20%20Cla_VDLGU96MRC.txt:   0%|          | 0.00/954 [00:00<?, ?B/s]"
      ]
     },
     "metadata": {},
     "output_type": "display_data"
    },
    {
     "data": {
      "application/vnd.jupyter.widget-view+json": {
       "model_id": "568aea33c0484314bea01f4a467ae1cb",
       "version_major": 2,
       "version_minor": 0
      },
      "text/plain": [
       "%20%20Cla_LUPIHT46HM.txt:   0%|          | 0.00/566 [00:00<?, ?B/s]"
      ]
     },
     "metadata": {},
     "output_type": "display_data"
    },
    {
     "data": {
      "application/vnd.jupyter.widget-view+json": {
       "model_id": "7eebfbc0c600412ab2d28854af7a1e6a",
       "version_major": 2,
       "version_minor": 0
      },
      "text/plain": [
       "%20%20Clo_9PYOSRHI8F.txt:   0%|          | 0.00/1.58k [00:00<?, ?B/s]"
      ]
     },
     "metadata": {},
     "output_type": "display_data"
    },
    {
     "data": {
      "application/vnd.jupyter.widget-view+json": {
       "model_id": "340bbbb0a7a54a10b462dde8f997f3fe",
       "version_major": 2,
       "version_minor": 0
      },
      "text/plain": [
       "%20%20Che_9QBOC9I3WT.txt:   0%|          | 0.00/586 [00:00<?, ?B/s]"
      ]
     },
     "metadata": {},
     "output_type": "display_data"
    },
    {
     "data": {
      "application/vnd.jupyter.widget-view+json": {
       "model_id": "d2b044dbb611491db52e0d0a6fadcca2",
       "version_major": 2,
       "version_minor": 0
      },
      "text/plain": [
       "%20%20Cle_656HNW0EJI.txt:   0%|          | 0.00/823 [00:00<?, ?B/s]"
      ]
     },
     "metadata": {},
     "output_type": "display_data"
    },
    {
     "data": {
      "application/vnd.jupyter.widget-view+json": {
       "model_id": "cef57e9369124704b54158cac7f11832",
       "version_major": 2,
       "version_minor": 0
      },
      "text/plain": [
       "%20%20Clo_T9AAIKNEOJ.txt:   0%|          | 0.00/853 [00:00<?, ?B/s]"
      ]
     },
     "metadata": {},
     "output_type": "display_data"
    },
    {
     "data": {
      "application/vnd.jupyter.widget-view+json": {
       "model_id": "9ba34d45f0b94d838d87d5d5c790bc89",
       "version_major": 2,
       "version_minor": 0
      },
      "text/plain": [
       "%20%20Coa_2EYK1Y6809.txt:   0%|          | 0.00/847 [00:00<?, ?B/s]"
      ]
     },
     "metadata": {},
     "output_type": "display_data"
    },
    {
     "data": {
      "application/vnd.jupyter.widget-view+json": {
       "model_id": "d7adf4091e6049b18fb5ef784b06de54",
       "version_major": 2,
       "version_minor": 0
      },
      "text/plain": [
       "%20%20Coc_VZKABCWMSH.txt:   0%|          | 0.00/337 [00:00<?, ?B/s]"
      ]
     },
     "metadata": {},
     "output_type": "display_data"
    },
    {
     "data": {
      "application/vnd.jupyter.widget-view+json": {
       "model_id": "2f989c7e9f9c4bc1842526764d304b8f",
       "version_major": 2,
       "version_minor": 0
      },
      "text/plain": [
       "%20%20Cof_OI1IS5MQW7.txt:   0%|          | 0.00/663 [00:00<?, ?B/s]"
      ]
     },
     "metadata": {},
     "output_type": "display_data"
    },
    {
     "data": {
      "application/vnd.jupyter.widget-view+json": {
       "model_id": "5f0ae124b5d34f97ba02a7b8530e07ce",
       "version_major": 2,
       "version_minor": 0
      },
      "text/plain": [
       "%20%20Col_8UX9S84C6P.txt:   0%|          | 0.00/1.24k [00:00<?, ?B/s]"
      ]
     },
     "metadata": {},
     "output_type": "display_data"
    },
    {
     "data": {
      "application/vnd.jupyter.widget-view+json": {
       "model_id": "225eccbd3d2e445ab98b6009fe57d1f3",
       "version_major": 2,
       "version_minor": 0
      },
      "text/plain": [
       "%20%20Cod_J5ICZZDX3J.txt:   0%|          | 0.00/567 [00:00<?, ?B/s]"
      ]
     },
     "metadata": {},
     "output_type": "display_data"
    },
    {
     "data": {
      "application/vnd.jupyter.widget-view+json": {
       "model_id": "31696031f58341ab84eace56c18ee918",
       "version_major": 2,
       "version_minor": 0
      },
      "text/plain": [
       "%20%20Col_AVPVS0QR2S.txt:   0%|          | 0.00/682 [00:00<?, ?B/s]"
      ]
     },
     "metadata": {},
     "output_type": "display_data"
    },
    {
     "data": {
      "application/vnd.jupyter.widget-view+json": {
       "model_id": "8bb6735c909f47d395138de44f227d8c",
       "version_major": 2,
       "version_minor": 0
      },
      "text/plain": [
       "%20%20Col_E7PRHGUZ31.txt:   0%|          | 0.00/891 [00:00<?, ?B/s]"
      ]
     },
     "metadata": {},
     "output_type": "display_data"
    },
    {
     "data": {
      "application/vnd.jupyter.widget-view+json": {
       "model_id": "a932fc0cac084c818f378958299dce5b",
       "version_major": 2,
       "version_minor": 0
      },
      "text/plain": [
       "%20%20Col_GRZH172ARV.txt:   0%|          | 0.00/1.41k [00:00<?, ?B/s]"
      ]
     },
     "metadata": {},
     "output_type": "display_data"
    },
    {
     "data": {
      "application/vnd.jupyter.widget-view+json": {
       "model_id": "35886d196569468387eeb660e222c7bc",
       "version_major": 2,
       "version_minor": 0
      },
      "text/plain": [
       "%20%20Com_1SMV9L7SXP.txt:   0%|          | 0.00/1.41k [00:00<?, ?B/s]"
      ]
     },
     "metadata": {},
     "output_type": "display_data"
    },
    {
     "data": {
      "application/vnd.jupyter.widget-view+json": {
       "model_id": "86285707909f41afb6ecdd9b9042c3ff",
       "version_major": 2,
       "version_minor": 0
      },
      "text/plain": [
       "%20%20Col_JR88LWBCM6.txt:   0%|          | 0.00/673 [00:00<?, ?B/s]"
      ]
     },
     "metadata": {},
     "output_type": "display_data"
    },
    {
     "data": {
      "application/vnd.jupyter.widget-view+json": {
       "model_id": "9e8b17d155f24a2caf348da09ed2b01a",
       "version_major": 2,
       "version_minor": 0
      },
      "text/plain": [
       "%20%20Col_VCYR8T3DQI.txt:   0%|          | 0.00/1.56k [00:00<?, ?B/s]"
      ]
     },
     "metadata": {},
     "output_type": "display_data"
    },
    {
     "data": {
      "application/vnd.jupyter.widget-view+json": {
       "model_id": "b88fa49a4c234b1aa57180e5a95d5cc9",
       "version_major": 2,
       "version_minor": 0
      },
      "text/plain": [
       "%20%20Com_1K3V3PCZA7.txt:   0%|          | 0.00/1.29k [00:00<?, ?B/s]"
      ]
     },
     "metadata": {},
     "output_type": "display_data"
    },
    {
     "data": {
      "application/vnd.jupyter.widget-view+json": {
       "model_id": "7adee8208fb0416aa9b7b368160f692a",
       "version_major": 2,
       "version_minor": 0
      },
      "text/plain": [
       "%20%20Col_YAJ1VR7GPL.txt:   0%|          | 0.00/899 [00:00<?, ?B/s]"
      ]
     },
     "metadata": {},
     "output_type": "display_data"
    },
    {
     "data": {
      "application/vnd.jupyter.widget-view+json": {
       "model_id": "3b2cba5ac1b1420f889a57cc7df59cfa",
       "version_major": 2,
       "version_minor": 0
      },
      "text/plain": [
       "%20%20Com_49UM3OCWJ5.txt:   0%|          | 0.00/1.41k [00:00<?, ?B/s]"
      ]
     },
     "metadata": {},
     "output_type": "display_data"
    },
    {
     "data": {
      "application/vnd.jupyter.widget-view+json": {
       "model_id": "730b1608ae0446189a954c9ed1aa041d",
       "version_major": 2,
       "version_minor": 0
      },
      "text/plain": [
       "%20%20Com_285TFI06IA.txt:   0%|          | 0.00/513 [00:00<?, ?B/s]"
      ]
     },
     "metadata": {},
     "output_type": "display_data"
    },
    {
     "data": {
      "application/vnd.jupyter.widget-view+json": {
       "model_id": "0fd52646b47743599b4b9c4143b5e518",
       "version_major": 2,
       "version_minor": 0
      },
      "text/plain": [
       "%20%20Com_6RYV4DONMB.txt:   0%|          | 0.00/61.0 [00:00<?, ?B/s]"
      ]
     },
     "metadata": {},
     "output_type": "display_data"
    },
    {
     "data": {
      "application/vnd.jupyter.widget-view+json": {
       "model_id": "966398acb0ca45759593297efcd01112",
       "version_major": 2,
       "version_minor": 0
      },
      "text/plain": [
       "%20%20Clu_LKIOUX81CE.txt:   0%|          | 0.00/1.36k [00:00<?, ?B/s]"
      ]
     },
     "metadata": {},
     "output_type": "display_data"
    },
    {
     "data": {
      "application/vnd.jupyter.widget-view+json": {
       "model_id": "52f1492d4eaa4e33916c7bbb95020cd9",
       "version_major": 2,
       "version_minor": 0
      },
      "text/plain": [
       "%20%20Coh_SJP9PZJ9ZW.txt:   0%|          | 0.00/470 [00:00<?, ?B/s]"
      ]
     },
     "metadata": {},
     "output_type": "display_data"
    },
    {
     "data": {
      "application/vnd.jupyter.widget-view+json": {
       "model_id": "903f65223d1c4f859e8e0d88088b2b34",
       "version_major": 2,
       "version_minor": 0
      },
      "text/plain": [
       "%20%20Com_8VKYCKB09X.txt:   0%|          | 0.00/201 [00:00<?, ?B/s]"
      ]
     },
     "metadata": {},
     "output_type": "display_data"
    },
    {
     "data": {
      "application/vnd.jupyter.widget-view+json": {
       "model_id": "7c027a1cf9c94366b964311af54abae0",
       "version_major": 2,
       "version_minor": 0
      },
      "text/plain": [
       "%20%20Com_7DOIXRXV18.txt:   0%|          | 0.00/1.00k [00:00<?, ?B/s]"
      ]
     },
     "metadata": {},
     "output_type": "display_data"
    },
    {
     "data": {
      "application/vnd.jupyter.widget-view+json": {
       "model_id": "e7e1aa4e4df3459193012ded87f4e22e",
       "version_major": 2,
       "version_minor": 0
      },
      "text/plain": [
       "%20%20Com_9RSSC6BCND.txt:   0%|          | 0.00/1.40k [00:00<?, ?B/s]"
      ]
     },
     "metadata": {},
     "output_type": "display_data"
    },
    {
     "data": {
      "application/vnd.jupyter.widget-view+json": {
       "model_id": "3ade2a8c3dfa4b85b0781c597899f151",
       "version_major": 2,
       "version_minor": 0
      },
      "text/plain": [
       "%20%20Com_COQCEJMT8H.txt:   0%|          | 0.00/630 [00:00<?, ?B/s]"
      ]
     },
     "metadata": {},
     "output_type": "display_data"
    },
    {
     "data": {
      "application/vnd.jupyter.widget-view+json": {
       "model_id": "a15645ec563f4edb9bb38ba560b95fd3",
       "version_major": 2,
       "version_minor": 0
      },
      "text/plain": [
       "%20%20Coh_DD6ISBS1BP.txt:   0%|          | 0.00/868 [00:00<?, ?B/s]"
      ]
     },
     "metadata": {},
     "output_type": "display_data"
    },
    {
     "data": {
      "application/vnd.jupyter.widget-view+json": {
       "model_id": "2ff3f9e8d6b74549af210db1c61a6f8f",
       "version_major": 2,
       "version_minor": 0
      },
      "text/plain": [
       "%20%20Com_CSKTWS9R15.txt:   0%|          | 0.00/154 [00:00<?, ?B/s]"
      ]
     },
     "metadata": {},
     "output_type": "display_data"
    },
    {
     "data": {
      "application/vnd.jupyter.widget-view+json": {
       "model_id": "5f6394c494b34a47971bc488cc625fde",
       "version_major": 2,
       "version_minor": 0
      },
      "text/plain": [
       "%20%20Com_CZWMOH0WVK.txt:   0%|          | 0.00/1.25k [00:00<?, ?B/s]"
      ]
     },
     "metadata": {},
     "output_type": "display_data"
    },
    {
     "data": {
      "application/vnd.jupyter.widget-view+json": {
       "model_id": "3c10613f74e04f1490ed1b6ad433f051",
       "version_major": 2,
       "version_minor": 0
      },
      "text/plain": [
       "%20%20Com_M3ON7R2MAV.txt:   0%|          | 0.00/644 [00:00<?, ?B/s]"
      ]
     },
     "metadata": {},
     "output_type": "display_data"
    },
    {
     "data": {
      "application/vnd.jupyter.widget-view+json": {
       "model_id": "d28b0e637df146c4aabcace706b4d4d2",
       "version_major": 2,
       "version_minor": 0
      },
      "text/plain": [
       "%20%20Com_E3WS40POIV.txt:   0%|          | 0.00/193 [00:00<?, ?B/s]"
      ]
     },
     "metadata": {},
     "output_type": "display_data"
    },
    {
     "data": {
      "application/vnd.jupyter.widget-view+json": {
       "model_id": "36a5dd0bdb0c42528ac100a3f3f00603",
       "version_major": 2,
       "version_minor": 0
      },
      "text/plain": [
       "%20%20Com_NVIYEDLD18.txt:   0%|          | 0.00/409 [00:00<?, ?B/s]"
      ]
     },
     "metadata": {},
     "output_type": "display_data"
    },
    {
     "data": {
      "application/vnd.jupyter.widget-view+json": {
       "model_id": "889f5a4bcc734a198b3515ee9b9e6987",
       "version_major": 2,
       "version_minor": 0
      },
      "text/plain": [
       "%20%20Com_NWQ7NVZM29.txt:   0%|          | 0.00/1.02k [00:00<?, ?B/s]"
      ]
     },
     "metadata": {},
     "output_type": "display_data"
    },
    {
     "data": {
      "application/vnd.jupyter.widget-view+json": {
       "model_id": "bdb18b3662134ec48294358e83227566",
       "version_major": 2,
       "version_minor": 0
      },
      "text/plain": [
       "%20%20Com_N3S4C2R1IA.txt:   0%|          | 0.00/1.44k [00:00<?, ?B/s]"
      ]
     },
     "metadata": {},
     "output_type": "display_data"
    },
    {
     "data": {
      "application/vnd.jupyter.widget-view+json": {
       "model_id": "43adc48943c142e6beaf6134d688557e",
       "version_major": 2,
       "version_minor": 0
      },
      "text/plain": [
       "%20%20Com_MONS1B0ZQ8.txt:   0%|          | 0.00/902 [00:00<?, ?B/s]"
      ]
     },
     "metadata": {},
     "output_type": "display_data"
    },
    {
     "data": {
      "application/vnd.jupyter.widget-view+json": {
       "model_id": "1485241fed294aa0832330bd5b4867f0",
       "version_major": 2,
       "version_minor": 0
      },
      "text/plain": [
       "%20%20Com_TEK870P8P2.txt:   0%|          | 0.00/832 [00:00<?, ?B/s]"
      ]
     },
     "metadata": {},
     "output_type": "display_data"
    },
    {
     "data": {
      "application/vnd.jupyter.widget-view+json": {
       "model_id": "705f9056c7184cdeb3dde6b1344208f3",
       "version_major": 2,
       "version_minor": 0
      },
      "text/plain": [
       "%20%20Con_299P5COU10.txt:   0%|          | 0.00/1.02k [00:00<?, ?B/s]"
      ]
     },
     "metadata": {},
     "output_type": "display_data"
    },
    {
     "data": {
      "application/vnd.jupyter.widget-view+json": {
       "model_id": "d85b032843c8486db4db53c74e4ad173",
       "version_major": 2,
       "version_minor": 0
      },
      "text/plain": [
       "%20%20Con_1XJMPITFQ5.txt:   0%|          | 0.00/1.82k [00:00<?, ?B/s]"
      ]
     },
     "metadata": {},
     "output_type": "display_data"
    },
    {
     "data": {
      "application/vnd.jupyter.widget-view+json": {
       "model_id": "420952abc5624fc6a7a15a1faa4384e7",
       "version_major": 2,
       "version_minor": 0
      },
      "text/plain": [
       "%20%20Com_OUHDD89HAF.txt:   0%|          | 0.00/455 [00:00<?, ?B/s]"
      ]
     },
     "metadata": {},
     "output_type": "display_data"
    },
    {
     "data": {
      "application/vnd.jupyter.widget-view+json": {
       "model_id": "90c70404a3dd41f58cfe57eca6fb8525",
       "version_major": 2,
       "version_minor": 0
      },
      "text/plain": [
       "%20%20Con_3TN3QJ94MR.txt:   0%|          | 0.00/656 [00:00<?, ?B/s]"
      ]
     },
     "metadata": {},
     "output_type": "display_data"
    },
    {
     "data": {
      "application/vnd.jupyter.widget-view+json": {
       "model_id": "24dfcf0c779b45e385faaefd7cf2b170",
       "version_major": 2,
       "version_minor": 0
      },
      "text/plain": [
       "%20%20Con_3U2ES5VNEG.txt:   0%|          | 0.00/1.74k [00:00<?, ?B/s]"
      ]
     },
     "metadata": {},
     "output_type": "display_data"
    },
    {
     "data": {
      "application/vnd.jupyter.widget-view+json": {
       "model_id": "bbe06206c58342268bfd4019ae9d491a",
       "version_major": 2,
       "version_minor": 0
      },
      "text/plain": [
       "%20%20Con_DB0QP43WKP.txt:   0%|          | 0.00/473 [00:00<?, ?B/s]"
      ]
     },
     "metadata": {},
     "output_type": "display_data"
    },
    {
     "data": {
      "application/vnd.jupyter.widget-view+json": {
       "model_id": "92baa8097842433ebc0ebf98e3a12934",
       "version_major": 2,
       "version_minor": 0
      },
      "text/plain": [
       "%20%20Con_90HQ5YZMXT.txt:   0%|          | 0.00/256 [00:00<?, ?B/s]"
      ]
     },
     "metadata": {},
     "output_type": "display_data"
    },
    {
     "data": {
      "application/vnd.jupyter.widget-view+json": {
       "model_id": "fb496bcedffc48b5bbf296bf026b07ed",
       "version_major": 2,
       "version_minor": 0
      },
      "text/plain": [
       "%20%20Con_DPO5QRQEL0.txt:   0%|          | 0.00/1.60k [00:00<?, ?B/s]"
      ]
     },
     "metadata": {},
     "output_type": "display_data"
    },
    {
     "data": {
      "application/vnd.jupyter.widget-view+json": {
       "model_id": "90f9359e8dcb45eaa6be6a9424e76f05",
       "version_major": 2,
       "version_minor": 0
      },
      "text/plain": [
       "%20%20Con_C8OIYSMKTT.txt:   0%|          | 0.00/577 [00:00<?, ?B/s]"
      ]
     },
     "metadata": {},
     "output_type": "display_data"
    },
    {
     "data": {
      "application/vnd.jupyter.widget-view+json": {
       "model_id": "e9dad462cc304ac182cd53b5fc343490",
       "version_major": 2,
       "version_minor": 0
      },
      "text/plain": [
       "%20%20Com_LVQ0DZVHLT.txt:   0%|          | 0.00/414 [00:00<?, ?B/s]"
      ]
     },
     "metadata": {},
     "output_type": "display_data"
    },
    {
     "data": {
      "application/vnd.jupyter.widget-view+json": {
       "model_id": "28f7207faa594414a3b6254bf1fd8e32",
       "version_major": 2,
       "version_minor": 0
      },
      "text/plain": [
       "%20%20Com_O81W7SWKAJ.txt:   0%|          | 0.00/962 [00:00<?, ?B/s]"
      ]
     },
     "metadata": {},
     "output_type": "display_data"
    },
    {
     "data": {
      "application/vnd.jupyter.widget-view+json": {
       "model_id": "a2cb2c790fc345928bea9ae95ee9932e",
       "version_major": 2,
       "version_minor": 0
      },
      "text/plain": [
       "%20%20Con_B93DE1V895.txt:   0%|          | 0.00/738 [00:00<?, ?B/s]"
      ]
     },
     "metadata": {},
     "output_type": "display_data"
    },
    {
     "data": {
      "application/vnd.jupyter.widget-view+json": {
       "model_id": "8df4ad5b256d4d0a94fd0a2e9bbbc287",
       "version_major": 2,
       "version_minor": 0
      },
      "text/plain": [
       "%20%20Con_84N8HE0S1F.txt:   0%|          | 0.00/1.37k [00:00<?, ?B/s]"
      ]
     },
     "metadata": {},
     "output_type": "display_data"
    },
    {
     "data": {
      "application/vnd.jupyter.widget-view+json": {
       "model_id": "38e22a62dfa3448681fb6fd9b4cf18bd",
       "version_major": 2,
       "version_minor": 0
      },
      "text/plain": [
       "%20%20Con_985AOXIX6B.txt:   0%|          | 0.00/645 [00:00<?, ?B/s]"
      ]
     },
     "metadata": {},
     "output_type": "display_data"
    },
    {
     "data": {
      "application/vnd.jupyter.widget-view+json": {
       "model_id": "0127a9c90e7f45f99ac984b5aa0ceccb",
       "version_major": 2,
       "version_minor": 0
      },
      "text/plain": [
       "%20%20Con_EH51QUF33B.txt:   0%|          | 0.00/1.07k [00:00<?, ?B/s]"
      ]
     },
     "metadata": {},
     "output_type": "display_data"
    },
    {
     "data": {
      "application/vnd.jupyter.widget-view+json": {
       "model_id": "70e72541321c4195942cc5345e5c5690",
       "version_major": 2,
       "version_minor": 0
      },
      "text/plain": [
       "%20%20Con_55X3RGG2SB.txt:   0%|          | 0.00/710 [00:00<?, ?B/s]"
      ]
     },
     "metadata": {},
     "output_type": "display_data"
    },
    {
     "data": {
      "application/vnd.jupyter.widget-view+json": {
       "model_id": "1c5d8ee826ee476f9ff35910093951cf",
       "version_major": 2,
       "version_minor": 0
      },
      "text/plain": [
       "%20%20Con_EMXBOCMJV4.txt:   0%|          | 0.00/1.54k [00:00<?, ?B/s]"
      ]
     },
     "metadata": {},
     "output_type": "display_data"
    },
    {
     "data": {
      "application/vnd.jupyter.widget-view+json": {
       "model_id": "d8da39aae93342babc74e042971e5b70",
       "version_major": 2,
       "version_minor": 0
      },
      "text/plain": [
       "%20%20Con_E9M0IMNS98.txt:   0%|          | 0.00/965 [00:00<?, ?B/s]"
      ]
     },
     "metadata": {},
     "output_type": "display_data"
    },
    {
     "data": {
      "application/vnd.jupyter.widget-view+json": {
       "model_id": "816269e942da4115b6438f5f93fffc5d",
       "version_major": 2,
       "version_minor": 0
      },
      "text/plain": [
       "%20%20Con_FCYZI89GJE.txt:   0%|          | 0.00/1.70k [00:00<?, ?B/s]"
      ]
     },
     "metadata": {},
     "output_type": "display_data"
    },
    {
     "data": {
      "application/vnd.jupyter.widget-view+json": {
       "model_id": "ad180466045d43ccb786782b2429971c",
       "version_major": 2,
       "version_minor": 0
      },
      "text/plain": [
       "%20%20Con_9TOVG6DHDN.txt:   0%|          | 0.00/1.70k [00:00<?, ?B/s]"
      ]
     },
     "metadata": {},
     "output_type": "display_data"
    },
    {
     "data": {
      "application/vnd.jupyter.widget-view+json": {
       "model_id": "2ebfb2c2792946d5ac6c27f270ff252f",
       "version_major": 2,
       "version_minor": 0
      },
      "text/plain": [
       "%20%20Con_FOKX6M1XN9.txt:   0%|          | 0.00/711 [00:00<?, ?B/s]"
      ]
     },
     "metadata": {},
     "output_type": "display_data"
    },
    {
     "data": {
      "application/vnd.jupyter.widget-view+json": {
       "model_id": "a38557b80799429a93708d4c1212967a",
       "version_major": 2,
       "version_minor": 0
      },
      "text/plain": [
       "%20%20Con_GEO9NZ3LG3.txt:   0%|          | 0.00/1.27k [00:00<?, ?B/s]"
      ]
     },
     "metadata": {},
     "output_type": "display_data"
    },
    {
     "data": {
      "application/vnd.jupyter.widget-view+json": {
       "model_id": "98fe9d4c89d14434bd6cebd964b6b02d",
       "version_major": 2,
       "version_minor": 0
      },
      "text/plain": [
       "%20%20Con_GB9AMD9RKB.txt:   0%|          | 0.00/627 [00:00<?, ?B/s]"
      ]
     },
     "metadata": {},
     "output_type": "display_data"
    },
    {
     "data": {
      "application/vnd.jupyter.widget-view+json": {
       "model_id": "dbe54b10aae74c6783219b8dc414c424",
       "version_major": 2,
       "version_minor": 0
      },
      "text/plain": [
       "%20%20Con_FAP20SGY6P.txt:   0%|          | 0.00/743 [00:00<?, ?B/s]"
      ]
     },
     "metadata": {},
     "output_type": "display_data"
    },
    {
     "data": {
      "application/vnd.jupyter.widget-view+json": {
       "model_id": "997046f130164a04840ef6fbda45c4d6",
       "version_major": 2,
       "version_minor": 0
      },
      "text/plain": [
       "%20%20Con_IRY9JX1Q35.txt:   0%|          | 0.00/750 [00:00<?, ?B/s]"
      ]
     },
     "metadata": {},
     "output_type": "display_data"
    },
    {
     "data": {
      "application/vnd.jupyter.widget-view+json": {
       "model_id": "be47e4943e734e43be3984382d2210f5",
       "version_major": 2,
       "version_minor": 0
      },
      "text/plain": [
       "%20%20Con_L10JC1LIEV.txt:   0%|          | 0.00/275 [00:00<?, ?B/s]"
      ]
     },
     "metadata": {},
     "output_type": "display_data"
    },
    {
     "data": {
      "application/vnd.jupyter.widget-view+json": {
       "model_id": "0a8575669185447ba00bebb006f2a9b9",
       "version_major": 2,
       "version_minor": 0
      },
      "text/plain": [
       "%20%20Con_HYJR9SFQAX.txt:   0%|          | 0.00/679 [00:00<?, ?B/s]"
      ]
     },
     "metadata": {},
     "output_type": "display_data"
    },
    {
     "data": {
      "application/vnd.jupyter.widget-view+json": {
       "model_id": "aee41b3c537b459494fa7f22665a6e6d",
       "version_major": 2,
       "version_minor": 0
      },
      "text/plain": [
       "%20%20Con_HYSQV2MWJP.txt:   0%|          | 0.00/898 [00:00<?, ?B/s]"
      ]
     },
     "metadata": {},
     "output_type": "display_data"
    },
    {
     "data": {
      "application/vnd.jupyter.widget-view+json": {
       "model_id": "239eaa6eda3143898bb6b8febabec6ba",
       "version_major": 2,
       "version_minor": 0
      },
      "text/plain": [
       "%20%20Con_JWBMRUAVWR.txt:   0%|          | 0.00/1.63k [00:00<?, ?B/s]"
      ]
     },
     "metadata": {},
     "output_type": "display_data"
    },
    {
     "data": {
      "application/vnd.jupyter.widget-view+json": {
       "model_id": "7de816fe07ca4fd5a83b69d80b857870",
       "version_major": 2,
       "version_minor": 0
      },
      "text/plain": [
       "%20%20Con_L4790FPE2L.txt:   0%|          | 0.00/858 [00:00<?, ?B/s]"
      ]
     },
     "metadata": {},
     "output_type": "display_data"
    },
    {
     "data": {
      "application/vnd.jupyter.widget-view+json": {
       "model_id": "a227340ba72f465eaa1ade5228885911",
       "version_major": 2,
       "version_minor": 0
      },
      "text/plain": [
       "%20%20Con_KLJFKZGN21.txt:   0%|          | 0.00/1.57k [00:00<?, ?B/s]"
      ]
     },
     "metadata": {},
     "output_type": "display_data"
    },
    {
     "data": {
      "application/vnd.jupyter.widget-view+json": {
       "model_id": "15f5ff8ce9c543ee90c4d0901388d506",
       "version_major": 2,
       "version_minor": 0
      },
      "text/plain": [
       "%20%20Con_J51VS4R4XD.txt:   0%|          | 0.00/876 [00:00<?, ?B/s]"
      ]
     },
     "metadata": {},
     "output_type": "display_data"
    },
    {
     "data": {
      "application/vnd.jupyter.widget-view+json": {
       "model_id": "ffe77019f8e947d58a74ebabb44ca10c",
       "version_major": 2,
       "version_minor": 0
      },
      "text/plain": [
       "%20%20Con_L76LH9VIQE.txt:   0%|          | 0.00/1.06k [00:00<?, ?B/s]"
      ]
     },
     "metadata": {},
     "output_type": "display_data"
    },
    {
     "data": {
      "application/vnd.jupyter.widget-view+json": {
       "model_id": "db98fb9d55fd4df4adc8dd55c474ffc3",
       "version_major": 2,
       "version_minor": 0
      },
      "text/plain": [
       "%20%20Con_LFP3DNJTE6.txt:   0%|          | 0.00/1.73k [00:00<?, ?B/s]"
      ]
     },
     "metadata": {},
     "output_type": "display_data"
    },
    {
     "data": {
      "application/vnd.jupyter.widget-view+json": {
       "model_id": "df7eb44b65384998b44cdd1602772578",
       "version_major": 2,
       "version_minor": 0
      },
      "text/plain": [
       "%20%20Con_NSDJROIF11.txt:   0%|          | 0.00/438 [00:00<?, ?B/s]"
      ]
     },
     "metadata": {},
     "output_type": "display_data"
    },
    {
     "data": {
      "application/vnd.jupyter.widget-view+json": {
       "model_id": "c7017543f405411aaa7391ffc3f82085",
       "version_major": 2,
       "version_minor": 0
      },
      "text/plain": [
       "%20%20Con_RAIZRUAHG3.txt:   0%|          | 0.00/1.18k [00:00<?, ?B/s]"
      ]
     },
     "metadata": {},
     "output_type": "display_data"
    },
    {
     "data": {
      "application/vnd.jupyter.widget-view+json": {
       "model_id": "e2e2fc905a7a4502bbfefe51e7747b75",
       "version_major": 2,
       "version_minor": 0
      },
      "text/plain": [
       "%20%20Con_SHELL89PML.txt:   0%|          | 0.00/741 [00:00<?, ?B/s]"
      ]
     },
     "metadata": {},
     "output_type": "display_data"
    },
    {
     "data": {
      "application/vnd.jupyter.widget-view+json": {
       "model_id": "702d7f92347f483cbd9c642ae4c25e0a",
       "version_major": 2,
       "version_minor": 0
      },
      "text/plain": [
       "%20%20Con_S3K0ZK7S5R.txt:   0%|          | 0.00/1.13k [00:00<?, ?B/s]"
      ]
     },
     "metadata": {},
     "output_type": "display_data"
    },
    {
     "data": {
      "application/vnd.jupyter.widget-view+json": {
       "model_id": "debdabb226df4420bb236696bf23896f",
       "version_major": 2,
       "version_minor": 0
      },
      "text/plain": [
       "%20%20Con_TBRWZC5IC3.txt:   0%|          | 0.00/1.68k [00:00<?, ?B/s]"
      ]
     },
     "metadata": {},
     "output_type": "display_data"
    },
    {
     "data": {
      "application/vnd.jupyter.widget-view+json": {
       "model_id": "c5f64e3a8b3546749d029fbd65804b6d",
       "version_major": 2,
       "version_minor": 0
      },
      "text/plain": [
       "%20%20Con_PT1FFK665U.txt:   0%|          | 0.00/630 [00:00<?, ?B/s]"
      ]
     },
     "metadata": {},
     "output_type": "display_data"
    },
    {
     "data": {
      "application/vnd.jupyter.widget-view+json": {
       "model_id": "7ea9b7a5ea324084980555e3c4b4750b",
       "version_major": 2,
       "version_minor": 0
      },
      "text/plain": [
       "%20%20Con_PYQ7FM2G52.txt:   0%|          | 0.00/903 [00:00<?, ?B/s]"
      ]
     },
     "metadata": {},
     "output_type": "display_data"
    },
    {
     "data": {
      "application/vnd.jupyter.widget-view+json": {
       "model_id": "8abdbd22d1534ab59ef469ce59cec486",
       "version_major": 2,
       "version_minor": 0
      },
      "text/plain": [
       "%20%20Coo_A05SMWA7CO.txt:   0%|          | 0.00/1.03k [00:00<?, ?B/s]"
      ]
     },
     "metadata": {},
     "output_type": "display_data"
    },
    {
     "data": {
      "application/vnd.jupyter.widget-view+json": {
       "model_id": "069c71469b634f008fa03d3208a1c2f9",
       "version_major": 2,
       "version_minor": 0
      },
      "text/plain": [
       "%20%20Coo_O5CUXNEQ67.txt:   0%|          | 0.00/1.24k [00:00<?, ?B/s]"
      ]
     },
     "metadata": {},
     "output_type": "display_data"
    },
    {
     "data": {
      "application/vnd.jupyter.widget-view+json": {
       "model_id": "dbbf4773cede4b67b19a8b2965ccf408",
       "version_major": 2,
       "version_minor": 0
      },
      "text/plain": [
       "%20%20Con_QYMFW9PWT0.txt:   0%|          | 0.00/1.73k [00:00<?, ?B/s]"
      ]
     },
     "metadata": {},
     "output_type": "display_data"
    },
    {
     "data": {
      "application/vnd.jupyter.widget-view+json": {
       "model_id": "728f9e2a4d8248eda415fd094ceba725",
       "version_major": 2,
       "version_minor": 0
      },
      "text/plain": [
       "%20%20Coo_FWEJ5H9MF9.txt:   0%|          | 0.00/1.06k [00:00<?, ?B/s]"
      ]
     },
     "metadata": {},
     "output_type": "display_data"
    },
    {
     "data": {
      "application/vnd.jupyter.widget-view+json": {
       "model_id": "556916763979442882239b3fc49df96d",
       "version_major": 2,
       "version_minor": 0
      },
      "text/plain": [
       "%20%20Con_XLDXEOG454.txt:   0%|          | 0.00/1.56k [00:00<?, ?B/s]"
      ]
     },
     "metadata": {},
     "output_type": "display_data"
    },
    {
     "data": {
      "application/vnd.jupyter.widget-view+json": {
       "model_id": "09cfb62341014d67b246f45f4e610b54",
       "version_major": 2,
       "version_minor": 0
      },
      "text/plain": [
       "%20%20Cor_ZPCLIVVUF1.txt:   0%|          | 0.00/218 [00:00<?, ?B/s]"
      ]
     },
     "metadata": {},
     "output_type": "display_data"
    },
    {
     "data": {
      "application/vnd.jupyter.widget-view+json": {
       "model_id": "13b8ebd9b2ba47d0b6f57e86d254582e",
       "version_major": 2,
       "version_minor": 0
      },
      "text/plain": [
       "%20%20Cos_4JCH7UTQ96.txt:   0%|          | 0.00/1.51k [00:00<?, ?B/s]"
      ]
     },
     "metadata": {},
     "output_type": "display_data"
    },
    {
     "data": {
      "application/vnd.jupyter.widget-view+json": {
       "model_id": "b5f23871304c41dd81a251eda69e47eb",
       "version_major": 2,
       "version_minor": 0
      },
      "text/plain": [
       "%20%20Con_UBKHX6BWQG.txt:   0%|          | 0.00/531 [00:00<?, ?B/s]"
      ]
     },
     "metadata": {},
     "output_type": "display_data"
    },
    {
     "data": {
      "application/vnd.jupyter.widget-view+json": {
       "model_id": "905d6bc2c18c4daaaabf6db42c466827",
       "version_major": 2,
       "version_minor": 0
      },
      "text/plain": [
       "%20%20Cor_XMTL1OQENZ.txt:   0%|          | 0.00/499 [00:00<?, ?B/s]"
      ]
     },
     "metadata": {},
     "output_type": "display_data"
    },
    {
     "data": {
      "application/vnd.jupyter.widget-view+json": {
       "model_id": "8cf0fb8682b141f091cecf973fd9a009",
       "version_major": 2,
       "version_minor": 0
      },
      "text/plain": [
       "%20%20Cos_LTB9E0EYDE.txt:   0%|          | 0.00/1.43k [00:00<?, ?B/s]"
      ]
     },
     "metadata": {},
     "output_type": "display_data"
    },
    {
     "data": {
      "application/vnd.jupyter.widget-view+json": {
       "model_id": "672f6e02158a45e5a6aa73f4a79cba01",
       "version_major": 2,
       "version_minor": 0
      },
      "text/plain": [
       "%20%20Cos_HQWZNHGBG4.txt:   0%|          | 0.00/1.27k [00:00<?, ?B/s]"
      ]
     },
     "metadata": {},
     "output_type": "display_data"
    },
    {
     "data": {
      "application/vnd.jupyter.widget-view+json": {
       "model_id": "54e6826f803a4170ad93c1649ded3d4a",
       "version_major": 2,
       "version_minor": 0
      },
      "text/plain": [
       "%20%20Cos_WBDMMRFKM1.txt:   0%|          | 0.00/601 [00:00<?, ?B/s]"
      ]
     },
     "metadata": {},
     "output_type": "display_data"
    },
    {
     "data": {
      "application/vnd.jupyter.widget-view+json": {
       "model_id": "267a68767afc433a8b03577df0999bc3",
       "version_major": 2,
       "version_minor": 0
      },
      "text/plain": [
       "%20%20Cor_DMRWNTG6NY.txt:   0%|          | 0.00/1.75k [00:00<?, ?B/s]"
      ]
     },
     "metadata": {},
     "output_type": "display_data"
    },
    {
     "data": {
      "application/vnd.jupyter.widget-view+json": {
       "model_id": "5ab3eac6ff8f4c7fb33496206a12ae2d",
       "version_major": 2,
       "version_minor": 0
      },
      "text/plain": [
       "%20%20Cou_65NE95OZEA.txt:   0%|          | 0.00/289 [00:00<?, ?B/s]"
      ]
     },
     "metadata": {},
     "output_type": "display_data"
    },
    {
     "data": {
      "application/vnd.jupyter.widget-view+json": {
       "model_id": "3a74900d253c4c5fb2e4d5035d3e82d9",
       "version_major": 2,
       "version_minor": 0
      },
      "text/plain": [
       "%20%20Cou_02S7M05JRN.txt:   0%|          | 0.00/506 [00:00<?, ?B/s]"
      ]
     },
     "metadata": {},
     "output_type": "display_data"
    },
    {
     "data": {
      "application/vnd.jupyter.widget-view+json": {
       "model_id": "31eeb3488c6840ce998832d336e10a3b",
       "version_major": 2,
       "version_minor": 0
      },
      "text/plain": [
       "%20%20Cou_QL2E6M2MYP.txt:   0%|          | 0.00/611 [00:00<?, ?B/s]"
      ]
     },
     "metadata": {},
     "output_type": "display_data"
    },
    {
     "data": {
      "application/vnd.jupyter.widget-view+json": {
       "model_id": "f2d037860918430b84e46e35afa7ed8a",
       "version_major": 2,
       "version_minor": 0
      },
      "text/plain": [
       "%20%20Cou_AULJ8YLTFP.txt:   0%|          | 0.00/953 [00:00<?, ?B/s]"
      ]
     },
     "metadata": {},
     "output_type": "display_data"
    },
    {
     "data": {
      "application/vnd.jupyter.widget-view+json": {
       "model_id": "ad877def4d814da498b0ba0e847f88ed",
       "version_major": 2,
       "version_minor": 0
      },
      "text/plain": [
       "%20%20Cou_RS6EAUNERZ.txt:   0%|          | 0.00/955 [00:00<?, ?B/s]"
      ]
     },
     "metadata": {},
     "output_type": "display_data"
    },
    {
     "data": {
      "application/vnd.jupyter.widget-view+json": {
       "model_id": "433da43943484f8e900f8113e67e387f",
       "version_major": 2,
       "version_minor": 0
      },
      "text/plain": [
       "%20%20Cov_TCNO0P4IJV.txt:   0%|          | 0.00/1.38k [00:00<?, ?B/s]"
      ]
     },
     "metadata": {},
     "output_type": "display_data"
    },
    {
     "data": {
      "application/vnd.jupyter.widget-view+json": {
       "model_id": "ffd3d2488d864120a0c9cf9ffb17e51e",
       "version_major": 2,
       "version_minor": 0
      },
      "text/plain": [
       "%20%20Cou_6QJ5BDQXX1.txt:   0%|          | 0.00/774 [00:00<?, ?B/s]"
      ]
     },
     "metadata": {},
     "output_type": "display_data"
    },
    {
     "data": {
      "application/vnd.jupyter.widget-view+json": {
       "model_id": "e9b7b5e3365d4f24bd6bc7a85a148c55",
       "version_major": 2,
       "version_minor": 0
      },
      "text/plain": [
       "%20%20Cro_TN41KBCYZM.txt:   0%|          | 0.00/841 [00:00<?, ?B/s]"
      ]
     },
     "metadata": {},
     "output_type": "display_data"
    },
    {
     "data": {
      "application/vnd.jupyter.widget-view+json": {
       "model_id": "5ce6e62bbb304bb986b5a2305d2d2adf",
       "version_major": 2,
       "version_minor": 0
      },
      "text/plain": [
       "%20%20Cur_5K0I3GIDYD.txt:   0%|          | 0.00/1.03k [00:00<?, ?B/s]"
      ]
     },
     "metadata": {},
     "output_type": "display_data"
    },
    {
     "data": {
      "application/vnd.jupyter.widget-view+json": {
       "model_id": "95ae03cfe3ee4a2ab791627b2db3ebfb",
       "version_major": 2,
       "version_minor": 0
      },
      "text/plain": [
       "%20%20Cu%24_7BD5AHEUSI.txt:   0%|          | 0.00/540 [00:00<?, ?B/s]"
      ]
     },
     "metadata": {},
     "output_type": "display_data"
    },
    {
     "data": {
      "application/vnd.jupyter.widget-view+json": {
       "model_id": "cb478bcfa4814e4bbf4f5288c183f7b9",
       "version_major": 2,
       "version_minor": 0
      },
      "text/plain": [
       "%20%20Cur_TEAS6P7UU7.txt:   0%|          | 0.00/1.42k [00:00<?, ?B/s]"
      ]
     },
     "metadata": {},
     "output_type": "display_data"
    },
    {
     "data": {
      "application/vnd.jupyter.widget-view+json": {
       "model_id": "9c61fa5fcff041bb9d7810bceeff1dfb",
       "version_major": 2,
       "version_minor": 0
      },
      "text/plain": [
       "%20%20Cur_WPUBANO6X1.txt:   0%|          | 0.00/1.59k [00:00<?, ?B/s]"
      ]
     },
     "metadata": {},
     "output_type": "display_data"
    },
    {
     "data": {
      "application/vnd.jupyter.widget-view+json": {
       "model_id": "6a678ef9efce49a3a7324d195bd76694",
       "version_major": 2,
       "version_minor": 0
      },
      "text/plain": [
       "%20%20Cur_SIRDRX1ZN8.txt:   0%|          | 0.00/1.15k [00:00<?, ?B/s]"
      ]
     },
     "metadata": {},
     "output_type": "display_data"
    },
    {
     "data": {
      "application/vnd.jupyter.widget-view+json": {
       "model_id": "052983b22833447d8e20504594f5d418",
       "version_major": 2,
       "version_minor": 0
      },
      "text/plain": [
       "%20%20Cur_YQ5668COWH.txt:   0%|          | 0.00/1.05k [00:00<?, ?B/s]"
      ]
     },
     "metadata": {},
     "output_type": "display_data"
    },
    {
     "data": {
      "application/vnd.jupyter.widget-view+json": {
       "model_id": "7e118dd7442445a0a3e7aa32a92dc9ab",
       "version_major": 2,
       "version_minor": 0
      },
      "text/plain": [
       "%20%20Cri_LY2YNALEXD.txt:   0%|          | 0.00/596 [00:00<?, ?B/s]"
      ]
     },
     "metadata": {},
     "output_type": "display_data"
    },
    {
     "data": {
      "application/vnd.jupyter.widget-view+json": {
       "model_id": "9e6e08d1eb8a487c9806839876950218",
       "version_major": 2,
       "version_minor": 0
      },
      "text/plain": [
       "%20%20Cyl_9TQ3VWMIWL.txt:   0%|          | 0.00/783 [00:00<?, ?B/s]"
      ]
     },
     "metadata": {},
     "output_type": "display_data"
    },
    {
     "data": {
      "application/vnd.jupyter.widget-view+json": {
       "model_id": "0a2f603ffcf644fc8a84c45d02244f85",
       "version_major": 2,
       "version_minor": 0
      },
      "text/plain": [
       "%20%20Dar_GT2MCW27T9.txt:   0%|          | 0.00/411 [00:00<?, ?B/s]"
      ]
     },
     "metadata": {},
     "output_type": "display_data"
    },
    {
     "data": {
      "application/vnd.jupyter.widget-view+json": {
       "model_id": "509cb98834934512945e773d3ef9a861",
       "version_major": 2,
       "version_minor": 0
      },
      "text/plain": [
       "%20%20Dar_IM0CV5L24J.txt:   0%|          | 0.00/674 [00:00<?, ?B/s]"
      ]
     },
     "metadata": {},
     "output_type": "display_data"
    },
    {
     "data": {
      "application/vnd.jupyter.widget-view+json": {
       "model_id": "31acff92625b4999be0c797662e7e250",
       "version_major": 2,
       "version_minor": 0
      },
      "text/plain": [
       "%20%20Dar_KBW9GCUNYB.txt:   0%|          | 0.00/345 [00:00<?, ?B/s]"
      ]
     },
     "metadata": {},
     "output_type": "display_data"
    },
    {
     "data": {
      "application/vnd.jupyter.widget-view+json": {
       "model_id": "29f9718c00564c218cad95c25210cd1a",
       "version_major": 2,
       "version_minor": 0
      },
      "text/plain": [
       "%20%20DAM_QURUNIF608.txt:   0%|          | 0.00/314 [00:00<?, ?B/s]"
      ]
     },
     "metadata": {},
     "output_type": "display_data"
    },
    {
     "data": {
      "application/vnd.jupyter.widget-view+json": {
       "model_id": "f85ad68b26374c11bab3ea0c8af7b737",
       "version_major": 2,
       "version_minor": 0
      },
      "text/plain": [
       "%20%20Dat_9P4P4UDUXV.txt:   0%|          | 0.00/857 [00:00<?, ?B/s]"
      ]
     },
     "metadata": {},
     "output_type": "display_data"
    },
    {
     "data": {
      "application/vnd.jupyter.widget-view+json": {
       "model_id": "05b2a4413ec240aab8f4b6566a170259",
       "version_major": 2,
       "version_minor": 0
      },
      "text/plain": [
       "%20%20Dat_H44IKVQHD9.txt:   0%|          | 0.00/411 [00:00<?, ?B/s]"
      ]
     },
     "metadata": {},
     "output_type": "display_data"
    },
    {
     "data": {
      "application/vnd.jupyter.widget-view+json": {
       "model_id": "327f9b2165fd4a00a5859356829b3e82",
       "version_major": 2,
       "version_minor": 0
      },
      "text/plain": [
       "%20%20Dar_WPLCACNYFR.txt:   0%|          | 0.00/679 [00:00<?, ?B/s]"
      ]
     },
     "metadata": {},
     "output_type": "display_data"
    },
    {
     "data": {
      "application/vnd.jupyter.widget-view+json": {
       "model_id": "b9ac67fece404a1fb664073359601c4d",
       "version_major": 2,
       "version_minor": 0
      },
      "text/plain": [
       "%20%20Dat_J7FP5Y8R9Z.txt:   0%|          | 0.00/1.36k [00:00<?, ?B/s]"
      ]
     },
     "metadata": {},
     "output_type": "display_data"
    },
    {
     "data": {
      "application/vnd.jupyter.widget-view+json": {
       "model_id": "9ce3a8fcfde54c609a7dc01126f0bde7",
       "version_major": 2,
       "version_minor": 0
      },
      "text/plain": [
       "%20%20Dat_KBE0Z72MFT.txt:   0%|          | 0.00/1.78k [00:00<?, ?B/s]"
      ]
     },
     "metadata": {},
     "output_type": "display_data"
    },
    {
     "data": {
      "application/vnd.jupyter.widget-view+json": {
       "model_id": "a8b93c7f7852486cb3d231a21fe74b42",
       "version_major": 2,
       "version_minor": 0
      },
      "text/plain": [
       "%20%20Dec_I95D180XV9.txt:   0%|          | 0.00/705 [00:00<?, ?B/s]"
      ]
     },
     "metadata": {},
     "output_type": "display_data"
    },
    {
     "data": {
      "application/vnd.jupyter.widget-view+json": {
       "model_id": "ef05bef0da5842b3b7d79f46551def4d",
       "version_major": 2,
       "version_minor": 0
      },
      "text/plain": [
       "%20%20Dee_0JCMKC0HD5.txt:   0%|          | 0.00/1.30k [00:00<?, ?B/s]"
      ]
     },
     "metadata": {},
     "output_type": "display_data"
    },
    {
     "data": {
      "application/vnd.jupyter.widget-view+json": {
       "model_id": "f0898c04b5a5491c9cab5c9e7429ba0a",
       "version_major": 2,
       "version_minor": 0
      },
      "text/plain": [
       "%20%20Def_NAZG48SINC.txt:   0%|          | 0.00/315 [00:00<?, ?B/s]"
      ]
     },
     "metadata": {},
     "output_type": "display_data"
    },
    {
     "data": {
      "application/vnd.jupyter.widget-view+json": {
       "model_id": "9f49a860b8964e68ba8ff0ef7ec2ab44",
       "version_major": 2,
       "version_minor": 0
      },
      "text/plain": [
       "%20%20Def_CCFNOCIVCC.txt:   0%|          | 0.00/830 [00:00<?, ?B/s]"
      ]
     },
     "metadata": {},
     "output_type": "display_data"
    },
    {
     "data": {
      "application/vnd.jupyter.widget-view+json": {
       "model_id": "6aabe11d74f441109f631b02b0bfdcbb",
       "version_major": 2,
       "version_minor": 0
      },
      "text/plain": [
       "%20%20Dec_2OFUNDAXDZ.txt:   0%|          | 0.00/615 [00:00<?, ?B/s]"
      ]
     },
     "metadata": {},
     "output_type": "display_data"
    },
    {
     "data": {
      "application/vnd.jupyter.widget-view+json": {
       "model_id": "4596b5ef399d411a942194452897c8cd",
       "version_major": 2,
       "version_minor": 0
      },
      "text/plain": [
       "%20%20Def_VYM7L2QBWZ.txt:   0%|          | 0.00/800 [00:00<?, ?B/s]"
      ]
     },
     "metadata": {},
     "output_type": "display_data"
    },
    {
     "data": {
      "application/vnd.jupyter.widget-view+json": {
       "model_id": "e817adf87f81452aa8f4656d40b715fa",
       "version_major": 2,
       "version_minor": 0
      },
      "text/plain": [
       "%20%20Dat_TKS60P1R3I.txt:   0%|          | 0.00/1.31k [00:00<?, ?B/s]"
      ]
     },
     "metadata": {},
     "output_type": "display_data"
    },
    {
     "data": {
      "application/vnd.jupyter.widget-view+json": {
       "model_id": "cd3c3b05dc584d03af6db75aef126838",
       "version_major": 2,
       "version_minor": 0
      },
      "text/plain": [
       "%20%20Cur_N45Y26PJO8.txt:   0%|          | 0.00/611 [00:00<?, ?B/s]"
      ]
     },
     "metadata": {},
     "output_type": "display_data"
    },
    {
     "data": {
      "application/vnd.jupyter.widget-view+json": {
       "model_id": "3d78c390a271435dac0b5ee873feab04",
       "version_major": 2,
       "version_minor": 0
      },
      "text/plain": [
       "%20%20Dec_AI7CZZ5VM2.txt:   0%|          | 0.00/410 [00:00<?, ?B/s]"
      ]
     },
     "metadata": {},
     "output_type": "display_data"
    },
    {
     "data": {
      "application/vnd.jupyter.widget-view+json": {
       "model_id": "e966944ce8c3477998502f605bce994e",
       "version_major": 2,
       "version_minor": 0
      },
      "text/plain": [
       "%20%20Deg_P1WU3UZYD1.txt:   0%|          | 0.00/388 [00:00<?, ?B/s]"
      ]
     },
     "metadata": {},
     "output_type": "display_data"
    },
    {
     "data": {
      "application/vnd.jupyter.widget-view+json": {
       "model_id": "f68d616293e948af9a218e869c9741f4",
       "version_major": 2,
       "version_minor": 0
      },
      "text/plain": [
       "%20%20Dat_F81R3JR2EB.txt:   0%|          | 0.00/1.07k [00:00<?, ?B/s]"
      ]
     },
     "metadata": {},
     "output_type": "display_data"
    },
    {
     "data": {
      "application/vnd.jupyter.widget-view+json": {
       "model_id": "1cc2300f8c154882a1f9de5dccd5bd4d",
       "version_major": 2,
       "version_minor": 0
      },
      "text/plain": [
       "%20%20Deh_38EXNEBLMH.txt:   0%|          | 0.00/532 [00:00<?, ?B/s]"
      ]
     },
     "metadata": {},
     "output_type": "display_data"
    },
    {
     "data": {
      "application/vnd.jupyter.widget-view+json": {
       "model_id": "fc88eaad47f445599fdd8cbaf19395eb",
       "version_major": 2,
       "version_minor": 0
      },
      "text/plain": [
       "%20%20Den_7ZLO17IVMV.txt:   0%|          | 0.00/1.11k [00:00<?, ?B/s]"
      ]
     },
     "metadata": {},
     "output_type": "display_data"
    },
    {
     "data": {
      "application/vnd.jupyter.widget-view+json": {
       "model_id": "4b99a83dcf2a46c3a7a28d2ee5b7a63c",
       "version_major": 2,
       "version_minor": 0
      },
      "text/plain": [
       "%20%20Den_8PXER9UYZU.txt:   0%|          | 0.00/744 [00:00<?, ?B/s]"
      ]
     },
     "metadata": {},
     "output_type": "display_data"
    },
    {
     "data": {
      "application/vnd.jupyter.widget-view+json": {
       "model_id": "4a100b3bc22a4112b7fc5e502f2a03cf",
       "version_major": 2,
       "version_minor": 0
      },
      "text/plain": [
       "%20%20Den_UJR3LHHNUW.txt:   0%|          | 0.00/542 [00:00<?, ?B/s]"
      ]
     },
     "metadata": {},
     "output_type": "display_data"
    },
    {
     "data": {
      "application/vnd.jupyter.widget-view+json": {
       "model_id": "203d22c3b156485e8009bedb780e0294",
       "version_major": 2,
       "version_minor": 0
      },
      "text/plain": [
       "%20%20Den_VSPV3F8PY0.txt:   0%|          | 0.00/1.17k [00:00<?, ?B/s]"
      ]
     },
     "metadata": {},
     "output_type": "display_data"
    },
    {
     "data": {
      "application/vnd.jupyter.widget-view+json": {
       "model_id": "601567b6329644f4986389db5d83543e",
       "version_major": 2,
       "version_minor": 0
      },
      "text/plain": [
       "%20%20Den_ZAB98VSRKY.txt:   0%|          | 0.00/581 [00:00<?, ?B/s]"
      ]
     },
     "metadata": {},
     "output_type": "display_data"
    },
    {
     "data": {
      "application/vnd.jupyter.widget-view+json": {
       "model_id": "f88a46cab3bc4e4f91c40f39fc06d9d1",
       "version_major": 2,
       "version_minor": 0
      },
      "text/plain": [
       "%20%20Des_7MOVI5Z95B.txt:   0%|          | 0.00/81.0 [00:00<?, ?B/s]"
      ]
     },
     "metadata": {},
     "output_type": "display_data"
    },
    {
     "data": {
      "application/vnd.jupyter.widget-view+json": {
       "model_id": "179896d736fc4695a740f05f018a8f8f",
       "version_major": 2,
       "version_minor": 0
      },
      "text/plain": [
       "%20%20Des_RI1K0WFGSL.txt:   0%|          | 0.00/1.19k [00:00<?, ?B/s]"
      ]
     },
     "metadata": {},
     "output_type": "display_data"
    },
    {
     "data": {
      "application/vnd.jupyter.widget-view+json": {
       "model_id": "3265c03bf3d04c9496f2b19551cdd798",
       "version_major": 2,
       "version_minor": 0
      },
      "text/plain": [
       "%20%20Der_ZSBDH6BFVL.txt:   0%|          | 0.00/598 [00:00<?, ?B/s]"
      ]
     },
     "metadata": {},
     "output_type": "display_data"
    },
    {
     "data": {
      "application/vnd.jupyter.widget-view+json": {
       "model_id": "221b0bcb45ee466f96d0e22a79a31569",
       "version_major": 2,
       "version_minor": 0
      },
      "text/plain": [
       "%20%20Det_A86HR07EX3.txt:   0%|          | 0.00/1.78k [00:00<?, ?B/s]"
      ]
     },
     "metadata": {},
     "output_type": "display_data"
    },
    {
     "data": {
      "application/vnd.jupyter.widget-view+json": {
       "model_id": "11fffc0e276749899a586b75091d36d0",
       "version_major": 2,
       "version_minor": 0
      },
      "text/plain": [
       "%20%20Dev_0E0AHSOTBU.txt:   0%|          | 0.00/136 [00:00<?, ?B/s]"
      ]
     },
     "metadata": {},
     "output_type": "display_data"
    },
    {
     "data": {
      "application/vnd.jupyter.widget-view+json": {
       "model_id": "e07f21ebd4fd49c48b8aaac24e0760e5",
       "version_major": 2,
       "version_minor": 0
      },
      "text/plain": [
       "%20%20Det_A0Q5JGT7EP.txt:   0%|          | 0.00/694 [00:00<?, ?B/s]"
      ]
     },
     "metadata": {},
     "output_type": "display_data"
    },
    {
     "data": {
      "application/vnd.jupyter.widget-view+json": {
       "model_id": "f4585eae183a458aaa85acc301158347",
       "version_major": 2,
       "version_minor": 0
      },
      "text/plain": [
       "%20%20Dia_SM91EG7DGM.txt:   0%|          | 0.00/802 [00:00<?, ?B/s]"
      ]
     },
     "metadata": {},
     "output_type": "display_data"
    },
    {
     "data": {
      "application/vnd.jupyter.widget-view+json": {
       "model_id": "19458f4ac4bb4a2e8ee897c0c55bb61c",
       "version_major": 2,
       "version_minor": 0
      },
      "text/plain": [
       "%20%20Det_6OAEM9KU8G.txt:   0%|          | 0.00/995 [00:00<?, ?B/s]"
      ]
     },
     "metadata": {},
     "output_type": "display_data"
    },
    {
     "data": {
      "application/vnd.jupyter.widget-view+json": {
       "model_id": "43cb41c6763e4f639e565bbdf31e1147",
       "version_major": 2,
       "version_minor": 0
      },
      "text/plain": [
       "%20%20Dic_MBO9B5CGZA.txt:   0%|          | 0.00/609 [00:00<?, ?B/s]"
      ]
     },
     "metadata": {},
     "output_type": "display_data"
    },
    {
     "data": {
      "application/vnd.jupyter.widget-view+json": {
       "model_id": "b2626da4956347bba0f82aab0afbe415",
       "version_major": 2,
       "version_minor": 0
      },
      "text/plain": [
       "%20%20Did_T6CMC4N981.txt:   0%|          | 0.00/1.53k [00:00<?, ?B/s]"
      ]
     },
     "metadata": {},
     "output_type": "display_data"
    },
    {
     "data": {
      "application/vnd.jupyter.widget-view+json": {
       "model_id": "6f2f01dea8d94f20940f31bdc770cc14",
       "version_major": 2,
       "version_minor": 0
      },
      "text/plain": [
       "%20%20Die_FS2UBBV0LA.txt:   0%|          | 0.00/327 [00:00<?, ?B/s]"
      ]
     },
     "metadata": {},
     "output_type": "display_data"
    },
    {
     "data": {
      "application/vnd.jupyter.widget-view+json": {
       "model_id": "76b6b692532f4964a62866fb3c2aa21c",
       "version_major": 2,
       "version_minor": 0
      },
      "text/plain": [
       "%20%20Die_RRYB2VO0QK.txt:   0%|          | 0.00/772 [00:00<?, ?B/s]"
      ]
     },
     "metadata": {},
     "output_type": "display_data"
    },
    {
     "data": {
      "application/vnd.jupyter.widget-view+json": {
       "model_id": "cf76d9d7d981456ea85ed663a9df1095",
       "version_major": 2,
       "version_minor": 0
      },
      "text/plain": [
       "%20%20Det_WHPXVI6GNS.txt:   0%|          | 0.00/938 [00:00<?, ?B/s]"
      ]
     },
     "metadata": {},
     "output_type": "display_data"
    },
    {
     "data": {
      "application/vnd.jupyter.widget-view+json": {
       "model_id": "740a8f24ab3441baac84ada8fc18411a",
       "version_major": 2,
       "version_minor": 0
      },
      "text/plain": [
       "%20%20Dif_MO66BWP5ER.txt:   0%|          | 0.00/1.53k [00:00<?, ?B/s]"
      ]
     },
     "metadata": {},
     "output_type": "display_data"
    },
    {
     "data": {
      "application/vnd.jupyter.widget-view+json": {
       "model_id": "675cd1aca891411b94bf8502801fb045",
       "version_major": 2,
       "version_minor": 0
      },
      "text/plain": [
       "%20%20Dif_AKQ7M2IMNU.txt:   0%|          | 0.00/1.03k [00:00<?, ?B/s]"
      ]
     },
     "metadata": {},
     "output_type": "display_data"
    },
    {
     "data": {
      "application/vnd.jupyter.widget-view+json": {
       "model_id": "81d8ffff658f499eb4af1dae143135ac",
       "version_major": 2,
       "version_minor": 0
      },
      "text/plain": [
       "%20%20Dif_UA0DYOUTU6.txt:   0%|          | 0.00/678 [00:00<?, ?B/s]"
      ]
     },
     "metadata": {},
     "output_type": "display_data"
    },
    {
     "data": {
      "application/vnd.jupyter.widget-view+json": {
       "model_id": "2b8ed7b757364abb883e514d9498c576",
       "version_major": 2,
       "version_minor": 0
      },
      "text/plain": [
       "%20%20Dif_WXJ9BVSH93.txt:   0%|          | 0.00/564 [00:00<?, ?B/s]"
      ]
     },
     "metadata": {},
     "output_type": "display_data"
    },
    {
     "data": {
      "application/vnd.jupyter.widget-view+json": {
       "model_id": "f7d6241a5a124378bf90c0e4705f3f3a",
       "version_major": 2,
       "version_minor": 0
      },
      "text/plain": [
       "%20%20Dif_Z7R9LFDXRN.txt:   0%|          | 0.00/510 [00:00<?, ?B/s]"
      ]
     },
     "metadata": {},
     "output_type": "display_data"
    },
    {
     "data": {
      "application/vnd.jupyter.widget-view+json": {
       "model_id": "15a7d02b259b40699991dc231b0981b1",
       "version_major": 2,
       "version_minor": 0
      },
      "text/plain": [
       "%20%20Dif_ZF51B3E4WC.txt:   0%|          | 0.00/456 [00:00<?, ?B/s]"
      ]
     },
     "metadata": {},
     "output_type": "display_data"
    },
    {
     "data": {
      "application/vnd.jupyter.widget-view+json": {
       "model_id": "463aa2f1acf145199a5ee1277e74d4d3",
       "version_major": 2,
       "version_minor": 0
      },
      "text/plain": [
       "%20%20Dif_ZC9914KWZ1.txt:   0%|          | 0.00/333 [00:00<?, ?B/s]"
      ]
     },
     "metadata": {},
     "output_type": "display_data"
    },
    {
     "data": {
      "application/vnd.jupyter.widget-view+json": {
       "model_id": "7ed3c30011604303a4859ff873bbccef",
       "version_major": 2,
       "version_minor": 0
      },
      "text/plain": [
       "%20%20Dip_ALUSKSKL8D.txt:   0%|          | 0.00/606 [00:00<?, ?B/s]"
      ]
     },
     "metadata": {},
     "output_type": "display_data"
    },
    {
     "data": {
      "application/vnd.jupyter.widget-view+json": {
       "model_id": "fb2d16b01ab04679bbd70f6d3390b8c8",
       "version_major": 2,
       "version_minor": 0
      },
      "text/plain": [
       "%20%20Dim_KXWD458JN0.txt:   0%|          | 0.00/788 [00:00<?, ?B/s]"
      ]
     },
     "metadata": {},
     "output_type": "display_data"
    },
    {
     "data": {
      "application/vnd.jupyter.widget-view+json": {
       "model_id": "3eb0b2b23fad411ca7c1cde6774cfe9d",
       "version_major": 2,
       "version_minor": 0
      },
      "text/plain": [
       "%20%20Dir_7RUY852OBR.txt:   0%|          | 0.00/563 [00:00<?, ?B/s]"
      ]
     },
     "metadata": {},
     "output_type": "display_data"
    },
    {
     "data": {
      "application/vnd.jupyter.widget-view+json": {
       "model_id": "d524dc5edb1240978a9a41f49717b011",
       "version_major": 2,
       "version_minor": 0
      },
      "text/plain": [
       "%20%20Dir_S25OXYKGG9.txt:   0%|          | 0.00/300 [00:00<?, ?B/s]"
      ]
     },
     "metadata": {},
     "output_type": "display_data"
    },
    {
     "data": {
      "application/vnd.jupyter.widget-view+json": {
       "model_id": "ed7b7f1436264219822db233524bd702",
       "version_major": 2,
       "version_minor": 0
      },
      "text/plain": [
       "%20%20Des_C80ONMFQXI.txt:   0%|          | 0.00/1.81k [00:00<?, ?B/s]"
      ]
     },
     "metadata": {},
     "output_type": "display_data"
    },
    {
     "data": {
      "application/vnd.jupyter.widget-view+json": {
       "model_id": "c6fb1a4cb80741349cfbf7c1ec85d432",
       "version_major": 2,
       "version_minor": 0
      },
      "text/plain": [
       "%20%20Dir_IIQ15GWFDN.txt:   0%|          | 0.00/599 [00:00<?, ?B/s]"
      ]
     },
     "metadata": {},
     "output_type": "display_data"
    },
    {
     "data": {
      "application/vnd.jupyter.widget-view+json": {
       "model_id": "e36224368a1d448b9cc8f440462dcdcc",
       "version_major": 2,
       "version_minor": 0
      },
      "text/plain": [
       "%20%20Dir_WJYSI02Y6T.txt:   0%|          | 0.00/849 [00:00<?, ?B/s]"
      ]
     },
     "metadata": {},
     "output_type": "display_data"
    },
    {
     "data": {
      "application/vnd.jupyter.widget-view+json": {
       "model_id": "10559c85eea445e0b0c15c7da373b1ba",
       "version_major": 2,
       "version_minor": 0
      },
      "text/plain": [
       "%20%20Dis_0BDN1PDWB8.txt:   0%|          | 0.00/762 [00:00<?, ?B/s]"
      ]
     },
     "metadata": {},
     "output_type": "display_data"
    },
    {
     "data": {
      "application/vnd.jupyter.widget-view+json": {
       "model_id": "b4f2bf55b694492eaec10267b29ea542",
       "version_major": 2,
       "version_minor": 0
      },
      "text/plain": [
       "%20%20Dil_YIT22BD8KW.txt:   0%|          | 0.00/1.08k [00:00<?, ?B/s]"
      ]
     },
     "metadata": {},
     "output_type": "display_data"
    },
    {
     "data": {
      "application/vnd.jupyter.widget-view+json": {
       "model_id": "9ecec6caed594dc7b034d21dd0d36b2a",
       "version_major": 2,
       "version_minor": 0
      },
      "text/plain": [
       "%20%20Dis_5HNGZLXQL1.txt:   0%|          | 0.00/1.39k [00:00<?, ?B/s]"
      ]
     },
     "metadata": {},
     "output_type": "display_data"
    },
    {
     "data": {
      "application/vnd.jupyter.widget-view+json": {
       "model_id": "68056afe1fea489797e441cdc75faeff",
       "version_major": 2,
       "version_minor": 0
      },
      "text/plain": [
       "%20%20Dis_4M5YGY6SWQ.txt:   0%|          | 0.00/442 [00:00<?, ?B/s]"
      ]
     },
     "metadata": {},
     "output_type": "display_data"
    },
    {
     "data": {
      "application/vnd.jupyter.widget-view+json": {
       "model_id": "0167b82f4bf64a6e814b7f64516d9de6",
       "version_major": 2,
       "version_minor": 0
      },
      "text/plain": [
       "%20%20Dis_6R65X3BVP4.txt:   0%|          | 0.00/313 [00:00<?, ?B/s]"
      ]
     },
     "metadata": {},
     "output_type": "display_data"
    },
    {
     "data": {
      "application/vnd.jupyter.widget-view+json": {
       "model_id": "d8a6745fdebf4b65958937468ff58cfa",
       "version_major": 2,
       "version_minor": 0
      },
      "text/plain": [
       "%20%20Dis_3T9GS6G0SB.txt:   0%|          | 0.00/1.09k [00:00<?, ?B/s]"
      ]
     },
     "metadata": {},
     "output_type": "display_data"
    },
    {
     "data": {
      "application/vnd.jupyter.widget-view+json": {
       "model_id": "09443a309e7b4933b168e67552785544",
       "version_major": 2,
       "version_minor": 0
      },
      "text/plain": [
       "%20%20Dis_8QRH9WIX52.txt:   0%|          | 0.00/1.22k [00:00<?, ?B/s]"
      ]
     },
     "metadata": {},
     "output_type": "display_data"
    },
    {
     "data": {
      "application/vnd.jupyter.widget-view+json": {
       "model_id": "319f8039ec904144883049e08a2a1df5",
       "version_major": 2,
       "version_minor": 0
      },
      "text/plain": [
       "%20%20Dis_XILMAV9J82.txt:   0%|          | 0.00/987 [00:00<?, ?B/s]"
      ]
     },
     "metadata": {},
     "output_type": "display_data"
    },
    {
     "data": {
      "application/vnd.jupyter.widget-view+json": {
       "model_id": "b3f5bf84ef554869b4a119299a684ebe",
       "version_major": 2,
       "version_minor": 0
      },
      "text/plain": [
       "%20%20Dop_4EO4GBZNFK.txt:   0%|          | 0.00/445 [00:00<?, ?B/s]"
      ]
     },
     "metadata": {},
     "output_type": "display_data"
    },
    {
     "data": {
      "application/vnd.jupyter.widget-view+json": {
       "model_id": "bad0f3a581894d01b9a7b032104cd84b",
       "version_major": 2,
       "version_minor": 0
      },
      "text/plain": [
       "%20%20Dis_YJWFRK86ID.txt:   0%|          | 0.00/602 [00:00<?, ?B/s]"
      ]
     },
     "metadata": {},
     "output_type": "display_data"
    },
    {
     "data": {
      "application/vnd.jupyter.widget-view+json": {
       "model_id": "0f1b28a6908849368d02e2e38e5c8c82",
       "version_major": 2,
       "version_minor": 0
      },
      "text/plain": [
       "%20%20Dis_LZ7VMNC1W0.txt:   0%|          | 0.00/1.55k [00:00<?, ?B/s]"
      ]
     },
     "metadata": {},
     "output_type": "display_data"
    },
    {
     "data": {
      "application/vnd.jupyter.widget-view+json": {
       "model_id": "3d0defafd8c94f91b5232e206435d5e5",
       "version_major": 2,
       "version_minor": 0
      },
      "text/plain": [
       "%20%20Div_9AVNFQK8OI.txt:   0%|          | 0.00/1.65k [00:00<?, ?B/s]"
      ]
     },
     "metadata": {},
     "output_type": "display_data"
    },
    {
     "data": {
      "application/vnd.jupyter.widget-view+json": {
       "model_id": "9703c561d3754bf6a72ff93e8ea5d7a6",
       "version_major": 2,
       "version_minor": 0
      },
      "text/plain": [
       "%20%20Dre_U68HE0Q6GU.txt:   0%|          | 0.00/538 [00:00<?, ?B/s]"
      ]
     },
     "metadata": {},
     "output_type": "display_data"
    },
    {
     "data": {
      "application/vnd.jupyter.widget-view+json": {
       "model_id": "df80fc28e60c4e6aa928e7db266436b9",
       "version_major": 2,
       "version_minor": 0
      },
      "text/plain": [
       "%20%20Dis_TGJSRT6A70.txt:   0%|          | 0.00/1.62k [00:00<?, ?B/s]"
      ]
     },
     "metadata": {},
     "output_type": "display_data"
    },
    {
     "data": {
      "application/vnd.jupyter.widget-view+json": {
       "model_id": "f6a4305eb1744c4aa5e0c00db2b3713c",
       "version_major": 2,
       "version_minor": 0
      },
      "text/plain": [
       "%20%20Dis_GP5SVFOXAT.txt:   0%|          | 0.00/455 [00:00<?, ?B/s]"
      ]
     },
     "metadata": {},
     "output_type": "display_data"
    },
    {
     "data": {
      "application/vnd.jupyter.widget-view+json": {
       "model_id": "6f37276db6fe4c048917230e0ebb6e7f",
       "version_major": 2,
       "version_minor": 0
      },
      "text/plain": [
       "%20%20Due_X77U3FH555.txt:   0%|          | 0.00/1.10k [00:00<?, ?B/s]"
      ]
     },
     "metadata": {},
     "output_type": "display_data"
    },
    {
     "data": {
      "application/vnd.jupyter.widget-view+json": {
       "model_id": "5b9b58cc109f49eaba1b8150d2d83e3a",
       "version_major": 2,
       "version_minor": 0
      },
      "text/plain": [
       "%20%20Dur_21O09Y6U8K.txt:   0%|          | 0.00/918 [00:00<?, ?B/s]"
      ]
     },
     "metadata": {},
     "output_type": "display_data"
    },
    {
     "data": {
      "application/vnd.jupyter.widget-view+json": {
       "model_id": "7b8ba2b501a24b5590a0e8e6ace34e8b",
       "version_major": 2,
       "version_minor": 0
      },
      "text/plain": [
       "%20%20Dur_67MNJI93YK.txt:   0%|          | 0.00/1.81k [00:00<?, ?B/s]"
      ]
     },
     "metadata": {},
     "output_type": "display_data"
    },
    {
     "data": {
      "application/vnd.jupyter.widget-view+json": {
       "model_id": "eb7252ae97b34135b6002f5a93797bf8",
       "version_major": 2,
       "version_minor": 0
      },
      "text/plain": [
       "%20%20Due_HTLM0XYNC3.txt:   0%|          | 0.00/1.09k [00:00<?, ?B/s]"
      ]
     },
     "metadata": {},
     "output_type": "display_data"
    },
    {
     "data": {
      "application/vnd.jupyter.widget-view+json": {
       "model_id": "2db5b7c2527f4d4c9e7fa7aa45da7759",
       "version_major": 2,
       "version_minor": 0
      },
      "text/plain": [
       "%20%20Dur_UBTWEQDRUR.txt:   0%|          | 0.00/695 [00:00<?, ?B/s]"
      ]
     },
     "metadata": {},
     "output_type": "display_data"
    },
    {
     "data": {
      "application/vnd.jupyter.widget-view+json": {
       "model_id": "1b770bb05b024012959118d3ade669ce",
       "version_major": 2,
       "version_minor": 0
      },
      "text/plain": [
       "%20%20Dur_9L9K6Y23TW.txt:   0%|          | 0.00/1.54k [00:00<?, ?B/s]"
      ]
     },
     "metadata": {},
     "output_type": "display_data"
    },
    {
     "data": {
      "application/vnd.jupyter.widget-view+json": {
       "model_id": "0b6a17e1215d4fdbaab6f84b99aa4345",
       "version_major": 2,
       "version_minor": 0
      },
      "text/plain": [
       "%20%20Dur_LYT018FBQH.txt:   0%|          | 0.00/1.22k [00:00<?, ?B/s]"
      ]
     },
     "metadata": {},
     "output_type": "display_data"
    },
    {
     "data": {
      "application/vnd.jupyter.widget-view+json": {
       "model_id": "29005ea109f546a09307fd70ad2b100a",
       "version_major": 2,
       "version_minor": 0
      },
      "text/plain": [
       "%20%20Dur_XSTJ09MQD4.txt:   0%|          | 0.00/1.05k [00:00<?, ?B/s]"
      ]
     },
     "metadata": {},
     "output_type": "display_data"
    },
    {
     "data": {
      "application/vnd.jupyter.widget-view+json": {
       "model_id": "9d60fa8f3dae4bc884353396e7a93518",
       "version_major": 2,
       "version_minor": 0
      },
      "text/plain": [
       "%20%20Dyn_FLBT1GWLXR.txt:   0%|          | 0.00/1.09k [00:00<?, ?B/s]"
      ]
     },
     "metadata": {},
     "output_type": "display_data"
    },
    {
     "data": {
      "application/vnd.jupyter.widget-view+json": {
       "model_id": "c8ec547c000e49bc87e29958fa582dc5",
       "version_major": 2,
       "version_minor": 0
      },
      "text/plain": [
       "%20%20Dyn_OIJ46DE8VM.txt:   0%|          | 0.00/802 [00:00<?, ?B/s]"
      ]
     },
     "metadata": {},
     "output_type": "display_data"
    },
    {
     "data": {
      "application/vnd.jupyter.widget-view+json": {
       "model_id": "3cac3438f7ce48ba9aebc138484bf1c9",
       "version_major": 2,
       "version_minor": 0
      },
      "text/plain": [
       "%20%20Dys_8G2HO2NH9B.txt:   0%|          | 0.00/609 [00:00<?, ?B/s]"
      ]
     },
     "metadata": {},
     "output_type": "display_data"
    },
    {
     "data": {
      "application/vnd.jupyter.widget-view+json": {
       "model_id": "39fdc200bc8a4717a426cadb065e78c7",
       "version_major": 2,
       "version_minor": 0
      },
      "text/plain": [
       "%20%20Dyn_VBL962TLBA.txt:   0%|          | 0.00/1.40k [00:00<?, ?B/s]"
      ]
     },
     "metadata": {},
     "output_type": "display_data"
    },
    {
     "data": {
      "application/vnd.jupyter.widget-view+json": {
       "model_id": "be226b9da2f345b683a2e11233f2606d",
       "version_major": 2,
       "version_minor": 0
      },
      "text/plain": [
       "%20%20Eac_WBOSRKNZAD.txt:   0%|          | 0.00/399 [00:00<?, ?B/s]"
      ]
     },
     "metadata": {},
     "output_type": "display_data"
    },
    {
     "data": {
      "application/vnd.jupyter.widget-view+json": {
       "model_id": "498b5730d0c048bfa4e49b06bbe87393",
       "version_major": 2,
       "version_minor": 0
      },
      "text/plain": [
       "%20%20Edg_K36YTXVR00.txt:   0%|          | 0.00/419 [00:00<?, ?B/s]"
      ]
     },
     "metadata": {},
     "output_type": "display_data"
    },
    {
     "data": {
      "application/vnd.jupyter.widget-view+json": {
       "model_id": "b07640e66489447aadf6ab5da12ad76d",
       "version_major": 2,
       "version_minor": 0
      },
      "text/plain": [
       "%20%20Ebe_M5ECWLGV0N.txt:   0%|          | 0.00/1.35k [00:00<?, ?B/s]"
      ]
     },
     "metadata": {},
     "output_type": "display_data"
    },
    {
     "data": {
      "application/vnd.jupyter.widget-view+json": {
       "model_id": "25e62e5ed9254003bb9b4499f0e6fe36",
       "version_major": 2,
       "version_minor": 0
      },
      "text/plain": [
       "%20%20Eff_832W1AEDV8.txt:   0%|          | 0.00/525 [00:00<?, ?B/s]"
      ]
     },
     "metadata": {},
     "output_type": "display_data"
    },
    {
     "data": {
      "application/vnd.jupyter.widget-view+json": {
       "model_id": "a6c5594184784d5387858acc38c94010",
       "version_major": 2,
       "version_minor": 0
      },
      "text/plain": [
       "%20%20Eff_1WWSUBCNJN.txt:   0%|          | 0.00/544 [00:00<?, ?B/s]"
      ]
     },
     "metadata": {},
     "output_type": "display_data"
    },
    {
     "data": {
      "application/vnd.jupyter.widget-view+json": {
       "model_id": "1f69655c3438449b8ce305d099a35982",
       "version_major": 2,
       "version_minor": 0
      },
      "text/plain": [
       "%20%20Eff_KXY6NLRO52.txt:   0%|          | 0.00/520 [00:00<?, ?B/s]"
      ]
     },
     "metadata": {},
     "output_type": "display_data"
    },
    {
     "data": {
      "application/vnd.jupyter.widget-view+json": {
       "model_id": "cc1da23632a549d89a7cc0005b7037bf",
       "version_major": 2,
       "version_minor": 0
      },
      "text/plain": [
       "%20%20Eff_RQEDPQ49UT.txt:   0%|          | 0.00/957 [00:00<?, ?B/s]"
      ]
     },
     "metadata": {},
     "output_type": "display_data"
    },
    {
     "data": {
      "application/vnd.jupyter.widget-view+json": {
       "model_id": "7e7c70979407484f93c977105df653a5",
       "version_major": 2,
       "version_minor": 0
      },
      "text/plain": [
       "%20%20Eff_RYW6O3NVLS.txt:   0%|          | 0.00/493 [00:00<?, ?B/s]"
      ]
     },
     "metadata": {},
     "output_type": "display_data"
    },
    {
     "data": {
      "application/vnd.jupyter.widget-view+json": {
       "model_id": "17e0e1c8623f40c4b535c5b775d46902",
       "version_major": 2,
       "version_minor": 0
      },
      "text/plain": [
       "%20%20Ein_JBA8YYH2Y4.txt:   0%|          | 0.00/1.03k [00:00<?, ?B/s]"
      ]
     },
     "metadata": {},
     "output_type": "display_data"
    },
    {
     "data": {
      "application/vnd.jupyter.widget-view+json": {
       "model_id": "a728442535274f118e51edbd72e4f3a5",
       "version_major": 2,
       "version_minor": 0
      },
      "text/plain": [
       "%20%20Ein_UODEFWNQVB.txt:   0%|          | 0.00/374 [00:00<?, ?B/s]"
      ]
     },
     "metadata": {},
     "output_type": "display_data"
    },
    {
     "data": {
      "application/vnd.jupyter.widget-view+json": {
       "model_id": "31753ad907874a93a8f0bd017258cbff",
       "version_major": 2,
       "version_minor": 0
      },
      "text/plain": [
       "%20%20Ela_5JSSVBGAV5.txt:   0%|          | 0.00/787 [00:00<?, ?B/s]"
      ]
     },
     "metadata": {},
     "output_type": "display_data"
    },
    {
     "data": {
      "application/vnd.jupyter.widget-view+json": {
       "model_id": "2f596a613c7449b0bb16fe2959c08a05",
       "version_major": 2,
       "version_minor": 0
      },
      "text/plain": [
       "%20%20Ela_NJC5KW42KX.txt:   0%|          | 0.00/1.16k [00:00<?, ?B/s]"
      ]
     },
     "metadata": {},
     "output_type": "display_data"
    },
    {
     "data": {
      "application/vnd.jupyter.widget-view+json": {
       "model_id": "1a6bbf1a067444f39667e617d40cd721",
       "version_major": 2,
       "version_minor": 0
      },
      "text/plain": [
       "%20%20Ele_10EYT1Z0KS.txt:   0%|          | 0.00/530 [00:00<?, ?B/s]"
      ]
     },
     "metadata": {},
     "output_type": "display_data"
    },
    {
     "data": {
      "application/vnd.jupyter.widget-view+json": {
       "model_id": "52b7c911c2104d2aa24284f01f06bd92",
       "version_major": 2,
       "version_minor": 0
      },
      "text/plain": [
       "%20%20Ele_1OOJ9R3GZN.txt:   0%|          | 0.00/512 [00:00<?, ?B/s]"
      ]
     },
     "metadata": {},
     "output_type": "display_data"
    },
    {
     "data": {
      "application/vnd.jupyter.widget-view+json": {
       "model_id": "0b3de9cf7aab47c59998100f899770ef",
       "version_major": 2,
       "version_minor": 0
      },
      "text/plain": [
       "%20%20Ele_1U8C9YIXXQ.txt:   0%|          | 0.00/707 [00:00<?, ?B/s]"
      ]
     },
     "metadata": {},
     "output_type": "display_data"
    },
    {
     "data": {
      "application/vnd.jupyter.widget-view+json": {
       "model_id": "9a68b15111cf48388dac53f73e16fffc",
       "version_major": 2,
       "version_minor": 0
      },
      "text/plain": [
       "%20%20Ele_2C6B6DHVCO.txt:   0%|          | 0.00/925 [00:00<?, ?B/s]"
      ]
     },
     "metadata": {},
     "output_type": "display_data"
    },
    {
     "data": {
      "application/vnd.jupyter.widget-view+json": {
       "model_id": "76f627ddba9248d2af0d86a81674a299",
       "version_major": 2,
       "version_minor": 0
      },
      "text/plain": [
       "%20%20Ele_9XKA3TMP2R.txt:   0%|          | 0.00/1.11k [00:00<?, ?B/s]"
      ]
     },
     "metadata": {},
     "output_type": "display_data"
    },
    {
     "data": {
      "application/vnd.jupyter.widget-view+json": {
       "model_id": "cc018513e34a4bb59412ab9790df395c",
       "version_major": 2,
       "version_minor": 0
      },
      "text/plain": [
       "%20%20Ele_7GXVR98IWO.txt:   0%|          | 0.00/775 [00:00<?, ?B/s]"
      ]
     },
     "metadata": {},
     "output_type": "display_data"
    },
    {
     "data": {
      "application/vnd.jupyter.widget-view+json": {
       "model_id": "e924cabe283a4e6a94479945e4b7c3d2",
       "version_major": 2,
       "version_minor": 0
      },
      "text/plain": [
       "%20%20Ele_94RTPZWMZO.txt:   0%|          | 0.00/787 [00:00<?, ?B/s]"
      ]
     },
     "metadata": {},
     "output_type": "display_data"
    },
    {
     "data": {
      "application/vnd.jupyter.widget-view+json": {
       "model_id": "3a32391d63464a3589f27699ae4ef25e",
       "version_major": 2,
       "version_minor": 0
      },
      "text/plain": [
       "%20%20Ele_AMSYKA1OSZ.txt:   0%|          | 0.00/1.51k [00:00<?, ?B/s]"
      ]
     },
     "metadata": {},
     "output_type": "display_data"
    },
    {
     "data": {
      "application/vnd.jupyter.widget-view+json": {
       "model_id": "77396289c8544520ac94d517c92c4942",
       "version_major": 2,
       "version_minor": 0
      },
      "text/plain": [
       "%20%20Ele_AOD6QDVJ3G.txt:   0%|          | 0.00/1.56k [00:00<?, ?B/s]"
      ]
     },
     "metadata": {},
     "output_type": "display_data"
    },
    {
     "data": {
      "application/vnd.jupyter.widget-view+json": {
       "model_id": "f4ce069d554240bb8b2801bdad85302f",
       "version_major": 2,
       "version_minor": 0
      },
      "text/plain": [
       "%20%20Ele_CDI6D0CGHZ.txt:   0%|          | 0.00/1.04k [00:00<?, ?B/s]"
      ]
     },
     "metadata": {},
     "output_type": "display_data"
    },
    {
     "data": {
      "application/vnd.jupyter.widget-view+json": {
       "model_id": "a71350e7bdb9459cbe7eacbb08592acd",
       "version_major": 2,
       "version_minor": 0
      },
      "text/plain": [
       "%20%20Ele_GD9FIP1RVE.txt:   0%|          | 0.00/939 [00:00<?, ?B/s]"
      ]
     },
     "metadata": {},
     "output_type": "display_data"
    },
    {
     "data": {
      "application/vnd.jupyter.widget-view+json": {
       "model_id": "87ec43ae23d04060aeb9950d17455673",
       "version_major": 2,
       "version_minor": 0
      },
      "text/plain": [
       "%20%20Ele_TWUFGIDOH0.txt:   0%|          | 0.00/1.14k [00:00<?, ?B/s]"
      ]
     },
     "metadata": {},
     "output_type": "display_data"
    },
    {
     "data": {
      "application/vnd.jupyter.widget-view+json": {
       "model_id": "c0483adc333148f58c14f68eaeda7a80",
       "version_major": 2,
       "version_minor": 0
      },
      "text/plain": [
       "%20%20Ele_X28BO1KU1X.txt:   0%|          | 0.00/809 [00:00<?, ?B/s]"
      ]
     },
     "metadata": {},
     "output_type": "display_data"
    },
    {
     "data": {
      "application/vnd.jupyter.widget-view+json": {
       "model_id": "7eccb2fcdb854fe2ba0e730010886d42",
       "version_major": 2,
       "version_minor": 0
      },
      "text/plain": [
       "%20%20Ele_OZ5W6ML14E.txt:   0%|          | 0.00/992 [00:00<?, ?B/s]"
      ]
     },
     "metadata": {},
     "output_type": "display_data"
    },
    {
     "data": {
      "application/vnd.jupyter.widget-view+json": {
       "model_id": "3b06ffde347d45859bedb08a00fc63f1",
       "version_major": 2,
       "version_minor": 0
      },
      "text/plain": [
       "%20%20Ele_JKSIW5VE4Z.txt:   0%|          | 0.00/864 [00:00<?, ?B/s]"
      ]
     },
     "metadata": {},
     "output_type": "display_data"
    },
    {
     "data": {
      "application/vnd.jupyter.widget-view+json": {
       "model_id": "198e509cafcf479a93ddfeab4a9477e0",
       "version_major": 2,
       "version_minor": 0
      },
      "text/plain": [
       "%20%20Emp_8SQC9T66MK.txt:   0%|          | 0.00/1.71k [00:00<?, ?B/s]"
      ]
     },
     "metadata": {},
     "output_type": "display_data"
    },
    {
     "data": {
      "application/vnd.jupyter.widget-view+json": {
       "model_id": "67ee94ab10e442bea8f08ff5610ba1ec",
       "version_major": 2,
       "version_minor": 0
      },
      "text/plain": [
       "%20%20Edg_AR7VIATBJQ.txt:   0%|          | 0.00/620 [00:00<?, ?B/s]"
      ]
     },
     "metadata": {},
     "output_type": "display_data"
    },
    {
     "data": {
      "application/vnd.jupyter.widget-view+json": {
       "model_id": "228e3721e2774cf9a781b76b6ea99304",
       "version_major": 2,
       "version_minor": 0
      },
      "text/plain": [
       "%20%20Eff_EGH4ITO0WL.txt:   0%|          | 0.00/860 [00:00<?, ?B/s]"
      ]
     },
     "metadata": {},
     "output_type": "display_data"
    },
    {
     "data": {
      "application/vnd.jupyter.widget-view+json": {
       "model_id": "0fba6485ca1842bd9324cc8fbc585196",
       "version_major": 2,
       "version_minor": 0
      },
      "text/plain": [
       "%20%20Emp_TMFWFCXEIC.txt:   0%|          | 0.00/1.28k [00:00<?, ?B/s]"
      ]
     },
     "metadata": {},
     "output_type": "display_data"
    },
    {
     "data": {
      "application/vnd.jupyter.widget-view+json": {
       "model_id": "62000561a6d74b5a88677710abe3af64",
       "version_major": 2,
       "version_minor": 0
      },
      "text/plain": [
       "%20%20Emp_WUOUHP3U1X.txt:   0%|          | 0.00/697 [00:00<?, ?B/s]"
      ]
     },
     "metadata": {},
     "output_type": "display_data"
    },
    {
     "data": {
      "application/vnd.jupyter.widget-view+json": {
       "model_id": "705786e025fc4326a48ee95ba5a8253e",
       "version_major": 2,
       "version_minor": 0
      },
      "text/plain": [
       "%20%20Ele_ZYW8VP35RS.txt:   0%|          | 0.00/1.06k [00:00<?, ?B/s]"
      ]
     },
     "metadata": {},
     "output_type": "display_data"
    },
    {
     "data": {
      "application/vnd.jupyter.widget-view+json": {
       "model_id": "426028e4d1e8470aa49c7d0968cdff10",
       "version_major": 2,
       "version_minor": 0
      },
      "text/plain": [
       "%20%20Emp_SNYUQX9UB9.txt:   0%|          | 0.00/667 [00:00<?, ?B/s]"
      ]
     },
     "metadata": {},
     "output_type": "display_data"
    },
    {
     "data": {
      "application/vnd.jupyter.widget-view+json": {
       "model_id": "1d2660a318db4787bec82a307fde7e9c",
       "version_major": 2,
       "version_minor": 0
      },
      "text/plain": [
       "%20%20Ene_F5O0GPRTCL.txt:   0%|          | 0.00/884 [00:00<?, ?B/s]"
      ]
     },
     "metadata": {},
     "output_type": "display_data"
    },
    {
     "data": {
      "application/vnd.jupyter.widget-view+json": {
       "model_id": "f2265cd5395444fa99626b2580b6799b",
       "version_major": 2,
       "version_minor": 0
      },
      "text/plain": [
       "%20%20Ele_ZFK2D7EMU7.txt:   0%|          | 0.00/546 [00:00<?, ?B/s]"
      ]
     },
     "metadata": {},
     "output_type": "display_data"
    },
    {
     "data": {
      "application/vnd.jupyter.widget-view+json": {
       "model_id": "62f121d245c8460a939f4c426318449b",
       "version_major": 2,
       "version_minor": 0
      },
      "text/plain": [
       "%20%20Emp_LSUA9SRJXB.txt:   0%|          | 0.00/772 [00:00<?, ?B/s]"
      ]
     },
     "metadata": {},
     "output_type": "display_data"
    },
    {
     "data": {
      "application/vnd.jupyter.widget-view+json": {
       "model_id": "4599852abbb04b1ebe8d33fe76d7f45f",
       "version_major": 2,
       "version_minor": 0
      },
      "text/plain": [
       "%20%20Ene_QDZPMQPPML.txt:   0%|          | 0.00/963 [00:00<?, ?B/s]"
      ]
     },
     "metadata": {},
     "output_type": "display_data"
    },
    {
     "data": {
      "application/vnd.jupyter.widget-view+json": {
       "model_id": "61f42e0c9121402db6f064d784383c88",
       "version_major": 2,
       "version_minor": 0
      },
      "text/plain": [
       "%20%20Ene_ZWE084PCF8.txt:   0%|          | 0.00/1.53k [00:00<?, ?B/s]"
      ]
     },
     "metadata": {},
     "output_type": "display_data"
    },
    {
     "data": {
      "application/vnd.jupyter.widget-view+json": {
       "model_id": "098f490658dc46c988977f0610414e86",
       "version_major": 2,
       "version_minor": 0
      },
      "text/plain": [
       "%20%20Ent_TD3J6BNFVC.txt:   0%|          | 0.00/381 [00:00<?, ?B/s]"
      ]
     },
     "metadata": {},
     "output_type": "display_data"
    },
    {
     "data": {
      "application/vnd.jupyter.widget-view+json": {
       "model_id": "1a32dd9ea72d4702ba72f6e76c534d17",
       "version_major": 2,
       "version_minor": 0
      },
      "text/plain": [
       "%20%20Eng_DW0J17NGCF.txt:   0%|          | 0.00/999 [00:00<?, ?B/s]"
      ]
     },
     "metadata": {},
     "output_type": "display_data"
    },
    {
     "data": {
      "application/vnd.jupyter.widget-view+json": {
       "model_id": "84a1ba8596b14f55ae3e3da64d2bd072",
       "version_major": 2,
       "version_minor": 0
      },
      "text/plain": [
       "%20%20Ent_QJTLB9LKJO.txt:   0%|          | 0.00/804 [00:00<?, ?B/s]"
      ]
     },
     "metadata": {},
     "output_type": "display_data"
    },
    {
     "data": {
      "application/vnd.jupyter.widget-view+json": {
       "model_id": "a35a35961bcc492a94db0a5807c60607",
       "version_major": 2,
       "version_minor": 0
      },
      "text/plain": [
       "%20%20Env_UC0QFX39RR.txt:   0%|          | 0.00/1.41k [00:00<?, ?B/s]"
      ]
     },
     "metadata": {},
     "output_type": "display_data"
    },
    {
     "data": {
      "application/vnd.jupyter.widget-view+json": {
       "model_id": "e11fe379a1a940c89617dc3b2a904410",
       "version_major": 2,
       "version_minor": 0
      },
      "text/plain": [
       "%20%20Epi_DF0Y3IW9YZ.txt:   0%|          | 0.00/1.33k [00:00<?, ?B/s]"
      ]
     },
     "metadata": {},
     "output_type": "display_data"
    },
    {
     "data": {
      "application/vnd.jupyter.widget-view+json": {
       "model_id": "cea892b4889c42eebc5a0ba358648fa1",
       "version_major": 2,
       "version_minor": 0
      },
      "text/plain": [
       "%20%20Erw_VUQ6YV19G3.txt:   0%|          | 0.00/570 [00:00<?, ?B/s]"
      ]
     },
     "metadata": {},
     "output_type": "display_data"
    },
    {
     "data": {
      "application/vnd.jupyter.widget-view+json": {
       "model_id": "6832a4e21ea147388a5565c696c43e39",
       "version_major": 2,
       "version_minor": 0
      },
      "text/plain": [
       "%20%20Eva_5ZUODP33Z7.txt:   0%|          | 0.00/681 [00:00<?, ?B/s]"
      ]
     },
     "metadata": {},
     "output_type": "display_data"
    },
    {
     "data": {
      "application/vnd.jupyter.widget-view+json": {
       "model_id": "e3b74988a05e424d8e0329cf23afb293",
       "version_major": 2,
       "version_minor": 0
      },
      "text/plain": [
       "%20%20Eve_5A26G4BO6N.txt:   0%|          | 0.00/798 [00:00<?, ?B/s]"
      ]
     },
     "metadata": {},
     "output_type": "display_data"
    },
    {
     "data": {
      "application/vnd.jupyter.widget-view+json": {
       "model_id": "62190ba8e30f42259e8c4e26003ffc0f",
       "version_major": 2,
       "version_minor": 0
      },
      "text/plain": [
       "%20%20Est_ZF43PAU7H6.txt:   0%|          | 0.00/823 [00:00<?, ?B/s]"
      ]
     },
     "metadata": {},
     "output_type": "display_data"
    },
    {
     "data": {
      "application/vnd.jupyter.widget-view+json": {
       "model_id": "2ef904374e404fa2beac2e75e7c82428",
       "version_major": 2,
       "version_minor": 0
      },
      "text/plain": [
       "%20%20Est_40G4YX7KQB.txt:   0%|          | 0.00/231 [00:00<?, ?B/s]"
      ]
     },
     "metadata": {},
     "output_type": "display_data"
    },
    {
     "data": {
      "application/vnd.jupyter.widget-view+json": {
       "model_id": "26fbea3442e243d2869712f0ece45c68",
       "version_major": 2,
       "version_minor": 0
      },
      "text/plain": [
       "%20%20Eve_QJH7OSH3FR.txt:   0%|          | 0.00/589 [00:00<?, ?B/s]"
      ]
     },
     "metadata": {},
     "output_type": "display_data"
    },
    {
     "data": {
      "application/vnd.jupyter.widget-view+json": {
       "model_id": "63334520e65c4605b9faa113ada65361",
       "version_major": 2,
       "version_minor": 0
      },
      "text/plain": [
       "%20%20Eve_9XCLYNCB2V.txt:   0%|          | 0.00/249 [00:00<?, ?B/s]"
      ]
     },
     "metadata": {},
     "output_type": "display_data"
    },
    {
     "data": {
      "application/vnd.jupyter.widget-view+json": {
       "model_id": "7e50064e9eeb4e5fbdf91db231d96378",
       "version_major": 2,
       "version_minor": 0
      },
      "text/plain": [
       "%20%20Eve_AY7J7NQ97S.txt:   0%|          | 0.00/563 [00:00<?, ?B/s]"
      ]
     },
     "metadata": {},
     "output_type": "display_data"
    },
    {
     "data": {
      "application/vnd.jupyter.widget-view+json": {
       "model_id": "e8b5ef929aa74e129235b2b2f5d480a9",
       "version_major": 2,
       "version_minor": 0
      },
      "text/plain": [
       "%20%20Evo_C8UKLVMKUY.txt:   0%|          | 0.00/1.08k [00:00<?, ?B/s]"
      ]
     },
     "metadata": {},
     "output_type": "display_data"
    },
    {
     "data": {
      "application/vnd.jupyter.widget-view+json": {
       "model_id": "a849e292e5a44b8aaf2a9b8c6a2fb5b7",
       "version_major": 2,
       "version_minor": 0
      },
      "text/plain": [
       "%20%20Exa_UH0O15TTGC.txt:   0%|          | 0.00/1.64k [00:00<?, ?B/s]"
      ]
     },
     "metadata": {},
     "output_type": "display_data"
    },
    {
     "data": {
      "application/vnd.jupyter.widget-view+json": {
       "model_id": "71d9f4e5716b4493993d8cbe08898cb7",
       "version_major": 2,
       "version_minor": 0
      },
      "text/plain": [
       "%20%20Erd_2710PB7JUW.txt:   0%|          | 0.00/560 [00:00<?, ?B/s]"
      ]
     },
     "metadata": {},
     "output_type": "display_data"
    },
    {
     "data": {
      "application/vnd.jupyter.widget-view+json": {
       "model_id": "778043a5bd0a4e0f9dd580f5e1e5c10d",
       "version_major": 2,
       "version_minor": 0
      },
      "text/plain": [
       "%20%20Exc_8WBLKI2CVG.txt:   0%|          | 0.00/497 [00:00<?, ?B/s]"
      ]
     },
     "metadata": {},
     "output_type": "display_data"
    },
    {
     "data": {
      "application/vnd.jupyter.widget-view+json": {
       "model_id": "5cecd3434d094626b210d262a2b05d31",
       "version_major": 2,
       "version_minor": 0
      },
      "text/plain": [
       "%20%20Exp_9C44LL47VJ.txt:   0%|          | 0.00/160 [00:00<?, ?B/s]"
      ]
     },
     "metadata": {},
     "output_type": "display_data"
    },
    {
     "data": {
      "application/vnd.jupyter.widget-view+json": {
       "model_id": "7fd931ce9e6a4370be832a6921b06bf3",
       "version_major": 2,
       "version_minor": 0
      },
      "text/plain": [
       "%20%20Exp_BWUN73AL2F.txt:   0%|          | 0.00/995 [00:00<?, ?B/s]"
      ]
     },
     "metadata": {},
     "output_type": "display_data"
    },
    {
     "data": {
      "application/vnd.jupyter.widget-view+json": {
       "model_id": "36ed913ed0da4035aab425dfcf3def6d",
       "version_major": 2,
       "version_minor": 0
      },
      "text/plain": [
       "%20%20Exp_EWVRT9II6M.txt:   0%|          | 0.00/489 [00:00<?, ?B/s]"
      ]
     },
     "metadata": {},
     "output_type": "display_data"
    },
    {
     "data": {
      "application/vnd.jupyter.widget-view+json": {
       "model_id": "9e0cf3171e4f49cdbb405c303f412af2",
       "version_major": 2,
       "version_minor": 0
      },
      "text/plain": [
       "%20%20Exp_AR8GQLCCM9.txt:   0%|          | 0.00/781 [00:00<?, ?B/s]"
      ]
     },
     "metadata": {},
     "output_type": "display_data"
    },
    {
     "data": {
      "application/vnd.jupyter.widget-view+json": {
       "model_id": "1053af6119634e43b1ca0026425b121c",
       "version_major": 2,
       "version_minor": 0
      },
      "text/plain": [
       "%20%20Exp_WEO79L1WQW.txt:   0%|          | 0.00/1.10k [00:00<?, ?B/s]"
      ]
     },
     "metadata": {},
     "output_type": "display_data"
    },
    {
     "data": {
      "application/vnd.jupyter.widget-view+json": {
       "model_id": "942b63d4dccc47ee84322ef70201bb2b",
       "version_major": 2,
       "version_minor": 0
      },
      "text/plain": [
       "%20%20Exp_HB9WGWC2QK.txt:   0%|          | 0.00/1.19k [00:00<?, ?B/s]"
      ]
     },
     "metadata": {},
     "output_type": "display_data"
    },
    {
     "data": {
      "application/vnd.jupyter.widget-view+json": {
       "model_id": "9f79e9619ccd4230895a002d97d608de",
       "version_major": 2,
       "version_minor": 0
      },
      "text/plain": [
       "%20%20Ext_3F3MX6C6W1.txt:   0%|          | 0.00/1.57k [00:00<?, ?B/s]"
      ]
     },
     "metadata": {},
     "output_type": "display_data"
    },
    {
     "data": {
      "application/vnd.jupyter.widget-view+json": {
       "model_id": "213ff7f40c574ba0b8290d333454dce2",
       "version_major": 2,
       "version_minor": 0
      },
      "text/plain": [
       "%20%20Ext_A0EWRTUU26.txt:   0%|          | 0.00/678 [00:00<?, ?B/s]"
      ]
     },
     "metadata": {},
     "output_type": "display_data"
    },
    {
     "data": {
      "application/vnd.jupyter.widget-view+json": {
       "model_id": "196ed47772de48bab41185116f53ed7c",
       "version_major": 2,
       "version_minor": 0
      },
      "text/plain": [
       "%20%20Ext_IB58E1WTSH.txt:   0%|          | 0.00/666 [00:00<?, ?B/s]"
      ]
     },
     "metadata": {},
     "output_type": "display_data"
    },
    {
     "data": {
      "application/vnd.jupyter.widget-view+json": {
       "model_id": "945ec540515743ae860a676eddc6b9aa",
       "version_major": 2,
       "version_minor": 0
      },
      "text/plain": [
       "%20%20Exp_3OPZWJXX6M.txt:   0%|          | 0.00/446 [00:00<?, ?B/s]"
      ]
     },
     "metadata": {},
     "output_type": "display_data"
    },
    {
     "data": {
      "application/vnd.jupyter.widget-view+json": {
       "model_id": "f831709a3e7248558dfde92426a82c63",
       "version_major": 2,
       "version_minor": 0
      },
      "text/plain": [
       "%20%20Ext_2KCIURDYKZ.txt:   0%|          | 0.00/697 [00:00<?, ?B/s]"
      ]
     },
     "metadata": {},
     "output_type": "display_data"
    },
    {
     "data": {
      "application/vnd.jupyter.widget-view+json": {
       "model_id": "53dcccbb4c804a23add3408befe52c9d",
       "version_major": 2,
       "version_minor": 0
      },
      "text/plain": [
       "%20%20Ext_NZO0XCMBXW.txt:   0%|          | 0.00/678 [00:00<?, ?B/s]"
      ]
     },
     "metadata": {},
     "output_type": "display_data"
    },
    {
     "data": {
      "application/vnd.jupyter.widget-view+json": {
       "model_id": "8f4f8eaabf9f468aa66fdcc4fa5bf34f",
       "version_major": 2,
       "version_minor": 0
      },
      "text/plain": [
       "%20%20Ext_9EEFQ3QMND.txt:   0%|          | 0.00/1.31k [00:00<?, ?B/s]"
      ]
     },
     "metadata": {},
     "output_type": "display_data"
    },
    {
     "data": {
      "application/vnd.jupyter.widget-view+json": {
       "model_id": "6e8fd0a737ad415b91095d2346718df3",
       "version_major": 2,
       "version_minor": 0
      },
      "text/plain": [
       "%20%20Exp_Z5LLM5HX4U.txt:   0%|          | 0.00/1.13k [00:00<?, ?B/s]"
      ]
     },
     "metadata": {},
     "output_type": "display_data"
    },
    {
     "data": {
      "application/vnd.jupyter.widget-view+json": {
       "model_id": "0a45b3253e4d44ea861d1fd8833d8d98",
       "version_major": 2,
       "version_minor": 0
      },
      "text/plain": [
       "%20%20Fee_3F8I0I1SO7.txt:   0%|          | 0.00/661 [00:00<?, ?B/s]"
      ]
     },
     "metadata": {},
     "output_type": "display_data"
    },
    {
     "data": {
      "application/vnd.jupyter.widget-view+json": {
       "model_id": "9b7009d41e8b45cca428615dba2273e7",
       "version_major": 2,
       "version_minor": 0
      },
      "text/plain": [
       "%20%20Fer_H7C85ZCJIO.txt:   0%|          | 0.00/719 [00:00<?, ?B/s]"
      ]
     },
     "metadata": {},
     "output_type": "display_data"
    },
    {
     "data": {
      "application/vnd.jupyter.widget-view+json": {
       "model_id": "4c81d4d5a1124099beaac5c88042fc1e",
       "version_major": 2,
       "version_minor": 0
      },
      "text/plain": [
       "%20%20Fer_OMM2384XES.txt:   0%|          | 0.00/611 [00:00<?, ?B/s]"
      ]
     },
     "metadata": {},
     "output_type": "display_data"
    },
    {
     "data": {
      "application/vnd.jupyter.widget-view+json": {
       "model_id": "c99fbc28a96343ff8b58e526a4b12e63",
       "version_major": 2,
       "version_minor": 0
      },
      "text/plain": [
       "%20%20Fea_DF8DS3XK8W.txt:   0%|          | 0.00/834 [00:00<?, ?B/s]"
      ]
     },
     "metadata": {},
     "output_type": "display_data"
    },
    {
     "data": {
      "application/vnd.jupyter.widget-view+json": {
       "model_id": "2b18f56277a84ede838668ad1f52a37a",
       "version_major": 2,
       "version_minor": 0
      },
      "text/plain": [
       "%20%20Ext_VVOA59AKN6.txt:   0%|          | 0.00/697 [00:00<?, ?B/s]"
      ]
     },
     "metadata": {},
     "output_type": "display_data"
    },
    {
     "data": {
      "application/vnd.jupyter.widget-view+json": {
       "model_id": "abe1355702174deba2a3d311eef3d967",
       "version_major": 2,
       "version_minor": 0
      },
      "text/plain": [
       "%20%20Fer_Q4GN4UI86F.txt:   0%|          | 0.00/553 [00:00<?, ?B/s]"
      ]
     },
     "metadata": {},
     "output_type": "display_data"
    },
    {
     "data": {
      "application/vnd.jupyter.widget-view+json": {
       "model_id": "e1b24b1f76054df38c1d974a83cbb78c",
       "version_major": 2,
       "version_minor": 0
      },
      "text/plain": [
       "%20%20Fer_U3WB572T8K.txt:   0%|          | 0.00/392 [00:00<?, ?B/s]"
      ]
     },
     "metadata": {},
     "output_type": "display_data"
    },
    {
     "data": {
      "application/vnd.jupyter.widget-view+json": {
       "model_id": "cb6f80caa6a54431b5bc5b888bae001b",
       "version_major": 2,
       "version_minor": 0
      },
      "text/plain": [
       "%20%20Fer_UX12XN2JR1.txt:   0%|          | 0.00/564 [00:00<?, ?B/s]"
      ]
     },
     "metadata": {},
     "output_type": "display_data"
    },
    {
     "data": {
      "application/vnd.jupyter.widget-view+json": {
       "model_id": "a10168988d0048dbab0586ed8cac5ade",
       "version_major": 2,
       "version_minor": 0
      },
      "text/plain": [
       "%20%20Fib_W5H5E0EM0F.txt:   0%|          | 0.00/286 [00:00<?, ?B/s]"
      ]
     },
     "metadata": {},
     "output_type": "display_data"
    },
    {
     "data": {
      "application/vnd.jupyter.widget-view+json": {
       "model_id": "86929fb948f94612930d70853a991a4d",
       "version_major": 2,
       "version_minor": 0
      },
      "text/plain": [
       "%20%20Fin_E13DDQJ3GK.txt:   0%|          | 0.00/942 [00:00<?, ?B/s]"
      ]
     },
     "metadata": {},
     "output_type": "display_data"
    },
    {
     "data": {
      "application/vnd.jupyter.widget-view+json": {
       "model_id": "643db6e5bbd64473b993d29d547146b9",
       "version_major": 2,
       "version_minor": 0
      },
      "text/plain": [
       "%20%20Fin_644IZPNI7F.txt:   0%|          | 0.00/409 [00:00<?, ?B/s]"
      ]
     },
     "metadata": {},
     "output_type": "display_data"
    },
    {
     "data": {
      "application/vnd.jupyter.widget-view+json": {
       "model_id": "582e8cb8d8e54f9a84387b4b32627e9d",
       "version_major": 2,
       "version_minor": 0
      },
      "text/plain": [
       "%20%20Fin_KV6Q8XQZIW.txt:   0%|          | 0.00/1.12k [00:00<?, ?B/s]"
      ]
     },
     "metadata": {},
     "output_type": "display_data"
    },
    {
     "data": {
      "application/vnd.jupyter.widget-view+json": {
       "model_id": "3cf1ca2dfd634398b80222ddaa87eb91",
       "version_major": 2,
       "version_minor": 0
      },
      "text/plain": [
       "%20%20Fir_3KF05NZBC6.txt:   0%|          | 0.00/646 [00:00<?, ?B/s]"
      ]
     },
     "metadata": {},
     "output_type": "display_data"
    },
    {
     "data": {
      "application/vnd.jupyter.widget-view+json": {
       "model_id": "7b25966034284a81ab442c78b18d2023",
       "version_major": 2,
       "version_minor": 0
      },
      "text/plain": [
       "%20%20Fin_ZZ1BDTEI6T.txt:   0%|          | 0.00/557 [00:00<?, ?B/s]"
      ]
     },
     "metadata": {},
     "output_type": "display_data"
    },
    {
     "data": {
      "application/vnd.jupyter.widget-view+json": {
       "model_id": "4b464cf6cfd2451ea20e26a6c0ca0944",
       "version_major": 2,
       "version_minor": 0
      },
      "text/plain": [
       "%20%20Fir_0RWX63DVEO.txt:   0%|          | 0.00/491 [00:00<?, ?B/s]"
      ]
     },
     "metadata": {},
     "output_type": "display_data"
    },
    {
     "data": {
      "application/vnd.jupyter.widget-view+json": {
       "model_id": "235ed2ee1c894a7ba62d5ae32ad8682b",
       "version_major": 2,
       "version_minor": 0
      },
      "text/plain": [
       "%20%20Fir_VE2CX3KTJX.txt:   0%|          | 0.00/1.54k [00:00<?, ?B/s]"
      ]
     },
     "metadata": {},
     "output_type": "display_data"
    },
    {
     "data": {
      "application/vnd.jupyter.widget-view+json": {
       "model_id": "978dde8a914346b79f6725171d063c2e",
       "version_major": 2,
       "version_minor": 0
      },
      "text/plain": [
       "%20%20Fir_U9IBHMWMZV.txt:   0%|          | 0.00/1.25k [00:00<?, ?B/s]"
      ]
     },
     "metadata": {},
     "output_type": "display_data"
    },
    {
     "data": {
      "application/vnd.jupyter.widget-view+json": {
       "model_id": "1336433349d94e4b92895698fccf0a7e",
       "version_major": 2,
       "version_minor": 0
      },
      "text/plain": [
       "%20%20Fli_7C8NHDP20Z.txt:   0%|          | 0.00/1.46k [00:00<?, ?B/s]"
      ]
     },
     "metadata": {},
     "output_type": "display_data"
    },
    {
     "data": {
      "application/vnd.jupyter.widget-view+json": {
       "model_id": "e53eab80f55a4ef0b52d4696fbc2d3af",
       "version_major": 2,
       "version_minor": 0
      },
      "text/plain": [
       "%20%20Flu_U88WMS8PMP.txt:   0%|          | 0.00/1.45k [00:00<?, ?B/s]"
      ]
     },
     "metadata": {},
     "output_type": "display_data"
    },
    {
     "data": {
      "application/vnd.jupyter.widget-view+json": {
       "model_id": "bac7e72ac825492db43b7dc8b76d0c64",
       "version_major": 2,
       "version_minor": 0
      },
      "text/plain": [
       "%20%20Fol_4CZOEV051P.txt:   0%|          | 0.00/1.36k [00:00<?, ?B/s]"
      ]
     },
     "metadata": {},
     "output_type": "display_data"
    },
    {
     "data": {
      "application/vnd.jupyter.widget-view+json": {
       "model_id": "2cdef925b2904df7a2ab0ad46676c02b",
       "version_major": 2,
       "version_minor": 0
      },
      "text/plain": [
       "%20%20Fiv_E8SSQ490G1.txt:   0%|          | 0.00/906 [00:00<?, ?B/s]"
      ]
     },
     "metadata": {},
     "output_type": "display_data"
    },
    {
     "data": {
      "application/vnd.jupyter.widget-view+json": {
       "model_id": "9bd54203081b44e18e4a5fc29d72cd23",
       "version_major": 2,
       "version_minor": 0
      },
      "text/plain": [
       "%20%20Flo_XPOONUYFFJ.txt:   0%|          | 0.00/1.37k [00:00<?, ?B/s]"
      ]
     },
     "metadata": {},
     "output_type": "display_data"
    },
    {
     "data": {
      "application/vnd.jupyter.widget-view+json": {
       "model_id": "b799a2dec82e46959b24d965de8b440b",
       "version_major": 2,
       "version_minor": 0
      },
      "text/plain": [
       "%20%20Fol_CUT84GLRVC.txt:   0%|          | 0.00/1.08k [00:00<?, ?B/s]"
      ]
     },
     "metadata": {},
     "output_type": "display_data"
    },
    {
     "data": {
      "application/vnd.jupyter.widget-view+json": {
       "model_id": "f4d699638a624c9a85898cfad8e689d9",
       "version_major": 2,
       "version_minor": 0
      },
      "text/plain": [
       "%20%20Fol_9K8Y2H5DRE.txt:   0%|          | 0.00/263 [00:00<?, ?B/s]"
      ]
     },
     "metadata": {},
     "output_type": "display_data"
    },
    {
     "data": {
      "application/vnd.jupyter.widget-view+json": {
       "model_id": "998dd1eaa9234eb28ee7981026e258a0",
       "version_major": 2,
       "version_minor": 0
      },
      "text/plain": [
       "%20%20Fol_F5QDEWU3S8.txt:   0%|          | 0.00/483 [00:00<?, ?B/s]"
      ]
     },
     "metadata": {},
     "output_type": "display_data"
    },
    {
     "data": {
      "application/vnd.jupyter.widget-view+json": {
       "model_id": "20c4f32f465149aea0a3e8c788db8e01",
       "version_major": 2,
       "version_minor": 0
      },
      "text/plain": [
       "%20%20Fir_7L6H8AYKYZ.txt:   0%|          | 0.00/1.36k [00:00<?, ?B/s]"
      ]
     },
     "metadata": {},
     "output_type": "display_data"
    },
    {
     "data": {
      "application/vnd.jupyter.widget-view+json": {
       "model_id": "2c52af3d66544e4f8bad948863647293",
       "version_major": 2,
       "version_minor": 0
      },
      "text/plain": [
       "%20%20Fol_HAPIT0UGPW.txt:   0%|          | 0.00/1.54k [00:00<?, ?B/s]"
      ]
     },
     "metadata": {},
     "output_type": "display_data"
    },
    {
     "data": {
      "application/vnd.jupyter.widget-view+json": {
       "model_id": "fbf0746e41e04a3ba503abb6a9627028",
       "version_major": 2,
       "version_minor": 0
      },
      "text/plain": [
       "%20%20Fol_J9JJPW36MY.txt:   0%|          | 0.00/844 [00:00<?, ?B/s]"
      ]
     },
     "metadata": {},
     "output_type": "display_data"
    },
    {
     "data": {
      "application/vnd.jupyter.widget-view+json": {
       "model_id": "bb69c5565a454e378f06478e8ec87638",
       "version_major": 2,
       "version_minor": 0
      },
      "text/plain": [
       "%20%20Fol_IKA09D8ASS.txt:   0%|          | 0.00/204 [00:00<?, ?B/s]"
      ]
     },
     "metadata": {},
     "output_type": "display_data"
    },
    {
     "data": {
      "application/vnd.jupyter.widget-view+json": {
       "model_id": "9ac826d2f7394c38940d99c0b238ef6f",
       "version_major": 2,
       "version_minor": 0
      },
      "text/plain": [
       "%20%20Fol_6JMD0UW8XE.txt:   0%|          | 0.00/1.39k [00:00<?, ?B/s]"
      ]
     },
     "metadata": {},
     "output_type": "display_data"
    },
    {
     "data": {
      "application/vnd.jupyter.widget-view+json": {
       "model_id": "4c2bfc42b70f416f95b93293c00d6323",
       "version_major": 2,
       "version_minor": 0
      },
      "text/plain": [
       "%20%20Fom_K6PIQ323FO.txt:   0%|          | 0.00/374 [00:00<?, ?B/s]"
      ]
     },
     "metadata": {},
     "output_type": "display_data"
    },
    {
     "data": {
      "application/vnd.jupyter.widget-view+json": {
       "model_id": "5b7ab5a1df324bd7bda2350093ac4fc0",
       "version_major": 2,
       "version_minor": 0
      },
      "text/plain": [
       "%20%20Fol_JIJ9UZDFRQ.txt:   0%|          | 0.00/854 [00:00<?, ?B/s]"
      ]
     },
     "metadata": {},
     "output_type": "display_data"
    },
    {
     "data": {
      "application/vnd.jupyter.widget-view+json": {
       "model_id": "f7fca27868bb4a91b440e19847405106",
       "version_major": 2,
       "version_minor": 0
      },
      "text/plain": [
       "%20%20Foo_4X5UO0009T.txt:   0%|          | 0.00/762 [00:00<?, ?B/s]"
      ]
     },
     "metadata": {},
     "output_type": "display_data"
    },
    {
     "data": {
      "application/vnd.jupyter.widget-view+json": {
       "model_id": "2a654be1648d457ca3652e3a94f71b0b",
       "version_major": 2,
       "version_minor": 0
      },
      "text/plain": [
       "%20%20Foo_MFQF5Z7WUY.txt:   0%|          | 0.00/402 [00:00<?, ?B/s]"
      ]
     },
     "metadata": {},
     "output_type": "display_data"
    },
    {
     "data": {
      "application/vnd.jupyter.widget-view+json": {
       "model_id": "0d6479a9d1ea401997a9d91d03567d3a",
       "version_major": 2,
       "version_minor": 0
      },
      "text/plain": [
       "%20%20For_0CKOR4U9IM.txt:   0%|          | 0.00/198 [00:00<?, ?B/s]"
      ]
     },
     "metadata": {},
     "output_type": "display_data"
    },
    {
     "data": {
      "application/vnd.jupyter.widget-view+json": {
       "model_id": "d800f984f6ea4777b1dde8153a4146f1",
       "version_major": 2,
       "version_minor": 0
      },
      "text/plain": [
       "%20%20For_5U6SIRW312.txt:   0%|          | 0.00/976 [00:00<?, ?B/s]"
      ]
     },
     "metadata": {},
     "output_type": "display_data"
    },
    {
     "data": {
      "application/vnd.jupyter.widget-view+json": {
       "model_id": "a75875ad95844e05bc968b43287a8dd4",
       "version_major": 2,
       "version_minor": 0
      },
      "text/plain": [
       "%20%20For_0FJG4TGQOL.txt:   0%|          | 0.00/261 [00:00<?, ?B/s]"
      ]
     },
     "metadata": {},
     "output_type": "display_data"
    },
    {
     "data": {
      "application/vnd.jupyter.widget-view+json": {
       "model_id": "6cb07c0712124888b5382e635f9de9ca",
       "version_major": 2,
       "version_minor": 0
      },
      "text/plain": [
       "%20%20For_39H0YA55QE.txt:   0%|          | 0.00/437 [00:00<?, ?B/s]"
      ]
     },
     "metadata": {},
     "output_type": "display_data"
    },
    {
     "data": {
      "application/vnd.jupyter.widget-view+json": {
       "model_id": "6ef83cec47764932a2c4009ae54b775c",
       "version_major": 2,
       "version_minor": 0
      },
      "text/plain": [
       "%20%20For_4U3H1SGDMA.txt:   0%|          | 0.00/259 [00:00<?, ?B/s]"
      ]
     },
     "metadata": {},
     "output_type": "display_data"
    },
    {
     "data": {
      "application/vnd.jupyter.widget-view+json": {
       "model_id": "d306ec973ed14b5d9f4f3f2ad389e46c",
       "version_major": 2,
       "version_minor": 0
      },
      "text/plain": [
       "%20%20For_7I54BME68I.txt:   0%|          | 0.00/1.41k [00:00<?, ?B/s]"
      ]
     },
     "metadata": {},
     "output_type": "display_data"
    },
    {
     "data": {
      "application/vnd.jupyter.widget-view+json": {
       "model_id": "95821b47675e42da8241cf0f3e672686",
       "version_major": 2,
       "version_minor": 0
      },
      "text/plain": [
       "%20%20For_41W09C0W34.txt:   0%|          | 0.00/343 [00:00<?, ?B/s]"
      ]
     },
     "metadata": {},
     "output_type": "display_data"
    },
    {
     "data": {
      "application/vnd.jupyter.widget-view+json": {
       "model_id": "4d3857ce5fc044d3a987bebb9a673433",
       "version_major": 2,
       "version_minor": 0
      },
      "text/plain": [
       "%20%20For_2BSIKVWEDR.txt:   0%|          | 0.00/790 [00:00<?, ?B/s]"
      ]
     },
     "metadata": {},
     "output_type": "display_data"
    },
    {
     "data": {
      "application/vnd.jupyter.widget-view+json": {
       "model_id": "05e97b0df391452daf21ba6ccf5aa781",
       "version_major": 2,
       "version_minor": 0
      },
      "text/plain": [
       "%20%20For_7U8KUVFO8N.txt:   0%|          | 0.00/1.25k [00:00<?, ?B/s]"
      ]
     },
     "metadata": {},
     "output_type": "display_data"
    },
    {
     "data": {
      "application/vnd.jupyter.widget-view+json": {
       "model_id": "78214132448340669113de1b6e40f7d5",
       "version_major": 2,
       "version_minor": 0
      },
      "text/plain": [
       "%20%20For_7X9E2TERG3.txt:   0%|          | 0.00/1.04k [00:00<?, ?B/s]"
      ]
     },
     "metadata": {},
     "output_type": "display_data"
    },
    {
     "data": {
      "application/vnd.jupyter.widget-view+json": {
       "model_id": "65c1782583174f8e9e5b6d57eac22395",
       "version_major": 2,
       "version_minor": 0
      },
      "text/plain": [
       "%20%20For_81M61PZU2Z.txt:   0%|          | 0.00/441 [00:00<?, ?B/s]"
      ]
     },
     "metadata": {},
     "output_type": "display_data"
    },
    {
     "data": {
      "application/vnd.jupyter.widget-view+json": {
       "model_id": "3105e5c697a640f98f2a4f860b25259a",
       "version_major": 2,
       "version_minor": 0
      },
      "text/plain": [
       "%20%20For_8BVZEBTKIR.txt:   0%|          | 0.00/328 [00:00<?, ?B/s]"
      ]
     },
     "metadata": {},
     "output_type": "display_data"
    },
    {
     "data": {
      "application/vnd.jupyter.widget-view+json": {
       "model_id": "921d554dd6a247d699e2ae9c3e2ad4ac",
       "version_major": 2,
       "version_minor": 0
      },
      "text/plain": [
       "%20%20For_DCXC6JDJ04.txt:   0%|          | 0.00/666 [00:00<?, ?B/s]"
      ]
     },
     "metadata": {},
     "output_type": "display_data"
    },
    {
     "data": {
      "application/vnd.jupyter.widget-view+json": {
       "model_id": "4043eb8ea6f54ad2a71f847e6b91fea9",
       "version_major": 2,
       "version_minor": 0
      },
      "text/plain": [
       "%20%20For_EPXVECEG24.txt:   0%|          | 0.00/624 [00:00<?, ?B/s]"
      ]
     },
     "metadata": {},
     "output_type": "display_data"
    },
    {
     "data": {
      "application/vnd.jupyter.widget-view+json": {
       "model_id": "5d1924fcd0e344daa4cd611452973688",
       "version_major": 2,
       "version_minor": 0
      },
      "text/plain": [
       "%20%20For_H5STEY7H9C.txt:   0%|          | 0.00/506 [00:00<?, ?B/s]"
      ]
     },
     "metadata": {},
     "output_type": "display_data"
    },
    {
     "data": {
      "application/vnd.jupyter.widget-view+json": {
       "model_id": "c00f424cdac2415b85288d58b57617f5",
       "version_major": 2,
       "version_minor": 0
      },
      "text/plain": [
       "%20%20For_HPAOJ18ZIH.txt:   0%|          | 0.00/279 [00:00<?, ?B/s]"
      ]
     },
     "metadata": {},
     "output_type": "display_data"
    },
    {
     "data": {
      "application/vnd.jupyter.widget-view+json": {
       "model_id": "5212f5f7705544d69f0d2c5f3589d132",
       "version_major": 2,
       "version_minor": 0
      },
      "text/plain": [
       "%20%20For_A68GLPWPSX.txt:   0%|          | 0.00/542 [00:00<?, ?B/s]"
      ]
     },
     "metadata": {},
     "output_type": "display_data"
    },
    {
     "data": {
      "application/vnd.jupyter.widget-view+json": {
       "model_id": "1438bc2d919a4108b9ebba82826d4cd1",
       "version_major": 2,
       "version_minor": 0
      },
      "text/plain": [
       "%20%20For_AV1EB2VPF0.txt:   0%|          | 0.00/1.78k [00:00<?, ?B/s]"
      ]
     },
     "metadata": {},
     "output_type": "display_data"
    },
    {
     "data": {
      "application/vnd.jupyter.widget-view+json": {
       "model_id": "1e067daa08ca4afe9843d26a6078d03d",
       "version_major": 2,
       "version_minor": 0
      },
      "text/plain": [
       "%20%20For_HJZR015DYD.txt:   0%|          | 0.00/501 [00:00<?, ?B/s]"
      ]
     },
     "metadata": {},
     "output_type": "display_data"
    },
    {
     "data": {
      "application/vnd.jupyter.widget-view+json": {
       "model_id": "b33345f8c9e84261a45139af73b65f42",
       "version_major": 2,
       "version_minor": 0
      },
      "text/plain": [
       "%20%20For_JSN1KBZ7KG.txt:   0%|          | 0.00/1.10k [00:00<?, ?B/s]"
      ]
     },
     "metadata": {},
     "output_type": "display_data"
    },
    {
     "data": {
      "application/vnd.jupyter.widget-view+json": {
       "model_id": "808edab143da4e1c89c42ddce2790a23",
       "version_major": 2,
       "version_minor": 0
      },
      "text/plain": [
       "%20%20For_KWQVGXG3HM.txt:   0%|          | 0.00/463 [00:00<?, ?B/s]"
      ]
     },
     "metadata": {},
     "output_type": "display_data"
    },
    {
     "data": {
      "application/vnd.jupyter.widget-view+json": {
       "model_id": "807133c67da846959dd77f1db934c75b",
       "version_major": 2,
       "version_minor": 0
      },
      "text/plain": [
       "%20%20For_LRVO8LJ3ME.txt:   0%|          | 0.00/461 [00:00<?, ?B/s]"
      ]
     },
     "metadata": {},
     "output_type": "display_data"
    },
    {
     "data": {
      "application/vnd.jupyter.widget-view+json": {
       "model_id": "c8603cd5ebd544ad9fb2188ac1f88992",
       "version_major": 2,
       "version_minor": 0
      },
      "text/plain": [
       "%20%20For_ICIYK40VIS.txt:   0%|          | 0.00/554 [00:00<?, ?B/s]"
      ]
     },
     "metadata": {},
     "output_type": "display_data"
    },
    {
     "data": {
      "application/vnd.jupyter.widget-view+json": {
       "model_id": "50feb93dda044f33a5ba3cfbecd1ce4f",
       "version_major": 2,
       "version_minor": 0
      },
      "text/plain": [
       "%20%20For_KSNXXYHZKN.txt:   0%|          | 0.00/722 [00:00<?, ?B/s]"
      ]
     },
     "metadata": {},
     "output_type": "display_data"
    },
    {
     "data": {
      "application/vnd.jupyter.widget-view+json": {
       "model_id": "8ff1b60a9e3045c993f7c1db7d486051",
       "version_major": 2,
       "version_minor": 0
      },
      "text/plain": [
       "%20%20For_J18C9NM0ET.txt:   0%|          | 0.00/571 [00:00<?, ?B/s]"
      ]
     },
     "metadata": {},
     "output_type": "display_data"
    },
    {
     "data": {
      "application/vnd.jupyter.widget-view+json": {
       "model_id": "247f4a3b01ae4a008d263cd1ae63309f",
       "version_major": 2,
       "version_minor": 0
      },
      "text/plain": [
       "%20%20For_LW0BY3MWLP.txt:   0%|          | 0.00/514 [00:00<?, ?B/s]"
      ]
     },
     "metadata": {},
     "output_type": "display_data"
    },
    {
     "data": {
      "application/vnd.jupyter.widget-view+json": {
       "model_id": "d27ee8402d2f4be091776a6d082a7d19",
       "version_major": 2,
       "version_minor": 0
      },
      "text/plain": [
       "%20%20For_MUUPA1242J.txt:   0%|          | 0.00/448 [00:00<?, ?B/s]"
      ]
     },
     "metadata": {},
     "output_type": "display_data"
    },
    {
     "data": {
      "application/vnd.jupyter.widget-view+json": {
       "model_id": "49f3e4ec8c4947408ece6bec38a0cb0e",
       "version_major": 2,
       "version_minor": 0
      },
      "text/plain": [
       "%20%20For_MDMHRJN3FU.txt:   0%|          | 0.00/300 [00:00<?, ?B/s]"
      ]
     },
     "metadata": {},
     "output_type": "display_data"
    },
    {
     "data": {
      "application/vnd.jupyter.widget-view+json": {
       "model_id": "ccec6016370340c0b139560e43bb4b72",
       "version_major": 2,
       "version_minor": 0
      },
      "text/plain": [
       "%20%20For_N1SFTYLWUM.txt:   0%|          | 0.00/594 [00:00<?, ?B/s]"
      ]
     },
     "metadata": {},
     "output_type": "display_data"
    },
    {
     "data": {
      "application/vnd.jupyter.widget-view+json": {
       "model_id": "603492aa0c96418c86ab435e9f9f215d",
       "version_major": 2,
       "version_minor": 0
      },
      "text/plain": [
       "%20%20For_MEUB5WZP6T.txt:   0%|          | 0.00/1.09k [00:00<?, ?B/s]"
      ]
     },
     "metadata": {},
     "output_type": "display_data"
    },
    {
     "data": {
      "application/vnd.jupyter.widget-view+json": {
       "model_id": "2c629818ee3a46d991c3f8c1c832490d",
       "version_major": 2,
       "version_minor": 0
      },
      "text/plain": [
       "%20%20For_NC8BONNQIE.txt:   0%|          | 0.00/552 [00:00<?, ?B/s]"
      ]
     },
     "metadata": {},
     "output_type": "display_data"
    },
    {
     "data": {
      "application/vnd.jupyter.widget-view+json": {
       "model_id": "cd60c23a83fe4921b23a3a86a0757e7f",
       "version_major": 2,
       "version_minor": 0
      },
      "text/plain": [
       "%20%20For_NEBWHTIG3S.txt:   0%|          | 0.00/464 [00:00<?, ?B/s]"
      ]
     },
     "metadata": {},
     "output_type": "display_data"
    },
    {
     "data": {
      "application/vnd.jupyter.widget-view+json": {
       "model_id": "67092db68b5b4452ab0c09d20f811212",
       "version_major": 2,
       "version_minor": 0
      },
      "text/plain": [
       "%20%20For_P7BJJ9VVUK.txt:   0%|          | 0.00/1.40k [00:00<?, ?B/s]"
      ]
     },
     "metadata": {},
     "output_type": "display_data"
    },
    {
     "data": {
      "application/vnd.jupyter.widget-view+json": {
       "model_id": "e6226edfad6a44b38e0e7b4da3e3d360",
       "version_major": 2,
       "version_minor": 0
      },
      "text/plain": [
       "%20%20For_PCEQ56QZLT.txt:   0%|          | 0.00/704 [00:00<?, ?B/s]"
      ]
     },
     "metadata": {},
     "output_type": "display_data"
    },
    {
     "data": {
      "application/vnd.jupyter.widget-view+json": {
       "model_id": "047edf7f77864461acf050150f620c1e",
       "version_major": 2,
       "version_minor": 0
      },
      "text/plain": [
       "%20%20For_QD1PLNIIF5.txt:   0%|          | 0.00/764 [00:00<?, ?B/s]"
      ]
     },
     "metadata": {},
     "output_type": "display_data"
    },
    {
     "data": {
      "application/vnd.jupyter.widget-view+json": {
       "model_id": "bb9ffdbc5c0e410eaffe2ae074f104a7",
       "version_major": 2,
       "version_minor": 0
      },
      "text/plain": [
       "%20%20For_S71VXHTVFZ.txt:   0%|          | 0.00/648 [00:00<?, ?B/s]"
      ]
     },
     "metadata": {},
     "output_type": "display_data"
    },
    {
     "data": {
      "application/vnd.jupyter.widget-view+json": {
       "model_id": "2ff907283fa749ff90e5d8c0ce74f210",
       "version_major": 2,
       "version_minor": 0
      },
      "text/plain": [
       "%20%20For_SENSM9ZPOW.txt:   0%|          | 0.00/588 [00:00<?, ?B/s]"
      ]
     },
     "metadata": {},
     "output_type": "display_data"
    },
    {
     "data": {
      "application/vnd.jupyter.widget-view+json": {
       "model_id": "b3b6098964154c57a2f3357a2451160d",
       "version_major": 2,
       "version_minor": 0
      },
      "text/plain": [
       "%20%20For_SDP7UDUXTR.txt:   0%|          | 0.00/274 [00:00<?, ?B/s]"
      ]
     },
     "metadata": {},
     "output_type": "display_data"
    },
    {
     "data": {
      "application/vnd.jupyter.widget-view+json": {
       "model_id": "f164b1f39951449989131a9fba7074c6",
       "version_major": 2,
       "version_minor": 0
      },
      "text/plain": [
       "%20%20For_QJO58XX2UH.txt:   0%|          | 0.00/852 [00:00<?, ?B/s]"
      ]
     },
     "metadata": {},
     "output_type": "display_data"
    },
    {
     "data": {
      "application/vnd.jupyter.widget-view+json": {
       "model_id": "a3e413fe4e204bafac686fa4a0f84f5f",
       "version_major": 2,
       "version_minor": 0
      },
      "text/plain": [
       "%20%20For_SQVDPYR5P5.txt:   0%|          | 0.00/236 [00:00<?, ?B/s]"
      ]
     },
     "metadata": {},
     "output_type": "display_data"
    },
    {
     "data": {
      "application/vnd.jupyter.widget-view+json": {
       "model_id": "595055db6ad1485398f860eda872578e",
       "version_major": 2,
       "version_minor": 0
      },
      "text/plain": [
       "%20%20For_T19DTBGEIR.txt:   0%|          | 0.00/1.46k [00:00<?, ?B/s]"
      ]
     },
     "metadata": {},
     "output_type": "display_data"
    },
    {
     "data": {
      "application/vnd.jupyter.widget-view+json": {
       "model_id": "9f993c5b7a254a62bab5e80cb756ddc0",
       "version_major": 2,
       "version_minor": 0
      },
      "text/plain": [
       "%20%20For_S9I9PTE1VX.txt:   0%|          | 0.00/633 [00:00<?, ?B/s]"
      ]
     },
     "metadata": {},
     "output_type": "display_data"
    },
    {
     "data": {
      "application/vnd.jupyter.widget-view+json": {
       "model_id": "eef8cb831bfd4616a47db6b9131afaac",
       "version_major": 2,
       "version_minor": 0
      },
      "text/plain": [
       "%20%20For_PE0V3WVJ8B.txt:   0%|          | 0.00/621 [00:00<?, ?B/s]"
      ]
     },
     "metadata": {},
     "output_type": "display_data"
    },
    {
     "data": {
      "application/vnd.jupyter.widget-view+json": {
       "model_id": "abc462481c114f598af99090c658a56e",
       "version_major": 2,
       "version_minor": 0
      },
      "text/plain": [
       "%20%20For_T8VC0C4I0G.txt:   0%|          | 0.00/786 [00:00<?, ?B/s]"
      ]
     },
     "metadata": {},
     "output_type": "display_data"
    },
    {
     "data": {
      "application/vnd.jupyter.widget-view+json": {
       "model_id": "c77b93d2492d4851a81beddeb39a01cc",
       "version_major": 2,
       "version_minor": 0
      },
      "text/plain": [
       "%20%20For_W3ROBU6441.txt:   0%|          | 0.00/1.02k [00:00<?, ?B/s]"
      ]
     },
     "metadata": {},
     "output_type": "display_data"
    },
    {
     "data": {
      "application/vnd.jupyter.widget-view+json": {
       "model_id": "2d5fe7a7e7334d938a352a5b162c7373",
       "version_major": 2,
       "version_minor": 0
      },
      "text/plain": [
       "%20%20For_S78PUHWZFF.txt:   0%|          | 0.00/1.22k [00:00<?, ?B/s]"
      ]
     },
     "metadata": {},
     "output_type": "display_data"
    },
    {
     "data": {
      "application/vnd.jupyter.widget-view+json": {
       "model_id": "335519faaf1c4e898cd9e6e007006e40",
       "version_major": 2,
       "version_minor": 0
      },
      "text/plain": [
       "%20%20For_X4PGXIUXSO.txt:   0%|          | 0.00/506 [00:00<?, ?B/s]"
      ]
     },
     "metadata": {},
     "output_type": "display_data"
    },
    {
     "data": {
      "application/vnd.jupyter.widget-view+json": {
       "model_id": "9f4845e1888e4c6c9bdb82bfa21fe8a8",
       "version_major": 2,
       "version_minor": 0
      },
      "text/plain": [
       "%20%20For_X6MM6LW8UG.txt:   0%|          | 0.00/305 [00:00<?, ?B/s]"
      ]
     },
     "metadata": {},
     "output_type": "display_data"
    },
    {
     "data": {
      "application/vnd.jupyter.widget-view+json": {
       "model_id": "f8d91a2af05447cf9486a0b9052020a2",
       "version_major": 2,
       "version_minor": 0
      },
      "text/plain": [
       "%20%20For_XWKTTTBSG9.txt:   0%|          | 0.00/715 [00:00<?, ?B/s]"
      ]
     },
     "metadata": {},
     "output_type": "display_data"
    },
    {
     "data": {
      "application/vnd.jupyter.widget-view+json": {
       "model_id": "4a5cf32583314b3faa509e9c744efa8c",
       "version_major": 2,
       "version_minor": 0
      },
      "text/plain": [
       "%20%20For_Z5R4QTUWKC.txt:   0%|          | 0.00/509 [00:00<?, ?B/s]"
      ]
     },
     "metadata": {},
     "output_type": "display_data"
    },
    {
     "data": {
      "application/vnd.jupyter.widget-view+json": {
       "model_id": "347c35293d5146cb89f2bd5977413385",
       "version_major": 2,
       "version_minor": 0
      },
      "text/plain": [
       "%20%20For_X1740QOA9G.txt:   0%|          | 0.00/396 [00:00<?, ?B/s]"
      ]
     },
     "metadata": {},
     "output_type": "display_data"
    },
    {
     "data": {
      "application/vnd.jupyter.widget-view+json": {
       "model_id": "a8123fa9ada1469982477463780d552e",
       "version_major": 2,
       "version_minor": 0
      },
      "text/plain": [
       "%20%20For_ZTQGPQRVTE.txt:   0%|          | 0.00/241 [00:00<?, ?B/s]"
      ]
     },
     "metadata": {},
     "output_type": "display_data"
    },
    {
     "data": {
      "application/vnd.jupyter.widget-view+json": {
       "model_id": "95e3461b9963434fb532903bba061bdf",
       "version_major": 2,
       "version_minor": 0
      },
      "text/plain": [
       "%20%20Fou_5AVONL82XD.txt:   0%|          | 0.00/233 [00:00<?, ?B/s]"
      ]
     },
     "metadata": {},
     "output_type": "display_data"
    },
    {
     "data": {
      "application/vnd.jupyter.widget-view+json": {
       "model_id": "b07a18e770d94f5393f48a0439edafbc",
       "version_major": 2,
       "version_minor": 0
      },
      "text/plain": [
       "%20%20Fou_73XBQ4NKWJ.txt:   0%|          | 0.00/445 [00:00<?, ?B/s]"
      ]
     },
     "metadata": {},
     "output_type": "display_data"
    },
    {
     "data": {
      "application/vnd.jupyter.widget-view+json": {
       "model_id": "b37bad15677d48d4bcefb7caafb5377f",
       "version_major": 2,
       "version_minor": 0
      },
      "text/plain": [
       "%20%20Fra_3EILQFU6MA.txt:   0%|          | 0.00/873 [00:00<?, ?B/s]"
      ]
     },
     "metadata": {},
     "output_type": "display_data"
    },
    {
     "data": {
      "application/vnd.jupyter.widget-view+json": {
       "model_id": "5be1b6bab213449d84df845796424f00",
       "version_major": 2,
       "version_minor": 0
      },
      "text/plain": [
       "%20%20Fou_RGDG90K0VG.txt:   0%|          | 0.00/702 [00:00<?, ?B/s]"
      ]
     },
     "metadata": {},
     "output_type": "display_data"
    },
    {
     "data": {
      "application/vnd.jupyter.widget-view+json": {
       "model_id": "2a8b96cd28c746d3a5f65ff3b3ae03a9",
       "version_major": 2,
       "version_minor": 0
      },
      "text/plain": [
       "%20%20For_YS937YAXD0.txt:   0%|          | 0.00/894 [00:00<?, ?B/s]"
      ]
     },
     "metadata": {},
     "output_type": "display_data"
    },
    {
     "data": {
      "application/vnd.jupyter.widget-view+json": {
       "model_id": "9069e7fcfe0f46038392f4d2ef5991fb",
       "version_major": 2,
       "version_minor": 0
      },
      "text/plain": [
       "%20%20Fou_JS0OF476R3.txt:   0%|          | 0.00/542 [00:00<?, ?B/s]"
      ]
     },
     "metadata": {},
     "output_type": "display_data"
    },
    {
     "data": {
      "application/vnd.jupyter.widget-view+json": {
       "model_id": "2c73b1fe496b46d38ba950d55f71660f",
       "version_major": 2,
       "version_minor": 0
      },
      "text/plain": [
       "%20%20Fra_DB00ZY7WOZ.txt:   0%|          | 0.00/611 [00:00<?, ?B/s]"
      ]
     },
     "metadata": {},
     "output_type": "display_data"
    },
    {
     "data": {
      "application/vnd.jupyter.widget-view+json": {
       "model_id": "40ff0068bf9849f584a72ddf86e5d855",
       "version_major": 2,
       "version_minor": 0
      },
      "text/plain": [
       "%20%20Fro_GRPVO7UQJQ.txt:   0%|          | 0.00/839 [00:00<?, ?B/s]"
      ]
     },
     "metadata": {},
     "output_type": "display_data"
    },
    {
     "data": {
      "application/vnd.jupyter.widget-view+json": {
       "model_id": "b36e5811c96f4e83a10ff549b8cf657b",
       "version_major": 2,
       "version_minor": 0
      },
      "text/plain": [
       "%20%20Fro_7UGUMVJWKA.txt:   0%|          | 0.00/1.05k [00:00<?, ?B/s]"
      ]
     },
     "metadata": {},
     "output_type": "display_data"
    },
    {
     "data": {
      "application/vnd.jupyter.widget-view+json": {
       "model_id": "465e860baa40465cba3704baaacea11a",
       "version_major": 2,
       "version_minor": 0
      },
      "text/plain": [
       "%20%20Fro_NPOHTRDDL6.txt:   0%|          | 0.00/599 [00:00<?, ?B/s]"
      ]
     },
     "metadata": {},
     "output_type": "display_data"
    },
    {
     "data": {
      "application/vnd.jupyter.widget-view+json": {
       "model_id": "b465723916194d7195a95596da3f9e77",
       "version_major": 2,
       "version_minor": 0
      },
      "text/plain": [
       "%20%20Fro_X9RX9Z6ETT.txt:   0%|          | 0.00/721 [00:00<?, ?B/s]"
      ]
     },
     "metadata": {},
     "output_type": "display_data"
    },
    {
     "data": {
      "application/vnd.jupyter.widget-view+json": {
       "model_id": "cd93e10975834d9799d409f646670994",
       "version_major": 2,
       "version_minor": 0
      },
      "text/plain": [
       "%20%20Fro_Z7BSJ1LGK6.txt:   0%|          | 0.00/716 [00:00<?, ?B/s]"
      ]
     },
     "metadata": {},
     "output_type": "display_data"
    },
    {
     "data": {
      "application/vnd.jupyter.widget-view+json": {
       "model_id": "f458602d39e546a6bb02bcfa1c0622cf",
       "version_major": 2,
       "version_minor": 0
      },
      "text/plain": [
       "%20%20Fun_0BPADCF02Z.txt:   0%|          | 0.00/571 [00:00<?, ?B/s]"
      ]
     },
     "metadata": {},
     "output_type": "display_data"
    },
    {
     "data": {
      "application/vnd.jupyter.widget-view+json": {
       "model_id": "85b56b8570b04992aba65c0f35f3d37e",
       "version_major": 2,
       "version_minor": 0
      },
      "text/plain": [
       "%20%20Fun_A556H9X8RG.txt:   0%|          | 0.00/1.03k [00:00<?, ?B/s]"
      ]
     },
     "metadata": {},
     "output_type": "display_data"
    },
    {
     "data": {
      "application/vnd.jupyter.widget-view+json": {
       "model_id": "126148c9bf8f44b2a3d187161c321f07",
       "version_major": 2,
       "version_minor": 0
      },
      "text/plain": [
       "%20%20Fro_W6S7ZPF4D5.txt:   0%|          | 0.00/259 [00:00<?, ?B/s]"
      ]
     },
     "metadata": {},
     "output_type": "display_data"
    },
    {
     "data": {
      "application/vnd.jupyter.widget-view+json": {
       "model_id": "cd90c49aef23402f80de6c1c46dbc9ea",
       "version_major": 2,
       "version_minor": 0
      },
      "text/plain": [
       "%20%20G15_PIGPHE12E4.txt:   0%|          | 0.00/1.43k [00:00<?, ?B/s]"
      ]
     },
     "metadata": {},
     "output_type": "display_data"
    },
    {
     "data": {
      "application/vnd.jupyter.widget-view+json": {
       "model_id": "c4fdfb93c50643689666813192262060",
       "version_major": 2,
       "version_minor": 0
      },
      "text/plain": [
       "%20%20GRB_XUT00J7VY2.txt:   0%|          | 0.00/297 [00:00<?, ?B/s]"
      ]
     },
     "metadata": {},
     "output_type": "display_data"
    },
    {
     "data": {
      "application/vnd.jupyter.widget-view+json": {
       "model_id": "7e94b9eed7c846f4ad0f977f31e25514",
       "version_major": 2,
       "version_minor": 0
      },
      "text/plain": [
       "%20%20GD%20_T38DSUCJUX.txt:   0%|          | 0.00/829 [00:00<?, ?B/s]"
      ]
     },
     "metadata": {},
     "output_type": "display_data"
    },
    {
     "data": {
      "application/vnd.jupyter.widget-view+json": {
       "model_id": "216ebd86b7364756bb072d7868ee661e",
       "version_major": 2,
       "version_minor": 0
      },
      "text/plain": [
       "%20%20Fur_6HFD0UYCKZ.txt:   0%|          | 0.00/600 [00:00<?, ?B/s]"
      ]
     },
     "metadata": {},
     "output_type": "display_data"
    },
    {
     "data": {
      "application/vnd.jupyter.widget-view+json": {
       "model_id": "6f40509cfa0a4768a18815f86fc01583",
       "version_major": 2,
       "version_minor": 0
      },
      "text/plain": [
       "%20%20Fut_YRTC9LWUUW.txt:   0%|          | 0.00/1.57k [00:00<?, ?B/s]"
      ]
     },
     "metadata": {},
     "output_type": "display_data"
    },
    {
     "data": {
      "application/vnd.jupyter.widget-view+json": {
       "model_id": "694578f0adf04198b92e5122dcd48d53",
       "version_major": 2,
       "version_minor": 0
      },
      "text/plain": [
       "%20%20GEM_5QS71TVUEU.txt:   0%|          | 0.00/1.59k [00:00<?, ?B/s]"
      ]
     },
     "metadata": {},
     "output_type": "display_data"
    },
    {
     "data": {
      "application/vnd.jupyter.widget-view+json": {
       "model_id": "4dc9a12bf91a4f56b5252cfbc38b8736",
       "version_major": 2,
       "version_minor": 0
      },
      "text/plain": [
       "%20%20GRB_UPRF8PMY8T.txt:   0%|          | 0.00/307 [00:00<?, ?B/s]"
      ]
     },
     "metadata": {},
     "output_type": "display_data"
    },
    {
     "name": "stderr",
     "output_type": "stream",
     "text": [
      "HTTP Error 429 thrown while requesting GET https://huggingface.co/datasets/mwitiderrick/arXiv/resolve/f61ed293f976a0b025b4004c06d41b12ecfd799c/%20%20GZK_0YPZO2JIBT.txt\n"
     ]
    },
    {
     "data": {
      "application/vnd.jupyter.widget-view+json": {
       "model_id": "ae7f355a78f743da9534cce62be51061",
       "version_major": 2,
       "version_minor": 0
      },
      "text/plain": [
       "%20%20Fut_3QR10ZKZME.txt:   0%|          | 0.00/1.08k [00:00<?, ?B/s]"
      ]
     },
     "metadata": {},
     "output_type": "display_data"
    },
    {
     "name": "stderr",
     "output_type": "stream",
     "text": [
      "HTTP Error 429 thrown while requesting GET https://huggingface.co/datasets/mwitiderrick/arXiv/resolve/f61ed293f976a0b025b4004c06d41b12ecfd799c/%20%20GRB_XV5MKQXK62.txt\n",
      "HTTP Error 429 thrown while requesting GET https://huggingface.co/datasets/mwitiderrick/arXiv/resolve/f61ed293f976a0b025b4004c06d41b12ecfd799c/%20%20Gal_O03U12890Q.txt\n",
      "HTTP Error 429 thrown while requesting HEAD https://huggingface.co/datasets/mwitiderrick/arXiv/resolve/f61ed293f976a0b025b4004c06d41b12ecfd799c/%20%20Gau_R4QJUUMIML.txt\n",
      "HTTP Error 429 thrown while requesting HEAD https://huggingface.co/datasets/mwitiderrick/arXiv/resolve/f61ed293f976a0b025b4004c06d41b12ecfd799c/%20%20Gen_I1H988EGD8.txt\n",
      "Retrying in 1s [Retry 1/5].\n",
      "HTTP Error 429 thrown while requesting HEAD https://huggingface.co/datasets/mwitiderrick/arXiv/resolve/f61ed293f976a0b025b4004c06d41b12ecfd799c/%20%20Gen_IO5PHJ5LG2.txt\n",
      "Retrying in 1s [Retry 1/5].\n",
      "Retrying in 1s [Retry 1/5].\n",
      "Retrying in 1s [Retry 1/5].\n",
      "Retrying in 1s [Retry 1/5].\n",
      "Retrying in 1s [Retry 1/5].\n",
      "HTTP Error 429 thrown while requesting GET https://huggingface.co/datasets/mwitiderrick/arXiv/resolve/f61ed293f976a0b025b4004c06d41b12ecfd799c/%20%20Gas_QUC3WHC756.txt\n",
      "Retrying in 1s [Retry 1/5].\n",
      "HTTP Error 429 thrown while requesting GET https://huggingface.co/datasets/mwitiderrick/arXiv/resolve/f61ed293f976a0b025b4004c06d41b12ecfd799c/%20%20Gau_49VZ4DTYGS.txt\n",
      "Retrying in 1s [Retry 1/5].\n"
     ]
    },
    {
     "data": {
      "application/vnd.jupyter.widget-view+json": {
       "model_id": "8f82c23a48ca480597b1b05844b3546d",
       "version_major": 2,
       "version_minor": 0
      },
      "text/plain": [
       "%20%20Gam_LR8JLQ9WPD.txt:   0%|          | 0.00/984 [00:00<?, ?B/s]"
      ]
     },
     "metadata": {},
     "output_type": "display_data"
    },
    {
     "name": "stderr",
     "output_type": "stream",
     "text": [
      "HTTP Error 429 thrown while requesting GET https://huggingface.co/datasets/mwitiderrick/arXiv/resolve/f61ed293f976a0b025b4004c06d41b12ecfd799c/%20%20Gau_BXNNGPQFKO.txt\n",
      "Retrying in 1s [Retry 1/5].\n",
      "HTTP Error 429 thrown while requesting GET https://huggingface.co/datasets/mwitiderrick/arXiv/resolve/f61ed293f976a0b025b4004c06d41b12ecfd799c/%20%20Gen_3UFV5Y7Z59.txt\n",
      "Retrying in 1s [Retry 1/5].\n",
      "HTTP Error 429 thrown while requesting HEAD https://huggingface.co/datasets/mwitiderrick/arXiv/resolve/f61ed293f976a0b025b4004c06d41b12ecfd799c/%20%20Geo_R048XQOCPM.txt\n",
      "Retrying in 1s [Retry 1/5].\n",
      "HTTP Error 429 thrown while requesting GET https://huggingface.co/datasets/mwitiderrick/arXiv/resolve/f61ed293f976a0b025b4004c06d41b12ecfd799c/%20%20Gen_FFKVXJ9VOS.txt\n",
      "Retrying in 1s [Retry 1/5].\n",
      "HTTP Error 429 thrown while requesting GET https://huggingface.co/datasets/mwitiderrick/arXiv/resolve/f61ed293f976a0b025b4004c06d41b12ecfd799c/%20%20Gen_QGHJL8IWK9.txt\n",
      "Retrying in 1s [Retry 1/5].\n"
     ]
    },
    {
     "data": {
      "application/vnd.jupyter.widget-view+json": {
       "model_id": "46d1360c5cc146bcb54ff9dbd49839f1",
       "version_major": 2,
       "version_minor": 0
      },
      "text/plain": [
       "%20%20GRE_Y9BSTE79H7.txt:   0%|          | 0.00/706 [00:00<?, ?B/s]"
      ]
     },
     "metadata": {},
     "output_type": "display_data"
    },
    {
     "name": "stderr",
     "output_type": "stream",
     "text": [
      "HTTP Error 429 thrown while requesting GET https://huggingface.co/datasets/mwitiderrick/arXiv/resolve/f61ed293f976a0b025b4004c06d41b12ecfd799c/%20%20Gen_R92REAKF94.txt\n",
      "Retrying in 1s [Retry 1/5].\n",
      "HTTP Error 429 thrown while requesting HEAD https://huggingface.co/datasets/mwitiderrick/arXiv/resolve/f61ed293f976a0b025b4004c06d41b12ecfd799c/%20%20Giv_034MICCP67.txt\n",
      "Retrying in 1s [Retry 1/5].\n",
      "HTTP Error 429 thrown while requesting GET https://huggingface.co/datasets/mwitiderrick/arXiv/resolve/f61ed293f976a0b025b4004c06d41b12ecfd799c/%20%20Gam_08SBPS8X5S.txt\n",
      "Retrying in 1s [Retry 1/5].\n",
      "HTTP Error 429 thrown while requesting HEAD https://huggingface.co/datasets/mwitiderrick/arXiv/resolve/f61ed293f976a0b025b4004c06d41b12ecfd799c/%20%20Gau_R4QJUUMIML.txt\n",
      "HTTP Error 429 thrown while requesting HEAD https://huggingface.co/datasets/mwitiderrick/arXiv/resolve/f61ed293f976a0b025b4004c06d41b12ecfd799c/%20%20Gen_IO5PHJ5LG2.txt\n",
      "Retrying in 2s [Retry 2/5].\n",
      "HTTP Error 429 thrown while requesting HEAD https://huggingface.co/datasets/mwitiderrick/arXiv/resolve/f61ed293f976a0b025b4004c06d41b12ecfd799c/%20%20Gen_I1H988EGD8.txt\n",
      "Retrying in 2s [Retry 2/5].\n",
      "Retrying in 2s [Retry 2/5].\n",
      "HTTP Error 429 thrown while requesting GET https://huggingface.co/datasets/mwitiderrick/arXiv/resolve/f61ed293f976a0b025b4004c06d41b12ecfd799c/%20%20GZK_0YPZO2JIBT.txt\n",
      "HTTP Error 429 thrown while requesting GET https://huggingface.co/datasets/mwitiderrick/arXiv/resolve/f61ed293f976a0b025b4004c06d41b12ecfd799c/%20%20GRB_XV5MKQXK62.txt\n",
      "Retrying in 2s [Retry 2/5].\n",
      "Retrying in 2s [Retry 2/5].\n",
      "HTTP Error 429 thrown while requesting GET https://huggingface.co/datasets/mwitiderrick/arXiv/resolve/f61ed293f976a0b025b4004c06d41b12ecfd799c/%20%20Gal_O03U12890Q.txt\n",
      "Retrying in 2s [Retry 2/5].\n",
      "HTTP Error 429 thrown while requesting GET https://huggingface.co/datasets/mwitiderrick/arXiv/resolve/f61ed293f976a0b025b4004c06d41b12ecfd799c/%20%20Gas_QUC3WHC756.txt\n",
      "Retrying in 2s [Retry 2/5].\n",
      "HTTP Error 429 thrown while requesting GET https://huggingface.co/datasets/mwitiderrick/arXiv/resolve/f61ed293f976a0b025b4004c06d41b12ecfd799c/%20%20Gau_49VZ4DTYGS.txt\n",
      "Retrying in 2s [Retry 2/5].\n",
      "HTTP Error 429 thrown while requesting HEAD https://huggingface.co/datasets/mwitiderrick/arXiv/resolve/f61ed293f976a0b025b4004c06d41b12ecfd799c/%20%20Geo_R048XQOCPM.txt\n",
      "Retrying in 2s [Retry 2/5].\n",
      "HTTP Error 429 thrown while requesting GET https://huggingface.co/datasets/mwitiderrick/arXiv/resolve/f61ed293f976a0b025b4004c06d41b12ecfd799c/%20%20Gau_BXNNGPQFKO.txt\n",
      "Retrying in 2s [Retry 2/5].\n",
      "HTTP Error 429 thrown while requesting GET https://huggingface.co/datasets/mwitiderrick/arXiv/resolve/f61ed293f976a0b025b4004c06d41b12ecfd799c/%20%20Gen_3UFV5Y7Z59.txt\n",
      "Retrying in 2s [Retry 2/5].\n",
      "HTTP Error 429 thrown while requesting GET https://huggingface.co/datasets/mwitiderrick/arXiv/resolve/f61ed293f976a0b025b4004c06d41b12ecfd799c/%20%20Gen_FFKVXJ9VOS.txt\n",
      "Retrying in 2s [Retry 2/5].\n",
      "HTTP Error 429 thrown while requesting GET https://huggingface.co/datasets/mwitiderrick/arXiv/resolve/f61ed293f976a0b025b4004c06d41b12ecfd799c/%20%20Gen_QGHJL8IWK9.txt\n",
      "Retrying in 2s [Retry 2/5].\n",
      "HTTP Error 429 thrown while requesting HEAD https://huggingface.co/datasets/mwitiderrick/arXiv/resolve/f61ed293f976a0b025b4004c06d41b12ecfd799c/%20%20Giv_034MICCP67.txt\n",
      "Retrying in 2s [Retry 2/5].\n",
      "HTTP Error 429 thrown while requesting GET https://huggingface.co/datasets/mwitiderrick/arXiv/resolve/f61ed293f976a0b025b4004c06d41b12ecfd799c/%20%20Gen_R92REAKF94.txt\n",
      "Retrying in 2s [Retry 2/5].\n",
      "HTTP Error 429 thrown while requesting GET https://huggingface.co/datasets/mwitiderrick/arXiv/resolve/f61ed293f976a0b025b4004c06d41b12ecfd799c/%20%20Gam_08SBPS8X5S.txt\n",
      "Retrying in 2s [Retry 2/5].\n",
      "HTTP Error 429 thrown while requesting HEAD https://huggingface.co/datasets/mwitiderrick/arXiv/resolve/f61ed293f976a0b025b4004c06d41b12ecfd799c/%20%20Gau_R4QJUUMIML.txt\n",
      "Retrying in 4s [Retry 3/5].\n",
      "HTTP Error 429 thrown while requesting HEAD https://huggingface.co/datasets/mwitiderrick/arXiv/resolve/f61ed293f976a0b025b4004c06d41b12ecfd799c/%20%20Gen_I1H988EGD8.txt\n",
      "HTTP Error 429 thrown while requesting HEAD https://huggingface.co/datasets/mwitiderrick/arXiv/resolve/f61ed293f976a0b025b4004c06d41b12ecfd799c/%20%20Gen_IO5PHJ5LG2.txt\n",
      "Retrying in 4s [Retry 3/5].\n",
      "Retrying in 4s [Retry 3/5].\n",
      "HTTP Error 429 thrown while requesting GET https://huggingface.co/datasets/mwitiderrick/arXiv/resolve/f61ed293f976a0b025b4004c06d41b12ecfd799c/%20%20GZK_0YPZO2JIBT.txt\n",
      "Retrying in 4s [Retry 3/5].\n",
      "HTTP Error 429 thrown while requesting GET https://huggingface.co/datasets/mwitiderrick/arXiv/resolve/f61ed293f976a0b025b4004c06d41b12ecfd799c/%20%20GRB_XV5MKQXK62.txt\n",
      "HTTP Error 429 thrown while requesting GET https://huggingface.co/datasets/mwitiderrick/arXiv/resolve/f61ed293f976a0b025b4004c06d41b12ecfd799c/%20%20Gal_O03U12890Q.txt\n",
      "Retrying in 4s [Retry 3/5].\n",
      "Retrying in 4s [Retry 3/5].\n",
      "HTTP Error 429 thrown while requesting GET https://huggingface.co/datasets/mwitiderrick/arXiv/resolve/f61ed293f976a0b025b4004c06d41b12ecfd799c/%20%20Gas_QUC3WHC756.txt\n",
      "Retrying in 4s [Retry 3/5].\n",
      "HTTP Error 429 thrown while requesting GET https://huggingface.co/datasets/mwitiderrick/arXiv/resolve/f61ed293f976a0b025b4004c06d41b12ecfd799c/%20%20Gau_49VZ4DTYGS.txt\n",
      "Retrying in 4s [Retry 3/5].\n",
      "HTTP Error 429 thrown while requesting HEAD https://huggingface.co/datasets/mwitiderrick/arXiv/resolve/f61ed293f976a0b025b4004c06d41b12ecfd799c/%20%20Geo_R048XQOCPM.txt\n",
      "Retrying in 4s [Retry 3/5].\n",
      "HTTP Error 429 thrown while requesting GET https://huggingface.co/datasets/mwitiderrick/arXiv/resolve/f61ed293f976a0b025b4004c06d41b12ecfd799c/%20%20Gen_3UFV5Y7Z59.txt\n",
      "HTTP Error 429 thrown while requesting GET https://huggingface.co/datasets/mwitiderrick/arXiv/resolve/f61ed293f976a0b025b4004c06d41b12ecfd799c/%20%20Gau_BXNNGPQFKO.txt\n",
      "Retrying in 4s [Retry 3/5].\n",
      "Retrying in 4s [Retry 3/5].\n",
      "HTTP Error 429 thrown while requesting GET https://huggingface.co/datasets/mwitiderrick/arXiv/resolve/f61ed293f976a0b025b4004c06d41b12ecfd799c/%20%20Gen_FFKVXJ9VOS.txt\n",
      "Retrying in 4s [Retry 3/5].\n",
      "HTTP Error 429 thrown while requesting HEAD https://huggingface.co/datasets/mwitiderrick/arXiv/resolve/f61ed293f976a0b025b4004c06d41b12ecfd799c/%20%20Giv_034MICCP67.txt\n",
      "Retrying in 4s [Retry 3/5].\n",
      "HTTP Error 429 thrown while requesting GET https://huggingface.co/datasets/mwitiderrick/arXiv/resolve/f61ed293f976a0b025b4004c06d41b12ecfd799c/%20%20Gen_QGHJL8IWK9.txt\n",
      "Retrying in 4s [Retry 3/5].\n",
      "HTTP Error 429 thrown while requesting GET https://huggingface.co/datasets/mwitiderrick/arXiv/resolve/f61ed293f976a0b025b4004c06d41b12ecfd799c/%20%20Gen_R92REAKF94.txt\n",
      "Retrying in 4s [Retry 3/5].\n",
      "HTTP Error 429 thrown while requesting GET https://huggingface.co/datasets/mwitiderrick/arXiv/resolve/f61ed293f976a0b025b4004c06d41b12ecfd799c/%20%20Gam_08SBPS8X5S.txt\n",
      "Retrying in 4s [Retry 3/5].\n",
      "HTTP Error 429 thrown while requesting HEAD https://huggingface.co/datasets/mwitiderrick/arXiv/resolve/f61ed293f976a0b025b4004c06d41b12ecfd799c/%20%20Gau_R4QJUUMIML.txt\n",
      "Retrying in 8s [Retry 4/5].\n",
      "HTTP Error 429 thrown while requesting HEAD https://huggingface.co/datasets/mwitiderrick/arXiv/resolve/f61ed293f976a0b025b4004c06d41b12ecfd799c/%20%20Gen_I1H988EGD8.txt\n",
      "Retrying in 8s [Retry 4/5].\n",
      "HTTP Error 429 thrown while requesting HEAD https://huggingface.co/datasets/mwitiderrick/arXiv/resolve/f61ed293f976a0b025b4004c06d41b12ecfd799c/%20%20Gen_IO5PHJ5LG2.txt\n",
      "Retrying in 8s [Retry 4/5].\n",
      "HTTP Error 429 thrown while requesting GET https://huggingface.co/datasets/mwitiderrick/arXiv/resolve/f61ed293f976a0b025b4004c06d41b12ecfd799c/%20%20GRB_XV5MKQXK62.txt\n",
      "HTTP Error 429 thrown while requesting GET https://huggingface.co/datasets/mwitiderrick/arXiv/resolve/f61ed293f976a0b025b4004c06d41b12ecfd799c/%20%20Gas_QUC3WHC756.txt\n",
      "HTTP Error 429 thrown while requesting GET https://huggingface.co/datasets/mwitiderrick/arXiv/resolve/f61ed293f976a0b025b4004c06d41b12ecfd799c/%20%20GZK_0YPZO2JIBT.txt\n",
      "Retrying in 8s [Retry 4/5].\n",
      "HTTP Error 429 thrown while requesting GET https://huggingface.co/datasets/mwitiderrick/arXiv/resolve/f61ed293f976a0b025b4004c06d41b12ecfd799c/%20%20Gal_O03U12890Q.txt\n",
      "Retrying in 8s [Retry 4/5].\n",
      "Retrying in 8s [Retry 4/5].\n",
      "Retrying in 8s [Retry 4/5].\n",
      "HTTP Error 429 thrown while requesting GET https://huggingface.co/datasets/mwitiderrick/arXiv/resolve/f61ed293f976a0b025b4004c06d41b12ecfd799c/%20%20Gau_49VZ4DTYGS.txt\n",
      "Retrying in 8s [Retry 4/5].\n",
      "HTTP Error 429 thrown while requesting HEAD https://huggingface.co/datasets/mwitiderrick/arXiv/resolve/f61ed293f976a0b025b4004c06d41b12ecfd799c/%20%20Geo_R048XQOCPM.txt\n",
      "Retrying in 8s [Retry 4/5].\n",
      "HTTP Error 429 thrown while requesting HEAD https://huggingface.co/datasets/mwitiderrick/arXiv/resolve/f61ed293f976a0b025b4004c06d41b12ecfd799c/%20%20Giv_034MICCP67.txt\n",
      "Retrying in 8s [Retry 4/5].\n",
      "HTTP Error 429 thrown while requesting GET https://huggingface.co/datasets/mwitiderrick/arXiv/resolve/f61ed293f976a0b025b4004c06d41b12ecfd799c/%20%20Gen_3UFV5Y7Z59.txt\n",
      "Retrying in 8s [Retry 4/5].\n",
      "HTTP Error 429 thrown while requesting GET https://huggingface.co/datasets/mwitiderrick/arXiv/resolve/f61ed293f976a0b025b4004c06d41b12ecfd799c/%20%20Gau_BXNNGPQFKO.txt\n",
      "HTTP Error 429 thrown while requesting GET https://huggingface.co/datasets/mwitiderrick/arXiv/resolve/f61ed293f976a0b025b4004c06d41b12ecfd799c/%20%20Gen_FFKVXJ9VOS.txt\n",
      "Retrying in 8s [Retry 4/5].\n",
      "Retrying in 8s [Retry 4/5].\n",
      "HTTP Error 429 thrown while requesting GET https://huggingface.co/datasets/mwitiderrick/arXiv/resolve/f61ed293f976a0b025b4004c06d41b12ecfd799c/%20%20Gen_QGHJL8IWK9.txt\n",
      "Retrying in 8s [Retry 4/5].\n",
      "HTTP Error 429 thrown while requesting GET https://huggingface.co/datasets/mwitiderrick/arXiv/resolve/f61ed293f976a0b025b4004c06d41b12ecfd799c/%20%20Gen_R92REAKF94.txt\n",
      "Retrying in 8s [Retry 4/5].\n",
      "HTTP Error 429 thrown while requesting GET https://huggingface.co/datasets/mwitiderrick/arXiv/resolve/f61ed293f976a0b025b4004c06d41b12ecfd799c/%20%20Gam_08SBPS8X5S.txt\n",
      "Retrying in 8s [Retry 4/5].\n",
      "HTTP Error 429 thrown while requesting HEAD https://huggingface.co/datasets/mwitiderrick/arXiv/resolve/f61ed293f976a0b025b4004c06d41b12ecfd799c/%20%20Gau_R4QJUUMIML.txt\n",
      "Retrying in 8s [Retry 5/5].\n",
      "HTTP Error 429 thrown while requesting HEAD https://huggingface.co/datasets/mwitiderrick/arXiv/resolve/f61ed293f976a0b025b4004c06d41b12ecfd799c/%20%20Gen_IO5PHJ5LG2.txt\n",
      "HTTP Error 429 thrown while requesting HEAD https://huggingface.co/datasets/mwitiderrick/arXiv/resolve/f61ed293f976a0b025b4004c06d41b12ecfd799c/%20%20Gen_I1H988EGD8.txt\n",
      "Retrying in 8s [Retry 5/5].\n",
      "Retrying in 8s [Retry 5/5].\n",
      "HTTP Error 429 thrown while requesting GET https://huggingface.co/datasets/mwitiderrick/arXiv/resolve/f61ed293f976a0b025b4004c06d41b12ecfd799c/%20%20Gas_QUC3WHC756.txt\n",
      "Retrying in 8s [Retry 5/5].\n",
      "HTTP Error 429 thrown while requesting GET https://huggingface.co/datasets/mwitiderrick/arXiv/resolve/f61ed293f976a0b025b4004c06d41b12ecfd799c/%20%20GRB_XV5MKQXK62.txt\n",
      "HTTP Error 429 thrown while requesting GET https://huggingface.co/datasets/mwitiderrick/arXiv/resolve/f61ed293f976a0b025b4004c06d41b12ecfd799c/%20%20GZK_0YPZO2JIBT.txt\n",
      "HTTP Error 429 thrown while requesting GET https://huggingface.co/datasets/mwitiderrick/arXiv/resolve/f61ed293f976a0b025b4004c06d41b12ecfd799c/%20%20Gal_O03U12890Q.txt\n",
      "Retrying in 8s [Retry 5/5].\n",
      "Retrying in 8s [Retry 5/5].\n",
      "Retrying in 8s [Retry 5/5].\n",
      "HTTP Error 429 thrown while requesting HEAD https://huggingface.co/datasets/mwitiderrick/arXiv/resolve/f61ed293f976a0b025b4004c06d41b12ecfd799c/%20%20Geo_R048XQOCPM.txt\n",
      "Retrying in 8s [Retry 5/5].\n",
      "HTTP Error 429 thrown while requesting GET https://huggingface.co/datasets/mwitiderrick/arXiv/resolve/f61ed293f976a0b025b4004c06d41b12ecfd799c/%20%20Gau_49VZ4DTYGS.txt\n",
      "Retrying in 8s [Retry 5/5].\n",
      "HTTP Error 429 thrown while requesting HEAD https://huggingface.co/datasets/mwitiderrick/arXiv/resolve/f61ed293f976a0b025b4004c06d41b12ecfd799c/%20%20Giv_034MICCP67.txt\n",
      "Retrying in 8s [Retry 5/5].\n",
      "HTTP Error 429 thrown while requesting GET https://huggingface.co/datasets/mwitiderrick/arXiv/resolve/f61ed293f976a0b025b4004c06d41b12ecfd799c/%20%20Gen_3UFV5Y7Z59.txt\n",
      "Retrying in 8s [Retry 5/5].\n",
      "HTTP Error 429 thrown while requesting GET https://huggingface.co/datasets/mwitiderrick/arXiv/resolve/f61ed293f976a0b025b4004c06d41b12ecfd799c/%20%20Gen_FFKVXJ9VOS.txt\n",
      "HTTP Error 429 thrown while requesting GET https://huggingface.co/datasets/mwitiderrick/arXiv/resolve/f61ed293f976a0b025b4004c06d41b12ecfd799c/%20%20Gau_BXNNGPQFKO.txt\n",
      "Retrying in 8s [Retry 5/5].\n",
      "Retrying in 8s [Retry 5/5].\n",
      "HTTP Error 429 thrown while requesting GET https://huggingface.co/datasets/mwitiderrick/arXiv/resolve/f61ed293f976a0b025b4004c06d41b12ecfd799c/%20%20Gen_QGHJL8IWK9.txt\n",
      "Retrying in 8s [Retry 5/5].\n",
      "HTTP Error 429 thrown while requesting GET https://huggingface.co/datasets/mwitiderrick/arXiv/resolve/f61ed293f976a0b025b4004c06d41b12ecfd799c/%20%20Gen_R92REAKF94.txt\n",
      "Retrying in 8s [Retry 5/5].\n",
      "HTTP Error 429 thrown while requesting GET https://huggingface.co/datasets/mwitiderrick/arXiv/resolve/f61ed293f976a0b025b4004c06d41b12ecfd799c/%20%20Gam_08SBPS8X5S.txt\n",
      "Retrying in 8s [Retry 5/5].\n",
      "HTTP Error 429 thrown while requesting HEAD https://huggingface.co/datasets/mwitiderrick/arXiv/resolve/f61ed293f976a0b025b4004c06d41b12ecfd799c/%20%20Gau_R4QJUUMIML.txt\n",
      "HTTP Error 429 thrown while requesting HEAD https://huggingface.co/datasets/mwitiderrick/arXiv/resolve/f61ed293f976a0b025b4004c06d41b12ecfd799c/%20%20Gen_I1H988EGD8.txt\n",
      "HTTP Error 429 thrown while requesting HEAD https://huggingface.co/datasets/mwitiderrick/arXiv/resolve/f61ed293f976a0b025b4004c06d41b12ecfd799c/%20%20Gen_IO5PHJ5LG2.txt\n",
      "HTTP Error 429 thrown while requesting HEAD https://huggingface.co/datasets/mwitiderrick/arXiv/resolve/f61ed293f976a0b025b4004c06d41b12ecfd799c/%20%20Giv_0BWT2MKAOZ.txt\n",
      "Retrying in 1s [Retry 1/5].\n",
      "HTTP Error 429 thrown while requesting HEAD https://huggingface.co/datasets/mwitiderrick/arXiv/resolve/f61ed293f976a0b025b4004c06d41b12ecfd799c/%20%20Giv_3IWJUGUQ6L.txt\n",
      "Retrying in 1s [Retry 1/5].\n",
      "HTTP Error 429 thrown while requesting HEAD https://huggingface.co/datasets/mwitiderrick/arXiv/resolve/f61ed293f976a0b025b4004c06d41b12ecfd799c/%20%20Giv_5D1ELW0VEI.txt\n",
      "Retrying in 1s [Retry 1/5].\n",
      "HTTP Error 429 thrown while requesting GET https://huggingface.co/datasets/mwitiderrick/arXiv/resolve/f61ed293f976a0b025b4004c06d41b12ecfd799c/%20%20Gas_QUC3WHC756.txt\n",
      "HTTP Error 429 thrown while requesting GET https://huggingface.co/datasets/mwitiderrick/arXiv/resolve/f61ed293f976a0b025b4004c06d41b12ecfd799c/%20%20GRB_XV5MKQXK62.txt\n",
      "HTTP Error 429 thrown while requesting GET https://huggingface.co/datasets/mwitiderrick/arXiv/resolve/f61ed293f976a0b025b4004c06d41b12ecfd799c/%20%20Gal_O03U12890Q.txt\n",
      "HTTP Error 429 thrown while requesting GET https://huggingface.co/datasets/mwitiderrick/arXiv/resolve/f61ed293f976a0b025b4004c06d41b12ecfd799c/%20%20GZK_0YPZO2JIBT.txt\n",
      "HTTP Error 429 thrown while requesting HEAD https://huggingface.co/datasets/mwitiderrick/arXiv/resolve/f61ed293f976a0b025b4004c06d41b12ecfd799c/%20%20Geo_R048XQOCPM.txt\n",
      "HTTP Error 429 thrown while requesting HEAD https://huggingface.co/datasets/mwitiderrick/arXiv/resolve/f61ed293f976a0b025b4004c06d41b12ecfd799c/%20%20Giv_034MICCP67.txt\n",
      "HTTP Error 429 thrown while requesting HEAD https://huggingface.co/datasets/mwitiderrick/arXiv/resolve/f61ed293f976a0b025b4004c06d41b12ecfd799c/%20%20Giv_6B8VGMNE48.txt\n",
      "HTTP Error 429 thrown while requesting GET https://huggingface.co/datasets/mwitiderrick/arXiv/resolve/f61ed293f976a0b025b4004c06d41b12ecfd799c/%20%20Gau_49VZ4DTYGS.txt\n",
      "Retrying in 1s [Retry 1/5].\n",
      "HTTP Error 429 thrown while requesting HEAD https://huggingface.co/datasets/mwitiderrick/arXiv/resolve/f61ed293f976a0b025b4004c06d41b12ecfd799c/%20%20Giv_7MVB710BG6.txt\n",
      "Retrying in 1s [Retry 1/5].\n",
      "HTTP Error 429 thrown while requesting GET https://huggingface.co/datasets/mwitiderrick/arXiv/resolve/f61ed293f976a0b025b4004c06d41b12ecfd799c/%20%20Gen_3UFV5Y7Z59.txt\n",
      "HTTP Error 429 thrown while requesting GET https://huggingface.co/datasets/mwitiderrick/arXiv/resolve/f61ed293f976a0b025b4004c06d41b12ecfd799c/%20%20Gau_BXNNGPQFKO.txt\n",
      "HTTP Error 429 thrown while requesting GET https://huggingface.co/datasets/mwitiderrick/arXiv/resolve/f61ed293f976a0b025b4004c06d41b12ecfd799c/%20%20Gen_FFKVXJ9VOS.txt\n",
      "HTTP Error 429 thrown while requesting GET https://huggingface.co/datasets/mwitiderrick/arXiv/resolve/f61ed293f976a0b025b4004c06d41b12ecfd799c/%20%20Gen_QGHJL8IWK9.txt\n",
      "HTTP Error 429 thrown while requesting GET https://huggingface.co/datasets/mwitiderrick/arXiv/resolve/f61ed293f976a0b025b4004c06d41b12ecfd799c/%20%20Gen_R92REAKF94.txt\n",
      "HTTP Error 429 thrown while requesting GET https://huggingface.co/datasets/mwitiderrick/arXiv/resolve/f61ed293f976a0b025b4004c06d41b12ecfd799c/%20%20Gam_08SBPS8X5S.txt\n",
      "HTTP Error 429 thrown while requesting HEAD https://huggingface.co/datasets/mwitiderrick/arXiv/resolve/f61ed293f976a0b025b4004c06d41b12ecfd799c/%20%20Giv_0BWT2MKAOZ.txt\n",
      "Retrying in 2s [Retry 2/5].\n",
      "HTTP Error 429 thrown while requesting HEAD https://huggingface.co/datasets/mwitiderrick/arXiv/resolve/f61ed293f976a0b025b4004c06d41b12ecfd799c/%20%20Giv_3IWJUGUQ6L.txt\n",
      "Retrying in 2s [Retry 2/5].\n",
      "HTTP Error 429 thrown while requesting HEAD https://huggingface.co/datasets/mwitiderrick/arXiv/resolve/f61ed293f976a0b025b4004c06d41b12ecfd799c/%20%20Giv_5D1ELW0VEI.txt\n",
      "Retrying in 2s [Retry 2/5].\n",
      "HTTP Error 429 thrown while requesting HEAD https://huggingface.co/datasets/mwitiderrick/arXiv/resolve/f61ed293f976a0b025b4004c06d41b12ecfd799c/%20%20Giv_6B8VGMNE48.txt\n",
      "Retrying in 2s [Retry 2/5].\n",
      "HTTP Error 429 thrown while requesting HEAD https://huggingface.co/datasets/mwitiderrick/arXiv/resolve/f61ed293f976a0b025b4004c06d41b12ecfd799c/%20%20Giv_7MVB710BG6.txt\n",
      "Retrying in 2s [Retry 2/5].\n",
      "HTTP Error 429 thrown while requesting HEAD https://huggingface.co/datasets/mwitiderrick/arXiv/resolve/f61ed293f976a0b025b4004c06d41b12ecfd799c/%20%20Giv_0BWT2MKAOZ.txt\n",
      "Retrying in 4s [Retry 3/5].\n",
      "HTTP Error 429 thrown while requesting HEAD https://huggingface.co/datasets/mwitiderrick/arXiv/resolve/f61ed293f976a0b025b4004c06d41b12ecfd799c/%20%20Giv_3IWJUGUQ6L.txt\n",
      "Retrying in 4s [Retry 3/5].\n",
      "HTTP Error 429 thrown while requesting HEAD https://huggingface.co/datasets/mwitiderrick/arXiv/resolve/f61ed293f976a0b025b4004c06d41b12ecfd799c/%20%20Giv_5D1ELW0VEI.txt\n",
      "Retrying in 4s [Retry 3/5].\n",
      "HTTP Error 429 thrown while requesting HEAD https://huggingface.co/datasets/mwitiderrick/arXiv/resolve/f61ed293f976a0b025b4004c06d41b12ecfd799c/%20%20Giv_6B8VGMNE48.txt\n",
      "Retrying in 4s [Retry 3/5].\n",
      "HTTP Error 429 thrown while requesting HEAD https://huggingface.co/datasets/mwitiderrick/arXiv/resolve/f61ed293f976a0b025b4004c06d41b12ecfd799c/%20%20Giv_7MVB710BG6.txt\n",
      "Retrying in 4s [Retry 3/5].\n",
      "HTTP Error 429 thrown while requesting HEAD https://huggingface.co/datasets/mwitiderrick/arXiv/resolve/f61ed293f976a0b025b4004c06d41b12ecfd799c/%20%20Giv_0BWT2MKAOZ.txt\n",
      "HTTP Error 429 thrown while requesting HEAD https://huggingface.co/datasets/mwitiderrick/arXiv/resolve/f61ed293f976a0b025b4004c06d41b12ecfd799c/%20%20Giv_3IWJUGUQ6L.txt\n",
      "Retrying in 8s [Retry 4/5].\n",
      "Retrying in 8s [Retry 4/5].\n",
      "HTTP Error 429 thrown while requesting HEAD https://huggingface.co/datasets/mwitiderrick/arXiv/resolve/f61ed293f976a0b025b4004c06d41b12ecfd799c/%20%20Giv_5D1ELW0VEI.txt\n",
      "Retrying in 8s [Retry 4/5].\n",
      "HTTP Error 429 thrown while requesting HEAD https://huggingface.co/datasets/mwitiderrick/arXiv/resolve/f61ed293f976a0b025b4004c06d41b12ecfd799c/%20%20Giv_6B8VGMNE48.txt\n",
      "Retrying in 8s [Retry 4/5].\n",
      "HTTP Error 429 thrown while requesting HEAD https://huggingface.co/datasets/mwitiderrick/arXiv/resolve/f61ed293f976a0b025b4004c06d41b12ecfd799c/%20%20Giv_7MVB710BG6.txt\n",
      "Retrying in 8s [Retry 4/5].\n",
      "HTTP Error 429 thrown while requesting HEAD https://huggingface.co/datasets/mwitiderrick/arXiv/resolve/f61ed293f976a0b025b4004c06d41b12ecfd799c/%20%20Giv_0BWT2MKAOZ.txt\n",
      "Retrying in 8s [Retry 5/5].\n",
      "HTTP Error 429 thrown while requesting HEAD https://huggingface.co/datasets/mwitiderrick/arXiv/resolve/f61ed293f976a0b025b4004c06d41b12ecfd799c/%20%20Giv_3IWJUGUQ6L.txt\n",
      "HTTP Error 429 thrown while requesting HEAD https://huggingface.co/datasets/mwitiderrick/arXiv/resolve/f61ed293f976a0b025b4004c06d41b12ecfd799c/%20%20Giv_5D1ELW0VEI.txt\n",
      "Retrying in 8s [Retry 5/5].\n",
      "Retrying in 8s [Retry 5/5].\n",
      "HTTP Error 429 thrown while requesting HEAD https://huggingface.co/datasets/mwitiderrick/arXiv/resolve/f61ed293f976a0b025b4004c06d41b12ecfd799c/%20%20Giv_6B8VGMNE48.txt\n",
      "Retrying in 8s [Retry 5/5].\n",
      "HTTP Error 429 thrown while requesting HEAD https://huggingface.co/datasets/mwitiderrick/arXiv/resolve/f61ed293f976a0b025b4004c06d41b12ecfd799c/%20%20Giv_7MVB710BG6.txt\n",
      "Retrying in 8s [Retry 5/5].\n",
      "HTTP Error 429 thrown while requesting HEAD https://huggingface.co/datasets/mwitiderrick/arXiv/resolve/f61ed293f976a0b025b4004c06d41b12ecfd799c/%20%20Giv_0BWT2MKAOZ.txt\n",
      "HTTP Error 429 thrown while requesting HEAD https://huggingface.co/datasets/mwitiderrick/arXiv/resolve/f61ed293f976a0b025b4004c06d41b12ecfd799c/%20%20Giv_3IWJUGUQ6L.txt\n",
      "HTTP Error 429 thrown while requesting HEAD https://huggingface.co/datasets/mwitiderrick/arXiv/resolve/f61ed293f976a0b025b4004c06d41b12ecfd799c/%20%20Giv_5D1ELW0VEI.txt\n",
      "HTTP Error 429 thrown while requesting HEAD https://huggingface.co/datasets/mwitiderrick/arXiv/resolve/f61ed293f976a0b025b4004c06d41b12ecfd799c/%20%20Giv_6B8VGMNE48.txt\n",
      "HTTP Error 429 thrown while requesting HEAD https://huggingface.co/datasets/mwitiderrick/arXiv/resolve/f61ed293f976a0b025b4004c06d41b12ecfd799c/%20%20Giv_7MVB710BG6.txt\n"
     ]
    },
    {
     "ename": "HTTPError",
     "evalue": "429 Client Error: Too Many Requests for url: https://huggingface.co/datasets/mwitiderrick/arXiv/resolve/f61ed293f976a0b025b4004c06d41b12ecfd799c/%20%20GRB_XV5MKQXK62.txt",
     "output_type": "error",
     "traceback": [
      "\u001b[0;31m---------------------------------------------------------------------------\u001b[0m",
      "\u001b[0;31mHTTPError\u001b[0m                                 Traceback (most recent call last)",
      "Cell \u001b[0;32mIn[26], line 5\u001b[0m\n\u001b[1;32m      2\u001b[0m \u001b[38;5;28;01mimport\u001b[39;00m\u001b[38;5;250m \u001b[39m\u001b[38;5;21;01mpandas\u001b[39;00m\u001b[38;5;250m \u001b[39m\u001b[38;5;28;01mas\u001b[39;00m\u001b[38;5;250m \u001b[39m\u001b[38;5;21;01mpd\u001b[39;00m\n\u001b[1;32m      4\u001b[0m \u001b[38;5;66;03m# 1. Load the full arXiv metadata\u001b[39;00m\n\u001b[0;32m----> 5\u001b[0m ds \u001b[38;5;241m=\u001b[39m \u001b[43mload_dataset\u001b[49m\u001b[43m(\u001b[49m\u001b[38;5;124;43m\"\u001b[39;49m\u001b[38;5;124;43mmwitiderrick/arXiv\u001b[39;49m\u001b[38;5;124;43m\"\u001b[39;49m\u001b[43m,\u001b[49m\u001b[43m \u001b[49m\u001b[43msplit\u001b[49m\u001b[38;5;241;43m=\u001b[39;49m\u001b[38;5;124;43m\"\u001b[39;49m\u001b[38;5;124;43mtrain\u001b[39;49m\u001b[38;5;124;43m\"\u001b[39;49m\u001b[43m)\u001b[49m  \u001b[38;5;66;03m# ~1.7M rows\u001b[39;00m\n\u001b[1;32m      7\u001b[0m \u001b[38;5;66;03m# 2. Convert to pandas for ease of filtering\u001b[39;00m\n\u001b[1;32m      8\u001b[0m df \u001b[38;5;241m=\u001b[39m pd\u001b[38;5;241m.\u001b[39mDataFrame(ds)\n",
      "File \u001b[0;32m/opt/jlab-env-3.12.8/lib/python3.12/site-packages/datasets/load.py:2151\u001b[0m, in \u001b[0;36mload_dataset\u001b[0;34m(path, name, data_dir, data_files, split, cache_dir, features, download_config, download_mode, verification_mode, keep_in_memory, save_infos, revision, token, streaming, num_proc, storage_options, trust_remote_code, **config_kwargs)\u001b[0m\n\u001b[1;32m   2148\u001b[0m     \u001b[38;5;28;01mreturn\u001b[39;00m builder_instance\u001b[38;5;241m.\u001b[39mas_streaming_dataset(split\u001b[38;5;241m=\u001b[39msplit)\n\u001b[1;32m   2150\u001b[0m \u001b[38;5;66;03m# Download and prepare data\u001b[39;00m\n\u001b[0;32m-> 2151\u001b[0m \u001b[43mbuilder_instance\u001b[49m\u001b[38;5;241;43m.\u001b[39;49m\u001b[43mdownload_and_prepare\u001b[49m\u001b[43m(\u001b[49m\n\u001b[1;32m   2152\u001b[0m \u001b[43m    \u001b[49m\u001b[43mdownload_config\u001b[49m\u001b[38;5;241;43m=\u001b[39;49m\u001b[43mdownload_config\u001b[49m\u001b[43m,\u001b[49m\n\u001b[1;32m   2153\u001b[0m \u001b[43m    \u001b[49m\u001b[43mdownload_mode\u001b[49m\u001b[38;5;241;43m=\u001b[39;49m\u001b[43mdownload_mode\u001b[49m\u001b[43m,\u001b[49m\n\u001b[1;32m   2154\u001b[0m \u001b[43m    \u001b[49m\u001b[43mverification_mode\u001b[49m\u001b[38;5;241;43m=\u001b[39;49m\u001b[43mverification_mode\u001b[49m\u001b[43m,\u001b[49m\n\u001b[1;32m   2155\u001b[0m \u001b[43m    \u001b[49m\u001b[43mnum_proc\u001b[49m\u001b[38;5;241;43m=\u001b[39;49m\u001b[43mnum_proc\u001b[49m\u001b[43m,\u001b[49m\n\u001b[1;32m   2156\u001b[0m \u001b[43m    \u001b[49m\u001b[43mstorage_options\u001b[49m\u001b[38;5;241;43m=\u001b[39;49m\u001b[43mstorage_options\u001b[49m\u001b[43m,\u001b[49m\n\u001b[1;32m   2157\u001b[0m \u001b[43m\u001b[49m\u001b[43m)\u001b[49m\n\u001b[1;32m   2159\u001b[0m \u001b[38;5;66;03m# Build dataset for splits\u001b[39;00m\n\u001b[1;32m   2160\u001b[0m keep_in_memory \u001b[38;5;241m=\u001b[39m (\n\u001b[1;32m   2161\u001b[0m     keep_in_memory \u001b[38;5;28;01mif\u001b[39;00m keep_in_memory \u001b[38;5;129;01mis\u001b[39;00m \u001b[38;5;129;01mnot\u001b[39;00m \u001b[38;5;28;01mNone\u001b[39;00m \u001b[38;5;28;01melse\u001b[39;00m is_small_dataset(builder_instance\u001b[38;5;241m.\u001b[39minfo\u001b[38;5;241m.\u001b[39mdataset_size)\n\u001b[1;32m   2162\u001b[0m )\n",
      "File \u001b[0;32m/opt/jlab-env-3.12.8/lib/python3.12/site-packages/datasets/builder.py:924\u001b[0m, in \u001b[0;36mDatasetBuilder.download_and_prepare\u001b[0;34m(self, output_dir, download_config, download_mode, verification_mode, dl_manager, base_path, file_format, max_shard_size, num_proc, storage_options, **download_and_prepare_kwargs)\u001b[0m\n\u001b[1;32m    922\u001b[0m \u001b[38;5;28;01mif\u001b[39;00m num_proc \u001b[38;5;129;01mis\u001b[39;00m \u001b[38;5;129;01mnot\u001b[39;00m \u001b[38;5;28;01mNone\u001b[39;00m:\n\u001b[1;32m    923\u001b[0m     prepare_split_kwargs[\u001b[38;5;124m\"\u001b[39m\u001b[38;5;124mnum_proc\u001b[39m\u001b[38;5;124m\"\u001b[39m] \u001b[38;5;241m=\u001b[39m num_proc\n\u001b[0;32m--> 924\u001b[0m \u001b[38;5;28;43mself\u001b[39;49m\u001b[38;5;241;43m.\u001b[39;49m\u001b[43m_download_and_prepare\u001b[49m\u001b[43m(\u001b[49m\n\u001b[1;32m    925\u001b[0m \u001b[43m    \u001b[49m\u001b[43mdl_manager\u001b[49m\u001b[38;5;241;43m=\u001b[39;49m\u001b[43mdl_manager\u001b[49m\u001b[43m,\u001b[49m\n\u001b[1;32m    926\u001b[0m \u001b[43m    \u001b[49m\u001b[43mverification_mode\u001b[49m\u001b[38;5;241;43m=\u001b[39;49m\u001b[43mverification_mode\u001b[49m\u001b[43m,\u001b[49m\n\u001b[1;32m    927\u001b[0m \u001b[43m    \u001b[49m\u001b[38;5;241;43m*\u001b[39;49m\u001b[38;5;241;43m*\u001b[39;49m\u001b[43mprepare_split_kwargs\u001b[49m\u001b[43m,\u001b[49m\n\u001b[1;32m    928\u001b[0m \u001b[43m    \u001b[49m\u001b[38;5;241;43m*\u001b[39;49m\u001b[38;5;241;43m*\u001b[39;49m\u001b[43mdownload_and_prepare_kwargs\u001b[49m\u001b[43m,\u001b[49m\n\u001b[1;32m    929\u001b[0m \u001b[43m\u001b[49m\u001b[43m)\u001b[49m\n\u001b[1;32m    930\u001b[0m \u001b[38;5;66;03m# Sync info\u001b[39;00m\n\u001b[1;32m    931\u001b[0m \u001b[38;5;28mself\u001b[39m\u001b[38;5;241m.\u001b[39minfo\u001b[38;5;241m.\u001b[39mdataset_size \u001b[38;5;241m=\u001b[39m \u001b[38;5;28msum\u001b[39m(split\u001b[38;5;241m.\u001b[39mnum_bytes \u001b[38;5;28;01mfor\u001b[39;00m split \u001b[38;5;129;01min\u001b[39;00m \u001b[38;5;28mself\u001b[39m\u001b[38;5;241m.\u001b[39minfo\u001b[38;5;241m.\u001b[39msplits\u001b[38;5;241m.\u001b[39mvalues())\n",
      "File \u001b[0;32m/opt/jlab-env-3.12.8/lib/python3.12/site-packages/datasets/builder.py:978\u001b[0m, in \u001b[0;36mDatasetBuilder._download_and_prepare\u001b[0;34m(self, dl_manager, verification_mode, **prepare_split_kwargs)\u001b[0m\n\u001b[1;32m    976\u001b[0m split_dict \u001b[38;5;241m=\u001b[39m SplitDict(dataset_name\u001b[38;5;241m=\u001b[39m\u001b[38;5;28mself\u001b[39m\u001b[38;5;241m.\u001b[39mdataset_name)\n\u001b[1;32m    977\u001b[0m split_generators_kwargs \u001b[38;5;241m=\u001b[39m \u001b[38;5;28mself\u001b[39m\u001b[38;5;241m.\u001b[39m_make_split_generators_kwargs(prepare_split_kwargs)\n\u001b[0;32m--> 978\u001b[0m split_generators \u001b[38;5;241m=\u001b[39m \u001b[38;5;28;43mself\u001b[39;49m\u001b[38;5;241;43m.\u001b[39;49m\u001b[43m_split_generators\u001b[49m\u001b[43m(\u001b[49m\u001b[43mdl_manager\u001b[49m\u001b[43m,\u001b[49m\u001b[43m \u001b[49m\u001b[38;5;241;43m*\u001b[39;49m\u001b[38;5;241;43m*\u001b[39;49m\u001b[43msplit_generators_kwargs\u001b[49m\u001b[43m)\u001b[49m\n\u001b[1;32m    980\u001b[0m \u001b[38;5;66;03m# Checksums verification\u001b[39;00m\n\u001b[1;32m    981\u001b[0m \u001b[38;5;28;01mif\u001b[39;00m verification_mode \u001b[38;5;241m==\u001b[39m VerificationMode\u001b[38;5;241m.\u001b[39mALL_CHECKS \u001b[38;5;129;01mand\u001b[39;00m dl_manager\u001b[38;5;241m.\u001b[39mrecord_checksums:\n",
      "File \u001b[0;32m/opt/jlab-env-3.12.8/lib/python3.12/site-packages/datasets/packaged_modules/text/text.py:43\u001b[0m, in \u001b[0;36mText._split_generators\u001b[0;34m(self, dl_manager)\u001b[0m\n\u001b[1;32m     41\u001b[0m     \u001b[38;5;28;01mraise\u001b[39;00m \u001b[38;5;167;01mValueError\u001b[39;00m(\u001b[38;5;124mf\u001b[39m\u001b[38;5;124m\"\u001b[39m\u001b[38;5;124mAt least one data file must be specified, but got data_files=\u001b[39m\u001b[38;5;132;01m{\u001b[39;00m\u001b[38;5;28mself\u001b[39m\u001b[38;5;241m.\u001b[39mconfig\u001b[38;5;241m.\u001b[39mdata_files\u001b[38;5;132;01m}\u001b[39;00m\u001b[38;5;124m\"\u001b[39m)\n\u001b[1;32m     42\u001b[0m dl_manager\u001b[38;5;241m.\u001b[39mdownload_config\u001b[38;5;241m.\u001b[39mextract_on_the_fly \u001b[38;5;241m=\u001b[39m \u001b[38;5;28;01mTrue\u001b[39;00m\n\u001b[0;32m---> 43\u001b[0m data_files \u001b[38;5;241m=\u001b[39m \u001b[43mdl_manager\u001b[49m\u001b[38;5;241;43m.\u001b[39;49m\u001b[43mdownload_and_extract\u001b[49m\u001b[43m(\u001b[49m\u001b[38;5;28;43mself\u001b[39;49m\u001b[38;5;241;43m.\u001b[39;49m\u001b[43mconfig\u001b[49m\u001b[38;5;241;43m.\u001b[39;49m\u001b[43mdata_files\u001b[49m\u001b[43m)\u001b[49m\n\u001b[1;32m     44\u001b[0m splits \u001b[38;5;241m=\u001b[39m []\n\u001b[1;32m     45\u001b[0m \u001b[38;5;28;01mfor\u001b[39;00m split_name, files \u001b[38;5;129;01min\u001b[39;00m data_files\u001b[38;5;241m.\u001b[39mitems():\n",
      "File \u001b[0;32m/opt/jlab-env-3.12.8/lib/python3.12/site-packages/datasets/download/download_manager.py:326\u001b[0m, in \u001b[0;36mDownloadManager.download_and_extract\u001b[0;34m(self, url_or_urls)\u001b[0m\n\u001b[1;32m    310\u001b[0m \u001b[38;5;28;01mdef\u001b[39;00m\u001b[38;5;250m \u001b[39m\u001b[38;5;21mdownload_and_extract\u001b[39m(\u001b[38;5;28mself\u001b[39m, url_or_urls):\n\u001b[1;32m    311\u001b[0m \u001b[38;5;250m    \u001b[39m\u001b[38;5;124;03m\"\"\"Download and extract given `url_or_urls`.\u001b[39;00m\n\u001b[1;32m    312\u001b[0m \n\u001b[1;32m    313\u001b[0m \u001b[38;5;124;03m    Is roughly equivalent to:\u001b[39;00m\n\u001b[0;32m   (...)\u001b[0m\n\u001b[1;32m    324\u001b[0m \u001b[38;5;124;03m        extracted_path(s): `str`, extracted paths of given URL(s).\u001b[39;00m\n\u001b[1;32m    325\u001b[0m \u001b[38;5;124;03m    \"\"\"\u001b[39;00m\n\u001b[0;32m--> 326\u001b[0m     \u001b[38;5;28;01mreturn\u001b[39;00m \u001b[38;5;28mself\u001b[39m\u001b[38;5;241m.\u001b[39mextract(\u001b[38;5;28;43mself\u001b[39;49m\u001b[38;5;241;43m.\u001b[39;49m\u001b[43mdownload\u001b[49m\u001b[43m(\u001b[49m\u001b[43murl_or_urls\u001b[49m\u001b[43m)\u001b[49m)\n",
      "File \u001b[0;32m/opt/jlab-env-3.12.8/lib/python3.12/site-packages/datasets/download/download_manager.py:159\u001b[0m, in \u001b[0;36mDownloadManager.download\u001b[0;34m(self, url_or_urls)\u001b[0m\n\u001b[1;32m    157\u001b[0m start_time \u001b[38;5;241m=\u001b[39m datetime\u001b[38;5;241m.\u001b[39mnow()\n\u001b[1;32m    158\u001b[0m \u001b[38;5;28;01mwith\u001b[39;00m stack_multiprocessing_download_progress_bars():\n\u001b[0;32m--> 159\u001b[0m     downloaded_path_or_paths \u001b[38;5;241m=\u001b[39m \u001b[43mmap_nested\u001b[49m\u001b[43m(\u001b[49m\n\u001b[1;32m    160\u001b[0m \u001b[43m        \u001b[49m\u001b[43mdownload_func\u001b[49m\u001b[43m,\u001b[49m\n\u001b[1;32m    161\u001b[0m \u001b[43m        \u001b[49m\u001b[43murl_or_urls\u001b[49m\u001b[43m,\u001b[49m\n\u001b[1;32m    162\u001b[0m \u001b[43m        \u001b[49m\u001b[43mmap_tuple\u001b[49m\u001b[38;5;241;43m=\u001b[39;49m\u001b[38;5;28;43;01mTrue\u001b[39;49;00m\u001b[43m,\u001b[49m\n\u001b[1;32m    163\u001b[0m \u001b[43m        \u001b[49m\u001b[43mnum_proc\u001b[49m\u001b[38;5;241;43m=\u001b[39;49m\u001b[43mdownload_config\u001b[49m\u001b[38;5;241;43m.\u001b[39;49m\u001b[43mnum_proc\u001b[49m\u001b[43m,\u001b[49m\n\u001b[1;32m    164\u001b[0m \u001b[43m        \u001b[49m\u001b[43mdesc\u001b[49m\u001b[38;5;241;43m=\u001b[39;49m\u001b[38;5;124;43m\"\u001b[39;49m\u001b[38;5;124;43mDownloading data files\u001b[39;49m\u001b[38;5;124;43m\"\u001b[39;49m\u001b[43m,\u001b[49m\n\u001b[1;32m    165\u001b[0m \u001b[43m        \u001b[49m\u001b[43mbatched\u001b[49m\u001b[38;5;241;43m=\u001b[39;49m\u001b[38;5;28;43;01mTrue\u001b[39;49;00m\u001b[43m,\u001b[49m\n\u001b[1;32m    166\u001b[0m \u001b[43m        \u001b[49m\u001b[43mbatch_size\u001b[49m\u001b[38;5;241;43m=\u001b[39;49m\u001b[38;5;241;43m-\u001b[39;49m\u001b[38;5;241;43m1\u001b[39;49m\u001b[43m,\u001b[49m\n\u001b[1;32m    167\u001b[0m \u001b[43m    \u001b[49m\u001b[43m)\u001b[49m\n\u001b[1;32m    168\u001b[0m duration \u001b[38;5;241m=\u001b[39m datetime\u001b[38;5;241m.\u001b[39mnow() \u001b[38;5;241m-\u001b[39m start_time\n\u001b[1;32m    169\u001b[0m logger\u001b[38;5;241m.\u001b[39minfo(\u001b[38;5;124mf\u001b[39m\u001b[38;5;124m\"\u001b[39m\u001b[38;5;124mDownloading took \u001b[39m\u001b[38;5;132;01m{\u001b[39;00mduration\u001b[38;5;241m.\u001b[39mtotal_seconds()\u001b[38;5;250m \u001b[39m\u001b[38;5;241m/\u001b[39m\u001b[38;5;241m/\u001b[39m\u001b[38;5;250m \u001b[39m\u001b[38;5;241m60\u001b[39m\u001b[38;5;132;01m}\u001b[39;00m\u001b[38;5;124m min\u001b[39m\u001b[38;5;124m\"\u001b[39m)\n",
      "File \u001b[0;32m/opt/jlab-env-3.12.8/lib/python3.12/site-packages/datasets/utils/py_utils.py:495\u001b[0m, in \u001b[0;36mmap_nested\u001b[0;34m(function, data_struct, dict_only, map_list, map_tuple, map_numpy, num_proc, parallel_min_length, batched, batch_size, types, disable_tqdm, desc)\u001b[0m\n\u001b[1;32m    492\u001b[0m     num_proc \u001b[38;5;241m=\u001b[39m \u001b[38;5;241m1\u001b[39m\n\u001b[1;32m    493\u001b[0m \u001b[38;5;28;01mif\u001b[39;00m \u001b[38;5;28many\u001b[39m(\u001b[38;5;28misinstance\u001b[39m(v, types) \u001b[38;5;129;01mand\u001b[39;00m \u001b[38;5;28mlen\u001b[39m(v) \u001b[38;5;241m>\u001b[39m \u001b[38;5;28mlen\u001b[39m(iterable) \u001b[38;5;28;01mfor\u001b[39;00m v \u001b[38;5;129;01min\u001b[39;00m iterable):\n\u001b[1;32m    494\u001b[0m     mapped \u001b[38;5;241m=\u001b[39m [\n\u001b[0;32m--> 495\u001b[0m         \u001b[43mmap_nested\u001b[49m\u001b[43m(\u001b[49m\n\u001b[1;32m    496\u001b[0m \u001b[43m            \u001b[49m\u001b[43mfunction\u001b[49m\u001b[38;5;241;43m=\u001b[39;49m\u001b[43mfunction\u001b[49m\u001b[43m,\u001b[49m\n\u001b[1;32m    497\u001b[0m \u001b[43m            \u001b[49m\u001b[43mdata_struct\u001b[49m\u001b[38;5;241;43m=\u001b[39;49m\u001b[43mobj\u001b[49m\u001b[43m,\u001b[49m\n\u001b[1;32m    498\u001b[0m \u001b[43m            \u001b[49m\u001b[43mnum_proc\u001b[49m\u001b[38;5;241;43m=\u001b[39;49m\u001b[43mnum_proc\u001b[49m\u001b[43m,\u001b[49m\n\u001b[1;32m    499\u001b[0m \u001b[43m            \u001b[49m\u001b[43mparallel_min_length\u001b[49m\u001b[38;5;241;43m=\u001b[39;49m\u001b[43mparallel_min_length\u001b[49m\u001b[43m,\u001b[49m\n\u001b[1;32m    500\u001b[0m \u001b[43m            \u001b[49m\u001b[43mbatched\u001b[49m\u001b[38;5;241;43m=\u001b[39;49m\u001b[43mbatched\u001b[49m\u001b[43m,\u001b[49m\n\u001b[1;32m    501\u001b[0m \u001b[43m            \u001b[49m\u001b[43mbatch_size\u001b[49m\u001b[38;5;241;43m=\u001b[39;49m\u001b[43mbatch_size\u001b[49m\u001b[43m,\u001b[49m\n\u001b[1;32m    502\u001b[0m \u001b[43m            \u001b[49m\u001b[43mtypes\u001b[49m\u001b[38;5;241;43m=\u001b[39;49m\u001b[43mtypes\u001b[49m\u001b[43m,\u001b[49m\n\u001b[1;32m    503\u001b[0m \u001b[43m        \u001b[49m\u001b[43m)\u001b[49m\n\u001b[1;32m    504\u001b[0m         \u001b[38;5;28;01mfor\u001b[39;00m obj \u001b[38;5;129;01min\u001b[39;00m iterable\n\u001b[1;32m    505\u001b[0m     ]\n\u001b[1;32m    506\u001b[0m \u001b[38;5;28;01melif\u001b[39;00m num_proc \u001b[38;5;241m!=\u001b[39m \u001b[38;5;241m-\u001b[39m\u001b[38;5;241m1\u001b[39m \u001b[38;5;129;01mand\u001b[39;00m num_proc \u001b[38;5;241m<\u001b[39m\u001b[38;5;241m=\u001b[39m \u001b[38;5;241m1\u001b[39m \u001b[38;5;129;01mor\u001b[39;00m \u001b[38;5;28mlen\u001b[39m(iterable) \u001b[38;5;241m<\u001b[39m parallel_min_length:\n\u001b[1;32m    507\u001b[0m     \u001b[38;5;28;01mif\u001b[39;00m batched:\n",
      "File \u001b[0;32m/opt/jlab-env-3.12.8/lib/python3.12/site-packages/datasets/utils/py_utils.py:512\u001b[0m, in \u001b[0;36mmap_nested\u001b[0;34m(function, data_struct, dict_only, map_list, map_tuple, map_numpy, num_proc, parallel_min_length, batched, batch_size, types, disable_tqdm, desc)\u001b[0m\n\u001b[1;32m    509\u001b[0m         batch_size \u001b[38;5;241m=\u001b[39m \u001b[38;5;28mmax\u001b[39m(\u001b[38;5;28mlen\u001b[39m(iterable) \u001b[38;5;241m/\u001b[39m\u001b[38;5;241m/\u001b[39m num_proc \u001b[38;5;241m+\u001b[39m \u001b[38;5;28mint\u001b[39m(\u001b[38;5;28mlen\u001b[39m(iterable) \u001b[38;5;241m%\u001b[39m num_proc \u001b[38;5;241m>\u001b[39m \u001b[38;5;241m0\u001b[39m), \u001b[38;5;241m1\u001b[39m)\n\u001b[1;32m    510\u001b[0m     iterable \u001b[38;5;241m=\u001b[39m \u001b[38;5;28mlist\u001b[39m(iter_batched(iterable, batch_size))\n\u001b[1;32m    511\u001b[0m mapped \u001b[38;5;241m=\u001b[39m [\n\u001b[0;32m--> 512\u001b[0m     \u001b[43m_single_map_nested\u001b[49m\u001b[43m(\u001b[49m\u001b[43m(\u001b[49m\u001b[43mfunction\u001b[49m\u001b[43m,\u001b[49m\u001b[43m \u001b[49m\u001b[43mobj\u001b[49m\u001b[43m,\u001b[49m\u001b[43m \u001b[49m\u001b[43mbatched\u001b[49m\u001b[43m,\u001b[49m\u001b[43m \u001b[49m\u001b[43mbatch_size\u001b[49m\u001b[43m,\u001b[49m\u001b[43m \u001b[49m\u001b[43mtypes\u001b[49m\u001b[43m,\u001b[49m\u001b[43m \u001b[49m\u001b[38;5;28;43;01mNone\u001b[39;49;00m\u001b[43m,\u001b[49m\u001b[43m \u001b[49m\u001b[38;5;28;43;01mTrue\u001b[39;49;00m\u001b[43m,\u001b[49m\u001b[43m \u001b[49m\u001b[38;5;28;43;01mNone\u001b[39;49;00m\u001b[43m)\u001b[49m\u001b[43m)\u001b[49m\n\u001b[1;32m    513\u001b[0m     \u001b[38;5;28;01mfor\u001b[39;00m obj \u001b[38;5;129;01min\u001b[39;00m hf_tqdm(iterable, disable\u001b[38;5;241m=\u001b[39mdisable_tqdm, desc\u001b[38;5;241m=\u001b[39mdesc)\n\u001b[1;32m    514\u001b[0m ]\n\u001b[1;32m    515\u001b[0m \u001b[38;5;28;01mif\u001b[39;00m batched:\n\u001b[1;32m    516\u001b[0m     mapped \u001b[38;5;241m=\u001b[39m [mapped_item \u001b[38;5;28;01mfor\u001b[39;00m mapped_batch \u001b[38;5;129;01min\u001b[39;00m mapped \u001b[38;5;28;01mfor\u001b[39;00m mapped_item \u001b[38;5;129;01min\u001b[39;00m mapped_batch]\n",
      "File \u001b[0;32m/opt/jlab-env-3.12.8/lib/python3.12/site-packages/datasets/utils/py_utils.py:380\u001b[0m, in \u001b[0;36m_single_map_nested\u001b[0;34m(args)\u001b[0m\n\u001b[1;32m    373\u001b[0m         \u001b[38;5;28;01mreturn\u001b[39;00m function(data_struct)\n\u001b[1;32m    374\u001b[0m \u001b[38;5;28;01mif\u001b[39;00m (\n\u001b[1;32m    375\u001b[0m     batched\n\u001b[1;32m    376\u001b[0m     \u001b[38;5;129;01mand\u001b[39;00m \u001b[38;5;129;01mnot\u001b[39;00m \u001b[38;5;28misinstance\u001b[39m(data_struct, \u001b[38;5;28mdict\u001b[39m)\n\u001b[1;32m    377\u001b[0m     \u001b[38;5;129;01mand\u001b[39;00m \u001b[38;5;28misinstance\u001b[39m(data_struct, types)\n\u001b[1;32m    378\u001b[0m     \u001b[38;5;129;01mand\u001b[39;00m \u001b[38;5;28mall\u001b[39m(\u001b[38;5;129;01mnot\u001b[39;00m \u001b[38;5;28misinstance\u001b[39m(v, (\u001b[38;5;28mdict\u001b[39m, types)) \u001b[38;5;28;01mfor\u001b[39;00m v \u001b[38;5;129;01min\u001b[39;00m data_struct)\n\u001b[1;32m    379\u001b[0m ):\n\u001b[0;32m--> 380\u001b[0m     \u001b[38;5;28;01mreturn\u001b[39;00m [mapped_item \u001b[38;5;28;01mfor\u001b[39;00m batch \u001b[38;5;129;01min\u001b[39;00m iter_batched(data_struct, batch_size) \u001b[38;5;28;01mfor\u001b[39;00m mapped_item \u001b[38;5;129;01min\u001b[39;00m \u001b[43mfunction\u001b[49m\u001b[43m(\u001b[49m\u001b[43mbatch\u001b[49m\u001b[43m)\u001b[49m]\n\u001b[1;32m    382\u001b[0m \u001b[38;5;66;03m# Reduce logging to keep things readable in multiprocessing with tqdm\u001b[39;00m\n\u001b[1;32m    383\u001b[0m \u001b[38;5;28;01mif\u001b[39;00m rank \u001b[38;5;129;01mis\u001b[39;00m \u001b[38;5;129;01mnot\u001b[39;00m \u001b[38;5;28;01mNone\u001b[39;00m \u001b[38;5;129;01mand\u001b[39;00m logging\u001b[38;5;241m.\u001b[39mget_verbosity() \u001b[38;5;241m<\u001b[39m logging\u001b[38;5;241m.\u001b[39mWARNING:\n",
      "File \u001b[0;32m/opt/jlab-env-3.12.8/lib/python3.12/site-packages/datasets/download/download_manager.py:206\u001b[0m, in \u001b[0;36mDownloadManager._download_batched\u001b[0;34m(self, url_or_filenames, download_config)\u001b[0m\n\u001b[1;32m    201\u001b[0m         \u001b[38;5;28;01mpass\u001b[39;00m\n\u001b[1;32m    202\u001b[0m     max_workers \u001b[38;5;241m=\u001b[39m (\n\u001b[1;32m    203\u001b[0m         config\u001b[38;5;241m.\u001b[39mHF_DATASETS_MULTITHREADING_MAX_WORKERS \u001b[38;5;28;01mif\u001b[39;00m size \u001b[38;5;241m<\u001b[39m (\u001b[38;5;241m20\u001b[39m \u001b[38;5;241m<<\u001b[39m \u001b[38;5;241m20\u001b[39m) \u001b[38;5;28;01melse\u001b[39;00m \u001b[38;5;241m1\u001b[39m\n\u001b[1;32m    204\u001b[0m     )  \u001b[38;5;66;03m# enable multithreading if files are small\u001b[39;00m\n\u001b[0;32m--> 206\u001b[0m     \u001b[38;5;28;01mreturn\u001b[39;00m \u001b[43mthread_map\u001b[49m\u001b[43m(\u001b[49m\n\u001b[1;32m    207\u001b[0m \u001b[43m        \u001b[49m\u001b[43mdownload_func\u001b[49m\u001b[43m,\u001b[49m\n\u001b[1;32m    208\u001b[0m \u001b[43m        \u001b[49m\u001b[43murl_or_filenames\u001b[49m\u001b[43m,\u001b[49m\n\u001b[1;32m    209\u001b[0m \u001b[43m        \u001b[49m\u001b[43mdesc\u001b[49m\u001b[38;5;241;43m=\u001b[39;49m\u001b[43mdownload_config\u001b[49m\u001b[38;5;241;43m.\u001b[39;49m\u001b[43mdownload_desc\u001b[49m\u001b[43m \u001b[49m\u001b[38;5;129;43;01mor\u001b[39;49;00m\u001b[43m \u001b[49m\u001b[38;5;124;43m\"\u001b[39;49m\u001b[38;5;124;43mDownloading\u001b[39;49m\u001b[38;5;124;43m\"\u001b[39;49m\u001b[43m,\u001b[49m\n\u001b[1;32m    210\u001b[0m \u001b[43m        \u001b[49m\u001b[43munit\u001b[49m\u001b[38;5;241;43m=\u001b[39;49m\u001b[38;5;124;43m\"\u001b[39;49m\u001b[38;5;124;43mfiles\u001b[39;49m\u001b[38;5;124;43m\"\u001b[39;49m\u001b[43m,\u001b[49m\n\u001b[1;32m    211\u001b[0m \u001b[43m        \u001b[49m\u001b[43mposition\u001b[49m\u001b[38;5;241;43m=\u001b[39;49m\u001b[43mmultiprocessing\u001b[49m\u001b[38;5;241;43m.\u001b[39;49m\u001b[43mcurrent_process\u001b[49m\u001b[43m(\u001b[49m\u001b[43m)\u001b[49m\u001b[38;5;241;43m.\u001b[39;49m\u001b[43m_identity\u001b[49m\u001b[43m[\u001b[49m\u001b[38;5;241;43m-\u001b[39;49m\u001b[38;5;241;43m1\u001b[39;49m\u001b[43m]\u001b[49m\u001b[43m  \u001b[49m\u001b[38;5;66;43;03m# contains the ranks of subprocesses\u001b[39;49;00m\n\u001b[1;32m    212\u001b[0m \u001b[43m        \u001b[49m\u001b[38;5;28;43;01mif\u001b[39;49;00m\u001b[43m \u001b[49m\u001b[43mos\u001b[49m\u001b[38;5;241;43m.\u001b[39;49m\u001b[43menviron\u001b[49m\u001b[38;5;241;43m.\u001b[39;49m\u001b[43mget\u001b[49m\u001b[43m(\u001b[49m\u001b[38;5;124;43m\"\u001b[39;49m\u001b[38;5;124;43mHF_DATASETS_STACK_MULTIPROCESSING_DOWNLOAD_PROGRESS_BARS\u001b[39;49m\u001b[38;5;124;43m\"\u001b[39;49m\u001b[43m)\u001b[49m\u001b[43m \u001b[49m\u001b[38;5;241;43m==\u001b[39;49m\u001b[43m \u001b[49m\u001b[38;5;124;43m\"\u001b[39;49m\u001b[38;5;124;43m1\u001b[39;49m\u001b[38;5;124;43m\"\u001b[39;49m\n\u001b[1;32m    213\u001b[0m \u001b[43m        \u001b[49m\u001b[38;5;129;43;01mand\u001b[39;49;00m\u001b[43m \u001b[49m\u001b[43mmultiprocessing\u001b[49m\u001b[38;5;241;43m.\u001b[39;49m\u001b[43mcurrent_process\u001b[49m\u001b[43m(\u001b[49m\u001b[43m)\u001b[49m\u001b[38;5;241;43m.\u001b[39;49m\u001b[43m_identity\u001b[49m\n\u001b[1;32m    214\u001b[0m \u001b[43m        \u001b[49m\u001b[38;5;28;43;01melse\u001b[39;49;00m\u001b[43m \u001b[49m\u001b[38;5;28;43;01mNone\u001b[39;49;00m\u001b[43m,\u001b[49m\n\u001b[1;32m    215\u001b[0m \u001b[43m        \u001b[49m\u001b[43mmax_workers\u001b[49m\u001b[38;5;241;43m=\u001b[39;49m\u001b[43mmax_workers\u001b[49m\u001b[43m,\u001b[49m\n\u001b[1;32m    216\u001b[0m \u001b[43m        \u001b[49m\u001b[43mtqdm_class\u001b[49m\u001b[38;5;241;43m=\u001b[39;49m\u001b[43mtqdm\u001b[49m\u001b[43m,\u001b[49m\n\u001b[1;32m    217\u001b[0m \u001b[43m    \u001b[49m\u001b[43m)\u001b[49m\n\u001b[1;32m    218\u001b[0m \u001b[38;5;28;01melse\u001b[39;00m:\n\u001b[1;32m    219\u001b[0m     \u001b[38;5;28;01mreturn\u001b[39;00m [\n\u001b[1;32m    220\u001b[0m         \u001b[38;5;28mself\u001b[39m\u001b[38;5;241m.\u001b[39m_download_single(url_or_filename, download_config\u001b[38;5;241m=\u001b[39mdownload_config)\n\u001b[1;32m    221\u001b[0m         \u001b[38;5;28;01mfor\u001b[39;00m url_or_filename \u001b[38;5;129;01min\u001b[39;00m url_or_filenames\n\u001b[1;32m    222\u001b[0m     ]\n",
      "File \u001b[0;32m/opt/jlab-env-3.12.8/lib/python3.12/site-packages/tqdm/contrib/concurrent.py:69\u001b[0m, in \u001b[0;36mthread_map\u001b[0;34m(fn, *iterables, **tqdm_kwargs)\u001b[0m\n\u001b[1;32m     55\u001b[0m \u001b[38;5;250m\u001b[39m\u001b[38;5;124;03m\"\"\"\u001b[39;00m\n\u001b[1;32m     56\u001b[0m \u001b[38;5;124;03mEquivalent of `list(map(fn, *iterables))`\u001b[39;00m\n\u001b[1;32m     57\u001b[0m \u001b[38;5;124;03mdriven by `concurrent.futures.ThreadPoolExecutor`.\u001b[39;00m\n\u001b[0;32m   (...)\u001b[0m\n\u001b[1;32m     66\u001b[0m \u001b[38;5;124;03m    [default: max(32, cpu_count() + 4)].\u001b[39;00m\n\u001b[1;32m     67\u001b[0m \u001b[38;5;124;03m\"\"\"\u001b[39;00m\n\u001b[1;32m     68\u001b[0m \u001b[38;5;28;01mfrom\u001b[39;00m\u001b[38;5;250m \u001b[39m\u001b[38;5;21;01mconcurrent\u001b[39;00m\u001b[38;5;21;01m.\u001b[39;00m\u001b[38;5;21;01mfutures\u001b[39;00m\u001b[38;5;250m \u001b[39m\u001b[38;5;28;01mimport\u001b[39;00m ThreadPoolExecutor\n\u001b[0;32m---> 69\u001b[0m \u001b[38;5;28;01mreturn\u001b[39;00m \u001b[43m_executor_map\u001b[49m\u001b[43m(\u001b[49m\u001b[43mThreadPoolExecutor\u001b[49m\u001b[43m,\u001b[49m\u001b[43m \u001b[49m\u001b[43mfn\u001b[49m\u001b[43m,\u001b[49m\u001b[43m \u001b[49m\u001b[38;5;241;43m*\u001b[39;49m\u001b[43miterables\u001b[49m\u001b[43m,\u001b[49m\u001b[43m \u001b[49m\u001b[38;5;241;43m*\u001b[39;49m\u001b[38;5;241;43m*\u001b[39;49m\u001b[43mtqdm_kwargs\u001b[49m\u001b[43m)\u001b[49m\n",
      "File \u001b[0;32m/opt/jlab-env-3.12.8/lib/python3.12/site-packages/tqdm/contrib/concurrent.py:51\u001b[0m, in \u001b[0;36m_executor_map\u001b[0;34m(PoolExecutor, fn, *iterables, **tqdm_kwargs)\u001b[0m\n\u001b[1;32m     47\u001b[0m \u001b[38;5;28;01mwith\u001b[39;00m ensure_lock(tqdm_class, lock_name\u001b[38;5;241m=\u001b[39mlock_name) \u001b[38;5;28;01mas\u001b[39;00m lk:\n\u001b[1;32m     48\u001b[0m     \u001b[38;5;66;03m# share lock in case workers are already using `tqdm`\u001b[39;00m\n\u001b[1;32m     49\u001b[0m     \u001b[38;5;28;01mwith\u001b[39;00m PoolExecutor(max_workers\u001b[38;5;241m=\u001b[39mmax_workers, initializer\u001b[38;5;241m=\u001b[39mtqdm_class\u001b[38;5;241m.\u001b[39mset_lock,\n\u001b[1;32m     50\u001b[0m                       initargs\u001b[38;5;241m=\u001b[39m(lk,)) \u001b[38;5;28;01mas\u001b[39;00m ex:\n\u001b[0;32m---> 51\u001b[0m         \u001b[38;5;28;01mreturn\u001b[39;00m \u001b[38;5;28;43mlist\u001b[39;49m\u001b[43m(\u001b[49m\u001b[43mtqdm_class\u001b[49m\u001b[43m(\u001b[49m\u001b[43mex\u001b[49m\u001b[38;5;241;43m.\u001b[39;49m\u001b[43mmap\u001b[49m\u001b[43m(\u001b[49m\u001b[43mfn\u001b[49m\u001b[43m,\u001b[49m\u001b[43m \u001b[49m\u001b[38;5;241;43m*\u001b[39;49m\u001b[43miterables\u001b[49m\u001b[43m,\u001b[49m\u001b[43m \u001b[49m\u001b[43mchunksize\u001b[49m\u001b[38;5;241;43m=\u001b[39;49m\u001b[43mchunksize\u001b[49m\u001b[43m)\u001b[49m\u001b[43m,\u001b[49m\u001b[43m \u001b[49m\u001b[38;5;241;43m*\u001b[39;49m\u001b[38;5;241;43m*\u001b[39;49m\u001b[43mkwargs\u001b[49m\u001b[43m)\u001b[49m\u001b[43m)\u001b[49m\n",
      "File \u001b[0;32m/opt/jlab-env-3.12.8/lib/python3.12/site-packages/tqdm/notebook.py:250\u001b[0m, in \u001b[0;36mtqdm_notebook.__iter__\u001b[0;34m(self)\u001b[0m\n\u001b[1;32m    248\u001b[0m \u001b[38;5;28;01mtry\u001b[39;00m:\n\u001b[1;32m    249\u001b[0m     it \u001b[38;5;241m=\u001b[39m \u001b[38;5;28msuper\u001b[39m()\u001b[38;5;241m.\u001b[39m\u001b[38;5;21m__iter__\u001b[39m()\n\u001b[0;32m--> 250\u001b[0m \u001b[43m    \u001b[49m\u001b[38;5;28;43;01mfor\u001b[39;49;00m\u001b[43m \u001b[49m\u001b[43mobj\u001b[49m\u001b[43m \u001b[49m\u001b[38;5;129;43;01min\u001b[39;49;00m\u001b[43m \u001b[49m\u001b[43mit\u001b[49m\u001b[43m:\u001b[49m\n\u001b[1;32m    251\u001b[0m \u001b[43m        \u001b[49m\u001b[38;5;66;43;03m# return super(tqdm...) will not catch exception\u001b[39;49;00m\n\u001b[1;32m    252\u001b[0m \u001b[43m        \u001b[49m\u001b[38;5;28;43;01myield\u001b[39;49;00m\u001b[43m \u001b[49m\u001b[43mobj\u001b[49m\n\u001b[1;32m    253\u001b[0m \u001b[38;5;66;03m# NB: except ... [ as ...] breaks IPython async KeyboardInterrupt\u001b[39;00m\n",
      "File \u001b[0;32m/opt/jlab-env-3.12.8/lib/python3.12/site-packages/tqdm/std.py:1181\u001b[0m, in \u001b[0;36mtqdm.__iter__\u001b[0;34m(self)\u001b[0m\n\u001b[1;32m   1178\u001b[0m time \u001b[38;5;241m=\u001b[39m \u001b[38;5;28mself\u001b[39m\u001b[38;5;241m.\u001b[39m_time\n\u001b[1;32m   1180\u001b[0m \u001b[38;5;28;01mtry\u001b[39;00m:\n\u001b[0;32m-> 1181\u001b[0m \u001b[43m    \u001b[49m\u001b[38;5;28;43;01mfor\u001b[39;49;00m\u001b[43m \u001b[49m\u001b[43mobj\u001b[49m\u001b[43m \u001b[49m\u001b[38;5;129;43;01min\u001b[39;49;00m\u001b[43m \u001b[49m\u001b[43miterable\u001b[49m\u001b[43m:\u001b[49m\n\u001b[1;32m   1182\u001b[0m \u001b[43m        \u001b[49m\u001b[38;5;28;43;01myield\u001b[39;49;00m\u001b[43m \u001b[49m\u001b[43mobj\u001b[49m\n\u001b[1;32m   1183\u001b[0m \u001b[43m        \u001b[49m\u001b[38;5;66;43;03m# Update and possibly print the progressbar.\u001b[39;49;00m\n\u001b[1;32m   1184\u001b[0m \u001b[43m        \u001b[49m\u001b[38;5;66;43;03m# Note: does not call self.update(1) for speed optimisation.\u001b[39;49;00m\n",
      "File \u001b[0;32m/opt/jlab-env-3.12.8/lib/python3.12/concurrent/futures/_base.py:619\u001b[0m, in \u001b[0;36mExecutor.map.<locals>.result_iterator\u001b[0;34m()\u001b[0m\n\u001b[1;32m    616\u001b[0m \u001b[38;5;28;01mwhile\u001b[39;00m fs:\n\u001b[1;32m    617\u001b[0m     \u001b[38;5;66;03m# Careful not to keep a reference to the popped future\u001b[39;00m\n\u001b[1;32m    618\u001b[0m     \u001b[38;5;28;01mif\u001b[39;00m timeout \u001b[38;5;129;01mis\u001b[39;00m \u001b[38;5;28;01mNone\u001b[39;00m:\n\u001b[0;32m--> 619\u001b[0m         \u001b[38;5;28;01myield\u001b[39;00m \u001b[43m_result_or_cancel\u001b[49m\u001b[43m(\u001b[49m\u001b[43mfs\u001b[49m\u001b[38;5;241;43m.\u001b[39;49m\u001b[43mpop\u001b[49m\u001b[43m(\u001b[49m\u001b[43m)\u001b[49m\u001b[43m)\u001b[49m\n\u001b[1;32m    620\u001b[0m     \u001b[38;5;28;01melse\u001b[39;00m:\n\u001b[1;32m    621\u001b[0m         \u001b[38;5;28;01myield\u001b[39;00m _result_or_cancel(fs\u001b[38;5;241m.\u001b[39mpop(), end_time \u001b[38;5;241m-\u001b[39m time\u001b[38;5;241m.\u001b[39mmonotonic())\n",
      "File \u001b[0;32m/opt/jlab-env-3.12.8/lib/python3.12/concurrent/futures/_base.py:317\u001b[0m, in \u001b[0;36m_result_or_cancel\u001b[0;34m(***failed resolving arguments***)\u001b[0m\n\u001b[1;32m    315\u001b[0m \u001b[38;5;28;01mtry\u001b[39;00m:\n\u001b[1;32m    316\u001b[0m     \u001b[38;5;28;01mtry\u001b[39;00m:\n\u001b[0;32m--> 317\u001b[0m         \u001b[38;5;28;01mreturn\u001b[39;00m \u001b[43mfut\u001b[49m\u001b[38;5;241;43m.\u001b[39;49m\u001b[43mresult\u001b[49m\u001b[43m(\u001b[49m\u001b[43mtimeout\u001b[49m\u001b[43m)\u001b[49m\n\u001b[1;32m    318\u001b[0m     \u001b[38;5;28;01mfinally\u001b[39;00m:\n\u001b[1;32m    319\u001b[0m         fut\u001b[38;5;241m.\u001b[39mcancel()\n",
      "File \u001b[0;32m/opt/jlab-env-3.12.8/lib/python3.12/concurrent/futures/_base.py:456\u001b[0m, in \u001b[0;36mFuture.result\u001b[0;34m(self, timeout)\u001b[0m\n\u001b[1;32m    454\u001b[0m     \u001b[38;5;28;01mraise\u001b[39;00m CancelledError()\n\u001b[1;32m    455\u001b[0m \u001b[38;5;28;01melif\u001b[39;00m \u001b[38;5;28mself\u001b[39m\u001b[38;5;241m.\u001b[39m_state \u001b[38;5;241m==\u001b[39m FINISHED:\n\u001b[0;32m--> 456\u001b[0m     \u001b[38;5;28;01mreturn\u001b[39;00m \u001b[38;5;28;43mself\u001b[39;49m\u001b[38;5;241;43m.\u001b[39;49m\u001b[43m__get_result\u001b[49m\u001b[43m(\u001b[49m\u001b[43m)\u001b[49m\n\u001b[1;32m    457\u001b[0m \u001b[38;5;28;01melse\u001b[39;00m:\n\u001b[1;32m    458\u001b[0m     \u001b[38;5;28;01mraise\u001b[39;00m \u001b[38;5;167;01mTimeoutError\u001b[39;00m()\n",
      "File \u001b[0;32m/opt/jlab-env-3.12.8/lib/python3.12/concurrent/futures/_base.py:401\u001b[0m, in \u001b[0;36mFuture.__get_result\u001b[0;34m(self)\u001b[0m\n\u001b[1;32m    399\u001b[0m \u001b[38;5;28;01mif\u001b[39;00m \u001b[38;5;28mself\u001b[39m\u001b[38;5;241m.\u001b[39m_exception:\n\u001b[1;32m    400\u001b[0m     \u001b[38;5;28;01mtry\u001b[39;00m:\n\u001b[0;32m--> 401\u001b[0m         \u001b[38;5;28;01mraise\u001b[39;00m \u001b[38;5;28mself\u001b[39m\u001b[38;5;241m.\u001b[39m_exception\n\u001b[1;32m    402\u001b[0m     \u001b[38;5;28;01mfinally\u001b[39;00m:\n\u001b[1;32m    403\u001b[0m         \u001b[38;5;66;03m# Break a reference cycle with the exception in self._exception\u001b[39;00m\n\u001b[1;32m    404\u001b[0m         \u001b[38;5;28mself\u001b[39m \u001b[38;5;241m=\u001b[39m \u001b[38;5;28;01mNone\u001b[39;00m\n",
      "File \u001b[0;32m/opt/jlab-env-3.12.8/lib/python3.12/concurrent/futures/thread.py:59\u001b[0m, in \u001b[0;36m_WorkItem.run\u001b[0;34m(self)\u001b[0m\n\u001b[1;32m     56\u001b[0m     \u001b[38;5;28;01mreturn\u001b[39;00m\n\u001b[1;32m     58\u001b[0m \u001b[38;5;28;01mtry\u001b[39;00m:\n\u001b[0;32m---> 59\u001b[0m     result \u001b[38;5;241m=\u001b[39m \u001b[38;5;28;43mself\u001b[39;49m\u001b[38;5;241;43m.\u001b[39;49m\u001b[43mfn\u001b[49m\u001b[43m(\u001b[49m\u001b[38;5;241;43m*\u001b[39;49m\u001b[38;5;28;43mself\u001b[39;49m\u001b[38;5;241;43m.\u001b[39;49m\u001b[43margs\u001b[49m\u001b[43m,\u001b[49m\u001b[43m \u001b[49m\u001b[38;5;241;43m*\u001b[39;49m\u001b[38;5;241;43m*\u001b[39;49m\u001b[38;5;28;43mself\u001b[39;49m\u001b[38;5;241;43m.\u001b[39;49m\u001b[43mkwargs\u001b[49m\u001b[43m)\u001b[49m\n\u001b[1;32m     60\u001b[0m \u001b[38;5;28;01mexcept\u001b[39;00m \u001b[38;5;167;01mBaseException\u001b[39;00m \u001b[38;5;28;01mas\u001b[39;00m exc:\n\u001b[1;32m     61\u001b[0m     \u001b[38;5;28mself\u001b[39m\u001b[38;5;241m.\u001b[39mfuture\u001b[38;5;241m.\u001b[39mset_exception(exc)\n",
      "File \u001b[0;32m/opt/jlab-env-3.12.8/lib/python3.12/site-packages/datasets/download/download_manager.py:229\u001b[0m, in \u001b[0;36mDownloadManager._download_single\u001b[0;34m(self, url_or_filename, download_config)\u001b[0m\n\u001b[1;32m    226\u001b[0m \u001b[38;5;28;01mif\u001b[39;00m is_relative_path(url_or_filename):\n\u001b[1;32m    227\u001b[0m     \u001b[38;5;66;03m# append the relative path to the base_path\u001b[39;00m\n\u001b[1;32m    228\u001b[0m     url_or_filename \u001b[38;5;241m=\u001b[39m url_or_path_join(\u001b[38;5;28mself\u001b[39m\u001b[38;5;241m.\u001b[39m_base_path, url_or_filename)\n\u001b[0;32m--> 229\u001b[0m out \u001b[38;5;241m=\u001b[39m \u001b[43mcached_path\u001b[49m\u001b[43m(\u001b[49m\u001b[43murl_or_filename\u001b[49m\u001b[43m,\u001b[49m\u001b[43m \u001b[49m\u001b[43mdownload_config\u001b[49m\u001b[38;5;241;43m=\u001b[39;49m\u001b[43mdownload_config\u001b[49m\u001b[43m)\u001b[49m\n\u001b[1;32m    230\u001b[0m out \u001b[38;5;241m=\u001b[39m tracked_str(out)\n\u001b[1;32m    231\u001b[0m out\u001b[38;5;241m.\u001b[39mset_origin(url_or_filename)\n",
      "File \u001b[0;32m/opt/jlab-env-3.12.8/lib/python3.12/site-packages/datasets/utils/file_utils.py:188\u001b[0m, in \u001b[0;36mcached_path\u001b[0;34m(url_or_filename, download_config, **download_kwargs)\u001b[0m\n\u001b[1;32m    178\u001b[0m resolved_path \u001b[38;5;241m=\u001b[39m huggingface_hub\u001b[38;5;241m.\u001b[39mHfFileSystem(\n\u001b[1;32m    179\u001b[0m     endpoint\u001b[38;5;241m=\u001b[39mconfig\u001b[38;5;241m.\u001b[39mHF_ENDPOINT, token\u001b[38;5;241m=\u001b[39mdownload_config\u001b[38;5;241m.\u001b[39mtoken\n\u001b[1;32m    180\u001b[0m )\u001b[38;5;241m.\u001b[39mresolve_path(url_or_filename)\n\u001b[1;32m    181\u001b[0m \u001b[38;5;28;01mtry\u001b[39;00m:\n\u001b[1;32m    182\u001b[0m     output_path \u001b[38;5;241m=\u001b[39m \u001b[43mhuggingface_hub\u001b[49m\u001b[38;5;241;43m.\u001b[39;49m\u001b[43mHfApi\u001b[49m\u001b[43m(\u001b[49m\n\u001b[1;32m    183\u001b[0m \u001b[43m        \u001b[49m\u001b[43mendpoint\u001b[49m\u001b[38;5;241;43m=\u001b[39;49m\u001b[43mconfig\u001b[49m\u001b[38;5;241;43m.\u001b[39;49m\u001b[43mHF_ENDPOINT\u001b[49m\u001b[43m,\u001b[49m\n\u001b[1;32m    184\u001b[0m \u001b[43m        \u001b[49m\u001b[43mtoken\u001b[49m\u001b[38;5;241;43m=\u001b[39;49m\u001b[43mdownload_config\u001b[49m\u001b[38;5;241;43m.\u001b[39;49m\u001b[43mtoken\u001b[49m\u001b[43m,\u001b[49m\n\u001b[1;32m    185\u001b[0m \u001b[43m        \u001b[49m\u001b[43mlibrary_name\u001b[49m\u001b[38;5;241;43m=\u001b[39;49m\u001b[38;5;124;43m\"\u001b[39;49m\u001b[38;5;124;43mdatasets\u001b[39;49m\u001b[38;5;124;43m\"\u001b[39;49m\u001b[43m,\u001b[49m\n\u001b[1;32m    186\u001b[0m \u001b[43m        \u001b[49m\u001b[43mlibrary_version\u001b[49m\u001b[38;5;241;43m=\u001b[39;49m\u001b[43m__version__\u001b[49m\u001b[43m,\u001b[49m\n\u001b[1;32m    187\u001b[0m \u001b[43m        \u001b[49m\u001b[43muser_agent\u001b[49m\u001b[38;5;241;43m=\u001b[39;49m\u001b[43mget_datasets_user_agent\u001b[49m\u001b[43m(\u001b[49m\u001b[43mdownload_config\u001b[49m\u001b[38;5;241;43m.\u001b[39;49m\u001b[43muser_agent\u001b[49m\u001b[43m)\u001b[49m\u001b[43m,\u001b[49m\n\u001b[0;32m--> 188\u001b[0m \u001b[43m    \u001b[49m\u001b[43m)\u001b[49m\u001b[38;5;241;43m.\u001b[39;49m\u001b[43mhf_hub_download\u001b[49m\u001b[43m(\u001b[49m\n\u001b[1;32m    189\u001b[0m \u001b[43m        \u001b[49m\u001b[43mrepo_id\u001b[49m\u001b[38;5;241;43m=\u001b[39;49m\u001b[43mresolved_path\u001b[49m\u001b[38;5;241;43m.\u001b[39;49m\u001b[43mrepo_id\u001b[49m\u001b[43m,\u001b[49m\n\u001b[1;32m    190\u001b[0m \u001b[43m        \u001b[49m\u001b[43mrepo_type\u001b[49m\u001b[38;5;241;43m=\u001b[39;49m\u001b[43mresolved_path\u001b[49m\u001b[38;5;241;43m.\u001b[39;49m\u001b[43mrepo_type\u001b[49m\u001b[43m,\u001b[49m\n\u001b[1;32m    191\u001b[0m \u001b[43m        \u001b[49m\u001b[43mrevision\u001b[49m\u001b[38;5;241;43m=\u001b[39;49m\u001b[43mresolved_path\u001b[49m\u001b[38;5;241;43m.\u001b[39;49m\u001b[43mrevision\u001b[49m\u001b[43m,\u001b[49m\n\u001b[1;32m    192\u001b[0m \u001b[43m        \u001b[49m\u001b[43mfilename\u001b[49m\u001b[38;5;241;43m=\u001b[39;49m\u001b[43mresolved_path\u001b[49m\u001b[38;5;241;43m.\u001b[39;49m\u001b[43mpath_in_repo\u001b[49m\u001b[43m,\u001b[49m\n\u001b[1;32m    193\u001b[0m \u001b[43m        \u001b[49m\u001b[43mforce_download\u001b[49m\u001b[38;5;241;43m=\u001b[39;49m\u001b[43mdownload_config\u001b[49m\u001b[38;5;241;43m.\u001b[39;49m\u001b[43mforce_download\u001b[49m\u001b[43m,\u001b[49m\n\u001b[1;32m    194\u001b[0m \u001b[43m        \u001b[49m\u001b[43mproxies\u001b[49m\u001b[38;5;241;43m=\u001b[39;49m\u001b[43mdownload_config\u001b[49m\u001b[38;5;241;43m.\u001b[39;49m\u001b[43mproxies\u001b[49m\u001b[43m,\u001b[49m\n\u001b[1;32m    195\u001b[0m \u001b[43m    \u001b[49m\u001b[43m)\u001b[49m\n\u001b[1;32m    196\u001b[0m \u001b[38;5;28;01mexcept\u001b[39;00m (\n\u001b[1;32m    197\u001b[0m     huggingface_hub\u001b[38;5;241m.\u001b[39mutils\u001b[38;5;241m.\u001b[39mRepositoryNotFoundError,\n\u001b[1;32m    198\u001b[0m     huggingface_hub\u001b[38;5;241m.\u001b[39mutils\u001b[38;5;241m.\u001b[39mEntryNotFoundError,\n\u001b[1;32m    199\u001b[0m     huggingface_hub\u001b[38;5;241m.\u001b[39mutils\u001b[38;5;241m.\u001b[39mRevisionNotFoundError,\n\u001b[1;32m    200\u001b[0m     huggingface_hub\u001b[38;5;241m.\u001b[39mutils\u001b[38;5;241m.\u001b[39mGatedRepoError,\n\u001b[1;32m    201\u001b[0m ) \u001b[38;5;28;01mas\u001b[39;00m e:\n\u001b[1;32m    202\u001b[0m     \u001b[38;5;28;01mraise\u001b[39;00m \u001b[38;5;167;01mFileNotFoundError\u001b[39;00m(\u001b[38;5;28mstr\u001b[39m(e)) \u001b[38;5;28;01mfrom\u001b[39;00m\u001b[38;5;250m \u001b[39m\u001b[38;5;21;01me\u001b[39;00m\n",
      "File \u001b[0;32m~/my_venvs/mnlp_m2/lib/python3.12/site-packages/huggingface_hub/utils/_validators.py:114\u001b[0m, in \u001b[0;36mvalidate_hf_hub_args.<locals>._inner_fn\u001b[0;34m(*args, **kwargs)\u001b[0m\n\u001b[1;32m    111\u001b[0m \u001b[38;5;28;01mif\u001b[39;00m check_use_auth_token:\n\u001b[1;32m    112\u001b[0m     kwargs \u001b[38;5;241m=\u001b[39m smoothly_deprecate_use_auth_token(fn_name\u001b[38;5;241m=\u001b[39mfn\u001b[38;5;241m.\u001b[39m\u001b[38;5;18m__name__\u001b[39m, has_token\u001b[38;5;241m=\u001b[39mhas_token, kwargs\u001b[38;5;241m=\u001b[39mkwargs)\n\u001b[0;32m--> 114\u001b[0m \u001b[38;5;28;01mreturn\u001b[39;00m \u001b[43mfn\u001b[49m\u001b[43m(\u001b[49m\u001b[38;5;241;43m*\u001b[39;49m\u001b[43margs\u001b[49m\u001b[43m,\u001b[49m\u001b[43m \u001b[49m\u001b[38;5;241;43m*\u001b[39;49m\u001b[38;5;241;43m*\u001b[39;49m\u001b[43mkwargs\u001b[49m\u001b[43m)\u001b[49m\n",
      "File \u001b[0;32m~/my_venvs/mnlp_m2/lib/python3.12/site-packages/huggingface_hub/hf_api.py:5483\u001b[0m, in \u001b[0;36mHfApi.hf_hub_download\u001b[0;34m(self, repo_id, filename, subfolder, repo_type, revision, cache_dir, local_dir, force_download, proxies, etag_timeout, token, local_files_only, resume_download, force_filename, local_dir_use_symlinks)\u001b[0m\n\u001b[1;32m   5479\u001b[0m \u001b[38;5;28;01mif\u001b[39;00m token \u001b[38;5;129;01mis\u001b[39;00m \u001b[38;5;28;01mNone\u001b[39;00m:\n\u001b[1;32m   5480\u001b[0m     \u001b[38;5;66;03m# Cannot do `token = token or self.token` as token can be `False`.\u001b[39;00m\n\u001b[1;32m   5481\u001b[0m     token \u001b[38;5;241m=\u001b[39m \u001b[38;5;28mself\u001b[39m\u001b[38;5;241m.\u001b[39mtoken\n\u001b[0;32m-> 5483\u001b[0m \u001b[38;5;28;01mreturn\u001b[39;00m \u001b[43mhf_hub_download\u001b[49m\u001b[43m(\u001b[49m\n\u001b[1;32m   5484\u001b[0m \u001b[43m    \u001b[49m\u001b[43mrepo_id\u001b[49m\u001b[38;5;241;43m=\u001b[39;49m\u001b[43mrepo_id\u001b[49m\u001b[43m,\u001b[49m\n\u001b[1;32m   5485\u001b[0m \u001b[43m    \u001b[49m\u001b[43mfilename\u001b[49m\u001b[38;5;241;43m=\u001b[39;49m\u001b[43mfilename\u001b[49m\u001b[43m,\u001b[49m\n\u001b[1;32m   5486\u001b[0m \u001b[43m    \u001b[49m\u001b[43msubfolder\u001b[49m\u001b[38;5;241;43m=\u001b[39;49m\u001b[43msubfolder\u001b[49m\u001b[43m,\u001b[49m\n\u001b[1;32m   5487\u001b[0m \u001b[43m    \u001b[49m\u001b[43mrepo_type\u001b[49m\u001b[38;5;241;43m=\u001b[39;49m\u001b[43mrepo_type\u001b[49m\u001b[43m,\u001b[49m\n\u001b[1;32m   5488\u001b[0m \u001b[43m    \u001b[49m\u001b[43mrevision\u001b[49m\u001b[38;5;241;43m=\u001b[39;49m\u001b[43mrevision\u001b[49m\u001b[43m,\u001b[49m\n\u001b[1;32m   5489\u001b[0m \u001b[43m    \u001b[49m\u001b[43mendpoint\u001b[49m\u001b[38;5;241;43m=\u001b[39;49m\u001b[38;5;28;43mself\u001b[39;49m\u001b[38;5;241;43m.\u001b[39;49m\u001b[43mendpoint\u001b[49m\u001b[43m,\u001b[49m\n\u001b[1;32m   5490\u001b[0m \u001b[43m    \u001b[49m\u001b[43mlibrary_name\u001b[49m\u001b[38;5;241;43m=\u001b[39;49m\u001b[38;5;28;43mself\u001b[39;49m\u001b[38;5;241;43m.\u001b[39;49m\u001b[43mlibrary_name\u001b[49m\u001b[43m,\u001b[49m\n\u001b[1;32m   5491\u001b[0m \u001b[43m    \u001b[49m\u001b[43mlibrary_version\u001b[49m\u001b[38;5;241;43m=\u001b[39;49m\u001b[38;5;28;43mself\u001b[39;49m\u001b[38;5;241;43m.\u001b[39;49m\u001b[43mlibrary_version\u001b[49m\u001b[43m,\u001b[49m\n\u001b[1;32m   5492\u001b[0m \u001b[43m    \u001b[49m\u001b[43mcache_dir\u001b[49m\u001b[38;5;241;43m=\u001b[39;49m\u001b[43mcache_dir\u001b[49m\u001b[43m,\u001b[49m\n\u001b[1;32m   5493\u001b[0m \u001b[43m    \u001b[49m\u001b[43mlocal_dir\u001b[49m\u001b[38;5;241;43m=\u001b[39;49m\u001b[43mlocal_dir\u001b[49m\u001b[43m,\u001b[49m\n\u001b[1;32m   5494\u001b[0m \u001b[43m    \u001b[49m\u001b[43mlocal_dir_use_symlinks\u001b[49m\u001b[38;5;241;43m=\u001b[39;49m\u001b[43mlocal_dir_use_symlinks\u001b[49m\u001b[43m,\u001b[49m\n\u001b[1;32m   5495\u001b[0m \u001b[43m    \u001b[49m\u001b[43muser_agent\u001b[49m\u001b[38;5;241;43m=\u001b[39;49m\u001b[38;5;28;43mself\u001b[39;49m\u001b[38;5;241;43m.\u001b[39;49m\u001b[43muser_agent\u001b[49m\u001b[43m,\u001b[49m\n\u001b[1;32m   5496\u001b[0m \u001b[43m    \u001b[49m\u001b[43mforce_download\u001b[49m\u001b[38;5;241;43m=\u001b[39;49m\u001b[43mforce_download\u001b[49m\u001b[43m,\u001b[49m\n\u001b[1;32m   5497\u001b[0m \u001b[43m    \u001b[49m\u001b[43mforce_filename\u001b[49m\u001b[38;5;241;43m=\u001b[39;49m\u001b[43mforce_filename\u001b[49m\u001b[43m,\u001b[49m\n\u001b[1;32m   5498\u001b[0m \u001b[43m    \u001b[49m\u001b[43mproxies\u001b[49m\u001b[38;5;241;43m=\u001b[39;49m\u001b[43mproxies\u001b[49m\u001b[43m,\u001b[49m\n\u001b[1;32m   5499\u001b[0m \u001b[43m    \u001b[49m\u001b[43metag_timeout\u001b[49m\u001b[38;5;241;43m=\u001b[39;49m\u001b[43metag_timeout\u001b[49m\u001b[43m,\u001b[49m\n\u001b[1;32m   5500\u001b[0m \u001b[43m    \u001b[49m\u001b[43mresume_download\u001b[49m\u001b[38;5;241;43m=\u001b[39;49m\u001b[43mresume_download\u001b[49m\u001b[43m,\u001b[49m\n\u001b[1;32m   5501\u001b[0m \u001b[43m    \u001b[49m\u001b[43mtoken\u001b[49m\u001b[38;5;241;43m=\u001b[39;49m\u001b[43mtoken\u001b[49m\u001b[43m,\u001b[49m\n\u001b[1;32m   5502\u001b[0m \u001b[43m    \u001b[49m\u001b[43mheaders\u001b[49m\u001b[38;5;241;43m=\u001b[39;49m\u001b[38;5;28;43mself\u001b[39;49m\u001b[38;5;241;43m.\u001b[39;49m\u001b[43mheaders\u001b[49m\u001b[43m,\u001b[49m\n\u001b[1;32m   5503\u001b[0m \u001b[43m    \u001b[49m\u001b[43mlocal_files_only\u001b[49m\u001b[38;5;241;43m=\u001b[39;49m\u001b[43mlocal_files_only\u001b[49m\u001b[43m,\u001b[49m\n\u001b[1;32m   5504\u001b[0m \u001b[43m\u001b[49m\u001b[43m)\u001b[49m\n",
      "File \u001b[0;32m~/my_venvs/mnlp_m2/lib/python3.12/site-packages/huggingface_hub/utils/_validators.py:114\u001b[0m, in \u001b[0;36mvalidate_hf_hub_args.<locals>._inner_fn\u001b[0;34m(*args, **kwargs)\u001b[0m\n\u001b[1;32m    111\u001b[0m \u001b[38;5;28;01mif\u001b[39;00m check_use_auth_token:\n\u001b[1;32m    112\u001b[0m     kwargs \u001b[38;5;241m=\u001b[39m smoothly_deprecate_use_auth_token(fn_name\u001b[38;5;241m=\u001b[39mfn\u001b[38;5;241m.\u001b[39m\u001b[38;5;18m__name__\u001b[39m, has_token\u001b[38;5;241m=\u001b[39mhas_token, kwargs\u001b[38;5;241m=\u001b[39mkwargs)\n\u001b[0;32m--> 114\u001b[0m \u001b[38;5;28;01mreturn\u001b[39;00m \u001b[43mfn\u001b[49m\u001b[43m(\u001b[49m\u001b[38;5;241;43m*\u001b[39;49m\u001b[43margs\u001b[49m\u001b[43m,\u001b[49m\u001b[43m \u001b[49m\u001b[38;5;241;43m*\u001b[39;49m\u001b[38;5;241;43m*\u001b[39;49m\u001b[43mkwargs\u001b[49m\u001b[43m)\u001b[49m\n",
      "File \u001b[0;32m~/my_venvs/mnlp_m2/lib/python3.12/site-packages/huggingface_hub/file_download.py:1008\u001b[0m, in \u001b[0;36mhf_hub_download\u001b[0;34m(repo_id, filename, subfolder, repo_type, revision, library_name, library_version, cache_dir, local_dir, user_agent, force_download, proxies, etag_timeout, token, local_files_only, headers, endpoint, resume_download, force_filename, local_dir_use_symlinks)\u001b[0m\n\u001b[1;32m    988\u001b[0m     \u001b[38;5;28;01mreturn\u001b[39;00m _hf_hub_download_to_local_dir(\n\u001b[1;32m    989\u001b[0m         \u001b[38;5;66;03m# Destination\u001b[39;00m\n\u001b[1;32m    990\u001b[0m         local_dir\u001b[38;5;241m=\u001b[39mlocal_dir,\n\u001b[0;32m   (...)\u001b[0m\n\u001b[1;32m   1005\u001b[0m         local_files_only\u001b[38;5;241m=\u001b[39mlocal_files_only,\n\u001b[1;32m   1006\u001b[0m     )\n\u001b[1;32m   1007\u001b[0m \u001b[38;5;28;01melse\u001b[39;00m:\n\u001b[0;32m-> 1008\u001b[0m     \u001b[38;5;28;01mreturn\u001b[39;00m \u001b[43m_hf_hub_download_to_cache_dir\u001b[49m\u001b[43m(\u001b[49m\n\u001b[1;32m   1009\u001b[0m \u001b[43m        \u001b[49m\u001b[38;5;66;43;03m# Destination\u001b[39;49;00m\n\u001b[1;32m   1010\u001b[0m \u001b[43m        \u001b[49m\u001b[43mcache_dir\u001b[49m\u001b[38;5;241;43m=\u001b[39;49m\u001b[43mcache_dir\u001b[49m\u001b[43m,\u001b[49m\n\u001b[1;32m   1011\u001b[0m \u001b[43m        \u001b[49m\u001b[38;5;66;43;03m# File info\u001b[39;49;00m\n\u001b[1;32m   1012\u001b[0m \u001b[43m        \u001b[49m\u001b[43mrepo_id\u001b[49m\u001b[38;5;241;43m=\u001b[39;49m\u001b[43mrepo_id\u001b[49m\u001b[43m,\u001b[49m\n\u001b[1;32m   1013\u001b[0m \u001b[43m        \u001b[49m\u001b[43mfilename\u001b[49m\u001b[38;5;241;43m=\u001b[39;49m\u001b[43mfilename\u001b[49m\u001b[43m,\u001b[49m\n\u001b[1;32m   1014\u001b[0m \u001b[43m        \u001b[49m\u001b[43mrepo_type\u001b[49m\u001b[38;5;241;43m=\u001b[39;49m\u001b[43mrepo_type\u001b[49m\u001b[43m,\u001b[49m\n\u001b[1;32m   1015\u001b[0m \u001b[43m        \u001b[49m\u001b[43mrevision\u001b[49m\u001b[38;5;241;43m=\u001b[39;49m\u001b[43mrevision\u001b[49m\u001b[43m,\u001b[49m\n\u001b[1;32m   1016\u001b[0m \u001b[43m        \u001b[49m\u001b[38;5;66;43;03m# HTTP info\u001b[39;49;00m\n\u001b[1;32m   1017\u001b[0m \u001b[43m        \u001b[49m\u001b[43mendpoint\u001b[49m\u001b[38;5;241;43m=\u001b[39;49m\u001b[43mendpoint\u001b[49m\u001b[43m,\u001b[49m\n\u001b[1;32m   1018\u001b[0m \u001b[43m        \u001b[49m\u001b[43metag_timeout\u001b[49m\u001b[38;5;241;43m=\u001b[39;49m\u001b[43metag_timeout\u001b[49m\u001b[43m,\u001b[49m\n\u001b[1;32m   1019\u001b[0m \u001b[43m        \u001b[49m\u001b[43mheaders\u001b[49m\u001b[38;5;241;43m=\u001b[39;49m\u001b[43mhf_headers\u001b[49m\u001b[43m,\u001b[49m\n\u001b[1;32m   1020\u001b[0m \u001b[43m        \u001b[49m\u001b[43mproxies\u001b[49m\u001b[38;5;241;43m=\u001b[39;49m\u001b[43mproxies\u001b[49m\u001b[43m,\u001b[49m\n\u001b[1;32m   1021\u001b[0m \u001b[43m        \u001b[49m\u001b[43mtoken\u001b[49m\u001b[38;5;241;43m=\u001b[39;49m\u001b[43mtoken\u001b[49m\u001b[43m,\u001b[49m\n\u001b[1;32m   1022\u001b[0m \u001b[43m        \u001b[49m\u001b[38;5;66;43;03m# Additional options\u001b[39;49;00m\n\u001b[1;32m   1023\u001b[0m \u001b[43m        \u001b[49m\u001b[43mlocal_files_only\u001b[49m\u001b[38;5;241;43m=\u001b[39;49m\u001b[43mlocal_files_only\u001b[49m\u001b[43m,\u001b[49m\n\u001b[1;32m   1024\u001b[0m \u001b[43m        \u001b[49m\u001b[43mforce_download\u001b[49m\u001b[38;5;241;43m=\u001b[39;49m\u001b[43mforce_download\u001b[49m\u001b[43m,\u001b[49m\n\u001b[1;32m   1025\u001b[0m \u001b[43m    \u001b[49m\u001b[43m)\u001b[49m\n",
      "File \u001b[0;32m~/my_venvs/mnlp_m2/lib/python3.12/site-packages/huggingface_hub/file_download.py:1159\u001b[0m, in \u001b[0;36m_hf_hub_download_to_cache_dir\u001b[0;34m(cache_dir, repo_id, filename, repo_type, revision, endpoint, etag_timeout, headers, proxies, token, local_files_only, force_download)\u001b[0m\n\u001b[1;32m   1157\u001b[0m Path(lock_path)\u001b[38;5;241m.\u001b[39mparent\u001b[38;5;241m.\u001b[39mmkdir(parents\u001b[38;5;241m=\u001b[39m\u001b[38;5;28;01mTrue\u001b[39;00m, exist_ok\u001b[38;5;241m=\u001b[39m\u001b[38;5;28;01mTrue\u001b[39;00m)\n\u001b[1;32m   1158\u001b[0m \u001b[38;5;28;01mwith\u001b[39;00m WeakFileLock(lock_path):\n\u001b[0;32m-> 1159\u001b[0m     \u001b[43m_download_to_tmp_and_move\u001b[49m\u001b[43m(\u001b[49m\n\u001b[1;32m   1160\u001b[0m \u001b[43m        \u001b[49m\u001b[43mincomplete_path\u001b[49m\u001b[38;5;241;43m=\u001b[39;49m\u001b[43mPath\u001b[49m\u001b[43m(\u001b[49m\u001b[43mblob_path\u001b[49m\u001b[43m \u001b[49m\u001b[38;5;241;43m+\u001b[39;49m\u001b[43m \u001b[49m\u001b[38;5;124;43m\"\u001b[39;49m\u001b[38;5;124;43m.incomplete\u001b[39;49m\u001b[38;5;124;43m\"\u001b[39;49m\u001b[43m)\u001b[49m\u001b[43m,\u001b[49m\n\u001b[1;32m   1161\u001b[0m \u001b[43m        \u001b[49m\u001b[43mdestination_path\u001b[49m\u001b[38;5;241;43m=\u001b[39;49m\u001b[43mPath\u001b[49m\u001b[43m(\u001b[49m\u001b[43mblob_path\u001b[49m\u001b[43m)\u001b[49m\u001b[43m,\u001b[49m\n\u001b[1;32m   1162\u001b[0m \u001b[43m        \u001b[49m\u001b[43murl_to_download\u001b[49m\u001b[38;5;241;43m=\u001b[39;49m\u001b[43murl_to_download\u001b[49m\u001b[43m,\u001b[49m\n\u001b[1;32m   1163\u001b[0m \u001b[43m        \u001b[49m\u001b[43mproxies\u001b[49m\u001b[38;5;241;43m=\u001b[39;49m\u001b[43mproxies\u001b[49m\u001b[43m,\u001b[49m\n\u001b[1;32m   1164\u001b[0m \u001b[43m        \u001b[49m\u001b[43mheaders\u001b[49m\u001b[38;5;241;43m=\u001b[39;49m\u001b[43mheaders\u001b[49m\u001b[43m,\u001b[49m\n\u001b[1;32m   1165\u001b[0m \u001b[43m        \u001b[49m\u001b[43mexpected_size\u001b[49m\u001b[38;5;241;43m=\u001b[39;49m\u001b[43mexpected_size\u001b[49m\u001b[43m,\u001b[49m\n\u001b[1;32m   1166\u001b[0m \u001b[43m        \u001b[49m\u001b[43mfilename\u001b[49m\u001b[38;5;241;43m=\u001b[39;49m\u001b[43mfilename\u001b[49m\u001b[43m,\u001b[49m\n\u001b[1;32m   1167\u001b[0m \u001b[43m        \u001b[49m\u001b[43mforce_download\u001b[49m\u001b[38;5;241;43m=\u001b[39;49m\u001b[43mforce_download\u001b[49m\u001b[43m,\u001b[49m\n\u001b[1;32m   1168\u001b[0m \u001b[43m        \u001b[49m\u001b[43metag\u001b[49m\u001b[38;5;241;43m=\u001b[39;49m\u001b[43metag\u001b[49m\u001b[43m,\u001b[49m\n\u001b[1;32m   1169\u001b[0m \u001b[43m        \u001b[49m\u001b[43mxet_file_data\u001b[49m\u001b[38;5;241;43m=\u001b[39;49m\u001b[43mxet_file_data\u001b[49m\u001b[43m,\u001b[49m\n\u001b[1;32m   1170\u001b[0m \u001b[43m    \u001b[49m\u001b[43m)\u001b[49m\n\u001b[1;32m   1171\u001b[0m     \u001b[38;5;28;01mif\u001b[39;00m \u001b[38;5;129;01mnot\u001b[39;00m os\u001b[38;5;241m.\u001b[39mpath\u001b[38;5;241m.\u001b[39mexists(pointer_path):\n\u001b[1;32m   1172\u001b[0m         _create_symlink(blob_path, pointer_path, new_blob\u001b[38;5;241m=\u001b[39m\u001b[38;5;28;01mTrue\u001b[39;00m)\n",
      "File \u001b[0;32m~/my_venvs/mnlp_m2/lib/python3.12/site-packages/huggingface_hub/file_download.py:1723\u001b[0m, in \u001b[0;36m_download_to_tmp_and_move\u001b[0;34m(incomplete_path, destination_path, url_to_download, proxies, headers, expected_size, filename, force_download, etag, xet_file_data)\u001b[0m\n\u001b[1;32m   1716\u001b[0m         \u001b[38;5;28;01mif\u001b[39;00m xet_file_data \u001b[38;5;129;01mis\u001b[39;00m \u001b[38;5;129;01mnot\u001b[39;00m \u001b[38;5;28;01mNone\u001b[39;00m:\n\u001b[1;32m   1717\u001b[0m             logger\u001b[38;5;241m.\u001b[39mwarning(\n\u001b[1;32m   1718\u001b[0m                 \u001b[38;5;124m\"\u001b[39m\u001b[38;5;124mXet Storage is enabled for this repo, but the \u001b[39m\u001b[38;5;124m'\u001b[39m\u001b[38;5;124mhf_xet\u001b[39m\u001b[38;5;124m'\u001b[39m\u001b[38;5;124m package is not installed. \u001b[39m\u001b[38;5;124m\"\u001b[39m\n\u001b[1;32m   1719\u001b[0m                 \u001b[38;5;124m\"\u001b[39m\u001b[38;5;124mFalling back to regular HTTP download. \u001b[39m\u001b[38;5;124m\"\u001b[39m\n\u001b[1;32m   1720\u001b[0m                 \u001b[38;5;124m\"\u001b[39m\u001b[38;5;124mFor better performance, install the package with: `pip install huggingface_hub[hf_xet]` or `pip install hf_xet`\u001b[39m\u001b[38;5;124m\"\u001b[39m\n\u001b[1;32m   1721\u001b[0m             )\n\u001b[0;32m-> 1723\u001b[0m         \u001b[43mhttp_get\u001b[49m\u001b[43m(\u001b[49m\n\u001b[1;32m   1724\u001b[0m \u001b[43m            \u001b[49m\u001b[43murl_to_download\u001b[49m\u001b[43m,\u001b[49m\n\u001b[1;32m   1725\u001b[0m \u001b[43m            \u001b[49m\u001b[43mf\u001b[49m\u001b[43m,\u001b[49m\n\u001b[1;32m   1726\u001b[0m \u001b[43m            \u001b[49m\u001b[43mproxies\u001b[49m\u001b[38;5;241;43m=\u001b[39;49m\u001b[43mproxies\u001b[49m\u001b[43m,\u001b[49m\n\u001b[1;32m   1727\u001b[0m \u001b[43m            \u001b[49m\u001b[43mresume_size\u001b[49m\u001b[38;5;241;43m=\u001b[39;49m\u001b[43mresume_size\u001b[49m\u001b[43m,\u001b[49m\n\u001b[1;32m   1728\u001b[0m \u001b[43m            \u001b[49m\u001b[43mheaders\u001b[49m\u001b[38;5;241;43m=\u001b[39;49m\u001b[43mheaders\u001b[49m\u001b[43m,\u001b[49m\n\u001b[1;32m   1729\u001b[0m \u001b[43m            \u001b[49m\u001b[43mexpected_size\u001b[49m\u001b[38;5;241;43m=\u001b[39;49m\u001b[43mexpected_size\u001b[49m\u001b[43m,\u001b[49m\n\u001b[1;32m   1730\u001b[0m \u001b[43m        \u001b[49m\u001b[43m)\u001b[49m\n\u001b[1;32m   1732\u001b[0m logger\u001b[38;5;241m.\u001b[39minfo(\u001b[38;5;124mf\u001b[39m\u001b[38;5;124m\"\u001b[39m\u001b[38;5;124mDownload complete. Moving file to \u001b[39m\u001b[38;5;132;01m{\u001b[39;00mdestination_path\u001b[38;5;132;01m}\u001b[39;00m\u001b[38;5;124m\"\u001b[39m)\n\u001b[1;32m   1733\u001b[0m _chmod_and_move(incomplete_path, destination_path)\n",
      "File \u001b[0;32m~/my_venvs/mnlp_m2/lib/python3.12/site-packages/huggingface_hub/file_download.py:420\u001b[0m, in \u001b[0;36mhttp_get\u001b[0;34m(url, temp_file, proxies, resume_size, headers, expected_size, displayed_filename, _nb_retries, _tqdm_bar)\u001b[0m\n\u001b[1;32m    414\u001b[0m     \u001b[38;5;28;01melse\u001b[39;00m:\n\u001b[1;32m    415\u001b[0m         \u001b[38;5;28;01mraise\u001b[39;00m \u001b[38;5;167;01mValueError\u001b[39;00m(\n\u001b[1;32m    416\u001b[0m             \u001b[38;5;124m\"\u001b[39m\u001b[38;5;124mThe file is too large to be downloaded using the regular download method. Use `hf_transfer` or `hf_xet` instead.\u001b[39m\u001b[38;5;124m\"\u001b[39m\n\u001b[1;32m    417\u001b[0m             \u001b[38;5;124m\"\u001b[39m\u001b[38;5;124m Try `pip install hf_transfer` or `pip install hf_xet`.\u001b[39m\u001b[38;5;124m\"\u001b[39m\n\u001b[1;32m    418\u001b[0m         )\n\u001b[0;32m--> 420\u001b[0m r \u001b[38;5;241m=\u001b[39m \u001b[43m_request_wrapper\u001b[49m\u001b[43m(\u001b[49m\n\u001b[1;32m    421\u001b[0m \u001b[43m    \u001b[49m\u001b[43mmethod\u001b[49m\u001b[38;5;241;43m=\u001b[39;49m\u001b[38;5;124;43m\"\u001b[39;49m\u001b[38;5;124;43mGET\u001b[39;49m\u001b[38;5;124;43m\"\u001b[39;49m\u001b[43m,\u001b[49m\u001b[43m \u001b[49m\u001b[43murl\u001b[49m\u001b[38;5;241;43m=\u001b[39;49m\u001b[43murl\u001b[49m\u001b[43m,\u001b[49m\u001b[43m \u001b[49m\u001b[43mstream\u001b[49m\u001b[38;5;241;43m=\u001b[39;49m\u001b[38;5;28;43;01mTrue\u001b[39;49;00m\u001b[43m,\u001b[49m\u001b[43m \u001b[49m\u001b[43mproxies\u001b[49m\u001b[38;5;241;43m=\u001b[39;49m\u001b[43mproxies\u001b[49m\u001b[43m,\u001b[49m\u001b[43m \u001b[49m\u001b[43mheaders\u001b[49m\u001b[38;5;241;43m=\u001b[39;49m\u001b[43mheaders\u001b[49m\u001b[43m,\u001b[49m\u001b[43m \u001b[49m\u001b[43mtimeout\u001b[49m\u001b[38;5;241;43m=\u001b[39;49m\u001b[43mconstants\u001b[49m\u001b[38;5;241;43m.\u001b[39;49m\u001b[43mHF_HUB_DOWNLOAD_TIMEOUT\u001b[49m\n\u001b[1;32m    422\u001b[0m \u001b[43m\u001b[49m\u001b[43m)\u001b[49m\n\u001b[1;32m    424\u001b[0m hf_raise_for_status(r)\n\u001b[1;32m    425\u001b[0m content_length \u001b[38;5;241m=\u001b[39m _get_file_length_from_http_response(r)\n",
      "File \u001b[0;32m~/my_venvs/mnlp_m2/lib/python3.12/site-packages/huggingface_hub/file_download.py:309\u001b[0m, in \u001b[0;36m_request_wrapper\u001b[0;34m(method, url, follow_relative_redirects, **params)\u001b[0m\n\u001b[1;32m    306\u001b[0m     \u001b[38;5;28;01mreturn\u001b[39;00m response\n\u001b[1;32m    308\u001b[0m \u001b[38;5;66;03m# Perform request and return if status_code is not in the retry list.\u001b[39;00m\n\u001b[0;32m--> 309\u001b[0m response \u001b[38;5;241m=\u001b[39m \u001b[43mhttp_backoff\u001b[49m\u001b[43m(\u001b[49m\u001b[43mmethod\u001b[49m\u001b[38;5;241;43m=\u001b[39;49m\u001b[43mmethod\u001b[49m\u001b[43m,\u001b[49m\u001b[43m \u001b[49m\u001b[43murl\u001b[49m\u001b[38;5;241;43m=\u001b[39;49m\u001b[43murl\u001b[49m\u001b[43m,\u001b[49m\u001b[43m \u001b[49m\u001b[38;5;241;43m*\u001b[39;49m\u001b[38;5;241;43m*\u001b[39;49m\u001b[43mparams\u001b[49m\u001b[43m,\u001b[49m\u001b[43m \u001b[49m\u001b[43mretry_on_exceptions\u001b[49m\u001b[38;5;241;43m=\u001b[39;49m\u001b[43m(\u001b[49m\u001b[43m)\u001b[49m\u001b[43m,\u001b[49m\u001b[43m \u001b[49m\u001b[43mretry_on_status_codes\u001b[49m\u001b[38;5;241;43m=\u001b[39;49m\u001b[43m(\u001b[49m\u001b[38;5;241;43m429\u001b[39;49m\u001b[43m,\u001b[49m\u001b[43m)\u001b[49m\u001b[43m)\u001b[49m\n\u001b[1;32m    310\u001b[0m hf_raise_for_status(response)\n\u001b[1;32m    311\u001b[0m \u001b[38;5;28;01mreturn\u001b[39;00m response\n",
      "File \u001b[0;32m~/my_venvs/mnlp_m2/lib/python3.12/site-packages/huggingface_hub/utils/_http.py:317\u001b[0m, in \u001b[0;36mhttp_backoff\u001b[0;34m(method, url, max_retries, base_wait_time, max_wait_time, retry_on_exceptions, retry_on_status_codes, **kwargs)\u001b[0m\n\u001b[1;32m    315\u001b[0m logger\u001b[38;5;241m.\u001b[39mwarning(\u001b[38;5;124mf\u001b[39m\u001b[38;5;124m\"\u001b[39m\u001b[38;5;124mHTTP Error \u001b[39m\u001b[38;5;132;01m{\u001b[39;00mresponse\u001b[38;5;241m.\u001b[39mstatus_code\u001b[38;5;132;01m}\u001b[39;00m\u001b[38;5;124m thrown while requesting \u001b[39m\u001b[38;5;132;01m{\u001b[39;00mmethod\u001b[38;5;132;01m}\u001b[39;00m\u001b[38;5;124m \u001b[39m\u001b[38;5;132;01m{\u001b[39;00murl\u001b[38;5;132;01m}\u001b[39;00m\u001b[38;5;124m\"\u001b[39m)\n\u001b[1;32m    316\u001b[0m \u001b[38;5;28;01mif\u001b[39;00m nb_tries \u001b[38;5;241m>\u001b[39m max_retries:\n\u001b[0;32m--> 317\u001b[0m     \u001b[43mresponse\u001b[49m\u001b[38;5;241;43m.\u001b[39;49m\u001b[43mraise_for_status\u001b[49m\u001b[43m(\u001b[49m\u001b[43m)\u001b[49m  \u001b[38;5;66;03m# Will raise uncaught exception\u001b[39;00m\n\u001b[1;32m    318\u001b[0m     \u001b[38;5;66;03m# We return response to avoid infinite loop in the corner case where the\u001b[39;00m\n\u001b[1;32m    319\u001b[0m     \u001b[38;5;66;03m# user ask for retry on a status code that doesn't raise_for_status.\u001b[39;00m\n\u001b[1;32m    320\u001b[0m     \u001b[38;5;28;01mreturn\u001b[39;00m response\n",
      "File \u001b[0;32m/opt/jlab-env-3.12.8/lib/python3.12/site-packages/requests/models.py:1024\u001b[0m, in \u001b[0;36mResponse.raise_for_status\u001b[0;34m(self)\u001b[0m\n\u001b[1;32m   1019\u001b[0m     http_error_msg \u001b[38;5;241m=\u001b[39m (\n\u001b[1;32m   1020\u001b[0m         \u001b[38;5;124mf\u001b[39m\u001b[38;5;124m\"\u001b[39m\u001b[38;5;132;01m{\u001b[39;00m\u001b[38;5;28mself\u001b[39m\u001b[38;5;241m.\u001b[39mstatus_code\u001b[38;5;132;01m}\u001b[39;00m\u001b[38;5;124m Server Error: \u001b[39m\u001b[38;5;132;01m{\u001b[39;00mreason\u001b[38;5;132;01m}\u001b[39;00m\u001b[38;5;124m for url: \u001b[39m\u001b[38;5;132;01m{\u001b[39;00m\u001b[38;5;28mself\u001b[39m\u001b[38;5;241m.\u001b[39murl\u001b[38;5;132;01m}\u001b[39;00m\u001b[38;5;124m\"\u001b[39m\n\u001b[1;32m   1021\u001b[0m     )\n\u001b[1;32m   1023\u001b[0m \u001b[38;5;28;01mif\u001b[39;00m http_error_msg:\n\u001b[0;32m-> 1024\u001b[0m     \u001b[38;5;28;01mraise\u001b[39;00m HTTPError(http_error_msg, response\u001b[38;5;241m=\u001b[39m\u001b[38;5;28mself\u001b[39m)\n",
      "\u001b[0;31mHTTPError\u001b[0m: 429 Client Error: Too Many Requests for url: https://huggingface.co/datasets/mwitiderrick/arXiv/resolve/f61ed293f976a0b025b4004c06d41b12ecfd799c/%20%20GRB_XV5MKQXK62.txt"
     ]
    }
   ],
   "source": [
    "from datasets import load_dataset\n",
    "import pandas as pd\n",
    "\n",
    "# 1. Load the full arXiv metadata\n",
    "ds = load_dataset(\"mwitiderrick/arXiv\", split=\"train\")  # ~1.7M rows\n",
    "\n",
    "# 2. Convert to pandas for ease of filtering\n",
    "df = pd.DataFrame(ds)\n",
    "\n",
    "# 3. Keep only CS/AI/ML/Algo categories\n",
    "target_cats = {\"cs.AI\",\"cs.LG\",\"cs.DS\",\"cs.CV\",\"cs.CL\",\"cs.NE\",\"cs.DS\",\"cs.DS\",\"cs.DM\"}\n",
    "df = df[df[\"categories\"].apply(lambda tags: any(cat in tags for cat in target_cats))]\n",
    "\n",
    "# 4. Filter by date\n",
    "df[\"published\"] = pd.to_datetime(df[\"published\"])\n",
    "mask = (df[\"published\"] >= \"2023-01-01\") & (df[\"published\"] <= \"2024-12-31\")\n",
    "df = df[mask]\n",
    "\n",
    "# 5. Sample ~30K if needed\n",
    "df = df.sample(n=30000, random_state=42)\n",
    "\n",
    "# 6. Write out your jsonl\n",
    "df[[\"id\",\"title\",\"abstract\"]] \\\n",
    "  .to_json(\"arxiv23_24.jsonl\", orient=\"records\", lines=True)\n"
   ]
  },
  {
   "cell_type": "code",
   "execution_count": 2,
   "id": "6c60709a-2509-48f7-b60e-12e2eeaab89a",
   "metadata": {},
   "outputs": [
    {
     "name": "stdout",
     "output_type": "stream",
     "text": [
      "Warning: Your Kaggle API key is readable by other users on this system! To fix this, you can run 'chmod 600 /home/.kaggle/kaggle.json'\n",
      "Downloading via Kaggle Python API …\n",
      "Warning: Your Kaggle API key is readable by other users on this system! To fix this, you can run 'chmod 600 /home/.kaggle/kaggle.json'\n",
      "Dataset URL: https://www.kaggle.com/datasets/Cornell-University/arxiv\n",
      "Downloading arxiv.zip to rag_build/raw\n"
     ]
    },
    {
     "name": "stderr",
     "output_type": "stream",
     "text": [
      "100%|██████████| 1.44G/1.44G [00:11<00:00, 138MB/s]\n"
     ]
    },
    {
     "name": "stdout",
     "output_type": "stream",
     "text": [
      "\n",
      "Extracting archive … (takes a minute)\n"
     ]
    },
    {
     "data": {
      "application/vnd.jupyter.widget-view+json": {
       "model_id": "6356416e77cf4dfeafdf4fdbee660ecb",
       "version_major": 2,
       "version_minor": 0
      },
      "text/plain": [
       "arXiv STEM abstracts:   0%|          | 0/40000 [00:00<?, ?it/s]"
      ]
     },
     "metadata": {},
     "output_type": "display_data"
    },
    {
     "name": "stdout",
     "output_type": "stream",
     "text": [
      "✅  Saved 40000 abstracts → rag_build/txt/arxiv23_24.txt\n"
     ]
    }
   ],
   "source": [
    "import json, gzip, subprocess, shutil, os, re, datetime\n",
    "from pathlib import Path\n",
    "from tqdm.auto import tqdm\n",
    "\n",
    "# ---------------- user constants ---------------------------------\n",
    "OUT_TXT   = Path(\"rag_build/txt/arxiv23_24.txt\")\n",
    "RAW_DIR   = Path(\"rag_build/raw\")\n",
    "ZIP_FILE  = RAW_DIR / \"arxiv_archive.zip\"\n",
    "JSON_FILE = RAW_DIR / \"arxiv-metadata-oai-snapshot.json\"\n",
    "MAX_ROWS  = 40_000\n",
    "\n",
    "STEM_RE   = re.compile(r\"^(math|physics|cs)\\.\", re.I)\n",
    "DATE_MIN  = datetime.date(2023, 1, 1)\n",
    "\n",
    "RAW_DIR.mkdir(parents=True, exist_ok=True)\n",
    "OUT_TXT.parent.mkdir(parents=True, exist_ok=True)\n",
    "\n",
    "# ---------------- download ZIP if needed -------------------------\n",
    "from kaggle.api.kaggle_api_extended import KaggleApi\n",
    "\n",
    "if not ZIP_FILE.exists():\n",
    "    print(\"Downloading via Kaggle Python API …\")\n",
    "    api = KaggleApi()\n",
    "    api.authenticate()                     # uses ~/.kaggle/kaggle.json or env-vars\n",
    "    api.dataset_download_files(\n",
    "        \"Cornell-University/arxiv\",\n",
    "        path=str(RAW_DIR),\n",
    "        quiet=False\n",
    "    )\n",
    "    # the API leaves a zip named 'arxiv.zip' in RAW_DIR\n",
    "    (RAW_DIR / \"arxiv.zip\").rename(ZIP_FILE)\n",
    "\n",
    "# ---------------- extract JSON if needed -------------------------\n",
    "if not JSON_FILE.exists():\n",
    "    print(\"Extracting archive … (takes a minute)\")\n",
    "    shutil.unpack_archive(str(ZIP_FILE), str(RAW_DIR))\n",
    "    # the JSON ends up as arxiv-metadata-oai-snapshot.json in RAW_DIR\n",
    "\n",
    "assert JSON_FILE.exists(), \"arxiv JSON not found after extraction\"\n",
    "\n",
    "# ---------------- stream & filter --------------------------------\n",
    "keep, bar = 0, tqdm(total=MAX_ROWS, desc=\"arXiv STEM abstracts\")\n",
    "\n",
    "with JSON_FILE.open(\"r\", encoding=\"utf-8\") as f_in, \\\n",
    "     OUT_TXT.open(\"w\", encoding=\"utf-8\") as f_out:\n",
    "\n",
    "    for line in f_in:\n",
    "        obj = json.loads(line)\n",
    "\n",
    "        # category & date filters\n",
    "        first_cat = obj[\"categories\"].split()[0]\n",
    "        if not STEM_RE.match(first_cat):\n",
    "            continue\n",
    "        upd_date  = datetime.date.fromisoformat(obj[\"update_date\"])\n",
    "        if upd_date < DATE_MIN:\n",
    "            continue\n",
    "\n",
    "        text = f\"{obj['id']}\\t{obj['title'].strip()}\\n\\n{obj['abstract'].strip()}\\n\\n\"\n",
    "        f_out.write(text)\n",
    "\n",
    "        keep += 1\n",
    "        bar.update(1)\n",
    "        if keep >= MAX_ROWS:\n",
    "            break\n",
    "\n",
    "bar.close()\n",
    "print(f\"✅  Saved {keep} abstracts → {OUT_TXT}\")"
   ]
  },
  {
   "cell_type": "code",
   "execution_count": null,
   "id": "ccca9847-78f3-4996-81ac-dc711f9028d0",
   "metadata": {},
   "outputs": [],
   "source": [
    "print('tedt')"
   ]
  },
  {
   "cell_type": "code",
   "execution_count": null,
   "id": "ae23bbb8-b3ea-44b6-8fd3-dc9335c6c3bf",
   "metadata": {},
   "outputs": [],
   "source": []
  }
 ],
 "metadata": {
  "kernelspec": {
   "display_name": "Python (mnlp_m2)",
   "language": "python",
   "name": "mnlp_m2"
  },
  "language_info": {
   "codemirror_mode": {
    "name": "ipython",
    "version": 3
   },
   "file_extension": ".py",
   "mimetype": "text/x-python",
   "name": "python",
   "nbconvert_exporter": "python",
   "pygments_lexer": "ipython3",
   "version": "3.12.8"
  }
 },
 "nbformat": 4,
 "nbformat_minor": 5
}
