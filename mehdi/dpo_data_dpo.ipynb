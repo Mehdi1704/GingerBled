{
 "cells": [
  {
   "cell_type": "code",
   "execution_count": 40,
   "id": "402b1e90",
   "metadata": {},
   "outputs": [],
   "source": [
    "from datasets import load_dataset, concatenate_datasets, Dataset, Features, Value, Sequence, ClassLabel\n",
    "import pandas as pd\n",
    "from collections import defaultdict\n",
    "import random"
   ]
  },
  {
   "cell_type": "code",
   "execution_count": 41,
   "id": "4de66240",
   "metadata": {},
   "outputs": [
    {
     "name": "stdout",
     "output_type": "stream",
     "text": [
      "Number of English training examples in OpenAssistant Conversations dataset: 39283\n"
     ]
    }
   ],
   "source": [
    "# Load the OpenAssistant Conversations dataset\n",
    "oasst1 = load_dataset(\"OpenAssistant/oasst1\")\n",
    "\n",
    "# Filter the training set to include only English-language entries\n",
    "oasst1_eng = oasst1['train'].filter(lambda x: x.get(\"lang\") == \"en\")\n",
    "\n",
    "print(f\"Number of English training examples in OpenAssistant Conversations dataset: {len(oasst1_eng)}\")"
   ]
  },
  {
   "cell_type": "code",
   "execution_count": 42,
   "id": "7c4ff3d0",
   "metadata": {},
   "outputs": [],
   "source": [
    "# Separate messages into: prompts (prompter role) and assistant replies\n",
    "prompts_by_id = {}\n",
    "assistant_replies_by_parent = defaultdict(list)\n",
    "\n",
    "for ex in oasst1_eng:\n",
    "    if ex[\"deleted\"] or not ex[\"parent_id\"]:\n",
    "        continue\n",
    "    if ex[\"role\"] == \"prompter\":\n",
    "        prompts_by_id[ex[\"message_id\"]] = ex[\"text\"]\n",
    "    elif ex[\"role\"] == \"assistant\" and isinstance(ex.get(\"rank\"), int):\n",
    "        assistant_replies_by_parent[ex[\"parent_id\"]].append((ex[\"rank\"], ex))\n",
    "\n",
    "# Build DPO dataset: choose pairs with rank 0 (preferred) and rank 1 (second-best)\n",
    "formatted_oasst = []\n",
    "\n",
    "for parent_id, replies in assistant_replies_by_parent.items():\n",
    "    if parent_id not in prompts_by_id:\n",
    "        continue\n",
    "    sorted_replies = sorted(replies, key=lambda x: x[0])\n",
    "    if len(sorted_replies) >= 2:\n",
    "        chosen = sorted_replies[0][1]\n",
    "        rejected = sorted_replies[1][1]\n",
    "        formatted_oasst.append({\n",
    "            \"id\": f\"oasst_{len(formatted_oasst)}\",\n",
    "            \"dataset\": \"oasst\",\n",
    "            \"prompt\": prompts_by_id[parent_id].strip(),\n",
    "            \"chosen\": chosen[\"text\"].strip(),\n",
    "            \"rejected\": rejected[\"text\"].strip()\n",
    "        })   \n",
    "\n",
    "# Convert formatted_oasst to a HF Dataset\n",
    "#randomly sample 5000 examples for demonstration\n",
    "random.seed(42)\n",
    "random.shuffle(formatted_oasst)\n",
    "formatted_oasst = formatted_oasst[:5000] \n",
    "formatted_oasst_dataset = Dataset.from_list(formatted_oasst) "
   ]
  },
  {
   "cell_type": "code",
   "execution_count": 43,
   "id": "c7843e8f",
   "metadata": {},
   "outputs": [
    {
     "data": {
      "text/plain": [
       "Dataset({\n",
       "    features: ['id', 'dataset', 'prompt', 'chosen', 'rejected'],\n",
       "    num_rows: 4354\n",
       "})"
      ]
     },
     "execution_count": 43,
     "metadata": {},
     "output_type": "execute_result"
    }
   ],
   "source": [
    "formatted_oasst_dataset"
   ]
  },
  {
   "cell_type": "code",
   "execution_count": 44,
   "id": "c18c6b86",
   "metadata": {},
   "outputs": [
    {
     "name": "stdout",
     "output_type": "stream",
     "text": [
      "Loading SHP subset: askscience\n",
      "Loading SHP subset: askengineers\n",
      "Loading SHP subset: askphysics\n",
      "Loading SHP subset: askacademia\n",
      "✅ Combined SHP dataset size: 109226\n",
      "{'post_id': 'jdu63w', 'domain': 'askacademia_train', 'upvote_ratio': 0.94, 'history': 'First year grad student feeling alone in the pandemic... Does it get better? Am I the only one? I (23F) graduated from undergrad in May and am currently attending grad school at the same institution. I\\'m getting my MA in Spanish literature & language and pedagogy, expected to graduate Spring 2022. I also hold a TA position. Everything is operated over zoom this semester. I live in an apartment with my boyfriend that\\'s walkable distance from campus.   The first month and a half of grad school has been pretty tough. I am absolutely swamped with work and have many days where I don\\'t see the sun, spending the entire day inside. I do allow myself breaks, but at the end of the day, the workload is very overwhelming especially since I am both a teacher and a student. I have been seemingly able to handle the workload (had my first breakdown last weekend... more to come), but I feel like my workload has been isolating me. Without my boyfriend, my daily interaction with others in person would be pretty much nothing.   I talk (text in a groupchat) to two other girls from my program everyday because I know them from having the same major in undergrad. I am a little closer with the other one, and while it may seem \"good\" that I talk to other people from my program on a daily basis, it doesn\\'t satisfy the void I\\'ve been feeling because I don\\'t see them in person. My main problem is the online thing. I don\\'t go out of my way to go to class or the language proficiency lab where I tutor and see smiling faces in the flesh like I used to before the pandemic. I don\\'t get dressed anymore, a particularly important thing for me since I enjoy picking out an outfit for taking on the day. Especially living in the same area where I attended undergrad, I see undergrads on main street with all their friends hanging out, getting coffee, etc. It makes me sad because most people I know graduated and moved out of town, and I used to be very social. Feeling so alone in a town where I would normally be social and active has a particularly eerie sentiment.   If you have not already, you must have at some point thought, *Why don\\'t you see who is in town from your program and get together with them?* And this is a very good point indeed. Though counter-productive, I really can\\'t see myself planning some type of social event with people I haven\\'t met before. And yes, that is my fault and I am aware of this. *You\\'re complaining about not being social but wouldn\\'t wanna get those together from your program?* Yes I am, and from me to me: *tough shit*.   I am not depressed. I have a great life. My boyfriend is the best, I am in a fantastic program while getting paid to do it. It\\'s just that I\\'ve started to feel like a wind-up toy where I wake up in my apartment, do work on my computer all day, and repeat. As if being inside, doing work feels like my purpose for that day. I am starting to wonder if all of grad school is like this. I am even starting to wonder if I made the right decision.  **So, after all that, to the experienced grad students of this subreddit,** ***does it get better?***    I assume (and hope) that it does. Because if it doesn\\'t, I am not sure how much longer I would be able to handle it. This is the closest I\\'ve ever felt to misery in my short 23 years on earth. Some days I actually accept feeling miserable, though I really try to keep a positive mindset. **I cannot continue through the rest of my program feeling like this.**  And to other students who feel the same way as me, you are not alone. And neither am I. Feel free to comment if you are in a similar situation, for that already helps me a little bit. <3   Good luck to everyone else who has an online semester. We can do this!   Now, time to get back to reading *Don Quijote*...', 'c_root_id_A': 'g9ba2ln', 'c_root_id_B': 'g9bgg6u', 'created_at_utc_A': 1603106251, 'created_at_utc_B': 1603110990, 'score_A': 2, 'score_B': 3, 'human_ref_A': \"Hey, don't feel like you are alone in this. I just graduated out of grad school this year too and my sister is still in grad school in another country and is going through depression. This is a very difficult time for us, it is almost the end of life as we know it, and it's normal to feel anxious about these things. I would suggest that you focus on yourself and just make yourself feel better, maybe put yourself on a routine? That usually helps me.\", 'human_ref_B': 'I’m starting to feel the same. Balancing my work with a long distance relationship, I end up spending most of my weekdays from morning until night at my desk in my room since my weekends are spent with my bf/family. I am not feeling entirely isolated YET. But damn I miss LIBRARIES. I don’t even realize how isolated I feel until I take my weekly grocery trip and it feels like an event. At first, I liked being on zoom (no commute, don’t have to pack lunch, etc.) but it’s definitely not sustainable to continuously work from home, at least not for me.   I am gonna echo everyone else and recommend a therapist. It doesn’t always have to be for diagnosis related reasons. Sometimes you just need a third party to help you work out your thoughts.   However, I think we are all doing the best thing for everyone’s health and for the world. It sucks, but we are doing our part during this pandemic. Good luck tho, we’re gonna make it through.', 'labels': 0, 'seconds_difference': 4739.0, 'score_ratio': 1.5}\n"
     ]
    }
   ],
   "source": [
    "# List of selected STEM-related subreddits in Stanford's SHP dataset\n",
    "subreddits = [\"askscience\", \"askengineers\", \"askphysics\", \"askacademia\"]\n",
    "\n",
    "# Load and combine datasets\n",
    "def load_shp_subset(subreddit):\n",
    "    print(f\"Loading SHP subset: {subreddit}\")\n",
    "    return load_dataset(\"stanfordnlp/SHP\", data_dir=subreddit, split=\"train\")\n",
    "\n",
    "# 1. Formatter functions\n",
    "def format_shp(example, idx):\n",
    "    if example[\"labels\"] == 1:\n",
    "        chosen, rejected = example[\"human_ref_A\"], example[\"human_ref_B\"]\n",
    "    else:\n",
    "        chosen, rejected = example[\"human_ref_B\"], example[\"human_ref_A\"]\n",
    "    return {\n",
    "        \"id\": f\"shp_{idx}\",\n",
    "        \"dataset\": \"shp\",\n",
    "        \"prompt\": example[\"history\"],\n",
    "        \"chosen\": chosen.strip(),\n",
    "        \"rejected\": rejected.strip()\n",
    "    }\n",
    "\n",
    "def format_shp_example(example):\n",
    "    return {\n",
    "        \"id\": example[\"id\"],\n",
    "        \"source\": \"shp\",\n",
    "        \"prompt\": example[\"prompt\"],\n",
    "        \"chosen\": example[\"chosen\"],\n",
    "        \"rejected\": example[\"rejected\"]\n",
    "    }\n",
    "\n",
    "\n",
    "# Load each and combine into one dataset\n",
    "shp_datasets = [load_shp_subset(sub) for sub in subreddits]\n",
    "shp = concatenate_datasets(shp_datasets)\n",
    "\n",
    "# Optional: shuffle and preview\n",
    "shp = shp.shuffle(seed=42)\n",
    "print(f\"✅ Combined SHP dataset size: {len(shp)}\")\n",
    "print(shp[0])"
   ]
  },
  {
   "cell_type": "code",
   "execution_count": 45,
   "id": "e98e5b3b",
   "metadata": {},
   "outputs": [],
   "source": [
    "# Step 2: Sample from each: total 15k\n",
    "shp_sample = shp.select(range(8000))\n",
    "formatted_shp = shp_sample.map(format_shp, with_indices=True)\n",
    "formatted_shp_cleaned = formatted_shp.map(format_shp_example, remove_columns=formatted_shp.column_names)"
   ]
  },
  {
   "cell_type": "code",
   "execution_count": 46,
   "id": "73836796",
   "metadata": {},
   "outputs": [
    {
     "data": {
      "text/plain": [
       "Dataset({\n",
       "    features: ['id', 'prompt', 'chosen', 'rejected', 'source'],\n",
       "    num_rows: 8000\n",
       "})"
      ]
     },
     "execution_count": 46,
     "metadata": {},
     "output_type": "execute_result"
    }
   ],
   "source": [
    "formatted_shp_cleaned"
   ]
  },
  {
   "cell_type": "code",
   "execution_count": 47,
   "id": "707e822f",
   "metadata": {},
   "outputs": [
    {
     "data": {
      "text/plain": [
       "Dataset({\n",
       "    features: ['id', 'source', 'prompt', 'chosen', 'rejected'],\n",
       "    num_rows: 8000\n",
       "})"
      ]
     },
     "execution_count": 47,
     "metadata": {},
     "output_type": "execute_result"
    }
   ],
   "source": [
    "# Load the dataset\n",
    "tulu_raw = load_dataset(\"allenai/llama-3.1-tulu-3-8b-preference-mixture\", split=\"train\")\n",
    "\n",
    "# Define scientific filter\n",
    "def is_scientific(text):\n",
    "    if not text:\n",
    "        return False\n",
    "    keywords = [\n",
    "        \"physics\", \"chemistry\", \"biology\", \"mathematics\", \"math\", \"medicine\", \"computer science\",\n",
    "        \"algorithm\", \"neuron\", \"neural\", \"DNA\", \"protein\", \"experiment\", \"theorem\", \"hypothesis\", \"equation\",\n",
    "        \"scientific\", \"research\", \"data\", \"model\", \"AI\", \"machine learning\", \"deep learning\", \"genetics\",\n",
    "        \"cells\", \"quantum\", \"atomic\", \"engineering\", \"statistics\", \"proof\", \"calculus\"\n",
    "    ]\n",
    "    return any(k in text.lower() for k in keywords)\n",
    "\n",
    "# Filter examples that have both answers and are scientific\n",
    "tulu_filtered = tulu_raw.filter(\n",
    "    lambda x: x[\"chosen\"] and x[\"rejected\"] and is_scientific(x[\"prompt\"])\n",
    ")\n",
    "\n",
    "# Limit to 8000 examples\n",
    "tulu_limited = tulu_filtered.select(range(min(len(tulu_filtered), 8000)))\n",
    "\n",
    "# Format fields and add source/id\n",
    "tulu_dataset = Dataset.from_list([\n",
    "    {\n",
    "        \"id\": f\"tulu_{i}\",\n",
    "        \"source\": \"llama-3.1-tulu-3-8b\",\n",
    "        \"prompt\": ex[\"prompt\"],\n",
    "        \"chosen\": ex[\"chosen\"][0],\n",
    "        \"rejected\": ex[\"rejected\"][0]\n",
    "    }\n",
    "    for i, ex in enumerate(tulu_limited)\n",
    "])\n",
    "\n",
    "# Preview\n",
    "tulu_dataset"
   ]
  },
  {
   "cell_type": "code",
   "execution_count": 48,
   "id": "ee8bd307",
   "metadata": {},
   "outputs": [],
   "source": [
    "def flatten_responses(dataset, source_name):\n",
    "    return Dataset.from_list([\n",
    "        {\n",
    "            \"id\": ex[\"id\"],\n",
    "            \"source\": source_name,\n",
    "            \"prompt\": ex[\"prompt\"],\n",
    "            \"chosen\": ex[\"chosen\"][\"content\"] if isinstance(ex[\"chosen\"], dict) else ex[\"chosen\"],\n",
    "            \"rejected\": ex[\"rejected\"][\"content\"] if isinstance(ex[\"rejected\"], dict) else ex[\"rejected\"]\n",
    "        }\n",
    "        for ex in dataset\n",
    "    ])\n",
    "\n",
    "tulu_flat = flatten_responses(tulu_dataset, \"tulu\")"
   ]
  },
  {
   "cell_type": "code",
   "execution_count": 49,
   "id": "acc73d98",
   "metadata": {},
   "outputs": [],
   "source": [
    "oasst_flat = flatten_responses(formatted_oasst_dataset, \"oasst\")"
   ]
  },
  {
   "cell_type": "code",
   "execution_count": 50,
   "id": "597ce978",
   "metadata": {},
   "outputs": [
    {
     "data": {
      "application/vnd.jupyter.widget-view+json": {
       "model_id": "4342b6c0f14e4249bf45af7fd9efc6b4",
       "version_major": 2,
       "version_minor": 0
      },
      "text/plain": [
       "Saving the dataset (0/1 shards):   0%|          | 0/20354 [00:00<?, ? examples/s]"
      ]
     },
     "metadata": {},
     "output_type": "display_data"
    },
    {
     "name": "stdout",
     "output_type": "stream",
     "text": [
      "✅ Final dataset size: 20354\n",
      "{'id': 'tulu_1859', 'source': 'tulu', 'prompt': 'Describe the multiple-step process of implementing electronic invoicing in retail businesses, including the necessary changes to infrastructure, technology, and personnel. Explain the potential benefits of electronic invoicing over traditional paper-based systems, taking into account factors such as improved efficiency, reduced costs, and enhanced data security. Additionally, provide an analysis of the economic and regulatory factors that affect the adoption of electronic invoicing, and discuss the challenges that retailers may face in transitioning to this new system. From Answer with one of the following options: a), b), c), d)', 'chosen': 'Describe the multiple-step process of implementing electronic invoicing in retail businesses, including the necessary changes to infrastructure, technology, and personnel. Explain the potential benefits of electronic invoicing over traditional paper-based systems, taking into account factors such as improved efficiency, reduced costs, and enhanced data security. Additionally, provide an analysis of the economic and regulatory factors that affect the adoption of electronic invoicing, and discuss the challenges that retailers may face in transitioning to this new system. From Answer with one of the following options: a), b), c), d)', 'rejected': 'Describe the multiple-step process of implementing electronic invoicing in retail businesses, including the necessary changes to infrastructure, technology, and personnel. Explain the potential benefits of electronic invoicing over traditional paper-based systems, taking into account factors such as improved efficiency, reduced costs, and enhanced data security. Additionally, provide an analysis of the economic and regulatory factors that affect the adoption of electronic invoicing, and discuss the challenges that retailers may face in transitioning to this new system. From Answer with one of the following options: a), b), c), d)'}\n"
     ]
    }
   ],
   "source": [
    "dpo_dataset = concatenate_datasets([tulu_flat, oasst_flat, formatted_shp_cleaned]).shuffle(seed=2025)\n",
    "# Save locally\n",
    "dpo_dataset.save_to_disk(\"dpo_dataset_mnlp\")\n",
    "\n",
    "print(f\"✅ Final dataset size: {len(dpo_dataset)}\")\n",
    "print(dpo_dataset[0])"
   ]
  },
  {
   "cell_type": "code",
   "execution_count": 51,
   "id": "12440e7a",
   "metadata": {},
   "outputs": [],
   "source": [
    "dpo_dataset\n",
    "dpo_dataset_new = Dataset.from_list(dpo_dataset)"
   ]
  },
  {
   "cell_type": "code",
   "execution_count": null,
   "id": "1e3041af",
   "metadata": {},
   "outputs": [],
   "source": [
    "from huggingface_hub import login\n",
    "\n",
    "TOKEN = \"your_huggingface_token_here\"\n",
    "login(token=TOKEN)"
   ]
  },
  {
   "cell_type": "code",
   "execution_count": 54,
   "id": "85bdc833",
   "metadata": {},
   "outputs": [],
   "source": [
    "for row in dpo_dataset_new:\n",
    "    assert all(key in row for key in [\"prompt\", \"chosen\", \"rejected\"])\n",
    "    assert isinstance(row[\"prompt\"], str) and isinstance(row[\"chosen\"], str) and isinstance(row[\"rejected\"], str)"
   ]
  },
  {
   "cell_type": "code",
   "execution_count": 56,
   "id": "cd65552b",
   "metadata": {},
   "outputs": [
    {
     "data": {
      "application/vnd.jupyter.widget-view+json": {
       "model_id": "500b5535a42b424d8b157e613160e83f",
       "version_major": 2,
       "version_minor": 0
      },
      "text/plain": [
       "Uploading the dataset shards:   0%|          | 0/1 [00:00<?, ?it/s]"
      ]
     },
     "metadata": {},
     "output_type": "display_data"
    },
    {
     "data": {
      "application/vnd.jupyter.widget-view+json": {
       "model_id": "69da4ea9e24041c7b00ad2109a61aac9",
       "version_major": 2,
       "version_minor": 0
      },
      "text/plain": [
       "Creating parquet from Arrow format:   0%|          | 0/21 [00:00<?, ?ba/s]"
      ]
     },
     "metadata": {},
     "output_type": "display_data"
    },
    {
     "data": {
      "text/plain": [
       "CommitInfo(commit_url='https://huggingface.co/datasets/GingerBled/MNLP_M2_DPO_dataset/commit/e8f7db2f6659390f335faa589986b769dfdb5b57', commit_message='Upload dataset', commit_description='', oid='e8f7db2f6659390f335faa589986b769dfdb5b57', pr_url=None, repo_url=RepoUrl('https://huggingface.co/datasets/GingerBled/MNLP_M2_DPO_dataset', endpoint='https://huggingface.co', repo_type='dataset', repo_id='GingerBled/MNLP_M2_DPO_dataset'), pr_revision=None, pr_num=None)"
      ]
     },
     "execution_count": 56,
     "metadata": {},
     "output_type": "execute_result"
    }
   ],
   "source": [
    "dpo_dataset_new.push_to_hub(\"GingerBled/MNLP_M2_DPO_dataset\")"
   ]
  },
  {
   "cell_type": "code",
   "execution_count": 58,
   "id": "62aa6571",
   "metadata": {},
   "outputs": [],
   "source": [
    "from huggingface_hub import HfApi\n",
    "\n",
    "api = HfApi()\n",
    "api.delete_repo(repo_id=\"GingerBled/MNLP_M2_dpo_dataset\", repo_type=\"dataset\")"
   ]
  },
  {
   "cell_type": "code",
   "execution_count": 57,
   "id": "72ab1850",
   "metadata": {},
   "outputs": [],
   "source": [
    "import json\n",
    "\n",
    "with open(\"MNLP_M2_dpo_dataset.jsonl\", \"w\") as f:\n",
    "    for row in dpo_dataset_new:\n",
    "        json.dump(row, f)\n",
    "        f.write(\"\\n\")"
   ]
  },
  {
   "cell_type": "code",
   "execution_count": null,
   "id": "ec6112d5",
   "metadata": {},
   "outputs": [],
   "source": []
  }
 ],
 "metadata": {
  "kernelspec": {
   "display_name": "mnlp_m1",
   "language": "python",
   "name": "python3"
  },
  "language_info": {
   "codemirror_mode": {
    "name": "ipython",
    "version": 3
   },
   "file_extension": ".py",
   "mimetype": "text/x-python",
   "name": "python",
   "nbconvert_exporter": "python",
   "pygments_lexer": "ipython3",
   "version": "3.10.16"
  }
 },
 "nbformat": 4,
 "nbformat_minor": 5
}
